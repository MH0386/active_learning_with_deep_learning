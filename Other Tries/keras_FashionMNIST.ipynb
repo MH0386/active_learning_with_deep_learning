{
  "cells": [
    {
      "cell_type": "code",
      "execution_count": 1,
      "metadata": {
        "colab": {
          "base_uri": "https://localhost:8080/"
        },
        "execution": {
          "iopub.execute_input": "2024-05-04T12:58:05.762117Z",
          "iopub.status.busy": "2024-05-04T12:58:05.761177Z",
          "iopub.status.idle": "2024-05-04T12:58:19.751989Z",
          "shell.execute_reply": "2024-05-04T12:58:19.750871Z",
          "shell.execute_reply.started": "2024-05-04T12:58:05.762079Z"
        },
        "id": "x4EGiL9qDgj0",
        "outputId": "ae972541-0dc7-4a31-d879-f80af3fd4c40",
        "papermill": {
          "duration": 13.984506,
          "end_time": "2024-05-02T00:51:18.500696",
          "exception": false,
          "start_time": "2024-05-02T00:51:04.51619",
          "status": "completed"
        },
        "tags": [],
        "trusted": true
      },
      "outputs": [],
      "source": [
        "import os\n",
        "# os.environ[\"CONDA_PREFIX\"] = \"/opt/conda\" if os.path.exists(\"/opt/conda\") else '/usr/local'\n",
        "# !pip install -U -q uv"
      ]
    },
    {
      "cell_type": "code",
      "execution_count": 2,
      "metadata": {
        "colab": {
          "base_uri": "https://localhost:8080/"
        },
        "execution": {
          "iopub.execute_input": "2024-05-04T12:58:19.754793Z",
          "iopub.status.busy": "2024-05-04T12:58:19.75412Z",
          "iopub.status.idle": "2024-05-04T12:58:24.545033Z",
          "shell.execute_reply": "2024-05-04T12:58:24.544079Z",
          "shell.execute_reply.started": "2024-05-04T12:58:19.75475Z"
        },
        "id": "5PhBp3f4Dgj2",
        "outputId": "94ab55ea-3d21-4dfa-f3d4-51eedb2655a5",
        "papermill": {
          "duration": 4.43635,
          "end_time": "2024-05-02T00:51:22.963001",
          "exception": false,
          "start_time": "2024-05-02T00:51:18.526651",
          "status": "completed"
        },
        "tags": [],
        "trusted": true
      },
      "outputs": [
        {
          "name": "stdout",
          "output_type": "stream",
          "text": [
            "\u001b[2mAudited \u001b[1m5 packages\u001b[0m in 115ms\u001b[0m\n"
          ]
        }
      ],
      "source": [
        "!uv pip install modAL-python mlxtend scikit-learn-intelex tensorflow[and-cuda] scikeras"
      ]
    },
    {
      "cell_type": "markdown",
      "metadata": {
        "id": "tYOfhVQ9Dgj2",
        "papermill": {
          "duration": 0.028989,
          "end_time": "2024-05-02T00:51:23.0198",
          "exception": false,
          "start_time": "2024-05-02T00:51:22.990811",
          "status": "completed"
        },
        "tags": []
      },
      "source": [
        "# Imports\n"
      ]
    },
    {
      "cell_type": "code",
      "execution_count": 3,
      "metadata": {
        "execution": {
          "iopub.execute_input": "2024-05-04T12:58:24.546927Z",
          "iopub.status.busy": "2024-05-04T12:58:24.546568Z",
          "iopub.status.idle": "2024-05-04T12:58:35.927481Z",
          "shell.execute_reply": "2024-05-04T12:58:35.926521Z",
          "shell.execute_reply.started": "2024-05-04T12:58:24.546888Z"
        },
        "id": "rICU4VwNLxsU",
        "papermill": {
          "duration": 22.944784,
          "end_time": "2024-05-02T00:51:45.991681",
          "exception": false,
          "start_time": "2024-05-02T00:51:23.046897",
          "status": "completed"
        },
        "tags": [],
        "trusted": true
      },
      "outputs": [
        {
          "name": "stderr",
          "output_type": "stream",
          "text": [
            "2024-05-05 19:44:44.447637: I tensorflow/core/util/port.cc:113] oneDNN custom operations are on. You may see slightly different numerical results due to floating-point round-off errors from different computation orders. To turn them off, set the environment variable `TF_ENABLE_ONEDNN_OPTS=0`.\n",
            "2024-05-05 19:44:44.728693: E external/local_xla/xla/stream_executor/cuda/cuda_dnn.cc:9261] Unable to register cuDNN factory: Attempting to register factory for plugin cuDNN when one has already been registered\n",
            "2024-05-05 19:44:44.728727: E external/local_xla/xla/stream_executor/cuda/cuda_fft.cc:607] Unable to register cuFFT factory: Attempting to register factory for plugin cuFFT when one has already been registered\n",
            "2024-05-05 19:44:44.773359: E external/local_xla/xla/stream_executor/cuda/cuda_blas.cc:1515] Unable to register cuBLAS factory: Attempting to register factory for plugin cuBLAS when one has already been registered\n",
            "2024-05-05 19:44:44.863676: I tensorflow/core/platform/cpu_feature_guard.cc:182] This TensorFlow binary is optimized to use available CPU instructions in performance-critical operations.\n",
            "To enable the following instructions: AVX2 AVX_VNNI FMA, in other operations, rebuild TensorFlow with the appropriate compiler flags.\n",
            "2024-05-05 19:44:45.788660: W tensorflow/compiler/tf2tensorrt/utils/py_utils.cc:38] TF-TRT Warning: Could not find TensorRT\n"
          ]
        },
        {
          "name": "stdout",
          "output_type": "stream",
          "text": [
            "Num GPUs Available:  1\n",
            "Tensorflow version:  2.15.0\n",
            "Current Device:  /device:GPU:0\n"
          ]
        },
        {
          "name": "stderr",
          "output_type": "stream",
          "text": [
            "Intel(R) Extension for Scikit-learn* enabled (https://github.com/intel/scikit-learn-intelex)\n",
            "2024-05-05 19:44:47.847241: I external/local_xla/xla/stream_executor/cuda/cuda_executor.cc:887] could not open file to read NUMA node: /sys/bus/pci/devices/0000:01:00.0/numa_node\n",
            "Your kernel may have been built without NUMA support.\n",
            "2024-05-05 19:44:47.917297: I external/local_xla/xla/stream_executor/cuda/cuda_executor.cc:887] could not open file to read NUMA node: /sys/bus/pci/devices/0000:01:00.0/numa_node\n",
            "Your kernel may have been built without NUMA support.\n",
            "2024-05-05 19:44:47.917353: I external/local_xla/xla/stream_executor/cuda/cuda_executor.cc:887] could not open file to read NUMA node: /sys/bus/pci/devices/0000:01:00.0/numa_node\n",
            "Your kernel may have been built without NUMA support.\n",
            "2024-05-05 19:44:47.920224: I external/local_xla/xla/stream_executor/cuda/cuda_executor.cc:887] could not open file to read NUMA node: /sys/bus/pci/devices/0000:01:00.0/numa_node\n",
            "Your kernel may have been built without NUMA support.\n",
            "2024-05-05 19:44:47.920302: I external/local_xla/xla/stream_executor/cuda/cuda_executor.cc:887] could not open file to read NUMA node: /sys/bus/pci/devices/0000:01:00.0/numa_node\n",
            "Your kernel may have been built without NUMA support.\n",
            "2024-05-05 19:44:47.920319: I external/local_xla/xla/stream_executor/cuda/cuda_executor.cc:887] could not open file to read NUMA node: /sys/bus/pci/devices/0000:01:00.0/numa_node\n",
            "Your kernel may have been built without NUMA support.\n",
            "2024-05-05 19:44:48.059161: I external/local_xla/xla/stream_executor/cuda/cuda_executor.cc:887] could not open file to read NUMA node: /sys/bus/pci/devices/0000:01:00.0/numa_node\n",
            "Your kernel may have been built without NUMA support.\n",
            "2024-05-05 19:44:48.059218: I external/local_xla/xla/stream_executor/cuda/cuda_executor.cc:887] could not open file to read NUMA node: /sys/bus/pci/devices/0000:01:00.0/numa_node\n",
            "Your kernel may have been built without NUMA support.\n",
            "2024-05-05 19:44:48.059224: I tensorflow/core/common_runtime/gpu/gpu_device.cc:2022] Could not identify NUMA node of platform GPU id 0, defaulting to 0.  Your kernel may not have been built with NUMA support.\n",
            "2024-05-05 19:44:48.059247: I external/local_xla/xla/stream_executor/cuda/cuda_executor.cc:887] could not open file to read NUMA node: /sys/bus/pci/devices/0000:01:00.0/numa_node\n",
            "Your kernel may have been built without NUMA support.\n",
            "2024-05-05 19:44:48.059261: I tensorflow/core/common_runtime/gpu/gpu_device.cc:1929] Created device /device:GPU:0 with 4084 MB memory:  -> device: 0, name: NVIDIA GeForce GTX 1660, pci bus id: 0000:01:00.0, compute capability: 7.5\n"
          ]
        }
      ],
      "source": [
        "import random\n",
        "import warnings\n",
        "from pathlib import Path\n",
        "from timeit import default_timer as timer\n",
        "import matplotlib.pyplot as plt\n",
        "import numpy as np\n",
        "from mlxtend.plotting import plot_confusion_matrix\n",
        "from modAL.disagreement import vote_entropy_sampling\n",
        "from modAL.models import ActiveLearner, Committee\n",
        "from modAL.uncertainty import entropy_sampling, margin_sampling, uncertainty_sampling\n",
        "from sklearnex import patch_sklearn\n",
        "from keras.metrics import F1Score, Precision\n",
        "from torcheval.metrics.functional import (\n",
        "    multiclass_accuracy,\n",
        "    multiclass_confusion_matrix,\n",
        "    multiclass_f1_score,\n",
        "    multiclass_precision,\n",
        "    multiclass_recall,\n",
        ")\n",
        "import torch\n",
        "import tensorflow as tf\n",
        "import keras\n",
        "from keras.models import Sequential\n",
        "from keras.layers import Dense, Dropout, Flatten, Conv2D, MaxPooling2D\n",
        "from scikeras.wrappers import KerasClassifier\n",
        "from tqdm.auto import tqdm\n",
        "from keras.utils import to_categorical\n",
        "\n",
        "if not os.path.exists(\"reports_FashionMNIST\"): os.mkdir(\"reports_FashionMNIST\")\n",
        "patch_sklearn()\n",
        "print(\"Num GPUs Available: \", len(tf.config.experimental.list_physical_devices('GPU')))\n",
        "print(\"Tensorflow version: \", tf.__version__)\n",
        "print(\"Current Device: \", tf.test.gpu_device_name())\n",
        "warnings.filterwarnings(\"ignore\")"
      ]
    },
    {
      "cell_type": "markdown",
      "metadata": {
        "id": "pUqIvsaNDgj3"
      },
      "source": [
        "# Data"
      ]
    },
    {
      "cell_type": "markdown",
      "metadata": {
        "id": "6C7J5cb4R2Jd",
        "papermill": {
          "duration": 0.025992,
          "end_time": "2024-05-02T00:51:46.044217",
          "exception": false,
          "start_time": "2024-05-02T00:51:46.018225",
          "status": "completed"
        },
        "tags": []
      },
      "source": [
        "## FashionMNIST\n"
      ]
    },
    {
      "cell_type": "code",
      "execution_count": 4,
      "metadata": {
        "execution": {
          "iopub.execute_input": "2024-05-04T12:58:35.931228Z",
          "iopub.status.busy": "2024-05-04T12:58:35.930354Z",
          "iopub.status.idle": "2024-05-04T12:58:42.288647Z",
          "shell.execute_reply": "2024-05-04T12:58:42.287734Z",
          "shell.execute_reply.started": "2024-05-04T12:58:35.931188Z"
        },
        "id": "qMN-WesmSIQI",
        "papermill": {
          "duration": 30.198758,
          "end_time": "2024-05-02T00:52:16.269007",
          "exception": false,
          "start_time": "2024-05-02T00:51:46.070249",
          "status": "completed"
        },
        "tags": [],
        "trusted": true
      },
      "outputs": [],
      "source": [
        "(x_train, y_train), (x_test, y_test) = keras.datasets.fashion_mnist.load_data()"
      ]
    },
    {
      "cell_type": "code",
      "execution_count": 5,
      "metadata": {
        "execution": {
          "iopub.execute_input": "2024-05-04T12:58:42.297223Z",
          "iopub.status.busy": "2024-05-04T12:58:42.296949Z",
          "iopub.status.idle": "2024-05-04T12:58:43.408752Z",
          "shell.execute_reply": "2024-05-04T12:58:43.407834Z",
          "shell.execute_reply.started": "2024-05-04T12:58:42.2972Z"
        },
        "id": "O5fLaqeKULqI",
        "papermill": {
          "duration": 0.043293,
          "end_time": "2024-05-02T00:52:16.432073",
          "exception": false,
          "start_time": "2024-05-02T00:52:16.38878",
          "status": "completed"
        },
        "tags": [],
        "trusted": true
      },
      "outputs": [
        {
          "data": {
            "text/plain": [
              "((60000, 28, 28), (60000,), (10000, 28, 28), (10000,))"
            ]
          },
          "execution_count": 5,
          "metadata": {},
          "output_type": "execute_result"
        }
      ],
      "source": [
        "x_train.shape, y_train.shape, x_test.shape, y_test.shape"
      ]
    },
    {
      "cell_type": "code",
      "execution_count": 6,
      "metadata": {
        "execution": {
          "iopub.execute_input": "2024-05-04T12:58:43.671013Z",
          "iopub.status.busy": "2024-05-04T12:58:43.670552Z",
          "iopub.status.idle": "2024-05-04T12:58:43.676437Z",
          "shell.execute_reply": "2024-05-04T12:58:43.675505Z",
          "shell.execute_reply.started": "2024-05-04T12:58:43.670988Z"
        },
        "id": "c-kfyKpMDgj5",
        "papermill": {
          "duration": 0.085152,
          "end_time": "2024-05-02T00:52:16.625919",
          "exception": false,
          "start_time": "2024-05-02T00:52:16.540767",
          "status": "completed"
        },
        "tags": [],
        "trusted": true
      },
      "outputs": [
        {
          "data": {
            "text/plain": [
              "10"
            ]
          },
          "execution_count": 6,
          "metadata": {},
          "output_type": "execute_result"
        }
      ],
      "source": [
        "num_classes = len(np.unique(y_train))\n",
        "num_classes"
      ]
    },
    {
      "cell_type": "code",
      "execution_count": 7,
      "metadata": {
        "execution": {
          "iopub.execute_input": "2024-05-04T12:58:43.688579Z",
          "iopub.status.busy": "2024-05-04T12:58:43.68822Z",
          "iopub.status.idle": "2024-05-04T12:58:45.142945Z",
          "shell.execute_reply": "2024-05-04T12:58:45.142052Z",
          "shell.execute_reply.started": "2024-05-04T12:58:43.688549Z"
        },
        "id": "Ikd47_KpY7tI",
        "papermill": {
          "duration": 1.166662,
          "end_time": "2024-05-02T00:52:17.90458",
          "exception": false,
          "start_time": "2024-05-02T00:52:16.737918",
          "status": "completed"
        },
        "tags": [],
        "trusted": true
      },
      "outputs": [
        {
          "data": {
            "image/png": "[encoded data removed]",
            "text/plain": [
              "<Figure size 900x900 with 16 Axes>"
            ]
          },
          "metadata": {},
          "output_type": "display_data"
        }
      ],
      "source": [
        "plt.figure(figsize=(9, 9))\n",
        "rows, cols = 4, 4\n",
        "\n",
        "for i in range(1, rows * cols + 1):\n",
        "    random_index = random.randint(0, len(x_train))\n",
        "    plt.subplot(rows, cols, i)\n",
        "    image= x_train[random_index]\n",
        "    plt.imshow(image, cmap=\"gray\")\n",
        "    # plt.title(FashionMNIST_class_names[label])\n",
        "    plt.axis(False)\n",
        "\n",
        "plt.savefig(\"reports_FashionMNIST/FashionMNIST_images_with_label.png\")\n",
        "plt.show()"
      ]
    },
    {
      "cell_type": "markdown",
      "metadata": {
        "id": "WkCWmXXADgj5",
        "papermill": {
          "duration": 0.03882,
          "end_time": "2024-05-02T00:52:17.982842",
          "exception": false,
          "start_time": "2024-05-02T00:52:17.944022",
          "status": "completed"
        },
        "tags": []
      },
      "source": [
        "## Unlabelling The Dataset\n"
      ]
    },
    {
      "cell_type": "code",
      "execution_count": 8,
      "metadata": {
        "execution": {
          "iopub.execute_input": "2024-05-04T12:59:41.545263Z",
          "iopub.status.busy": "2024-05-04T12:59:41.544905Z",
          "iopub.status.idle": "2024-05-04T12:59:43.057246Z",
          "shell.execute_reply": "2024-05-04T12:59:43.05627Z",
          "shell.execute_reply.started": "2024-05-04T12:59:41.545229Z"
        },
        "id": "ZIs1FJx8Dgj5",
        "papermill": {
          "duration": 1.511663,
          "end_time": "2024-05-02T00:52:19.533037",
          "exception": false,
          "start_time": "2024-05-02T00:52:18.021374",
          "status": "completed"
        },
        "tags": [],
        "trusted": true
      },
      "outputs": [
        {
          "name": "stderr",
          "output_type": "stream",
          "text": [
            "2024-05-05 19:44:49.610997: I external/local_xla/xla/stream_executor/cuda/cuda_executor.cc:887] could not open file to read NUMA node: /sys/bus/pci/devices/0000:01:00.0/numa_node\n",
            "Your kernel may have been built without NUMA support.\n",
            "2024-05-05 19:44:49.611084: I external/local_xla/xla/stream_executor/cuda/cuda_executor.cc:887] could not open file to read NUMA node: /sys/bus/pci/devices/0000:01:00.0/numa_node\n",
            "Your kernel may have been built without NUMA support.\n",
            "2024-05-05 19:44:49.611101: I external/local_xla/xla/stream_executor/cuda/cuda_executor.cc:887] could not open file to read NUMA node: /sys/bus/pci/devices/0000:01:00.0/numa_node\n",
            "Your kernel may have been built without NUMA support.\n",
            "2024-05-05 19:44:49.611318: I external/local_xla/xla/stream_executor/cuda/cuda_executor.cc:887] could not open file to read NUMA node: /sys/bus/pci/devices/0000:01:00.0/numa_node\n",
            "Your kernel may have been built without NUMA support.\n",
            "2024-05-05 19:44:49.611328: I tensorflow/core/common_runtime/gpu/gpu_device.cc:2022] Could not identify NUMA node of platform GPU id 0, defaulting to 0.  Your kernel may not have been built with NUMA support.\n",
            "2024-05-05 19:44:49.611347: I external/local_xla/xla/stream_executor/cuda/cuda_executor.cc:887] could not open file to read NUMA node: /sys/bus/pci/devices/0000:01:00.0/numa_node\n",
            "Your kernel may have been built without NUMA support.\n",
            "2024-05-05 19:44:49.611360: I tensorflow/core/common_runtime/gpu/gpu_device.cc:1929] Created device /job:localhost/replica:0/task:0/device:GPU:0 with 4084 MB memory:  -> device: 0, name: NVIDIA GeForce GTX 1660, pci bus id: 0000:01:00.0, compute capability: 7.5\n"
          ]
        }
      ],
      "source": [
        "percentage_without_labels = 0.8\n",
        "\n",
        "num_samples_without_labels = int(len(x_train) * percentage_without_labels)\n",
        "num_samples_with_labels = len(x_train) - num_samples_without_labels\n",
        "\n",
        "indices_without_labels = np.random.choice(\n",
        "    range(len(x_train)), size=num_samples_without_labels, replace=False\n",
        ")\n",
        "indices_with_labels = np.array(\n",
        "    [i for i in range(len(x_train)) if i not in indices_without_labels]\n",
        ")\n",
        "\n",
        "x_train = np.expand_dims(x_train, axis=-1)\n",
        "x_train = np.concatenate([x_train] * 3, axis=-1)\n",
        "x_test = np.expand_dims(x_test, axis=-1)\n",
        "x_test = np.concatenate([x_test] * 3, axis=-1)\n",
        "\n",
        "x_train = tf.image.resize(x_train, [32, 32])\n",
        "x_test = tf.image.resize(x_test, [32, 32])\n",
        "\n",
        "x_train = np.array(x_train)\n",
        "x_test = np.array(x_test)\n",
        "\n",
        "y_train = to_categorical(y_train, num_classes=10)\n",
        "y_test = to_categorical(y_test, num_classes=10)\n",
        "\n",
        "x_initial = x_train[indices_with_labels]\n",
        "y_initial = y_train[indices_with_labels]\n",
        "\n",
        "x_pool = np.delete(x_train, indices_with_labels, axis=0)\n",
        "y_pool = np.delete(y_train, indices_with_labels, axis=0)"
      ]
    },
    {
      "cell_type": "code",
      "execution_count": 9,
      "metadata": {
        "execution": {
          "iopub.execute_input": "2024-05-04T12:59:43.059014Z",
          "iopub.status.busy": "2024-05-04T12:59:43.058721Z",
          "iopub.status.idle": "2024-05-04T12:59:43.065777Z",
          "shell.execute_reply": "2024-05-04T12:59:43.064933Z",
          "shell.execute_reply.started": "2024-05-04T12:59:43.058989Z"
        },
        "id": "KSL8VrShDgj5",
        "papermill": {
          "duration": 0.048175,
          "end_time": "2024-05-02T00:52:19.62031",
          "exception": false,
          "start_time": "2024-05-02T00:52:19.572135",
          "status": "completed"
        },
        "tags": [],
        "trusted": true
      },
      "outputs": [
        {
          "data": {
            "text/plain": [
              "((12000, 32, 32, 3), (12000, 10), (48000, 32, 32, 3), (48000, 10))"
            ]
          },
          "execution_count": 9,
          "metadata": {},
          "output_type": "execute_result"
        }
      ],
      "source": [
        "x_initial.shape, y_initial.shape, x_pool.shape, y_pool.shape"
      ]
    },
    {
      "cell_type": "code",
      "execution_count": 10,
      "metadata": {
        "execution": {
          "iopub.execute_input": "2024-05-04T12:59:43.067224Z",
          "iopub.status.busy": "2024-05-04T12:59:43.066911Z",
          "iopub.status.idle": "2024-05-04T12:59:43.077973Z",
          "shell.execute_reply": "2024-05-04T12:59:43.077142Z",
          "shell.execute_reply.started": "2024-05-04T12:59:43.067194Z"
        },
        "id": "H1A4VAfMDgj5",
        "papermill": {
          "duration": 0.046566,
          "end_time": "2024-05-02T00:52:19.810534",
          "exception": false,
          "start_time": "2024-05-02T00:52:19.763968",
          "status": "completed"
        },
        "tags": [],
        "trusted": true
      },
      "outputs": [
        {
          "data": {
            "text/plain": [
              "60000"
            ]
          },
          "execution_count": 10,
          "metadata": {},
          "output_type": "execute_result"
        }
      ],
      "source": [
        "len(x_train)"
      ]
    },
    {
      "cell_type": "markdown",
      "metadata": {
        "id": "yT3-bul_Dgj6"
      },
      "source": [
        "# Raw Model"
      ]
    },
    {
      "cell_type": "markdown",
      "metadata": {
        "id": "sXdokhxEfQ9W",
        "papermill": {
          "duration": 0.039263,
          "end_time": "2024-05-02T00:52:20.49515",
          "exception": false,
          "start_time": "2024-05-02T00:52:20.455887",
          "status": "completed"
        },
        "tags": []
      },
      "source": [
        "## Importing and Using ResNet 50 Architecture\n"
      ]
    },
    {
      "cell_type": "code",
      "execution_count": 11,
      "metadata": {
        "id": "-mHyUJW9Hj9f"
      },
      "outputs": [],
      "source": [
        "model_ResNet50 = tf.keras.applications.ResNet50(\n",
        "    weights=\"imagenet\", include_top=False, input_shape=(32, 32, 3)\n",
        ")\n",
        "for layer in model_ResNet50.layers[:-2]:\n",
        "    layer.Trainable=False\n",
        "\n",
        "model = tf.keras.Sequential(\n",
        "    [\n",
        "        model_ResNet50,\n",
        "        tf.keras.layers.Flatten(),\n",
        "        tf.keras.layers.Dense(10, activation=\"softmax\"),\n",
        "    ]\n",
        ")\n",
        "f1_score = F1Score()\n",
        "precision = Precision()\n",
        "model.compile(\n",
        "    optimizer=\"Adam\",\n",
        "    loss=\"CategoricalCrossentropy\",\n",
        "    metrics=[\"Accuracy\", f1_score, precision],\n",
        ")"
      ]
    },
    {
      "cell_type": "code",
      "execution_count": 12,
      "metadata": {
        "execution": {
          "iopub.execute_input": "2024-05-04T12:59:45.391481Z",
          "iopub.status.busy": "2024-05-04T12:59:45.391061Z",
          "iopub.status.idle": "2024-05-04T12:59:45.398712Z",
          "shell.execute_reply": "2024-05-04T12:59:45.397787Z",
          "shell.execute_reply.started": "2024-05-04T12:59:45.391448Z"
        },
        "id": "00c78twEqzUC",
        "papermill": {
          "duration": 0.049386,
          "end_time": "2024-05-02T00:52:24.398757",
          "exception": false,
          "start_time": "2024-05-02T00:52:24.349371",
          "status": "completed"
        },
        "tags": [],
        "trusted": true
      },
      "outputs": [],
      "source": [
        "def display_train_time(start: float, end: float, device: torch.device = None):\n",
        "    total_time = end - start\n",
        "    print(f\"Train time on device {device}: {total_time:.3f} seconds\")"
      ]
    },
    {
      "cell_type": "markdown",
      "metadata": {
        "id": "qtBQnV4-Dgj6",
        "papermill": {
          "duration": 0.042459,
          "end_time": "2024-05-02T00:52:24.865287",
          "exception": false,
          "start_time": "2024-05-02T00:52:24.822828",
          "status": "completed"
        },
        "tags": []
      },
      "source": [
        "## Training\n"
      ]
    },
    {
      "cell_type": "code",
      "execution_count": 13,
      "metadata": {
        "id": "tS1g0Y1GHyKE"
      },
      "outputs": [
        {
          "name": "stdout",
          "output_type": "stream",
          "text": [
            "Epoch 1/2\n"
          ]
        },
        {
          "name": "stderr",
          "output_type": "stream",
          "text": [
            "2024-05-05 19:45:01.455300: I external/local_xla/xla/stream_executor/cuda/cuda_dnn.cc:454] Loaded cuDNN version 8902\n",
            "2024-05-05 19:45:03.099262: I external/local_xla/xla/service/service.cc:168] XLA service 0x7f1677634500 initialized for platform CUDA (this does not guarantee that XLA will be used). Devices:\n",
            "2024-05-05 19:45:03.099304: I external/local_xla/xla/service/service.cc:176]   StreamExecutor device (0): NVIDIA GeForce GTX 1660, Compute Capability 7.5\n",
            "2024-05-05 19:45:03.115598: I tensorflow/compiler/mlir/tensorflow/utils/dump_mlir_util.cc:269] disabling MLIR crash reproducer, set env var `MLIR_CRASH_REPRODUCER_DIRECTORY` to enable.\n",
            "WARNING: All log messages before absl::InitializeLog() is called are written to STDERR\n",
            "I0000 00:00:1714927503.222743   29820 device_compiler.h:186] Compiled cluster using XLA!  This line is logged at most once for the lifetime of the process.\n",
            "2024-05-05 19:45:06.091472: W external/local_tsl/tsl/framework/bfc_allocator.cc:296] Allocator (GPU_0_bfc) ran out of memory trying to allocate 4.57GiB with freed_by_count=0. The caller indicates that this is not a failure, but this may mean that there could be performance gains if more memory were available.\n",
            "2024-05-05 19:45:06.091520: W external/local_tsl/tsl/framework/bfc_allocator.cc:296] Allocator (GPU_0_bfc) ran out of memory trying to allocate 4.57GiB with freed_by_count=0. The caller indicates that this is not a failure, but this may mean that there could be performance gains if more memory were available.\n",
            "2024-05-05 19:45:06.101735: W external/local_tsl/tsl/framework/bfc_allocator.cc:296] Allocator (GPU_0_bfc) ran out of memory trying to allocate 4.57GiB with freed_by_count=0. The caller indicates that this is not a failure, but this may mean that there could be performance gains if more memory were available.\n",
            "2024-05-05 19:45:06.101776: W external/local_tsl/tsl/framework/bfc_allocator.cc:296] Allocator (GPU_0_bfc) ran out of memory trying to allocate 4.57GiB with freed_by_count=0. The caller indicates that this is not a failure, but this may mean that there could be performance gains if more memory were available.\n",
            "2024-05-05 19:45:09.382926: W external/local_tsl/tsl/framework/bfc_allocator.cc:296] Allocator (GPU_0_bfc) ran out of memory trying to allocate 4.60GiB with freed_by_count=0. The caller indicates that this is not a failure, but this may mean that there could be performance gains if more memory were available.\n",
            "2024-05-05 19:45:09.382981: W external/local_tsl/tsl/framework/bfc_allocator.cc:296] Allocator (GPU_0_bfc) ran out of memory trying to allocate 4.60GiB with freed_by_count=0. The caller indicates that this is not a failure, but this may mean that there could be performance gains if more memory were available.\n",
            "2024-05-05 19:45:09.402108: W external/local_tsl/tsl/framework/bfc_allocator.cc:296] Allocator (GPU_0_bfc) ran out of memory trying to allocate 4.60GiB with freed_by_count=0. The caller indicates that this is not a failure, but this may mean that there could be performance gains if more memory were available.\n",
            "2024-05-05 19:45:09.402168: W external/local_tsl/tsl/framework/bfc_allocator.cc:296] Allocator (GPU_0_bfc) ran out of memory trying to allocate 4.60GiB with freed_by_count=0. The caller indicates that this is not a failure, but this may mean that there could be performance gains if more memory were available.\n"
          ]
        },
        {
          "name": "stdout",
          "output_type": "stream",
          "text": [
            "375/375 [==============================] - 39s 47ms/step - loss: 0.9672 - Accuracy: 0.7547 - f1_score: 0.7519 - precision: 0.8264\n",
            "Epoch 2/2\n",
            "375/375 [==============================] - 18s 47ms/step - loss: 0.7750 - Accuracy: 0.7813 - f1_score: 0.7784 - precision: 0.8346\n"
          ]
        }
      ],
      "source": [
        "history=model.fit(x_initial, y_initial, epochs=2)"
      ]
    },
    {
      "cell_type": "code",
      "execution_count": 14,
      "metadata": {},
      "outputs": [],
      "source": [
        "f1 = [history.history[\"f1_score\"][0].mean(), history.history[\"f1_score\"][1].mean()]"
      ]
    },
    {
      "cell_type": "code",
      "execution_count": 15,
      "metadata": {
        "execution": {
          "iopub.execute_input": "2024-05-04T13:00:18.910026Z",
          "iopub.status.busy": "2024-05-04T13:00:18.909731Z",
          "iopub.status.idle": "2024-05-04T13:00:19.390318Z",
          "shell.execute_reply": "2024-05-04T13:00:19.389491Z",
          "shell.execute_reply.started": "2024-05-04T13:00:18.910001Z"
        },
        "id": "F6u2A5PuDgj-",
        "papermill": {
          "duration": 0.410686,
          "end_time": "2024-05-02T01:08:30.466568",
          "exception": false,
          "start_time": "2024-05-02T01:08:30.055882",
          "status": "completed"
        },
        "tags": [],
        "trusted": true
      },
      "outputs": [
        {
          "data": {
            "image/png": "[encoded data removed]",
            "text/plain": [
              "<Figure size 640x480 with 1 Axes>"
            ]
          },
          "metadata": {},
          "output_type": "display_data"
        },
        {
          "name": "stdout",
          "output_type": "stream",
          "text": [
            "Accuracy in Training: 0.781333327293396\n",
            "Loss in Training: 0.7749807834625244\n",
            "F1 Score: 0.7783528566360474\n",
            "Precision: 0.8346288204193115\n"
          ]
        }
      ],
      "source": [
        "fig, ax = plt.subplots()\n",
        "\n",
        "plt.plot(history.history[\"Accuracy\"], label=\"Accuracy in Training\")\n",
        "plt.plot(history.history[\"loss\"], label=\"Loss in Training\")\n",
        "plt.plot(f1, label=\"F1 Score\")\n",
        "plt.plot(history.history[\"precision\"], label=\"Precision\")\n",
        "plt.legend()\n",
        "plt.xlabel(\"Epochs\")\n",
        "\n",
        "plt.xlabel(\"Epochs\")\n",
        "plt.ylabel(\"Value\")\n",
        "plt.title(\"Evaluation\")\n",
        "\n",
        "plt.legend()\n",
        "plt.savefig(\"reports_FashionMNIST/raw_model_evaluations_before_al.png\")\n",
        "plt.show()\n",
        "\n",
        "print(f\"Accuracy in Training: {history.history['Accuracy'][-1]}\")\n",
        "print(f\"Loss in Training: {history.history['loss'][-1]}\")\n",
        "print(f\"F1 Score: {f1[-1]}\")\n",
        "print(f\"Precision: {history.history['precision'][-1]}\")"
      ]
    },
    {
      "cell_type": "code",
      "execution_count": 16,
      "metadata": {
        "execution": {
          "iopub.execute_input": "2024-05-04T13:00:19.412915Z",
          "iopub.status.busy": "2024-05-04T13:00:19.412615Z",
          "iopub.status.idle": "2024-05-04T13:00:22.700814Z",
          "shell.execute_reply": "2024-05-04T13:00:22.699866Z",
          "shell.execute_reply.started": "2024-05-04T13:00:19.41289Z"
        },
        "id": "89bE85L-r5Aa",
        "papermill": {
          "duration": 2.976158,
          "end_time": "2024-05-02T01:08:33.777043",
          "exception": false,
          "start_time": "2024-05-02T01:08:30.800885",
          "status": "completed"
        },
        "tags": [],
        "trusted": true
      },
      "outputs": [
        {
          "name": "stdout",
          "output_type": "stream",
          "text": [
            "313/313 [==============================] - 6s 16ms/step - loss: 1.3562 - Accuracy: 0.5467 - f1_score: 0.4724 - precision: 0.7572\n"
          ]
        }
      ],
      "source": [
        "model_results = model.evaluate(x_test, y_test)"
      ]
    },
    {
      "cell_type": "markdown",
      "metadata": {
        "id": "IndJgoEdDgkA",
        "papermill": {
          "duration": 0.063483,
          "end_time": "2024-05-02T01:08:34.182025",
          "exception": false,
          "start_time": "2024-05-02T01:08:34.118542",
          "status": "completed"
        },
        "tags": []
      },
      "source": [
        "## Evaluating Model Visually\n"
      ]
    },
    {
      "cell_type": "code",
      "execution_count": 17,
      "metadata": {
        "execution": {
          "iopub.execute_input": "2024-05-04T13:00:22.885667Z",
          "iopub.status.busy": "2024-05-04T13:00:22.885214Z",
          "iopub.status.idle": "2024-05-04T13:00:26.652917Z",
          "shell.execute_reply": "2024-05-04T13:00:26.65201Z",
          "shell.execute_reply.started": "2024-05-04T13:00:22.885635Z"
        },
        "id": "Mb1JQQjvW6c5",
        "papermill": {
          "duration": 4.111585,
          "end_time": "2024-05-02T01:08:38.357601",
          "exception": false,
          "start_time": "2024-05-02T01:08:34.246016",
          "status": "completed"
        },
        "tags": [],
        "trusted": true
      },
      "outputs": [
        {
          "name": "stdout",
          "output_type": "stream",
          "text": [
            "1/1 [==============================] - 1s 1s/step\n"
          ]
        },
        {
          "name": "stderr",
          "output_type": "stream",
          "text": [
            "Clipping input data to the valid range for imshow with RGB data ([0..1] for floats or [0..255] for integers).\n"
          ]
        },
        {
          "name": "stdout",
          "output_type": "stream",
          "text": [
            "1/1 [==============================] - 0s 17ms/step\n"
          ]
        },
        {
          "name": "stderr",
          "output_type": "stream",
          "text": [
            "Clipping input data to the valid range for imshow with RGB data ([0..1] for floats or [0..255] for integers).\n"
          ]
        },
        {
          "name": "stdout",
          "output_type": "stream",
          "text": [
            "1/1 [==============================] - 0s 20ms/step\n"
          ]
        },
        {
          "name": "stderr",
          "output_type": "stream",
          "text": [
            "Clipping input data to the valid range for imshow with RGB data ([0..1] for floats or [0..255] for integers).\n"
          ]
        },
        {
          "name": "stdout",
          "output_type": "stream",
          "text": [
            "1/1 [==============================] - 0s 20ms/step\n"
          ]
        },
        {
          "name": "stderr",
          "output_type": "stream",
          "text": [
            "Clipping input data to the valid range for imshow with RGB data ([0..1] for floats or [0..255] for integers).\n"
          ]
        },
        {
          "name": "stdout",
          "output_type": "stream",
          "text": [
            "1/1 [==============================] - 0s 19ms/step\n"
          ]
        },
        {
          "name": "stderr",
          "output_type": "stream",
          "text": [
            "Clipping input data to the valid range for imshow with RGB data ([0..1] for floats or [0..255] for integers).\n"
          ]
        },
        {
          "name": "stdout",
          "output_type": "stream",
          "text": [
            "1/1 [==============================] - 0s 19ms/step\n"
          ]
        },
        {
          "name": "stderr",
          "output_type": "stream",
          "text": [
            "Clipping input data to the valid range for imshow with RGB data ([0..1] for floats or [0..255] for integers).\n"
          ]
        },
        {
          "name": "stdout",
          "output_type": "stream",
          "text": [
            "1/1 [==============================] - 0s 22ms/step\n"
          ]
        },
        {
          "name": "stderr",
          "output_type": "stream",
          "text": [
            "Clipping input data to the valid range for imshow with RGB data ([0..1] for floats or [0..255] for integers).\n"
          ]
        },
        {
          "name": "stdout",
          "output_type": "stream",
          "text": [
            "1/1 [==============================] - 0s 21ms/step\n"
          ]
        },
        {
          "name": "stderr",
          "output_type": "stream",
          "text": [
            "Clipping input data to the valid range for imshow with RGB data ([0..1] for floats or [0..255] for integers).\n"
          ]
        },
        {
          "name": "stdout",
          "output_type": "stream",
          "text": [
            "1/1 [==============================] - 0s 20ms/step\n"
          ]
        },
        {
          "name": "stderr",
          "output_type": "stream",
          "text": [
            "Clipping input data to the valid range for imshow with RGB data ([0..1] for floats or [0..255] for integers).\n"
          ]
        },
        {
          "name": "stdout",
          "output_type": "stream",
          "text": [
            "1/1 [==============================] - 0s 19ms/step\n"
          ]
        },
        {
          "name": "stderr",
          "output_type": "stream",
          "text": [
            "Clipping input data to the valid range for imshow with RGB data ([0..1] for floats or [0..255] for integers).\n"
          ]
        },
        {
          "name": "stdout",
          "output_type": "stream",
          "text": [
            "1/1 [==============================] - 0s 19ms/step\n"
          ]
        },
        {
          "name": "stderr",
          "output_type": "stream",
          "text": [
            "Clipping input data to the valid range for imshow with RGB data ([0..1] for floats or [0..255] for integers).\n"
          ]
        },
        {
          "name": "stdout",
          "output_type": "stream",
          "text": [
            "1/1 [==============================] - 0s 20ms/step\n"
          ]
        },
        {
          "name": "stderr",
          "output_type": "stream",
          "text": [
            "Clipping input data to the valid range for imshow with RGB data ([0..1] for floats or [0..255] for integers).\n"
          ]
        },
        {
          "name": "stdout",
          "output_type": "stream",
          "text": [
            "1/1 [==============================] - 0s 21ms/step\n"
          ]
        },
        {
          "name": "stderr",
          "output_type": "stream",
          "text": [
            "Clipping input data to the valid range for imshow with RGB data ([0..1] for floats or [0..255] for integers).\n"
          ]
        },
        {
          "name": "stdout",
          "output_type": "stream",
          "text": [
            "1/1 [==============================] - 0s 17ms/step\n"
          ]
        },
        {
          "name": "stderr",
          "output_type": "stream",
          "text": [
            "Clipping input data to the valid range for imshow with RGB data ([0..1] for floats or [0..255] for integers).\n"
          ]
        },
        {
          "name": "stdout",
          "output_type": "stream",
          "text": [
            "1/1 [==============================] - 0s 19ms/step\n"
          ]
        },
        {
          "name": "stderr",
          "output_type": "stream",
          "text": [
            "Clipping input data to the valid range for imshow with RGB data ([0..1] for floats or [0..255] for integers).\n"
          ]
        },
        {
          "name": "stdout",
          "output_type": "stream",
          "text": [
            "1/1 [==============================] - 0s 19ms/step\n"
          ]
        },
        {
          "name": "stderr",
          "output_type": "stream",
          "text": [
            "Clipping input data to the valid range for imshow with RGB data ([0..1] for floats or [0..255] for integers).\n"
          ]
        },
        {
          "name": "stdout",
          "output_type": "stream",
          "text": [
            "1/1 [==============================] - 0s 17ms/step\n"
          ]
        },
        {
          "name": "stderr",
          "output_type": "stream",
          "text": [
            "Clipping input data to the valid range for imshow with RGB data ([0..1] for floats or [0..255] for integers).\n"
          ]
        },
        {
          "name": "stdout",
          "output_type": "stream",
          "text": [
            "1/1 [==============================] - 0s 19ms/step\n"
          ]
        },
        {
          "name": "stderr",
          "output_type": "stream",
          "text": [
            "Clipping input data to the valid range for imshow with RGB data ([0..1] for floats or [0..255] for integers).\n"
          ]
        },
        {
          "name": "stdout",
          "output_type": "stream",
          "text": [
            "1/1 [==============================] - 0s 17ms/step\n"
          ]
        },
        {
          "name": "stderr",
          "output_type": "stream",
          "text": [
            "Clipping input data to the valid range for imshow with RGB data ([0..1] for floats or [0..255] for integers).\n"
          ]
        },
        {
          "name": "stdout",
          "output_type": "stream",
          "text": [
            "1/1 [==============================] - 0s 17ms/step\n"
          ]
        },
        {
          "name": "stderr",
          "output_type": "stream",
          "text": [
            "Clipping input data to the valid range for imshow with RGB data ([0..1] for floats or [0..255] for integers).\n"
          ]
        },
        {
          "name": "stdout",
          "output_type": "stream",
          "text": [
            "1/1 [==============================] - 0s 19ms/step\n"
          ]
        },
        {
          "name": "stderr",
          "output_type": "stream",
          "text": [
            "Clipping input data to the valid range for imshow with RGB data ([0..1] for floats or [0..255] for integers).\n"
          ]
        },
        {
          "name": "stdout",
          "output_type": "stream",
          "text": [
            "1/1 [==============================] - 0s 25ms/step\n"
          ]
        },
        {
          "name": "stderr",
          "output_type": "stream",
          "text": [
            "Clipping input data to the valid range for imshow with RGB data ([0..1] for floats or [0..255] for integers).\n"
          ]
        },
        {
          "name": "stdout",
          "output_type": "stream",
          "text": [
            "1/1 [==============================] - 0s 20ms/step\n"
          ]
        },
        {
          "name": "stderr",
          "output_type": "stream",
          "text": [
            "Clipping input data to the valid range for imshow with RGB data ([0..1] for floats or [0..255] for integers).\n"
          ]
        },
        {
          "name": "stdout",
          "output_type": "stream",
          "text": [
            "1/1 [==============================] - 0s 18ms/step\n"
          ]
        },
        {
          "name": "stderr",
          "output_type": "stream",
          "text": [
            "Clipping input data to the valid range for imshow with RGB data ([0..1] for floats or [0..255] for integers).\n"
          ]
        },
        {
          "name": "stdout",
          "output_type": "stream",
          "text": [
            "1/1 [==============================] - 0s 17ms/step\n"
          ]
        },
        {
          "name": "stderr",
          "output_type": "stream",
          "text": [
            "Clipping input data to the valid range for imshow with RGB data ([0..1] for floats or [0..255] for integers).\n"
          ]
        },
        {
          "name": "stdout",
          "output_type": "stream",
          "text": [
            "1/1 [==============================] - 0s 16ms/step\n"
          ]
        },
        {
          "name": "stderr",
          "output_type": "stream",
          "text": [
            "Clipping input data to the valid range for imshow with RGB data ([0..1] for floats or [0..255] for integers).\n"
          ]
        },
        {
          "name": "stdout",
          "output_type": "stream",
          "text": [
            "1/1 [==============================] - 0s 17ms/step\n"
          ]
        },
        {
          "name": "stderr",
          "output_type": "stream",
          "text": [
            "Clipping input data to the valid range for imshow with RGB data ([0..1] for floats or [0..255] for integers).\n"
          ]
        },
        {
          "name": "stdout",
          "output_type": "stream",
          "text": [
            "1/1 [==============================] - 0s 18ms/step\n"
          ]
        },
        {
          "name": "stderr",
          "output_type": "stream",
          "text": [
            "Clipping input data to the valid range for imshow with RGB data ([0..1] for floats or [0..255] for integers).\n"
          ]
        },
        {
          "name": "stdout",
          "output_type": "stream",
          "text": [
            "1/1 [==============================] - 0s 21ms/step\n"
          ]
        },
        {
          "name": "stderr",
          "output_type": "stream",
          "text": [
            "Clipping input data to the valid range for imshow with RGB data ([0..1] for floats or [0..255] for integers).\n"
          ]
        },
        {
          "name": "stdout",
          "output_type": "stream",
          "text": [
            "1/1 [==============================] - 0s 16ms/step\n"
          ]
        },
        {
          "name": "stderr",
          "output_type": "stream",
          "text": [
            "Clipping input data to the valid range for imshow with RGB data ([0..1] for floats or [0..255] for integers).\n"
          ]
        },
        {
          "data": {
            "image/png": "[encoded data removed]",
            "text/plain": [
              "<Figure size 1300x1100 with 30 Axes>"
            ]
          },
          "metadata": {},
          "output_type": "display_data"
        }
      ],
      "source": [
        "test_samples = []\n",
        "test_labels = []\n",
        "idx = np.random.choice(range(len(x_test)), size=9, replace=False)\n",
        "for sample, label in zip(x_test[idx], y_test[idx]):\n",
        "    test_samples.append(sample)\n",
        "    test_labels.append(label)\n",
        "\n",
        "rows = 6\n",
        "cols = 5\n",
        "\n",
        "plt.figure(figsize=(13, 11))\n",
        "\n",
        "with torch.inference_mode():\n",
        "    for i in range(1, rows * cols + 1):\n",
        "        plt.subplot(rows, cols, i)\n",
        "        random_index = torch.randint(1, 9, size=[1]).item()\n",
        "        image, label = test_samples[random_index], test_labels[random_index].argmax()\n",
        "        pred_label = model.predict(image[:, :, :3].reshape(1, 32, 32, 3)).argmax()\n",
        "        plt.imshow(image)\n",
        "        \n",
        "        if pred_label == label:\n",
        "            plt.title(\"True\", c=\"g\", fontsize=9)\n",
        "        else:\n",
        "            plt.title(\"Pred\", c=\"r\", fontsize=8)\n",
        "        plt.axis(False)\n",
        "\n",
        "plt.savefig(\"reports_FashionMNIST/raw_model_predictions_before_al.png\")"
      ]
    },
    {
      "cell_type": "code",
      "execution_count": 18,
      "metadata": {
        "execution": {
          "iopub.execute_input": "2024-05-04T13:00:26.659473Z",
          "iopub.status.busy": "2024-05-04T13:00:26.659185Z",
          "iopub.status.idle": "2024-05-04T13:00:27.478154Z",
          "shell.execute_reply": "2024-05-04T13:00:27.477236Z",
          "shell.execute_reply.started": "2024-05-04T13:00:26.659449Z"
        },
        "id": "rVsviVAyDgkB",
        "papermill": {
          "duration": 4.111585,
          "end_time": "2024-05-02T01:08:38.357601",
          "exception": false,
          "start_time": "2024-05-02T01:08:34.246016",
          "status": "completed"
        },
        "tags": [],
        "trusted": true
      },
      "outputs": [
        {
          "name": "stdout",
          "output_type": "stream",
          "text": [
            "313/313 [==============================] - 3s 10ms/step\n"
          ]
        },
        {
          "data": {
            "image/png": "[encoded data removed]",
            "text/plain": [
              "<Figure size 1000x700 with 2 Axes>"
            ]
          },
          "metadata": {},
          "output_type": "display_data"
        }
      ],
      "source": [
        "y_pred = model.predict(x_test).argmax(axis=1)\n",
        "confusion_matrix = multiclass_confusion_matrix(\n",
        "    torch.tensor(y_pred), torch.tensor(y_test.argmax(axis=1)), num_classes=10\n",
        ")\n",
        "plot_confusion_matrix(\n",
        "    conf_mat=confusion_matrix.numpy(),\n",
        "    class_names=np.unique(y_test.argmax(axis=1)),\n",
        "    figsize=(10, 7),\n",
        "    show_absolute=True,\n",
        "    show_normed=True,\n",
        "    colorbar=True,\n",
        ")\n",
        "\n",
        "plt.savefig(\"reports_FashionMNIST/raw_model_confusion_matrix_before_al.png\")"
      ]
    },
    {
      "cell_type": "markdown",
      "metadata": {
        "id": "daiFMSwRDgkB",
        "papermill": {
          "duration": 0.072265,
          "end_time": "2024-05-02T01:08:39.650182",
          "exception": false,
          "start_time": "2024-05-02T01:08:39.577917",
          "status": "completed"
        },
        "tags": []
      },
      "source": [
        "## Saving the Model\n"
      ]
    },
    {
      "cell_type": "code",
      "execution_count": 19,
      "metadata": {
        "execution": {
          "iopub.execute_input": "2024-05-04T13:00:27.479597Z",
          "iopub.status.busy": "2024-05-04T13:00:27.479302Z",
          "iopub.status.idle": "2024-05-04T13:00:27.633439Z",
          "shell.execute_reply": "2024-05-04T13:00:27.632471Z",
          "shell.execute_reply.started": "2024-05-04T13:00:27.479573Z"
        },
        "id": "tOEoyOxlDgkB",
        "papermill": {
          "duration": 0.258906,
          "end_time": "2024-05-02T01:08:39.980479",
          "exception": false,
          "start_time": "2024-05-02T01:08:39.721573",
          "status": "completed"
        },
        "tags": [],
        "trusted": true
      },
      "outputs": [
        {
          "name": "stdout",
          "output_type": "stream",
          "text": [
            "Saving model to models/base_model.h5\n"
          ]
        }
      ],
      "source": [
        "MODELS_PATH = Path(\"models\")\n",
        "MODELS_PATH.mkdir(parents=True, exist_ok=True)\n",
        "\n",
        "MODEL_NAME = \"base_model.h5\"\n",
        "MODEL_SAVE_PATH = MODELS_PATH / MODEL_NAME\n",
        "\n",
        "print(f\"Saving model to {MODEL_SAVE_PATH}\")\n",
        "model.save(MODEL_SAVE_PATH)"
      ]
    },
    {
      "cell_type": "markdown",
      "metadata": {
        "id": "0wqjILS_DgkB",
        "papermill": {
          "duration": 0.073978,
          "end_time": "2024-05-02T01:08:40.128255",
          "exception": false,
          "start_time": "2024-05-02T01:08:40.054277",
          "status": "completed"
        },
        "tags": []
      },
      "source": [
        "## Load the Model\n"
      ]
    },
    {
      "cell_type": "code",
      "execution_count": 20,
      "metadata": {
        "execution": {
          "iopub.execute_input": "2024-05-04T13:00:27.635023Z",
          "iopub.status.busy": "2024-05-04T13:00:27.634722Z",
          "iopub.status.idle": "2024-05-04T13:00:28.241155Z",
          "shell.execute_reply": "2024-05-04T13:00:28.240251Z",
          "shell.execute_reply.started": "2024-05-04T13:00:27.634997Z"
        },
        "id": "tWa7_ThLDgkB",
        "papermill": {
          "duration": 0.657821,
          "end_time": "2024-05-02T01:08:40.858182",
          "exception": false,
          "start_time": "2024-05-02T01:08:40.200361",
          "status": "completed"
        },
        "tags": [],
        "trusted": true
      },
      "outputs": [],
      "source": [
        "trained_model = tf.keras.models.load_model(MODEL_SAVE_PATH)"
      ]
    },
    {
      "cell_type": "markdown",
      "metadata": {
        "id": "XCcAPi21DgkB",
        "papermill": {
          "duration": 0.084583,
          "end_time": "2024-05-02T01:08:41.36126",
          "exception": false,
          "start_time": "2024-05-02T01:08:41.276677",
          "status": "completed"
        },
        "tags": []
      },
      "source": [
        "# Active Learning\n"
      ]
    },
    {
      "cell_type": "code",
      "execution_count": 21,
      "metadata": {
        "execution": {
          "iopub.execute_input": "2024-05-04T13:00:28.278651Z",
          "iopub.status.busy": "2024-05-04T13:00:28.277929Z",
          "iopub.status.idle": "2024-05-04T13:00:28.282676Z",
          "shell.execute_reply": "2024-05-04T13:00:28.281666Z",
          "shell.execute_reply.started": "2024-05-04T13:00:28.278615Z"
        },
        "id": "ofBD7CXODgkB",
        "trusted": true
      },
      "outputs": [],
      "source": [
        "cycles = 100"
      ]
    },
    {
      "cell_type": "code",
      "execution_count": 22,
      "metadata": {
        "execution": {
          "iopub.execute_input": "2024-05-04T13:00:28.284159Z",
          "iopub.status.busy": "2024-05-04T13:00:28.283869Z",
          "iopub.status.idle": "2024-05-04T13:00:28.292787Z",
          "shell.execute_reply": "2024-05-04T13:00:28.291923Z",
          "shell.execute_reply.started": "2024-05-04T13:00:28.284135Z"
        },
        "id": "Mh2HdbPyDgkB",
        "trusted": true
      },
      "outputs": [],
      "source": [
        "trained_model = KerasClassifier(trained_model)"
      ]
    },
    {
      "cell_type": "code",
      "execution_count": 23,
      "metadata": {
        "id": "aaBgiSXhDgkB"
      },
      "outputs": [],
      "source": [
        "# trained_model.initialize()"
      ]
    },
    {
      "cell_type": "code",
      "execution_count": 24,
      "metadata": {
        "execution": {
          "iopub.execute_input": "2024-05-04T13:00:28.2944Z",
          "iopub.status.busy": "2024-05-04T13:00:28.294111Z",
          "iopub.status.idle": "2024-05-04T13:00:28.315915Z",
          "shell.execute_reply": "2024-05-04T13:00:28.314985Z",
          "shell.execute_reply.started": "2024-05-04T13:00:28.294377Z"
        },
        "id": "aNVD6ruADgkB",
        "papermill": {
          "duration": 0.115692,
          "end_time": "2024-05-02T01:08:41.564483",
          "exception": false,
          "start_time": "2024-05-02T01:08:41.448791",
          "status": "completed"
        },
        "tags": [],
        "trusted": true
      },
      "outputs": [],
      "source": [
        "def active_learning(pool_x, pool_y, method, model_estimator, num_classes, class_names):\n",
        "    learner = None\n",
        "    acc_train = []\n",
        "    acc_test = []\n",
        "    precision_result = []\n",
        "    recall_result = []\n",
        "    f1_result = []\n",
        "    loss = []\n",
        "    if method == \"uncertainty_sampling\":\n",
        "        learner = ActiveLearner(estimator=model_estimator, query_strategy=uncertainty_sampling)\n",
        "    elif method == \"margin_sampling\":\n",
        "        learner = ActiveLearner(estimator=model_estimator, query_strategy=margin_sampling)\n",
        "    elif method == \"entropy_sampling\":\n",
        "        learner = ActiveLearner(estimator=model_estimator, query_strategy=entropy_sampling)\n",
        "    elif method == \"random_sampling\":\n",
        "        def random_sampling(Learner, pool_x, n_instances):\n",
        "            n_samples = len(pool_x)\n",
        "            query_idx = np.random.choice(range(n_samples), size=n_instances, replace=False)\n",
        "            X_query = pool_x[query_idx]\n",
        "            return query_idx, X_query\n",
        "\n",
        "        learner = ActiveLearner(estimator=model_estimator, query_strategy=random_sampling)\n",
        "    elif method == \"query_by_committee\":\n",
        "        n_members = 3\n",
        "        learner_list = list()\n",
        "        for member_idx in range(n_members):\n",
        "            Learner = ActiveLearner(estimator=model_estimator)\n",
        "            learner_list.append(Learner)\n",
        "        learner = Committee(learner_list=learner_list, query_strategy=vote_entropy_sampling)\n",
        "    else:\n",
        "        print(\"Invalid Input\")\n",
        "\n",
        "    print(f\"Starting Active Learning with {method.replace('_', ' ')} method\")\n",
        "\n",
        "    for cycle in range(cycles):\n",
        "        print(f\"Cycle: {cycle + 1}\")\n",
        "        query_idx, _ = learner.query(pool_x, n_instances=100)\n",
        "        learner.teach(X=pool_x[query_idx], y=pool_y[query_idx])\n",
        "        pool_x = np.delete(pool_x, query_idx, axis=0)\n",
        "        pool_y = np.delete(pool_y, query_idx, axis=0)\n",
        "\n",
        "        model_accuracy = learner.score(x_train, y_train)\n",
        "        acc_train.append(model_accuracy)\n",
        "        y_pred = learner.predict(x_test)\n",
        "\n",
        "        acc_test.append(\n",
        "            multiclass_accuracy(\n",
        "                torch.tensor(y_pred), torch.tensor(y_test), num_classes=num_classes\n",
        "            )\n",
        "        )\n",
        "        precision_result.append(\n",
        "            multiclass_precision(\n",
        "                torch.tensor(y_pred), torch.tensor(y_test), num_classes=num_classes\n",
        "            )\n",
        "        )\n",
        "        recall_result.append(\n",
        "            multiclass_recall(\n",
        "                torch.tensor(y_pred), torch.tensor(y_test), num_classes=num_classes\n",
        "            )\n",
        "        )\n",
        "        f1_result.append(\n",
        "            multiclass_f1_score(\n",
        "                torch.tensor(y_pred), torch.tensor(y_test), num_classes=num_classes\n",
        "            )\n",
        "        )\n",
        "        loss.append(\n",
        "            loss_fn(\n",
        "                torch.tensor(y_pred, dtype=torch.float32), torch.tensor(y_test, dtype=torch.float32)\n",
        "            )\n",
        "        )\n",
        "\n",
        "        print(f\"\\tTraining Accuracy: {acc_train[-1]:.3f}\")\n",
        "        print(f\"\\tTesting Accuracy: {acc_test[-1]:.3f}\")\n",
        "        print(f\"\\tPrecision: {precision_result[-1]:.3f}\")\n",
        "        print(f\"\\tRecall: {recall_result[-1]:.3f}\")\n",
        "        print(f\"\\tF1 Score: {f1_result[-1]:.3f}\")\n",
        "        print(f\"\\tLoss: {loss[-1]:.3f}\")\n",
        "\n",
        "        try:\n",
        "            slope = (loss[-1] - loss[-10]) / 9\n",
        "            print(\"\\tSlop after 10 Epochs\", slope)\n",
        "            if slope >= 0.01:\n",
        "                break\n",
        "        except Exception:\n",
        "            continue\n",
        "\n",
        "    print(f\"Active Learning with {method} method is finished\")\n",
        "    confusion_matrix = multiclass_confusion_matrix(\n",
        "        torch.tensor(y_pred), torch.tensor(y_test), num_classes=num_classes\n",
        "    )\n",
        "    plot_confusion_matrix(\n",
        "        conf_mat=confusion_matrix.numpy(),\n",
        "        class_names=class_names,\n",
        "        figsize=(10, 7),\n",
        "        show_absolute=True,\n",
        "        show_normed=True,\n",
        "        colorbar=True,\n",
        "    )\n",
        "\n",
        "    plt.savefig(f\"reports_FashionMNIST/{method}_confusion_matrix_after_al.png\")\n",
        "    return {\n",
        "        \"Train Accuracy\": acc_train,\n",
        "        \"Test Accuracy\": acc_test,\n",
        "        \"Precision\": precision_result,\n",
        "        \"Recall\": recall_result,\n",
        "        \"F1 Score\": f1_result,\n",
        "        \"Loss\": loss\n",
        "    }"
      ]
    },
    {
      "cell_type": "markdown",
      "metadata": {
        "id": "yaOQdGK0DgkB"
      },
      "source": [
        "## Random Sampling"
      ]
    },
    {
      "cell_type": "code",
      "execution_count": 25,
      "metadata": {
        "execution": {
          "iopub.execute_input": "2024-05-04T13:00:28.317525Z",
          "iopub.status.busy": "2024-05-04T13:00:28.317168Z",
          "iopub.status.idle": "2024-05-04T13:00:28.327661Z",
          "shell.execute_reply": "2024-05-04T13:00:28.326771Z",
          "shell.execute_reply.started": "2024-05-04T13:00:28.317494Z"
        },
        "id": "-DtOXv-2DgkB",
        "papermill": {
          "duration": 3360.883149,
          "end_time": "2024-05-02T02:04:43.062244",
          "exception": true,
          "start_time": "2024-05-02T01:08:42.179095",
          "status": "failed"
        },
        "tags": [],
        "trusted": true
      },
      "outputs": [
        {
          "name": "stdout",
          "output_type": "stream",
          "text": [
            "Starting Active Learning with random sampling method\n",
            "Cycle: 1\n",
            "3/4 [=====================>........] - ETA: 0s - loss: 2.0250 - Accuracy: 0.6250 - f1_score: 0.5321 - precision: 0.6742"
          ]
        },
        {
          "name": "stderr",
          "output_type": "stream",
          "text": [
            "2024-05-05 19:46:26.318574: W external/local_tsl/tsl/framework/bfc_allocator.cc:296] Allocator (GPU_0_bfc) ran out of memory trying to allocate 4.54GiB with freed_by_count=0. The caller indicates that this is not a failure, but this may mean that there could be performance gains if more memory were available.\n",
            "2024-05-05 19:46:26.324729: W external/local_tsl/tsl/framework/bfc_allocator.cc:296] Allocator (GPU_0_bfc) ran out of memory trying to allocate 4.54GiB with freed_by_count=0. The caller indicates that this is not a failure, but this may mean that there could be performance gains if more memory were available.\n"
          ]
        },
        {
          "name": "stdout",
          "output_type": "stream",
          "text": [
            "4/4 [==============================] - 18s 746ms/step - loss: 1.9700 - Accuracy: 0.6300 - f1_score: 0.5390 - precision: 0.6774\n"
          ]
        },
        {
          "ename": "",
          "evalue": "",
          "output_type": "error",
          "traceback": [
            "\u001b[1;31mThe Kernel crashed while executing code in the current cell or a previous cell. \n",
            "\u001b[1;31mPlease review the code in the cell(s) to identify a possible cause of the failure. \n",
            "\u001b[1;31mClick <a href='https://aka.ms/vscodeJupyterKernelCrash'>here</a> for more info. \n",
            "\u001b[1;31mView Jupyter <a href='command:jupyter.viewOutput'>log</a> for further details."
          ]
        }
      ],
      "source": [
        "results_random_sampling = active_learning(x_pool, y_pool, \"random_sampling\", trained_model, 10, np.unique(y_test.argmax(axis=1)))"
      ]
    },
    {
      "cell_type": "markdown",
      "metadata": {
        "id": "RETSgwqTDgkC"
      },
      "source": [
        "## Uncertainty Sampling"
      ]
    },
    {
      "cell_type": "code",
      "execution_count": null,
      "metadata": {
        "execution": {
          "iopub.execute_input": "2024-05-04T13:00:28.329076Z",
          "iopub.status.busy": "2024-05-04T13:00:28.328805Z",
          "iopub.status.idle": "2024-05-04T13:00:28.336538Z",
          "shell.execute_reply": "2024-05-04T13:00:28.33574Z",
          "shell.execute_reply.started": "2024-05-04T13:00:28.329046Z"
        },
        "id": "UwUPWJhXDgkC",
        "papermill": {
          "duration": null,
          "end_time": null,
          "exception": null,
          "start_time": null,
          "status": "pending"
        },
        "tags": [],
        "trusted": true
      },
      "outputs": [],
      "source": [
        "results_uncertainty_sampling = active_learning(x_pool, y_pool, \"uncertainty_sampling\", trained_model, 10, FashionMNIST_class_names)"
      ]
    },
    {
      "cell_type": "markdown",
      "metadata": {
        "id": "xBOfgUiEDgkC"
      },
      "source": [
        "## Margin Sampling"
      ]
    },
    {
      "cell_type": "code",
      "execution_count": null,
      "metadata": {
        "execution": {
          "iopub.execute_input": "2024-05-04T13:00:28.337811Z",
          "iopub.status.busy": "2024-05-04T13:00:28.33754Z",
          "iopub.status.idle": "2024-05-04T13:00:28.346217Z",
          "shell.execute_reply": "2024-05-04T13:00:28.345325Z",
          "shell.execute_reply.started": "2024-05-04T13:00:28.337787Z"
        },
        "id": "0HDF4tziDgkC",
        "papermill": {
          "duration": null,
          "end_time": null,
          "exception": null,
          "start_time": null,
          "status": "pending"
        },
        "tags": [],
        "trusted": true
      },
      "outputs": [],
      "source": [
        "results_margin_sampling = active_learning(x_pool, y_pool, \"margin_sampling\", trained_model, 10, FashionMNIST_class_names)"
      ]
    },
    {
      "cell_type": "markdown",
      "metadata": {
        "id": "DJqAguFgDgkC"
      },
      "source": [
        "## Entropy Sampling"
      ]
    },
    {
      "cell_type": "code",
      "execution_count": null,
      "metadata": {
        "execution": {
          "iopub.execute_input": "2024-05-04T13:00:28.347674Z",
          "iopub.status.busy": "2024-05-04T13:00:28.347406Z",
          "iopub.status.idle": "2024-05-04T13:00:28.354937Z",
          "shell.execute_reply": "2024-05-04T13:00:28.354062Z",
          "shell.execute_reply.started": "2024-05-04T13:00:28.347651Z"
        },
        "id": "d2VX7hkwDgkC",
        "papermill": {
          "duration": null,
          "end_time": null,
          "exception": null,
          "start_time": null,
          "status": "pending"
        },
        "tags": [],
        "trusted": true
      },
      "outputs": [],
      "source": [
        "results_entropy_sampling = active_learning(x_pool, y_pool, \"entropy_sampling\", trained_model, 10, FashionMNIST_class_names)"
      ]
    },
    {
      "cell_type": "markdown",
      "metadata": {
        "id": "RtYpx-JCDgkC"
      },
      "source": [
        "## Query by Committee"
      ]
    },
    {
      "cell_type": "code",
      "execution_count": null,
      "metadata": {
        "execution": {
          "iopub.execute_input": "2024-05-04T13:00:28.356385Z",
          "iopub.status.busy": "2024-05-04T13:00:28.356069Z",
          "iopub.status.idle": "2024-05-04T13:16:12.124754Z",
          "shell.execute_reply": "2024-05-04T13:16:12.123787Z",
          "shell.execute_reply.started": "2024-05-04T13:00:28.356354Z"
        },
        "id": "q-VAhX0xDgkC",
        "trusted": true
      },
      "outputs": [],
      "source": [
        "results_committee_sampling = active_learning(x_pool, y_pool, \"query_by_committee\", trained_model, 10, FashionMNIST_class_names)"
      ]
    },
    {
      "cell_type": "markdown",
      "metadata": {
        "id": "Wk4k5II_DgkC",
        "papermill": {
          "duration": null,
          "end_time": null,
          "exception": null,
          "start_time": null,
          "status": "pending"
        },
        "tags": []
      },
      "source": [
        "# Plot All Metrics\n"
      ]
    },
    {
      "cell_type": "markdown",
      "metadata": {
        "id": "d_YrcoWHDgkC",
        "papermill": {
          "duration": null,
          "end_time": null,
          "exception": null,
          "start_time": null,
          "status": "pending"
        },
        "tags": []
      },
      "source": [
        "## Accuracy\n"
      ]
    },
    {
      "cell_type": "code",
      "execution_count": null,
      "metadata": {
        "collapsed": true,
        "execution": {
          "iopub.execute_input": "2024-05-04T13:21:06.248597Z",
          "iopub.status.busy": "2024-05-04T13:21:06.247595Z",
          "iopub.status.idle": "2024-05-04T13:21:06.726674Z",
          "shell.execute_reply": "2024-05-04T13:21:06.725757Z",
          "shell.execute_reply.started": "2024-05-04T13:21:06.248557Z"
        },
        "id": "0-I8jW-GDgkC",
        "jupyter": {
          "outputs_hidden": true
        },
        "papermill": {
          "duration": null,
          "end_time": null,
          "exception": null,
          "start_time": null,
          "status": "pending"
        },
        "tags": [],
        "trusted": true
      },
      "outputs": [],
      "source": [
        "plt.figure(figsize=(13, 11))\n",
        "\n",
        "plt.plot(results_random_sampling[\"Train Accuracy\"], label=\"Train Accuracy Random\")\n",
        "plt.plot(results_random_sampling[\"Test Accuracy\"], label=\"Test Accuracy Random\")\n",
        "plt.plot(results_uncertainty_sampling[\"Train Accuracy\"], label=\"Train Accuracy Uncertainty\")\n",
        "plt.plot(results_uncertainty_sampling[\"Test Accuracy\"], label=\"Test Accuracy Uncertainty\")\n",
        "plt.plot(results_margin_sampling[\"Train Accuracy\"], label=\"Train Accuracy Margin\")\n",
        "plt.plot(results_margin_sampling[\"Test Accuracy\"], label=\"Test Accuracy Margin\")\n",
        "plt.plot(results_entropy_sampling[\"Train Accuracy\"], label=\"Train Accuracy Entropy\")\n",
        "plt.plot(results_entropy_sampling[\"Test Accuracy\"], label=\"Test Accuracy Entropy\")\n",
        "plt.plot(results_committee_sampling[\"Train Accuracy\"], label=\"Train Accuracy Committee\")\n",
        "plt.plot(results_committee_sampling[\"Test Accuracy\"], label=\"Test Accuracy Committee\")\n",
        "\n",
        "plt.xlabel(\"Epochs\")\n",
        "plt.ylabel(\"Value\")\n",
        "plt.title(\"Train Accuracy & Test Accuracy\")\n",
        "plt.legend()\n",
        "plt.savefig(\"reports_FashionMNIST/model_after_al_accuracy.png\")\n",
        "plt.show()\n",
        "\n",
        "print(f\"Train Accuracy Random: {results_random_sampling['Train Accuracy'][-1]}\")\n",
        "print(f\"Test Accuracy Random: {results_random_sampling['Test Accuracy'][-1]}\")\n",
        "print(f\"Train Accuracy Uncertainty: {results_uncertainty_sampling['Train Accuracy'][-1]}\")\n",
        "print(f\"Test Accuracy Uncertainty: {results_uncertainty_sampling['Test Accuracy'][-1]}\")\n",
        "print(f\"Train Accuracy Margin: {results_margin_sampling['Train Accuracy'][-1]}\")\n",
        "print(f\"Test Accuracy Margin: {results_margin_sampling['Test Accuracy'][-1]}\")\n",
        "print(f\"Train Accuracy Entropy: {results_entropy_sampling['Train Accuracy'][-1]}\")\n",
        "print(f\"Test Accuracy Entropy: {results_entropy_sampling['Test Accuracy'][-1]}\")\n",
        "print(f\"Train Accuracy Committee: {results_committee_sampling['Train Accuracy'][-1]}\")\n",
        "print(f\"Test Accuracy Committee: {results_committee_sampling['Test Accuracy'][-1]}\")"
      ]
    },
    {
      "cell_type": "markdown",
      "metadata": {
        "id": "JurMgoA4DgkC"
      },
      "source": [
        "## Loss"
      ]
    },
    {
      "cell_type": "code",
      "execution_count": null,
      "metadata": {
        "id": "SVfxXZ7JDgkC"
      },
      "outputs": [],
      "source": [
        "plt.figure(figsize=(13, 11))\n",
        "\n",
        "plt.plot(results_random_sampling[\"Loss\"], label=\"Random\")\n",
        "plt.plot(results_uncertainty_sampling[\"Loss\"], label=\"Uncertainty\")\n",
        "plt.plot(results_margin_sampling[\"Loss\"], label=\"Margin\")\n",
        "plt.plot(results_entropy_sampling[\"Loss\"], label=\"Entropy\")\n",
        "plt.plot(results_committee_sampling[\"Loss\"], label=\"Committee\")\n",
        "\n",
        "plt.xlabel(\"Epochs\")\n",
        "plt.ylabel(\"Value\")\n",
        "plt.title(\"Loss\")\n",
        "plt.legend()\n",
        "plt.savefig(\"reports_FashionMNIST/model_after_al_loss.png\")\n",
        "plt.show()\n",
        "\n",
        "print(f\"Random: {results_random_sampling['Loss'][-1]}\")\n",
        "print(f\"Uncertainty: {results_uncertainty_sampling['Loss'][-1]}\")\n",
        "print(f\"Margin: {results_margin_sampling['Loss'][-1]}\")\n",
        "print(f\"Entropy: {results_entropy_sampling['Loss'][-1]}\")\n",
        "print(f\"Committee: {results_committee_sampling['Loss'][-1]}\")"
      ]
    },
    {
      "cell_type": "markdown",
      "metadata": {
        "id": "H-f7QtFXDgkC",
        "papermill": {
          "duration": null,
          "end_time": null,
          "exception": null,
          "start_time": null,
          "status": "pending"
        },
        "tags": []
      },
      "source": [
        "## Precision\n"
      ]
    },
    {
      "cell_type": "code",
      "execution_count": null,
      "metadata": {
        "execution": {
          "iopub.status.busy": "2024-05-04T13:16:12.401138Z",
          "iopub.status.idle": "2024-05-04T13:16:12.401645Z",
          "shell.execute_reply": "2024-05-04T13:16:12.401421Z",
          "shell.execute_reply.started": "2024-05-04T13:16:12.401402Z"
        },
        "id": "MezLM5v2DgkC",
        "papermill": {
          "duration": null,
          "end_time": null,
          "exception": null,
          "start_time": null,
          "status": "pending"
        },
        "tags": [],
        "trusted": true
      },
      "outputs": [],
      "source": [
        "plt.figure(figsize=(13, 11))\n",
        "\n",
        "plt.plot(results_random_sampling[\"Precision\"], label=\"Random\")\n",
        "plt.plot(results_uncertainty_sampling[\"Precision\"], label=\"Uncertainty\")\n",
        "plt.plot(results_margin_sampling[\"Precision\"], label=\"Margin\")\n",
        "plt.plot(results_entropy_sampling[\"Precision\"], label=\"Entropy\")\n",
        "plt.plot(results_committee_sampling[\"Precision\"], label=\"Committee\")\n",
        "\n",
        "plt.xlabel(\"Epochs\")\n",
        "plt.ylabel(\"Value\")\n",
        "plt.title(\"Precision\")\n",
        "plt.legend()\n",
        "plt.savefig(\"reports_FashionMNIST/model_after_al_precision.png\")\n",
        "plt.show()\n",
        "\n",
        "print(f\"Random: {results_random_sampling['Precision'][-1]}\")\n",
        "print(f\"Uncertainty: {results_uncertainty_sampling['Precision'][-1]}\")\n",
        "print(f\"Margin: {results_margin_sampling['Precision'][-1]}\")\n",
        "print(f\"Entropy: {results_entropy_sampling['Precision'][-1]}\")\n",
        "print(f\"Committee: {results_committee_sampling['Precision'][-1]}\")"
      ]
    },
    {
      "cell_type": "markdown",
      "metadata": {
        "id": "S12DM6K1DgkC",
        "papermill": {
          "duration": null,
          "end_time": null,
          "exception": null,
          "start_time": null,
          "status": "pending"
        },
        "tags": []
      },
      "source": [
        "## Recall\n"
      ]
    },
    {
      "cell_type": "code",
      "execution_count": null,
      "metadata": {
        "execution": {
          "iopub.status.busy": "2024-05-04T13:16:12.403091Z",
          "iopub.status.idle": "2024-05-04T13:16:12.403445Z",
          "shell.execute_reply": "2024-05-04T13:16:12.403269Z",
          "shell.execute_reply.started": "2024-05-04T13:16:12.403256Z"
        },
        "id": "JGKFqVJnDgkC",
        "papermill": {
          "duration": null,
          "end_time": null,
          "exception": null,
          "start_time": null,
          "status": "pending"
        },
        "tags": [],
        "trusted": true
      },
      "outputs": [],
      "source": [
        "plt.figure(figsize=(13, 11))\n",
        "\n",
        "plt.plot(results_random_sampling[\"Recall\"], label=\"Random\")\n",
        "plt.plot(results_uncertainty_sampling[\"Recall\"], label=\"Uncertainty\")\n",
        "plt.plot(results_margin_sampling[\"Recall\"], label=\"Margin\")\n",
        "plt.plot(results_entropy_sampling[\"Recall\"], label=\"Entropy\")\n",
        "plt.plot(results_committee_sampling[\"Recall\"], label=\"Committee\")\n",
        "\n",
        "plt.xlabel(\"Epochs\")\n",
        "plt.ylabel(\"Value\")\n",
        "plt.title(\"Recall\")\n",
        "plt.legend()\n",
        "plt.savefig(\"reports_FashionMNIST/model_after_al_recall.png\")\n",
        "plt.show()\n",
        "\n",
        "print(f\"Random: {results_random_sampling['Recall'][-1]}\")\n",
        "print(f\"Uncertainty: {results_uncertainty_sampling['Recall'][-1]}\")\n",
        "print(f\"Margin: {results_margin_sampling['Recall'][-1]}\")\n",
        "print(f\"Entropy: {results_entropy_sampling['Recall'][-1]}\")\n",
        "print(f\"Committee: {results_committee_sampling['Recall'][-1]}\")"
      ]
    },
    {
      "cell_type": "markdown",
      "metadata": {
        "id": "ZZ_4rmkwDgkD",
        "papermill": {
          "duration": null,
          "end_time": null,
          "exception": null,
          "start_time": null,
          "status": "pending"
        },
        "tags": []
      },
      "source": [
        "## F1 Score\n"
      ]
    },
    {
      "cell_type": "code",
      "execution_count": null,
      "metadata": {
        "execution": {
          "iopub.status.busy": "2024-05-04T13:16:12.404431Z",
          "iopub.status.idle": "2024-05-04T13:16:12.404872Z",
          "shell.execute_reply": "2024-05-04T13:16:12.404657Z",
          "shell.execute_reply.started": "2024-05-04T13:16:12.404638Z"
        },
        "id": "P7lHhZoDDgkD",
        "papermill": {
          "duration": null,
          "end_time": null,
          "exception": null,
          "start_time": null,
          "status": "pending"
        },
        "tags": [],
        "trusted": true
      },
      "outputs": [],
      "source": [
        "plt.figure(figsize=(13, 11))\n",
        "\n",
        "plt.plot(results_random_sampling[\"F1 Score\"], label=\"Random\")\n",
        "plt.plot(results_uncertainty_sampling[\"F1 Score\"], label=\"Uncertainty\")\n",
        "plt.plot(results_margin_sampling[\"F1 Score\"], label=\"Margin\")\n",
        "plt.plot(results_entropy_sampling[\"F1 Score\"], label=\"Entropy\")\n",
        "plt.plot(results_committee_sampling[\"F1 Score\"], label=\"Committee\")\n",
        "\n",
        "plt.xlabel(\"Epochs\")\n",
        "plt.ylabel(\"Value\")\n",
        "plt.title(\"F1 Score\")\n",
        "plt.legend()\n",
        "plt.savefig(\"reports_FashionMNIST/model_after_al_f1_score.png\")\n",
        "plt.show()\n",
        "\n",
        "print(f\"Random: {results_random_sampling['F1 Score'][-1]}\")\n",
        "print(f\"Uncertainty: {results_uncertainty_sampling['F1 Score'][-1]}\")\n",
        "print(f\"Margin: {results_margin_sampling['F1 Score'][-1]}\")\n",
        "print(f\"Entropy: {results_entropy_sampling['F1 Score'][-1]}\")\n",
        "print(f\"Committee: {results_committee_sampling['F1 Score'][-1]}\")"
      ]
    },
    {
      "cell_type": "code",
      "execution_count": null,
      "metadata": {
        "id": "5vTM4vF1DgkD"
      },
      "outputs": [],
      "source": [
        "import shutil\n",
        "shutil.rmtree('/kaggle/working/models')\n",
        "shutil.rmtree('/kaggle/working/data_FashionMNIST')"
      ]
    }
  ],
  "metadata": {
    "accelerator": "TPU",
    "colab": {
      "gpuType": "V28",
      "provenance": []
    },
    "kaggle": {
      "accelerator": "gpu",
      "dataSources": [],
      "dockerImageVersionId": 30699,
      "isGpuEnabled": true,
      "isInternetEnabled": true,
      "language": "python",
      "sourceType": "notebook"
    },
    "kernelspec": {
      "display_name": "Python 3",
      "name": "python3"
    },
    "language_info": {
      "codemirror_mode": {
        "name": "ipython",
        "version": 3
      },
      "file_extension": ".py",
      "mimetype": "text/x-python",
      "name": "python",
      "nbconvert_exporter": "python",
      "pygments_lexer": "ipython3",
      "version": "3.11.5"
    },
    "papermill": {
      "default_parameters": {},
      "duration": 4424.22979,
      "end_time": "2024-05-02T02:04:45.99896",
      "environment_variables": {},
      "exception": true,
      "input_path": "__notebook__.ipynb",
      "output_path": "__notebook__.ipynb",
      "parameters": {},
      "start_time": "2024-05-02T00:51:01.76917",
      "version": "2.5.0"
    }
  },
  "nbformat": 4,
  "nbformat_minor": 0
}
