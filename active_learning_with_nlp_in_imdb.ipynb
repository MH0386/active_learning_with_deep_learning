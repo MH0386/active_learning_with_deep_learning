{
 "cells": [
  {
   "cell_type": "code",
   "execution_count": 1,
   "id": "5d2a26cc",
   "metadata": {
    "execution": {
     "iopub.execute_input": "2024-05-01T22:19:20.813381Z",
     "iopub.status.busy": "2024-05-01T22:19:20.813037Z",
     "iopub.status.idle": "2024-05-01T22:19:34.758124Z",
     "shell.execute_reply": "2024-05-01T22:19:34.756912Z"
    },
    "papermill": {
     "duration": 13.963249,
     "end_time": "2024-05-01T22:19:34.760635",
     "exception": false,
     "start_time": "2024-05-01T22:19:20.797386",
     "status": "completed"
    },
    "tags": []
   },
   "outputs": [],
   "source": [
    "import os; os.environ[\"CONDA_PREFIX\"] = \"/opt/conda\"\n",
    "!pip install -U -q uv"
   ]
  },
  {
   "cell_type": "code",
   "execution_count": 2,
   "id": "1e60de88",
   "metadata": {
    "execution": {
     "iopub.execute_input": "2024-05-01T22:19:34.790146Z",
     "iopub.status.busy": "2024-05-01T22:19:34.789783Z",
     "iopub.status.idle": "2024-05-01T22:19:38.468390Z",
     "shell.execute_reply": "2024-05-01T22:19:38.467213Z"
    },
    "papermill": {
     "duration": 3.695917,
     "end_time": "2024-05-01T22:19:38.470761",
     "exception": false,
     "start_time": "2024-05-01T22:19:34.774844",
     "status": "completed"
    },
    "tags": []
   },
   "outputs": [
    {
     "name": "stdout",
     "output_type": "stream",
     "text": [
      "\u001b[2K\u001b[2mResolved \u001b[1m46 packages\u001b[0m in 329ms\u001b[0m\r\n",
      "\u001b[2K\u001b[2mDownloaded \u001b[1m15 packages\u001b[0m in 1.22s\u001b[0m\r\n",
      "\u001b[2K\u001b[2mInstalled \u001b[1m15 packages\u001b[0m in 91ms\u001b[0m\r\n",
      " \u001b[31m-\u001b[39m \u001b[1mcontourpy\u001b[0m\u001b[2m==1.2.0\u001b[0m\r\n",
      " \u001b[31m-\u001b[39m \u001b[1mcontourpy\u001b[0m\u001b[2m==1.2.1 (from file:///home/conda/feedstock_root/build_artifacts/contourpy_1712429905637/work)\u001b[0m\r\n",
      " \u001b[32m+\u001b[39m \u001b[1mcontourpy\u001b[0m\u001b[2m==1.2.0\u001b[0m\r\n",
      " \u001b[31m-\u001b[39m \u001b[1mfonttools\u001b[0m\u001b[2m==4.47.0\u001b[0m\r\n",
      " \u001b[31m-\u001b[39m \u001b[1mfonttools\u001b[0m\u001b[2m==4.51.0 (from file:///home/conda/feedstock_root/build_artifacts/fonttools_1712344558731/work)\u001b[0m\r\n",
      " \u001b[32m+\u001b[39m \u001b[1mfonttools\u001b[0m\u001b[2m==4.47.0\u001b[0m\r\n",
      " \u001b[31m-\u001b[39m \u001b[1mfsspec\u001b[0m\u001b[2m==2024.2.0\u001b[0m\r\n",
      " \u001b[31m-\u001b[39m \u001b[1mfsspec\u001b[0m\u001b[2m==2024.3.1 (from file:///home/conda/feedstock_root/build_artifacts/fsspec_1710808267764/work)\u001b[0m\r\n",
      " \u001b[32m+\u001b[39m \u001b[1mfsspec\u001b[0m\u001b[2m==2024.2.0\u001b[0m\r\n",
      " \u001b[31m-\u001b[39m \u001b[1mmarkupsafe\u001b[0m\u001b[2m==2.1.5\u001b[0m\r\n",
      " \u001b[31m-\u001b[39m \u001b[1mmarkupsafe\u001b[0m\u001b[2m==2.1.3 (from file:///home/conda/feedstock_root/build_artifacts/markupsafe_1695367434228/work)\u001b[0m\r\n",
      " \u001b[32m+\u001b[39m \u001b[1mmarkupsafe\u001b[0m\u001b[2m==2.1.5\u001b[0m\r\n",
      " \u001b[31m-\u001b[39m \u001b[1mmatplotlib\u001b[0m\u001b[2m==3.7.5\u001b[0m\r\n",
      " \u001b[31m-\u001b[39m \u001b[1mmatplotlib\u001b[0m\u001b[2m==3.8.4 (from file:///home/conda/feedstock_root/build_artifacts/matplotlib-suite_1712605966339/work)\u001b[0m\r\n",
      " \u001b[32m+\u001b[39m \u001b[1mmatplotlib\u001b[0m\u001b[2m==3.7.5\u001b[0m\r\n",
      " \u001b[32m+\u001b[39m \u001b[1mmodal-python\u001b[0m\u001b[2m==0.4.2.1\u001b[0m\r\n",
      " \u001b[31m-\u001b[39m \u001b[1mpandas\u001b[0m\u001b[2m==2.1.4\u001b[0m\r\n",
      " \u001b[31m-\u001b[39m \u001b[1mpandas\u001b[0m\u001b[2m==2.2.2\u001b[0m\r\n",
      " \u001b[32m+\u001b[39m \u001b[1mpandas\u001b[0m\u001b[2m==2.2.2\u001b[0m\r\n",
      " \u001b[31m-\u001b[39m \u001b[1mpillow\u001b[0m\u001b[2m==9.5.0\u001b[0m\r\n",
      " \u001b[31m-\u001b[39m \u001b[1mpillow\u001b[0m\u001b[2m==10.3.0 (from file:///home/conda/feedstock_root/build_artifacts/pillow_1712154467551/work)\u001b[0m\r\n",
      " \u001b[32m+\u001b[39m \u001b[1mpillow\u001b[0m\u001b[2m==9.5.0\u001b[0m\r\n",
      " \u001b[31m-\u001b[39m \u001b[1mpyparsing\u001b[0m\u001b[2m==3.1.1\u001b[0m\r\n",
      " \u001b[31m-\u001b[39m \u001b[1mpyparsing\u001b[0m\u001b[2m==3.1.2 (from file:///home/conda/feedstock_root/build_artifacts/pyparsing_1709721012883/work)\u001b[0m\r\n",
      " \u001b[32m+\u001b[39m \u001b[1mpyparsing\u001b[0m\u001b[2m==3.1.1\u001b[0m\r\n",
      " \u001b[31m-\u001b[39m \u001b[1mpytz\u001b[0m\u001b[2m==2023.3.post1\u001b[0m\r\n",
      " \u001b[31m-\u001b[39m \u001b[1mpytz\u001b[0m\u001b[2m==2024.1 (from file:///home/conda/feedstock_root/build_artifacts/pytz_1706886791323/work)\u001b[0m\r\n",
      " \u001b[32m+\u001b[39m \u001b[1mpytz\u001b[0m\u001b[2m==2023.3.post1\u001b[0m\r\n",
      " \u001b[31m-\u001b[39m \u001b[1mscipy\u001b[0m\u001b[2m==1.11.4\u001b[0m\r\n",
      " \u001b[31m-\u001b[39m \u001b[1mscipy\u001b[0m\u001b[2m==1.13.0 (from file:///home/conda/feedstock_root/build_artifacts/scipy-split_1712255231550/work/dist/scipy-1.13.0-cp310-cp310-linux_x86_64.whl)\u001b[0m\r\n",
      " \u001b[32m+\u001b[39m \u001b[1mscipy\u001b[0m\u001b[2m==1.11.4\u001b[0m\r\n",
      " \u001b[32m+\u001b[39m \u001b[1msetuptools\u001b[0m\u001b[2m==69.5.1\u001b[0m\r\n",
      " \u001b[32m+\u001b[39m \u001b[1mskorch\u001b[0m\u001b[2m==0.9.0\u001b[0m\r\n",
      " \u001b[32m+\u001b[39m \u001b[1mtorchsummary\u001b[0m\u001b[2m==1.5.1\u001b[0m\r\n",
      " \u001b[31m-\u001b[39m \u001b[1murllib3\u001b[0m\u001b[2m==1.26.18\u001b[0m\r\n",
      " \u001b[31m-\u001b[39m \u001b[1murllib3\u001b[0m\u001b[2m==2.1.0 (from file:///home/conda/feedstock_root/build_artifacts/urllib3_1699933488691/work)\u001b[0m\r\n",
      " \u001b[32m+\u001b[39m \u001b[1murllib3\u001b[0m\u001b[2m==1.26.18\u001b[0m\r\n"
     ]
    }
   ],
   "source": [
    "!uv pip install modAL-python torchvision torchmetrics mlxtend torchsummary scikit-learn-intelex"
   ]
  },
  {
   "cell_type": "markdown",
   "id": "4f67ccbb",
   "metadata": {
    "papermill": {
     "duration": 0.015045,
     "end_time": "2024-05-01T22:19:38.501912",
     "exception": false,
     "start_time": "2024-05-01T22:19:38.486867",
     "status": "completed"
    },
    "tags": []
   },
   "source": [
    "# Imports\n"
   ]
  },
  {
   "cell_type": "code",
   "execution_count": 3,
   "id": "e518e012",
   "metadata": {
    "execution": {
     "iopub.execute_input": "2024-05-01T22:19:38.535090Z",
     "iopub.status.busy": "2024-05-01T22:19:38.534716Z",
     "iopub.status.idle": "2024-05-01T22:20:02.114492Z",
     "shell.execute_reply": "2024-05-01T22:20:02.113522Z"
    },
    "executionInfo": {
     "elapsed": 5762,
     "status": "ok",
     "timestamp": 1701293423240,
     "user": {
      "displayName": "Youssef Mohammed",
      "userId": "12710576455766724467"
     },
     "user_tz": -120
    },
    "id": "rICU4VwNLxsU",
    "outputId": "19f44fcf-0e7c-4613-9e59-8b395a445c2c",
    "papermill": {
     "duration": 23.599615,
     "end_time": "2024-05-01T22:20:02.116809",
     "exception": false,
     "start_time": "2024-05-01T22:19:38.517194",
     "status": "completed"
    },
    "tags": []
   },
   "outputs": [
    {
     "name": "stderr",
     "output_type": "stream",
     "text": [
      "2024-05-01 22:19:52.758886: E external/local_xla/xla/stream_executor/cuda/cuda_dnn.cc:9261] Unable to register cuDNN factory: Attempting to register factory for plugin cuDNN when one has already been registered\n",
      "2024-05-01 22:19:52.758993: E external/local_xla/xla/stream_executor/cuda/cuda_fft.cc:607] Unable to register cuFFT factory: Attempting to register factory for plugin cuFFT when one has already been registered\n",
      "2024-05-01 22:19:52.894880: E external/local_xla/xla/stream_executor/cuda/cuda_blas.cc:1515] Unable to register cuBLAS factory: Attempting to register factory for plugin cuBLAS when one has already been registered\n"
     ]
    },
    {
     "name": "stdout",
     "output_type": "stream",
     "text": [
      "mlxtend version: 0.23.1\n",
      "torch 2.1.2\n",
      "torchvision 0.16.2\n",
      "CUDA available: True\n",
      "GPU List: 1\n",
      "Current Device: 0\n"
     ]
    },
    {
     "name": "stderr",
     "output_type": "stream",
     "text": [
      "Intel(R) Extension for Scikit-learn* enabled (https://github.com/intel/scikit-learn-intelex)\n"
     ]
    }
   ],
   "source": [
    "import random\n",
    "import matplotlib.pyplot as plt\n",
    "import mlxtend\n",
    "import numpy as np\n",
    "import torch\n",
    "import torchvision\n",
    "from mlxtend.plotting import plot_confusion_matrix\n",
    "from modAL.models import ActiveLearner\n",
    "from modAL.uncertainty import entropy_sampling, margin_sampling, uncertainty_sampling\n",
    "from torchmetrics import ConfusionMatrix, F1Score, Precision, Recall\n",
    "from sklearnex import patch_sklearn\n",
    "import warnings\n",
    "from sklearn.linear_model import LogisticRegression\n",
    "import tensorflow_hub as hub\n",
    "from datasets import load_dataset\n",
    "\n",
    "os.mkdir(\"reports\")\n",
    "patch_sklearn()\n",
    "print(f\"mlxtend version: {mlxtend.__version__}\")\n",
    "print(\"torch\", torch.__version__)\n",
    "print(\"torchvision\", torchvision.__version__)\n",
    "print(\"CUDA available:\", torch.cuda.is_available())\n",
    "print(\"GPU List:\", torch.cuda.device_count())\n",
    "print(\"Current Device:\", torch.cuda.current_device())\n",
    "warnings.filterwarnings(\"ignore\")"
   ]
  },
  {
   "cell_type": "markdown",
   "id": "d36899d5",
   "metadata": {
    "papermill": {
     "duration": 0.015609,
     "end_time": "2024-05-01T22:20:02.148647",
     "exception": false,
     "start_time": "2024-05-01T22:20:02.133038",
     "status": "completed"
    },
    "tags": []
   },
   "source": [
    "# Active Learning\n"
   ]
  },
  {
   "cell_type": "code",
   "execution_count": 4,
   "id": "0f2e0ce4",
   "metadata": {
    "execution": {
     "iopub.execute_input": "2024-05-01T22:20:02.181275Z",
     "iopub.status.busy": "2024-05-01T22:20:02.180640Z",
     "iopub.status.idle": "2024-05-01T22:20:02.197682Z",
     "shell.execute_reply": "2024-05-01T22:20:02.196839Z"
    },
    "papermill": {
     "duration": 0.035539,
     "end_time": "2024-05-01T22:20:02.199658",
     "exception": false,
     "start_time": "2024-05-01T22:20:02.164119",
     "status": "completed"
    },
    "tags": []
   },
   "outputs": [],
   "source": [
    "def active_learning(pool_x, pool_y, initial_x, initial_y, test_x, test_y, method, model, num_classes, class_names):\n",
    "    learner = None\n",
    "    cycles = 3\n",
    "    acc = []\n",
    "    precision_result = []\n",
    "    recall_result = []\n",
    "    f1_result = []\n",
    "    if method == \"uncertainty_sampling\":\n",
    "        learner = ActiveLearner(\n",
    "            estimator=model,\n",
    "            X_training=initial_x,\n",
    "            y_training=initial_y,\n",
    "            query_strategy=uncertainty_sampling,\n",
    "        )\n",
    "    elif method == \"margin_sampling\":\n",
    "        learner = ActiveLearner(\n",
    "            estimator=model,\n",
    "            X_training=initial_x,\n",
    "            y_training=initial_y,\n",
    "            query_strategy=margin_sampling,\n",
    "        )\n",
    "    elif method == \"entropy_sampling\":\n",
    "        learner = ActiveLearner(\n",
    "            estimator=model,\n",
    "            X_training=initial_x,\n",
    "            y_training=initial_y,\n",
    "            query_strategy=entropy_sampling,\n",
    "        )\n",
    "    elif method == \"random_sampling\":\n",
    "\n",
    "        def random_sampling(Learner, pool_x, n_instances):\n",
    "            n_samples = len(pool_x)\n",
    "            #             pool_x = pool_x.reshape(-1, 3, 32, 32)\n",
    "            query_idx = np.random.choice(\n",
    "                range(n_samples), size=n_instances, replace=False\n",
    "            )\n",
    "            X_query = pool_x[query_idx]\n",
    "            return query_idx, X_query\n",
    "\n",
    "        initial_x = initial_x.astype(np.float32)\n",
    "        learner = ActiveLearner(\n",
    "            estimator=model,\n",
    "            X_training=initial_x,\n",
    "            y_training=initial_y,\n",
    "            query_strategy=random_sampling,\n",
    "        )\n",
    "    else:\n",
    "        print(\"Invalid Input\")\n",
    "    print(f\"Starting Active Learning with {method} method\")\n",
    "    for cycle in range(cycles):\n",
    "        print(f\"\\nCycle: {cycle+1}\")\n",
    "        query_idx, query_instance = learner.query(\n",
    "            pool_x, n_instances=1\n",
    "        )  # n_instances=100\n",
    "        learner.teach(X=pool_x[query_idx], y=pool_y[query_idx])\n",
    "        # remove queried instance from pool_x\n",
    "        pool_x = np.delete(pool_x, query_idx, axis=0)\n",
    "        pool_y = np.delete(pool_y, query_idx, axis=0)\n",
    "        model_accuracy = learner.score(\n",
    "            np.concatenate((initial_x, pool_x), axis=0),\n",
    "            np.concatenate((initial_y, pool_y), axis=0),\n",
    "        )\n",
    "        print(f\"Accuracy after query {cycle+1}: {model_accuracy:0.4f}\")\n",
    "        acc.append(model_accuracy)\n",
    "\n",
    "        y_pred = learner.predict(test_x)\n",
    "        # Initialize precision, recall, and F1 score metrics\n",
    "        precision = Precision(task=\"multiclass\", num_classes=num_classes)\n",
    "        recall = Recall(task=\"multiclass\", num_classes=num_classes)\n",
    "        f1 = F1Score(task=\"multiclass\", num_classes=num_classes)\n",
    "        # Update the metrics with true and predicted labels\n",
    "        precision.update(torch.tensor(y_pred), torch.tensor(test_y))\n",
    "        recall.update(torch.tensor(y_pred), torch.tensor(test_y))\n",
    "        f1.update(torch.tensor(y_pred), torch.tensor(test_y))\n",
    "        # Compute the metrics\n",
    "        precision_result.append(precision.compute())\n",
    "        recall_result.append(recall.compute())\n",
    "        f1_result.append(f1.compute())\n",
    "\n",
    "    confusion_matrix = ConfusionMatrix(task=\"multiclass\", num_classes=num_classes)\n",
    "    confusion_matrix.update(torch.tensor(y_pred), torch.tensor(test_y))\n",
    "    confusion_matrix.compute()\n",
    "    fig, ax = plot_confusion_matrix(\n",
    "        conf_mat=confusion_matrix.compute().numpy(),\n",
    "        class_names=class_names,\n",
    "        figsize=(10, 7),\n",
    "        show_absolute=True,\n",
    "        show_normed=True,\n",
    "        colorbar=True,\n",
    "    )\n",
    "    plt.savefig(f\"reports/conf_mat_{method}_after_al.png\")\n",
    "    return acc, precision_result, recall_result, f1_result"
   ]
  },
  {
   "cell_type": "markdown",
   "id": "ffd00b5c",
   "metadata": {
    "papermill": {
     "duration": 0.015359,
     "end_time": "2024-05-01T22:20:02.231154",
     "exception": false,
     "start_time": "2024-05-01T22:20:02.215795",
     "status": "completed"
    },
    "tags": []
   },
   "source": [
    "# Data\n"
   ]
  },
  {
   "cell_type": "code",
   "execution_count": 5,
   "id": "c2954d6c",
   "metadata": {
    "execution": {
     "iopub.execute_input": "2024-05-01T22:20:02.263992Z",
     "iopub.status.busy": "2024-05-01T22:20:02.263403Z",
     "iopub.status.idle": "2024-05-01T22:20:08.753100Z",
     "shell.execute_reply": "2024-05-01T22:20:08.752216Z"
    },
    "papermill": {
     "duration": 6.508438,
     "end_time": "2024-05-01T22:20:08.755154",
     "exception": false,
     "start_time": "2024-05-01T22:20:02.246716",
     "status": "completed"
    },
    "tags": []
   },
   "outputs": [
    {
     "data": {
      "application/vnd.jupyter.widget-view+json": {
       "model_id": "4be158b094b14555bd977d2e74756a54",
       "version_major": 2,
       "version_minor": 0
      },
      "text/plain": [
       "Downloading readme:   0%|          | 0.00/7.81k [00:00<?, ?B/s]"
      ]
     },
     "metadata": {},
     "output_type": "display_data"
    },
    {
     "name": "stderr",
     "output_type": "stream",
     "text": [
      "Downloading data: 100%|██████████| 21.0M/21.0M [00:00<00:00, 75.6MB/s]\n",
      "Downloading data: 100%|██████████| 20.5M/20.5M [00:00<00:00, 123MB/s] \n",
      "Downloading data: 100%|██████████| 42.0M/42.0M [00:00<00:00, 171MB/s]\n"
     ]
    },
    {
     "data": {
      "application/vnd.jupyter.widget-view+json": {
       "model_id": "fd5629cb97424e87ac2e753de3851d7b",
       "version_major": 2,
       "version_minor": 0
      },
      "text/plain": [
       "Generating train split:   0%|          | 0/25000 [00:00<?, ? examples/s]"
      ]
     },
     "metadata": {},
     "output_type": "display_data"
    },
    {
     "data": {
      "application/vnd.jupyter.widget-view+json": {
       "model_id": "38022b4b27e4441ab6d2e0737fa93208",
       "version_major": 2,
       "version_minor": 0
      },
      "text/plain": [
       "Generating test split:   0%|          | 0/25000 [00:00<?, ? examples/s]"
      ]
     },
     "metadata": {},
     "output_type": "display_data"
    },
    {
     "data": {
      "application/vnd.jupyter.widget-view+json": {
       "model_id": "b1b5d364c724421dbec0c607d57de533",
       "version_major": 2,
       "version_minor": 0
      },
      "text/plain": [
       "Generating unsupervised split:   0%|          | 0/50000 [00:00<?, ? examples/s]"
      ]
     },
     "metadata": {},
     "output_type": "display_data"
    },
    {
     "data": {
      "text/plain": [
       "DatasetDict({\n",
       "    train: Dataset({\n",
       "        features: ['text', 'label'],\n",
       "        num_rows: 25000\n",
       "    })\n",
       "    test: Dataset({\n",
       "        features: ['text', 'label'],\n",
       "        num_rows: 25000\n",
       "    })\n",
       "    unsupervised: Dataset({\n",
       "        features: ['text', 'label'],\n",
       "        num_rows: 50000\n",
       "    })\n",
       "})"
      ]
     },
     "execution_count": 5,
     "metadata": {},
     "output_type": "execute_result"
    }
   ],
   "source": [
    "imdb = load_dataset(\"stanfordnlp/imdb\")\n",
    "imdb"
   ]
  },
  {
   "cell_type": "code",
   "execution_count": 6,
   "id": "eec213ea",
   "metadata": {
    "execution": {
     "iopub.execute_input": "2024-05-01T22:20:08.793938Z",
     "iopub.status.busy": "2024-05-01T22:20:08.793601Z",
     "iopub.status.idle": "2024-05-01T22:20:08.990687Z",
     "shell.execute_reply": "2024-05-01T22:20:08.989760Z"
    },
    "papermill": {
     "duration": 0.219236,
     "end_time": "2024-05-01T22:20:08.992721",
     "exception": false,
     "start_time": "2024-05-01T22:20:08.773485",
     "status": "completed"
    },
    "tags": []
   },
   "outputs": [],
   "source": [
    "x_train = imdb[\"train\"][\"text\"]\n",
    "y_train = imdb[\"train\"][\"label\"]\n",
    "x_test = imdb[\"test\"][\"text\"]\n",
    "y_test = imdb[\"test\"][\"label\"]"
   ]
  },
  {
   "cell_type": "code",
   "execution_count": 7,
   "id": "551b3e0a",
   "metadata": {
    "execution": {
     "iopub.execute_input": "2024-05-01T22:20:09.030770Z",
     "iopub.status.busy": "2024-05-01T22:20:09.030156Z",
     "iopub.status.idle": "2024-05-01T22:20:11.725529Z",
     "shell.execute_reply": "2024-05-01T22:20:11.724703Z"
    },
    "papermill": {
     "duration": 2.716811,
     "end_time": "2024-05-01T22:20:11.727793",
     "exception": false,
     "start_time": "2024-05-01T22:20:09.010982",
     "status": "completed"
    },
    "tags": []
   },
   "outputs": [],
   "source": [
    "random_idx = random.sample(range(len(x_train)), 10000)\n",
    "x_train = np.array(x_train)[random_idx]\n",
    "y_train = np.array(y_train)[random_idx]\n",
    "\n",
    "random_idx = random.sample(range(len(x_test)), 10000)\n",
    "x_test = np.array(x_test)[random_idx]\n",
    "y_test = np.array(y_test)[random_idx]"
   ]
  },
  {
   "cell_type": "code",
   "execution_count": 8,
   "id": "cf9343f8",
   "metadata": {
    "execution": {
     "iopub.execute_input": "2024-05-01T22:20:11.764876Z",
     "iopub.status.busy": "2024-05-01T22:20:11.764529Z",
     "iopub.status.idle": "2024-05-01T22:20:11.770817Z",
     "shell.execute_reply": "2024-05-01T22:20:11.769994Z"
    },
    "papermill": {
     "duration": 0.027172,
     "end_time": "2024-05-01T22:20:11.772896",
     "exception": false,
     "start_time": "2024-05-01T22:20:11.745724",
     "status": "completed"
    },
    "tags": []
   },
   "outputs": [
    {
     "data": {
      "text/plain": [
       "((10000,), (10000,), (10000,), (10000,))"
      ]
     },
     "execution_count": 8,
     "metadata": {},
     "output_type": "execute_result"
    }
   ],
   "source": [
    "x_train.shape, y_train.shape, x_test.shape, y_test.shape"
   ]
  },
  {
   "cell_type": "code",
   "execution_count": 9,
   "id": "ca690930",
   "metadata": {
    "execution": {
     "iopub.execute_input": "2024-05-01T22:20:11.809968Z",
     "iopub.status.busy": "2024-05-01T22:20:11.809672Z",
     "iopub.status.idle": "2024-05-01T22:20:28.370112Z",
     "shell.execute_reply": "2024-05-01T22:20:28.369140Z"
    },
    "papermill": {
     "duration": 16.58192,
     "end_time": "2024-05-01T22:20:28.372600",
     "exception": false,
     "start_time": "2024-05-01T22:20:11.790680",
     "status": "completed"
    },
    "tags": []
   },
   "outputs": [],
   "source": [
    "embed = hub.load(\n",
    "    \"/kaggle/input/universal-sentence-encoder/tensorflow2/universal-sentence-encoder/2\"\n",
    ")"
   ]
  },
  {
   "cell_type": "code",
   "execution_count": 10,
   "id": "08fbbc0b",
   "metadata": {
    "execution": {
     "iopub.execute_input": "2024-05-01T22:20:28.410549Z",
     "iopub.status.busy": "2024-05-01T22:20:28.410212Z",
     "iopub.status.idle": "2024-05-01T22:21:18.487675Z",
     "shell.execute_reply": "2024-05-01T22:21:18.486824Z"
    },
    "papermill": {
     "duration": 50.099067,
     "end_time": "2024-05-01T22:21:18.490021",
     "exception": false,
     "start_time": "2024-05-01T22:20:28.390954",
     "status": "completed"
    },
    "tags": []
   },
   "outputs": [],
   "source": [
    "x_train_embeddings = embed(x_train)\n",
    "x_test_embeddings = embed(x_test)"
   ]
  },
  {
   "cell_type": "code",
   "execution_count": 11,
   "id": "c1992179",
   "metadata": {
    "execution": {
     "iopub.execute_input": "2024-05-01T22:21:18.528358Z",
     "iopub.status.busy": "2024-05-01T22:21:18.527685Z",
     "iopub.status.idle": "2024-05-01T22:21:18.608327Z",
     "shell.execute_reply": "2024-05-01T22:21:18.607325Z"
    },
    "papermill": {
     "duration": 0.102748,
     "end_time": "2024-05-01T22:21:18.611248",
     "exception": false,
     "start_time": "2024-05-01T22:21:18.508500",
     "status": "completed"
    },
    "tags": []
   },
   "outputs": [],
   "source": [
    "x_train = x_train_embeddings.numpy()\n",
    "x_test = x_test_embeddings.numpy()"
   ]
  },
  {
   "cell_type": "code",
   "execution_count": 12,
   "id": "63748eb4",
   "metadata": {
    "execution": {
     "iopub.execute_input": "2024-05-01T22:21:18.650750Z",
     "iopub.status.busy": "2024-05-01T22:21:18.649908Z",
     "iopub.status.idle": "2024-05-01T22:21:18.749120Z",
     "shell.execute_reply": "2024-05-01T22:21:18.748001Z"
    },
    "papermill": {
     "duration": 0.121796,
     "end_time": "2024-05-01T22:21:18.751459",
     "exception": false,
     "start_time": "2024-05-01T22:21:18.629663",
     "status": "completed"
    },
    "tags": []
   },
   "outputs": [],
   "source": [
    "# Define the percentage of data without labels\n",
    "percentage_without_labels = 0.8\n",
    "\n",
    "# Calculate the number of samples without labels\n",
    "num_samples_without_labels = int(len(x_train) * percentage_without_labels)\n",
    "num_samples_with_labels = len(x_train) - num_samples_without_labels\n",
    "\n",
    "# Create indices for data with labels and without labels\n",
    "indices_without_labels = np.random.choice(\n",
    "    range(len(x_train)), size=num_samples_without_labels, replace=False\n",
    ")\n",
    "indices_with_labels = np.array(\n",
    "    [i for i in range(len(x_train)) if i not in indices_without_labels]\n",
    ")\n",
    "\n",
    "x_initial = x_train[indices_with_labels]\n",
    "y_initial = y_train[indices_with_labels]\n",
    "\n",
    "# generate the pool\n",
    "# remove the initial data from the training dataset\n",
    "x_pool = np.delete(x_train, indices_with_labels, axis=0)\n",
    "y_pool = np.delete(y_train, indices_with_labels, axis=0)"
   ]
  },
  {
   "cell_type": "code",
   "execution_count": 13,
   "id": "cafc85cd",
   "metadata": {
    "execution": {
     "iopub.execute_input": "2024-05-01T22:21:18.790500Z",
     "iopub.status.busy": "2024-05-01T22:21:18.789597Z",
     "iopub.status.idle": "2024-05-01T22:21:18.795880Z",
     "shell.execute_reply": "2024-05-01T22:21:18.795054Z"
    },
    "papermill": {
     "duration": 0.027419,
     "end_time": "2024-05-01T22:21:18.797681",
     "exception": false,
     "start_time": "2024-05-01T22:21:18.770262",
     "status": "completed"
    },
    "tags": []
   },
   "outputs": [
    {
     "data": {
      "text/plain": [
       "((2000, 512), (2000,), (8000, 512), (8000,))"
      ]
     },
     "execution_count": 13,
     "metadata": {},
     "output_type": "execute_result"
    }
   ],
   "source": [
    "x_initial.shape, y_initial.shape, x_pool.shape, y_pool.shape"
   ]
  },
  {
   "cell_type": "code",
   "execution_count": 14,
   "id": "7c5012b7",
   "metadata": {
    "execution": {
     "iopub.execute_input": "2024-05-01T22:21:18.835860Z",
     "iopub.status.busy": "2024-05-01T22:21:18.835308Z",
     "iopub.status.idle": "2024-05-01T22:21:18.841259Z",
     "shell.execute_reply": "2024-05-01T22:21:18.840425Z"
    },
    "papermill": {
     "duration": 0.027364,
     "end_time": "2024-05-01T22:21:18.843247",
     "exception": false,
     "start_time": "2024-05-01T22:21:18.815883",
     "status": "completed"
    },
    "tags": []
   },
   "outputs": [
    {
     "data": {
      "text/plain": [
       "(10000, 512)"
      ]
     },
     "execution_count": 14,
     "metadata": {},
     "output_type": "execute_result"
    }
   ],
   "source": [
    "x_train.shape"
   ]
  },
  {
   "cell_type": "code",
   "execution_count": 15,
   "id": "d25aa590",
   "metadata": {
    "execution": {
     "iopub.execute_input": "2024-05-01T22:21:18.881791Z",
     "iopub.status.busy": "2024-05-01T22:21:18.880895Z",
     "iopub.status.idle": "2024-05-01T22:21:18.885296Z",
     "shell.execute_reply": "2024-05-01T22:21:18.884492Z"
    },
    "papermill": {
     "duration": 0.025646,
     "end_time": "2024-05-01T22:21:18.887103",
     "exception": false,
     "start_time": "2024-05-01T22:21:18.861457",
     "status": "completed"
    },
    "tags": []
   },
   "outputs": [],
   "source": [
    "clf = LogisticRegression()"
   ]
  },
  {
   "cell_type": "code",
   "execution_count": 16,
   "id": "fbbb89fe",
   "metadata": {
    "execution": {
     "iopub.execute_input": "2024-05-01T22:21:18.925274Z",
     "iopub.status.busy": "2024-05-01T22:21:18.924553Z",
     "iopub.status.idle": "2024-05-01T22:21:19.043331Z",
     "shell.execute_reply": "2024-05-01T22:21:19.042139Z"
    },
    "papermill": {
     "duration": 0.141231,
     "end_time": "2024-05-01T22:21:19.046547",
     "exception": false,
     "start_time": "2024-05-01T22:21:18.905316",
     "status": "completed"
    },
    "tags": []
   },
   "outputs": [
    {
     "name": "stderr",
     "output_type": "stream",
     "text": [
      "INFO:sklearnex: sklearn.utils.validation._assert_all_finite: running accelerated version on CPU\n"
     ]
    },
    {
     "data": {
      "text/html": [
       "<style>#sk-container-id-1 {color: black;background-color: white;}#sk-container-id-1 pre{padding: 0;}#sk-container-id-1 div.sk-toggleable {background-color: white;}#sk-container-id-1 label.sk-toggleable__label {cursor: pointer;display: block;width: 100%;margin-bottom: 0;padding: 0.3em;box-sizing: border-box;text-align: center;}#sk-container-id-1 label.sk-toggleable__label-arrow:before {content: \"▸\";float: left;margin-right: 0.25em;color: #696969;}#sk-container-id-1 label.sk-toggleable__label-arrow:hover:before {color: black;}#sk-container-id-1 div.sk-estimator:hover label.sk-toggleable__label-arrow:before {color: black;}#sk-container-id-1 div.sk-toggleable__content {max-height: 0;max-width: 0;overflow: hidden;text-align: left;background-color: #f0f8ff;}#sk-container-id-1 div.sk-toggleable__content pre {margin: 0.2em;color: black;border-radius: 0.25em;background-color: #f0f8ff;}#sk-container-id-1 input.sk-toggleable__control:checked~div.sk-toggleable__content {max-height: 200px;max-width: 100%;overflow: auto;}#sk-container-id-1 input.sk-toggleable__control:checked~label.sk-toggleable__label-arrow:before {content: \"▾\";}#sk-container-id-1 div.sk-estimator input.sk-toggleable__control:checked~label.sk-toggleable__label {background-color: #d4ebff;}#sk-container-id-1 div.sk-label input.sk-toggleable__control:checked~label.sk-toggleable__label {background-color: #d4ebff;}#sk-container-id-1 input.sk-hidden--visually {border: 0;clip: rect(1px 1px 1px 1px);clip: rect(1px, 1px, 1px, 1px);height: 1px;margin: -1px;overflow: hidden;padding: 0;position: absolute;width: 1px;}#sk-container-id-1 div.sk-estimator {font-family: monospace;background-color: #f0f8ff;border: 1px dotted black;border-radius: 0.25em;box-sizing: border-box;margin-bottom: 0.5em;}#sk-container-id-1 div.sk-estimator:hover {background-color: #d4ebff;}#sk-container-id-1 div.sk-parallel-item::after {content: \"\";width: 100%;border-bottom: 1px solid gray;flex-grow: 1;}#sk-container-id-1 div.sk-label:hover label.sk-toggleable__label {background-color: #d4ebff;}#sk-container-id-1 div.sk-serial::before {content: \"\";position: absolute;border-left: 1px solid gray;box-sizing: border-box;top: 0;bottom: 0;left: 50%;z-index: 0;}#sk-container-id-1 div.sk-serial {display: flex;flex-direction: column;align-items: center;background-color: white;padding-right: 0.2em;padding-left: 0.2em;position: relative;}#sk-container-id-1 div.sk-item {position: relative;z-index: 1;}#sk-container-id-1 div.sk-parallel {display: flex;align-items: stretch;justify-content: center;background-color: white;position: relative;}#sk-container-id-1 div.sk-item::before, #sk-container-id-1 div.sk-parallel-item::before {content: \"\";position: absolute;border-left: 1px solid gray;box-sizing: border-box;top: 0;bottom: 0;left: 50%;z-index: -1;}#sk-container-id-1 div.sk-parallel-item {display: flex;flex-direction: column;z-index: 1;position: relative;background-color: white;}#sk-container-id-1 div.sk-parallel-item:first-child::after {align-self: flex-end;width: 50%;}#sk-container-id-1 div.sk-parallel-item:last-child::after {align-self: flex-start;width: 50%;}#sk-container-id-1 div.sk-parallel-item:only-child::after {width: 0;}#sk-container-id-1 div.sk-dashed-wrapped {border: 1px dashed gray;margin: 0 0.4em 0.5em 0.4em;box-sizing: border-box;padding-bottom: 0.4em;background-color: white;}#sk-container-id-1 div.sk-label label {font-family: monospace;font-weight: bold;display: inline-block;line-height: 1.2em;}#sk-container-id-1 div.sk-label-container {text-align: center;}#sk-container-id-1 div.sk-container {/* jupyter's `normalize.less` sets `[hidden] { display: none; }` but bootstrap.min.css set `[hidden] { display: none !important; }` so we also need the `!important` here to be able to override the default hidden behavior on the sphinx rendered scikit-learn.org. See: https://github.com/scikit-learn/scikit-learn/issues/21755 */display: inline-block !important;position: relative;}#sk-container-id-1 div.sk-text-repr-fallback {display: none;}</style><div id=\"sk-container-id-1\" class=\"sk-top-container\"><div class=\"sk-text-repr-fallback\"><pre>LogisticRegression()</pre><b>In a Jupyter environment, please rerun this cell to show the HTML representation or trust the notebook. <br />On GitHub, the HTML representation is unable to render, please try loading this page with nbviewer.org.</b></div><div class=\"sk-container\" hidden><div class=\"sk-item\"><div class=\"sk-estimator sk-toggleable\"><input class=\"sk-toggleable__control sk-hidden--visually\" id=\"sk-estimator-id-1\" type=\"checkbox\" checked><label for=\"sk-estimator-id-1\" class=\"sk-toggleable__label sk-toggleable__label-arrow\">LogisticRegression</label><div class=\"sk-toggleable__content\"><pre>LogisticRegression()</pre></div></div></div></div></div>"
      ],
      "text/plain": [
       "LogisticRegression()"
      ]
     },
     "execution_count": 16,
     "metadata": {},
     "output_type": "execute_result"
    }
   ],
   "source": [
    "clf.fit(x_initial, y_initial)"
   ]
  },
  {
   "cell_type": "code",
   "execution_count": 17,
   "id": "c2ba06d0",
   "metadata": {
    "execution": {
     "iopub.execute_input": "2024-05-01T22:21:19.135092Z",
     "iopub.status.busy": "2024-05-01T22:21:19.134398Z",
     "iopub.status.idle": "2024-05-01T22:21:19.170532Z",
     "shell.execute_reply": "2024-05-01T22:21:19.169339Z"
    },
    "papermill": {
     "duration": 0.08594,
     "end_time": "2024-05-01T22:21:19.173707",
     "exception": false,
     "start_time": "2024-05-01T22:21:19.087767",
     "status": "completed"
    },
    "tags": []
   },
   "outputs": [
    {
     "name": "stderr",
     "output_type": "stream",
     "text": [
      "INFO:sklearnex: sklearn.utils.validation._assert_all_finite: running accelerated version on CPU\n"
     ]
    },
    {
     "data": {
      "text/plain": [
       "0.8468"
      ]
     },
     "execution_count": 17,
     "metadata": {},
     "output_type": "execute_result"
    }
   ],
   "source": [
    "clf.score(x_test, y_test)"
   ]
  },
  {
   "cell_type": "code",
   "execution_count": 18,
   "id": "2acd4966",
   "metadata": {
    "execution": {
     "iopub.execute_input": "2024-05-01T22:21:19.260343Z",
     "iopub.status.busy": "2024-05-01T22:21:19.259749Z",
     "iopub.status.idle": "2024-05-01T22:21:20.385910Z",
     "shell.execute_reply": "2024-05-01T22:21:20.384939Z"
    },
    "papermill": {
     "duration": 1.172771,
     "end_time": "2024-05-01T22:21:20.388321",
     "exception": false,
     "start_time": "2024-05-01T22:21:19.215550",
     "status": "completed"
    },
    "tags": []
   },
   "outputs": [
    {
     "name": "stderr",
     "output_type": "stream",
     "text": [
      "INFO:sklearnex: sklearn.utils.validation._assert_all_finite: running accelerated version on CPU\n",
      "INFO:sklearnex: sklearn.utils.validation._assert_all_finite: running accelerated version on CPU\n",
      "INFO:sklearnex: sklearn.utils.validation._assert_all_finite: running accelerated version on CPU\n",
      "INFO:sklearnex: sklearn.utils.validation._assert_all_finite: running accelerated version on CPU\n"
     ]
    },
    {
     "name": "stdout",
     "output_type": "stream",
     "text": [
      "Starting Active Learning with random_sampling method\n",
      "\n",
      "Cycle: 1\n",
      "Accuracy after query 1: 0.8496\n"
     ]
    },
    {
     "name": "stderr",
     "output_type": "stream",
     "text": [
      "INFO:sklearnex: sklearn.utils.validation._assert_all_finite: running accelerated version on CPU\n",
      "INFO:sklearnex: sklearn.utils.validation._assert_all_finite: running accelerated version on CPU\n",
      "INFO:sklearnex: sklearn.utils.validation._assert_all_finite: running accelerated version on CPU\n",
      "INFO:sklearnex: sklearn.utils.validation._assert_all_finite: running accelerated version on CPU\n"
     ]
    },
    {
     "name": "stdout",
     "output_type": "stream",
     "text": [
      "\n",
      "Cycle: 2\n",
      "Accuracy after query 2: 0.8495\n",
      "\n",
      "Cycle: 3\n"
     ]
    },
    {
     "name": "stderr",
     "output_type": "stream",
     "text": [
      "INFO:sklearnex: sklearn.utils.validation._assert_all_finite: running accelerated version on CPU\n",
      "INFO:sklearnex: sklearn.utils.validation._assert_all_finite: running accelerated version on CPU\n"
     ]
    },
    {
     "name": "stdout",
     "output_type": "stream",
     "text": [
      "Accuracy after query 3: 0.8495\n"
     ]
    },
    {
     "data": {
      "image/png": "[encoded data removed]",
      "text/plain": [
       "<Figure size 1000x700 with 2 Axes>"
      ]
     },
     "metadata": {},
     "output_type": "display_data"
    }
   ],
   "source": [
    "acc_random_sampling, precision_result_random_sampling, recall_result_random_sampling, f1_result_random_sampling = active_learning(\n",
    "    x_pool,\n",
    "    y_pool,\n",
    "    x_initial,\n",
    "    y_initial,\n",
    "    x_test,\n",
    "    y_test,\n",
    "    \"random_sampling\",\n",
    "    clf,\n",
    "    2,\n",
    "    [\"positive\", \"negative\"],\n",
    ")"
   ]
  },
  {
   "cell_type": "code",
   "execution_count": 19,
   "id": "ce0e8b78",
   "metadata": {
    "execution": {
     "iopub.execute_input": "2024-05-01T22:21:20.432631Z",
     "iopub.status.busy": "2024-05-01T22:21:20.432297Z",
     "iopub.status.idle": "2024-05-01T22:21:21.355785Z",
     "shell.execute_reply": "2024-05-01T22:21:21.354860Z"
    },
    "papermill": {
     "duration": 0.947346,
     "end_time": "2024-05-01T22:21:21.357910",
     "exception": false,
     "start_time": "2024-05-01T22:21:20.410564",
     "status": "completed"
    },
    "tags": []
   },
   "outputs": [
    {
     "name": "stderr",
     "output_type": "stream",
     "text": [
      "INFO:sklearnex: sklearn.utils.validation._assert_all_finite: running accelerated version on CPU\n",
      "INFO:sklearnex: sklearn.utils.validation._assert_all_finite: running accelerated version on CPU\n",
      "INFO:sklearnex: sklearn.utils.validation._assert_all_finite: running accelerated version on CPU\n",
      "INFO:sklearnex: sklearn.utils.validation._assert_all_finite: running accelerated version on CPU\n",
      "INFO:sklearnex: sklearn.utils.validation._assert_all_finite: running accelerated version on CPU\n",
      "INFO:sklearnex: sklearn.utils.validation._assert_all_finite: running accelerated version on CPU\n",
      "INFO:sklearnex: sklearn.utils.validation._assert_all_finite: running accelerated version on CPU\n"
     ]
    },
    {
     "name": "stdout",
     "output_type": "stream",
     "text": [
      "Starting Active Learning with uncertainty_sampling method\n",
      "\n",
      "Cycle: 1\n",
      "Accuracy after query 1: 0.8498\n",
      "\n",
      "Cycle: 2\n"
     ]
    },
    {
     "name": "stderr",
     "output_type": "stream",
     "text": [
      "INFO:sklearnex: sklearn.utils.validation._assert_all_finite: running accelerated version on CPU\n",
      "INFO:sklearnex: sklearn.utils.validation._assert_all_finite: running accelerated version on CPU\n",
      "INFO:sklearnex: sklearn.utils.validation._assert_all_finite: running accelerated version on CPU\n",
      "INFO:sklearnex: sklearn.utils.validation._assert_all_finite: running accelerated version on CPU\n",
      "INFO:sklearnex: sklearn.utils.validation._assert_all_finite: running accelerated version on CPU\n",
      "INFO:sklearnex: sklearn.utils.validation._assert_all_finite: running accelerated version on CPU\n"
     ]
    },
    {
     "name": "stdout",
     "output_type": "stream",
     "text": [
      "Accuracy after query 2: 0.8504\n",
      "\n",
      "Cycle: 3\n",
      "Accuracy after query 3: 0.8502\n"
     ]
    },
    {
     "data": {
      "image/png": "[encoded data removed]",
      "text/plain": [
       "<Figure size 1000x700 with 2 Axes>"
      ]
     },
     "metadata": {},
     "output_type": "display_data"
    }
   ],
   "source": [
    "acc_uncertainty_sampling, precision_result_uncertainty_sampling, recall_result_uncertainty_sampling, f1_result_uncertainty_sampling = active_learning(\n",
    "    x_pool,\n",
    "    y_pool,\n",
    "    x_initial,\n",
    "    y_initial,\n",
    "    x_test,\n",
    "    y_test,\n",
    "    \"uncertainty_sampling\",\n",
    "    clf,\n",
    "    2,\n",
    "    [\"positive\", \"negative\"],\n",
    ")"
   ]
  },
  {
   "cell_type": "code",
   "execution_count": 20,
   "id": "b08bca1e",
   "metadata": {
    "execution": {
     "iopub.execute_input": "2024-05-01T22:21:21.406288Z",
     "iopub.status.busy": "2024-05-01T22:21:21.405473Z",
     "iopub.status.idle": "2024-05-01T22:21:22.397505Z",
     "shell.execute_reply": "2024-05-01T22:21:22.396479Z"
    },
    "papermill": {
     "duration": 1.018604,
     "end_time": "2024-05-01T22:21:22.399512",
     "exception": false,
     "start_time": "2024-05-01T22:21:21.380908",
     "status": "completed"
    },
    "tags": []
   },
   "outputs": [
    {
     "name": "stderr",
     "output_type": "stream",
     "text": [
      "INFO:sklearnex: sklearn.utils.validation._assert_all_finite: running accelerated version on CPU\n",
      "INFO:sklearnex: sklearn.utils.validation._assert_all_finite: running accelerated version on CPU\n",
      "INFO:sklearnex: sklearn.utils.validation._assert_all_finite: running accelerated version on CPU\n",
      "INFO:sklearnex: sklearn.utils.validation._assert_all_finite: running accelerated version on CPU\n",
      "INFO:sklearnex: sklearn.utils.validation._assert_all_finite: running accelerated version on CPU\n",
      "INFO:sklearnex: sklearn.utils.validation._assert_all_finite: running accelerated version on CPU\n",
      "INFO:sklearnex: sklearn.utils.validation._assert_all_finite: running accelerated version on CPU\n"
     ]
    },
    {
     "name": "stdout",
     "output_type": "stream",
     "text": [
      "Starting Active Learning with margin_sampling method\n",
      "\n",
      "Cycle: 1\n",
      "Accuracy after query 1: 0.8542\n",
      "\n",
      "Cycle: 2\n"
     ]
    },
    {
     "name": "stderr",
     "output_type": "stream",
     "text": [
      "INFO:sklearnex: sklearn.utils.validation._assert_all_finite: running accelerated version on CPU\n",
      "INFO:sklearnex: sklearn.utils.validation._assert_all_finite: running accelerated version on CPU\n",
      "INFO:sklearnex: sklearn.utils.validation._assert_all_finite: running accelerated version on CPU\n",
      "INFO:sklearnex: sklearn.utils.validation._assert_all_finite: running accelerated version on CPU\n",
      "INFO:sklearnex: sklearn.utils.validation._assert_all_finite: running accelerated version on CPU\n",
      "INFO:sklearnex: sklearn.utils.validation._assert_all_finite: running accelerated version on CPU\n"
     ]
    },
    {
     "name": "stdout",
     "output_type": "stream",
     "text": [
      "Accuracy after query 2: 0.8538\n",
      "\n",
      "Cycle: 3\n",
      "Accuracy after query 3: 0.8537\n"
     ]
    },
    {
     "data": {
      "image/png": "[encoded data removed]",
      "text/plain": [
       "<Figure size 1000x700 with 2 Axes>"
      ]
     },
     "metadata": {},
     "output_type": "display_data"
    }
   ],
   "source": [
    "acc_margin_sampling, precision_result_margin_sampling, recall_result_margin_sampling, f1_result_margin_sampling = active_learning(\n",
    "    x_train,\n",
    "    y_train,\n",
    "    x_initial,\n",
    "    y_initial,\n",
    "    x_test,\n",
    "    y_test,\n",
    "    \"margin_sampling\",\n",
    "    clf,\n",
    "    2,\n",
    "    [\"positive\", \"negative\"],\n",
    ")"
   ]
  },
  {
   "cell_type": "code",
   "execution_count": 21,
   "id": "f3b3e0e5",
   "metadata": {
    "execution": {
     "iopub.execute_input": "2024-05-01T22:21:22.506801Z",
     "iopub.status.busy": "2024-05-01T22:21:22.506227Z",
     "iopub.status.idle": "2024-05-01T22:21:23.423073Z",
     "shell.execute_reply": "2024-05-01T22:21:23.422154Z"
    },
    "papermill": {
     "duration": 0.944582,
     "end_time": "2024-05-01T22:21:23.425038",
     "exception": false,
     "start_time": "2024-05-01T22:21:22.480456",
     "status": "completed"
    },
    "tags": []
   },
   "outputs": [
    {
     "name": "stderr",
     "output_type": "stream",
     "text": [
      "INFO:sklearnex: sklearn.utils.validation._assert_all_finite: running accelerated version on CPU\n",
      "INFO:sklearnex: sklearn.utils.validation._assert_all_finite: running accelerated version on CPU\n",
      "INFO:sklearnex: sklearn.utils.validation._assert_all_finite: running accelerated version on CPU\n",
      "INFO:sklearnex: sklearn.utils.validation._assert_all_finite: running accelerated version on CPU\n",
      "INFO:sklearnex: sklearn.utils.validation._assert_all_finite: running accelerated version on CPU\n",
      "INFO:sklearnex: sklearn.utils.validation._assert_all_finite: running accelerated version on CPU\n",
      "INFO:sklearnex: sklearn.utils.validation._assert_all_finite: running accelerated version on CPU\n"
     ]
    },
    {
     "name": "stdout",
     "output_type": "stream",
     "text": [
      "Starting Active Learning with entropy_sampling method\n",
      "\n",
      "Cycle: 1\n",
      "Accuracy after query 1: 0.8542\n",
      "\n",
      "Cycle: 2\n"
     ]
    },
    {
     "name": "stderr",
     "output_type": "stream",
     "text": [
      "INFO:sklearnex: sklearn.utils.validation._assert_all_finite: running accelerated version on CPU\n",
      "INFO:sklearnex: sklearn.utils.validation._assert_all_finite: running accelerated version on CPU\n",
      "INFO:sklearnex: sklearn.utils.validation._assert_all_finite: running accelerated version on CPU\n",
      "INFO:sklearnex: sklearn.utils.validation._assert_all_finite: running accelerated version on CPU\n",
      "INFO:sklearnex: sklearn.utils.validation._assert_all_finite: running accelerated version on CPU\n",
      "INFO:sklearnex: sklearn.utils.validation._assert_all_finite: running accelerated version on CPU\n"
     ]
    },
    {
     "name": "stdout",
     "output_type": "stream",
     "text": [
      "Accuracy after query 2: 0.8538\n",
      "\n",
      "Cycle: 3\n",
      "Accuracy after query 3: 0.8537\n"
     ]
    },
    {
     "data": {
      "image/png": "[encoded data removed]",
      "text/plain": [
       "<Figure size 1000x700 with 2 Axes>"
      ]
     },
     "metadata": {},
     "output_type": "display_data"
    }
   ],
   "source": [
    "acc_entropy_sampling, precision_result_entropy_sampling, recall_result_entropy_sampling, f1_result_entropy_sampling = active_learning(\n",
    "    x_train,\n",
    "    y_train,\n",
    "    x_initial,\n",
    "    y_initial,\n",
    "    x_test,\n",
    "    y_test,\n",
    "    \"entropy_sampling\",\n",
    "    clf,\n",
    "    2,\n",
    "    [\"positive\", \"negative\"],\n",
    ")"
   ]
  },
  {
   "cell_type": "markdown",
   "id": "191e58a0",
   "metadata": {
    "papermill": {
     "duration": 0.026171,
     "end_time": "2024-05-01T22:21:23.478436",
     "exception": false,
     "start_time": "2024-05-01T22:21:23.452265",
     "status": "completed"
    },
    "tags": []
   },
   "source": [
    "# Plot All Metrics\n"
   ]
  },
  {
   "cell_type": "markdown",
   "id": "5606fd2c",
   "metadata": {
    "papermill": {
     "duration": 0.025809,
     "end_time": "2024-05-01T22:21:23.530291",
     "exception": false,
     "start_time": "2024-05-01T22:21:23.504482",
     "status": "completed"
    },
    "tags": []
   },
   "source": [
    "# Accuracy\n"
   ]
  },
  {
   "cell_type": "code",
   "execution_count": 22,
   "id": "007da05d",
   "metadata": {
    "execution": {
     "iopub.execute_input": "2024-05-01T22:21:23.584101Z",
     "iopub.status.busy": "2024-05-01T22:21:23.583723Z",
     "iopub.status.idle": "2024-05-01T22:21:23.859275Z",
     "shell.execute_reply": "2024-05-01T22:21:23.858241Z"
    },
    "papermill": {
     "duration": 0.304804,
     "end_time": "2024-05-01T22:21:23.861216",
     "exception": false,
     "start_time": "2024-05-01T22:21:23.556412",
     "status": "completed"
    },
    "tags": []
   },
   "outputs": [
    {
     "data": {
      "image/png": "[encoded data removed]",
      "text/plain": [
       "<Figure size 640x480 with 1 Axes>"
      ]
     },
     "metadata": {},
     "output_type": "display_data"
    },
    {
     "name": "stdout",
     "output_type": "stream",
     "text": [
      "acc_random_sampling: 0.8494548364509353\n",
      "acc_uncertainty_sampling: 0.8501550465139542\n",
      "acc_margin_sampling: 0.8537134283570893\n",
      "acc_entropy_sampling: 0.8537134283570893\n"
     ]
    },
    {
     "data": {
      "text/plain": [
       "<Figure size 640x480 with 0 Axes>"
      ]
     },
     "metadata": {},
     "output_type": "display_data"
    }
   ],
   "source": [
    "# Create a figure and axes\n",
    "fig, ax = plt.subplots()\n",
    "# Plot the data\n",
    "plt.plot(acc_random_sampling, label=\"acc_random_sampling\")\n",
    "plt.plot(acc_uncertainty_sampling, label=\"acc_uncertainty_sampling\")\n",
    "plt.plot(acc_margin_sampling, label=\"acc_margin_sampling\")\n",
    "plt.plot(acc_entropy_sampling, label=\"acc_entropy_sampling\")\n",
    "\n",
    "# Add labels and title\n",
    "plt.xlabel(\"Epochs\")\n",
    "plt.ylabel(\"Value\")\n",
    "plt.title(\"Accuracy\")\n",
    "# Display the plot\n",
    "plt.legend()\n",
    "plt.show()\n",
    "plt.savefig(\"reports/acc_nlp_model_after_al.png\")\n",
    "\n",
    "print(f\"acc_random_sampling: {acc_random_sampling[-1]}\")\n",
    "print(f\"acc_uncertainty_sampling: {acc_uncertainty_sampling[-1]}\")\n",
    "print(f\"acc_margin_sampling: {acc_margin_sampling[-1]}\")\n",
    "print(f\"acc_entropy_sampling: {acc_entropy_sampling[-1]}\")"
   ]
  },
  {
   "cell_type": "markdown",
   "id": "8f3520f8",
   "metadata": {
    "papermill": {
     "duration": 0.026516,
     "end_time": "2024-05-01T22:21:23.914868",
     "exception": false,
     "start_time": "2024-05-01T22:21:23.888352",
     "status": "completed"
    },
    "tags": []
   },
   "source": [
    "# Precision\n"
   ]
  },
  {
   "cell_type": "code",
   "execution_count": 23,
   "id": "ad329afa",
   "metadata": {
    "execution": {
     "iopub.execute_input": "2024-05-01T22:21:23.970410Z",
     "iopub.status.busy": "2024-05-01T22:21:23.969552Z",
     "iopub.status.idle": "2024-05-01T22:21:24.264280Z",
     "shell.execute_reply": "2024-05-01T22:21:24.263248Z"
    },
    "papermill": {
     "duration": 0.324597,
     "end_time": "2024-05-01T22:21:24.266236",
     "exception": false,
     "start_time": "2024-05-01T22:21:23.941639",
     "status": "completed"
    },
    "tags": []
   },
   "outputs": [
    {
     "data": {
      "image/png": "[encoded data removed]",
      "text/plain": [
       "<Figure size 640x480 with 1 Axes>"
      ]
     },
     "metadata": {},
     "output_type": "display_data"
    },
    {
     "name": "stdout",
     "output_type": "stream",
     "text": [
      "precision_result_random_sampling: 0.8468999862670898\n",
      "precision_result_uncertainty_sampling: 0.8472999930381775\n",
      "precision_result_margin_sampling: 0.847100019454956\n",
      "precision_result_entropy_sampling: 0.847100019454956\n"
     ]
    },
    {
     "data": {
      "text/plain": [
       "<Figure size 640x480 with 0 Axes>"
      ]
     },
     "metadata": {},
     "output_type": "display_data"
    }
   ],
   "source": [
    "# Create a figure and axes\n",
    "fig, ax = plt.subplots()\n",
    "# Plot the data\n",
    "plt.plot(precision_result_random_sampling, label=\"precision_result_random_sampling\")\n",
    "plt.plot(\n",
    "    precision_result_uncertainty_sampling, label=\"precision_result_uncertainty_sampling\"\n",
    ")\n",
    "plt.plot(precision_result_margin_sampling, label=\"precision_result_margin_sampling\")\n",
    "plt.plot(precision_result_entropy_sampling, label=\"precision_result_entropy_sampling\")\n",
    "\n",
    "# Add labels and title\n",
    "plt.xlabel(\"Epochs\")\n",
    "plt.ylabel(\"Value\")\n",
    "plt.title(\"Precision\")\n",
    "# Display the plot\n",
    "plt.legend()\n",
    "plt.show()\n",
    "plt.savefig(\"reports/prec_nlp_model_after_al.png\")\n",
    "\n",
    "print(f\"precision_result_random_sampling: {precision_result_random_sampling[-1]}\")\n",
    "print(\n",
    "    f\"precision_result_uncertainty_sampling: {precision_result_uncertainty_sampling[-1]}\"\n",
    ")\n",
    "print(f\"precision_result_margin_sampling: {precision_result_margin_sampling[-1]}\")\n",
    "print(f\"precision_result_entropy_sampling: {precision_result_entropy_sampling[-1]}\")"
   ]
  },
  {
   "cell_type": "markdown",
   "id": "42e38878",
   "metadata": {
    "papermill": {
     "duration": 0.027883,
     "end_time": "2024-05-01T22:21:24.322615",
     "exception": false,
     "start_time": "2024-05-01T22:21:24.294732",
     "status": "completed"
    },
    "tags": []
   },
   "source": [
    "# Recall\n"
   ]
  },
  {
   "cell_type": "code",
   "execution_count": 24,
   "id": "1dadbc25",
   "metadata": {
    "execution": {
     "iopub.execute_input": "2024-05-01T22:21:24.380784Z",
     "iopub.status.busy": "2024-05-01T22:21:24.380414Z",
     "iopub.status.idle": "2024-05-01T22:21:24.751838Z",
     "shell.execute_reply": "2024-05-01T22:21:24.750751Z"
    },
    "papermill": {
     "duration": 0.40285,
     "end_time": "2024-05-01T22:21:24.753822",
     "exception": false,
     "start_time": "2024-05-01T22:21:24.350972",
     "status": "completed"
    },
    "tags": []
   },
   "outputs": [
    {
     "data": {
      "image/png": "[encoded data removed]",
      "text/plain": [
       "<Figure size 640x480 with 1 Axes>"
      ]
     },
     "metadata": {},
     "output_type": "display_data"
    },
    {
     "name": "stdout",
     "output_type": "stream",
     "text": [
      "recall_result_random_sampling: 0.8468999862670898\n",
      "recall_result_uncertainty_sampling: 0.8472999930381775\n",
      "recall_result_margin_sampling: 0.847100019454956\n",
      "recall_result_entropy_sampling: 0.847100019454956\n"
     ]
    },
    {
     "data": {
      "text/plain": [
       "<Figure size 640x480 with 0 Axes>"
      ]
     },
     "metadata": {},
     "output_type": "display_data"
    }
   ],
   "source": [
    "# Create a figure and axes\n",
    "fig, ax = plt.subplots()\n",
    "# Plot the data\n",
    "plt.plot(recall_result_random_sampling, label=\"recall_result_random_sampling\")\n",
    "plt.plot(recall_result_uncertainty_sampling, label=\"recall_result_uncertainty_sampling\")\n",
    "plt.plot(recall_result_margin_sampling, label=\"recall_result_margin_sampling\")\n",
    "plt.plot(recall_result_entropy_sampling, label=\"recall_result_entropy_sampling\")\n",
    "\n",
    "# Add labels and title\n",
    "plt.xlabel(\"Epochs\")\n",
    "plt.ylabel(\"Value\")\n",
    "plt.title(\"Recall\")\n",
    "# Display the plot\n",
    "plt.legend()\n",
    "plt.show()\n",
    "plt.savefig(\"reports/recall_nlp_model_after_al.png\")\n",
    "\n",
    "print(f\"recall_result_random_sampling: {recall_result_random_sampling[-1]}\")\n",
    "print(f\"recall_result_uncertainty_sampling: {recall_result_uncertainty_sampling[-1]}\")\n",
    "print(f\"recall_result_margin_sampling: {recall_result_margin_sampling[-1]}\")\n",
    "print(f\"recall_result_entropy_sampling: {recall_result_entropy_sampling[-1]}\")"
   ]
  },
  {
   "cell_type": "markdown",
   "id": "b318beb9",
   "metadata": {
    "papermill": {
     "duration": 0.029275,
     "end_time": "2024-05-01T22:21:24.814099",
     "exception": false,
     "start_time": "2024-05-01T22:21:24.784824",
     "status": "completed"
    },
    "tags": []
   },
   "source": [
    "# F1 Score\n"
   ]
  },
  {
   "cell_type": "code",
   "execution_count": 25,
   "id": "0f77ef6c",
   "metadata": {
    "execution": {
     "iopub.execute_input": "2024-05-01T22:21:24.874854Z",
     "iopub.status.busy": "2024-05-01T22:21:24.874010Z",
     "iopub.status.idle": "2024-05-01T22:21:25.170122Z",
     "shell.execute_reply": "2024-05-01T22:21:25.169155Z"
    },
    "papermill": {
     "duration": 0.328888,
     "end_time": "2024-05-01T22:21:25.172166",
     "exception": false,
     "start_time": "2024-05-01T22:21:24.843278",
     "status": "completed"
    },
    "tags": []
   },
   "outputs": [
    {
     "data": {
      "image/png": "[encoded data removed]",
      "text/plain": [
       "<Figure size 640x480 with 1 Axes>"
      ]
     },
     "metadata": {},
     "output_type": "display_data"
    },
    {
     "name": "stdout",
     "output_type": "stream",
     "text": [
      "f1_result_random_sampling: 0.8468999862670898\n",
      "f1_result_uncertainty_sampling: 0.8472999930381775\n",
      "f1_result_margin_sampling: 0.847100019454956\n",
      "f1_result_entropy_sampling: 0.847100019454956\n"
     ]
    },
    {
     "data": {
      "text/plain": [
       "<Figure size 640x480 with 0 Axes>"
      ]
     },
     "metadata": {},
     "output_type": "display_data"
    }
   ],
   "source": [
    "# Create a figure and axes\n",
    "fig, ax = plt.subplots()\n",
    "# Plot the data\n",
    "plt.plot(f1_result_random_sampling, label=\"f1_result_random_sampling\")\n",
    "plt.plot(f1_result_uncertainty_sampling, label=\"f1_result_uncertainty_sampling\")\n",
    "plt.plot(f1_result_margin_sampling, label=\"f1_result_margin_sampling\")\n",
    "plt.plot(f1_result_entropy_sampling, label=\"f1_result_entropy_sampling\")\n",
    "\n",
    "# Add labels and title\n",
    "plt.xlabel(\"Epochs\")\n",
    "plt.ylabel(\"Value\")\n",
    "plt.title(\"F1 Score\")\n",
    "# Display the plot\n",
    "plt.legend()\n",
    "plt.show()\n",
    "plt.savefig(\"reports/f1_nlp_model_after_al.png\")\n",
    "\n",
    "print(f\"f1_result_random_sampling: {f1_result_random_sampling[-1]}\")\n",
    "print(f\"f1_result_uncertainty_sampling: {f1_result_uncertainty_sampling[-1]}\")\n",
    "print(f\"f1_result_margin_sampling: {f1_result_margin_sampling[-1]}\")\n",
    "print(f\"f1_result_entropy_sampling: {f1_result_entropy_sampling[-1]}\")"
   ]
  }
 ],
 "metadata": {
  "accelerator": "GPU",
  "colab": {
   "authorship_tag": "ABX9TyPZUoBKYB6m1PUJGEleE4jQ",
   "gpuType": "T4",
   "provenance": []
  },
  "kaggle": {
   "accelerator": "gpu",
   "dataSources": [
    {
     "isSourceIdPinned": true,
     "modelInstanceId": 1265,
     "sourceId": 1497,
     "sourceType": "modelInstanceVersion"
    }
   ],
   "isGpuEnabled": true,
   "isInternetEnabled": true,
   "language": "python",
   "sourceType": "notebook"
  },
  "kernelspec": {
   "display_name": "Python 3",
   "language": "python",
   "name": "python3"
  },
  "language_info": {
   "codemirror_mode": {
    "name": "ipython",
    "version": 3
   },
   "file_extension": ".py",
   "mimetype": "text/x-python",
   "name": "python",
   "nbconvert_exporter": "python",
   "pygments_lexer": "ipython3",
   "version": "3.10.13"
  },
  "papermill": {
   "default_parameters": {},
   "duration": 131.29443,
   "end_time": "2024-05-01T22:21:29.259852",
   "environment_variables": {},
   "exception": null,
   "input_path": "__notebook__.ipynb",
   "output_path": "__notebook__.ipynb",
   "parameters": {},
   "start_time": "2024-05-01T22:19:17.965422",
   "version": "2.5.0"
  },
  "widgets": {
   "application/vnd.jupyter.widget-state+json": {
    "state": {
     "0194527db0b74568aa4f46dbb21795c5": {
      "model_module": "@jupyter-widgets/base",
      "model_module_version": "1.2.0",
      "model_name": "LayoutModel",
      "state": {
       "_model_module": "@jupyter-widgets/base",
       "_model_module_version": "1.2.0",
       "_model_name": "LayoutModel",
       "_view_count": null,
       "_view_module": "@jupyter-widgets/base",
       "_view_module_version": "1.2.0",
       "_view_name": "LayoutView",
       "align_content": null,
       "align_items": null,
       "align_self": null,
       "border": null,
       "bottom": null,
       "display": null,
       "flex": null,
       "flex_flow": null,
       "grid_area": null,
       "grid_auto_columns": null,
       "grid_auto_flow": null,
       "grid_auto_rows": null,
       "grid_column": null,
       "grid_gap": null,
       "grid_row": null,
       "grid_template_areas": null,
       "grid_template_columns": null,
       "grid_template_rows": null,
       "height": null,
       "justify_content": null,
       "justify_items": null,
       "left": null,
       "margin": null,
       "max_height": null,
       "max_width": null,
       "min_height": null,
       "min_width": null,
       "object_fit": null,
       "object_position": null,
       "order": null,
       "overflow": null,
       "overflow_x": null,
       "overflow_y": null,
       "padding": null,
       "right": null,
       "top": null,
       "visibility": null,
       "width": null
      }
     },
     "0ab251d53d994c7baed9906e883b0d64": {
      "model_module": "@jupyter-widgets/controls",
      "model_module_version": "1.5.0",
      "model_name": "DescriptionStyleModel",
      "state": {
       "_model_module": "@jupyter-widgets/controls",
       "_model_module_version": "1.5.0",
       "_model_name": "DescriptionStyleModel",
       "_view_count": null,
       "_view_module": "@jupyter-widgets/base",
       "_view_module_version": "1.2.0",
       "_view_name": "StyleView",
       "description_width": ""
      }
     },
     "14e5567dea914bcb9867460f65945d33": {
      "model_module": "@jupyter-widgets/base",
      "model_module_version": "1.2.0",
      "model_name": "LayoutModel",
      "state": {
       "_model_module": "@jupyter-widgets/base",
       "_model_module_version": "1.2.0",
       "_model_name": "LayoutModel",
       "_view_count": null,
       "_view_module": "@jupyter-widgets/base",
       "_view_module_version": "1.2.0",
       "_view_name": "LayoutView",
       "align_content": null,
       "align_items": null,
       "align_self": null,
       "border": null,
       "bottom": null,
       "display": null,
       "flex": null,
       "flex_flow": null,
       "grid_area": null,
       "grid_auto_columns": null,
       "grid_auto_flow": null,
       "grid_auto_rows": null,
       "grid_column": null,
       "grid_gap": null,
       "grid_row": null,
       "grid_template_areas": null,
       "grid_template_columns": null,
       "grid_template_rows": null,
       "height": null,
       "justify_content": null,
       "justify_items": null,
       "left": null,
       "margin": null,
       "max_height": null,
       "max_width": null,
       "min_height": null,
       "min_width": null,
       "object_fit": null,
       "object_position": null,
       "order": null,
       "overflow": null,
       "overflow_x": null,
       "overflow_y": null,
       "padding": null,
       "right": null,
       "top": null,
       "visibility": null,
       "width": null
      }
     },
     "200fb641a5ff43bcaa272cdf2ec4d21a": {
      "model_module": "@jupyter-widgets/base",
      "model_module_version": "1.2.0",
      "model_name": "LayoutModel",
      "state": {
       "_model_module": "@jupyter-widgets/base",
       "_model_module_version": "1.2.0",
       "_model_name": "LayoutModel",
       "_view_count": null,
       "_view_module": "@jupyter-widgets/base",
       "_view_module_version": "1.2.0",
       "_view_name": "LayoutView",
       "align_content": null,
       "align_items": null,
       "align_self": null,
       "border": null,
       "bottom": null,
       "display": null,
       "flex": null,
       "flex_flow": null,
       "grid_area": null,
       "grid_auto_columns": null,
       "grid_auto_flow": null,
       "grid_auto_rows": null,
       "grid_column": null,
       "grid_gap": null,
       "grid_row": null,
       "grid_template_areas": null,
       "grid_template_columns": null,
       "grid_template_rows": null,
       "height": null,
       "justify_content": null,
       "justify_items": null,
       "left": null,
       "margin": null,
       "max_height": null,
       "max_width": null,
       "min_height": null,
       "min_width": null,
       "object_fit": null,
       "object_position": null,
       "order": null,
       "overflow": null,
       "overflow_x": null,
       "overflow_y": null,
       "padding": null,
       "right": null,
       "top": null,
       "visibility": null,
       "width": null
      }
     },
     "26e3e399a41d44749a0d4e51c6eabba0": {
      "model_module": "@jupyter-widgets/controls",
      "model_module_version": "1.5.0",
      "model_name": "ProgressStyleModel",
      "state": {
       "_model_module": "@jupyter-widgets/controls",
       "_model_module_version": "1.5.0",
       "_model_name": "ProgressStyleModel",
       "_view_count": null,
       "_view_module": "@jupyter-widgets/base",
       "_view_module_version": "1.2.0",
       "_view_name": "StyleView",
       "bar_color": null,
       "description_width": ""
      }
     },
     "38022b4b27e4441ab6d2e0737fa93208": {
      "model_module": "@jupyter-widgets/controls",
      "model_module_version": "1.5.0",
      "model_name": "HBoxModel",
      "state": {
       "_dom_classes": [],
       "_model_module": "@jupyter-widgets/controls",
       "_model_module_version": "1.5.0",
       "_model_name": "HBoxModel",
       "_view_count": null,
       "_view_module": "@jupyter-widgets/controls",
       "_view_module_version": "1.5.0",
       "_view_name": "HBoxView",
       "box_style": "",
       "children": [
        "IPY_MODEL_60d3c37a2ab34a449c2a3f1520f3c8ac",
        "IPY_MODEL_50b2e54d23dd4b9cb3f2ad6b95658950",
        "IPY_MODEL_9e334a25934e45cab0b2b6c1e9382b76"
       ],
       "layout": "IPY_MODEL_b203892af7654329ba11e8756822c884"
      }
     },
     "3887e161ed514e4fb5053e4119f1f357": {
      "model_module": "@jupyter-widgets/base",
      "model_module_version": "1.2.0",
      "model_name": "LayoutModel",
      "state": {
       "_model_module": "@jupyter-widgets/base",
       "_model_module_version": "1.2.0",
       "_model_name": "LayoutModel",
       "_view_count": null,
       "_view_module": "@jupyter-widgets/base",
       "_view_module_version": "1.2.0",
       "_view_name": "LayoutView",
       "align_content": null,
       "align_items": null,
       "align_self": null,
       "border": null,
       "bottom": null,
       "display": null,
       "flex": null,
       "flex_flow": null,
       "grid_area": null,
       "grid_auto_columns": null,
       "grid_auto_flow": null,
       "grid_auto_rows": null,
       "grid_column": null,
       "grid_gap": null,
       "grid_row": null,
       "grid_template_areas": null,
       "grid_template_columns": null,
       "grid_template_rows": null,
       "height": null,
       "justify_content": null,
       "justify_items": null,
       "left": null,
       "margin": null,
       "max_height": null,
       "max_width": null,
       "min_height": null,
       "min_width": null,
       "object_fit": null,
       "object_position": null,
       "order": null,
       "overflow": null,
       "overflow_x": null,
       "overflow_y": null,
       "padding": null,
       "right": null,
       "top": null,
       "visibility": null,
       "width": null
      }
     },
     "3f437feaec42456ea2b04abc984da752": {
      "model_module": "@jupyter-widgets/controls",
      "model_module_version": "1.5.0",
      "model_name": "DescriptionStyleModel",
      "state": {
       "_model_module": "@jupyter-widgets/controls",
       "_model_module_version": "1.5.0",
       "_model_name": "DescriptionStyleModel",
       "_view_count": null,
       "_view_module": "@jupyter-widgets/base",
       "_view_module_version": "1.2.0",
       "_view_name": "StyleView",
       "description_width": ""
      }
     },
     "43aa2bab33944e4ab67cc9d04e1820d0": {
      "model_module": "@jupyter-widgets/controls",
      "model_module_version": "1.5.0",
      "model_name": "HTMLModel",
      "state": {
       "_dom_classes": [],
       "_model_module": "@jupyter-widgets/controls",
       "_model_module_version": "1.5.0",
       "_model_name": "HTMLModel",
       "_view_count": null,
       "_view_module": "@jupyter-widgets/controls",
       "_view_module_version": "1.5.0",
       "_view_name": "HTMLView",
       "description": "",
       "description_tooltip": null,
       "layout": "IPY_MODEL_9abeb7e61ad244f4b7464e1549c356ac",
       "placeholder": "​",
       "style": "IPY_MODEL_3f437feaec42456ea2b04abc984da752",
       "value": " 7.81k/7.81k [00:00&lt;00:00, 501kB/s]"
      }
     },
     "4be158b094b14555bd977d2e74756a54": {
      "model_module": "@jupyter-widgets/controls",
      "model_module_version": "1.5.0",
      "model_name": "HBoxModel",
      "state": {
       "_dom_classes": [],
       "_model_module": "@jupyter-widgets/controls",
       "_model_module_version": "1.5.0",
       "_model_name": "HBoxModel",
       "_view_count": null,
       "_view_module": "@jupyter-widgets/controls",
       "_view_module_version": "1.5.0",
       "_view_name": "HBoxView",
       "box_style": "",
       "children": [
        "IPY_MODEL_8ea36e20413d4863920cc1861ea8ca70",
        "IPY_MODEL_e213d0c60b0a447ca0903b4a8beca0a1",
        "IPY_MODEL_43aa2bab33944e4ab67cc9d04e1820d0"
       ],
       "layout": "IPY_MODEL_9405e4fef8f34503b9daff0cef934e72"
      }
     },
     "4caeee87c5dc4c2fb4816a5d9eff70ae": {
      "model_module": "@jupyter-widgets/controls",
      "model_module_version": "1.5.0",
      "model_name": "HBoxModel",
      "state": {
       "_dom_classes": [],
       "_model_module": "@jupyter-widgets/controls",
       "_model_module_version": "1.5.0",
       "_model_name": "HBoxModel",
       "_view_count": null,
       "_view_module": "@jupyter-widgets/controls",
       "_view_module_version": "1.5.0",
       "_view_name": "HBoxView",
       "box_style": "",
       "children": [
        "IPY_MODEL_629e56ed957c4f16ace03073f2aa8ef0",
        "IPY_MODEL_713447fa45914964b33b3a6a4d22610d",
        "IPY_MODEL_7a3e39b4867248a29443dfeadcb39ed5"
       ],
       "layout": "IPY_MODEL_97821e003e23458a875ad5f7fdb26a17"
      }
     },
     "4f662abbd82545d79027b03bdc4b0033": {
      "model_module": "@jupyter-widgets/controls",
      "model_module_version": "1.5.0",
      "model_name": "ProgressStyleModel",
      "state": {
       "_model_module": "@jupyter-widgets/controls",
       "_model_module_version": "1.5.0",
       "_model_name": "ProgressStyleModel",
       "_view_count": null,
       "_view_module": "@jupyter-widgets/base",
       "_view_module_version": "1.2.0",
       "_view_name": "StyleView",
       "bar_color": null,
       "description_width": ""
      }
     },
     "50b2e54d23dd4b9cb3f2ad6b95658950": {
      "model_module": "@jupyter-widgets/controls",
      "model_module_version": "1.5.0",
      "model_name": "FloatProgressModel",
      "state": {
       "_dom_classes": [],
       "_model_module": "@jupyter-widgets/controls",
       "_model_module_version": "1.5.0",
       "_model_name": "FloatProgressModel",
       "_view_count": null,
       "_view_module": "@jupyter-widgets/controls",
       "_view_module_version": "1.5.0",
       "_view_name": "ProgressView",
       "bar_style": "success",
       "description": "",
       "description_tooltip": null,
       "layout": "IPY_MODEL_ede8f53ae74b4902b85e6fdca6e63b99",
       "max": 25000.0,
       "min": 0.0,
       "orientation": "horizontal",
       "style": "IPY_MODEL_4f662abbd82545d79027b03bdc4b0033",
       "value": 25000.0
      }
     },
     "60d3c37a2ab34a449c2a3f1520f3c8ac": {
      "model_module": "@jupyter-widgets/controls",
      "model_module_version": "1.5.0",
      "model_name": "HTMLModel",
      "state": {
       "_dom_classes": [],
       "_model_module": "@jupyter-widgets/controls",
       "_model_module_version": "1.5.0",
       "_model_name": "HTMLModel",
       "_view_count": null,
       "_view_module": "@jupyter-widgets/controls",
       "_view_module_version": "1.5.0",
       "_view_name": "HTMLView",
       "description": "",
       "description_tooltip": null,
       "layout": "IPY_MODEL_b0a1b71f86664aa0a8951b361319fca3",
       "placeholder": "​",
       "style": "IPY_MODEL_6b278528486445bda51f0f02a044fa2a",
       "value": "Generating test split: 100%"
      }
     },
     "629e56ed957c4f16ace03073f2aa8ef0": {
      "model_module": "@jupyter-widgets/controls",
      "model_module_version": "1.5.0",
      "model_name": "HTMLModel",
      "state": {
       "_dom_classes": [],
       "_model_module": "@jupyter-widgets/controls",
       "_model_module_version": "1.5.0",
       "_model_name": "HTMLModel",
       "_view_count": null,
       "_view_module": "@jupyter-widgets/controls",
       "_view_module_version": "1.5.0",
       "_view_name": "HTMLView",
       "description": "",
       "description_tooltip": null,
       "layout": "IPY_MODEL_8e1715e83dfd41508e50ed9e32d3734d",
       "placeholder": "​",
       "style": "IPY_MODEL_96610c69657b452db2287797b42d887d",
       "value": "Computing checksums: 100%"
      }
     },
     "642d6d580b53416ca4e4c6e80160bdc3": {
      "model_module": "@jupyter-widgets/controls",
      "model_module_version": "1.5.0",
      "model_name": "DescriptionStyleModel",
      "state": {
       "_model_module": "@jupyter-widgets/controls",
       "_model_module_version": "1.5.0",
       "_model_name": "DescriptionStyleModel",
       "_view_count": null,
       "_view_module": "@jupyter-widgets/base",
       "_view_module_version": "1.2.0",
       "_view_name": "StyleView",
       "description_width": ""
      }
     },
     "6a4eb3c3453445ed8819fd56180dc1f0": {
      "model_module": "@jupyter-widgets/controls",
      "model_module_version": "1.5.0",
      "model_name": "HTMLModel",
      "state": {
       "_dom_classes": [],
       "_model_module": "@jupyter-widgets/controls",
       "_model_module_version": "1.5.0",
       "_model_name": "HTMLModel",
       "_view_count": null,
       "_view_module": "@jupyter-widgets/controls",
       "_view_module_version": "1.5.0",
       "_view_name": "HTMLView",
       "description": "",
       "description_tooltip": null,
       "layout": "IPY_MODEL_c05f64c2ef504710aa04b9652e835bf6",
       "placeholder": "​",
       "style": "IPY_MODEL_7193cbe9983d4e8184011bf81a0d0ccf",
       "value": "Generating unsupervised split: 100%"
      }
     },
     "6b278528486445bda51f0f02a044fa2a": {
      "model_module": "@jupyter-widgets/controls",
      "model_module_version": "1.5.0",
      "model_name": "DescriptionStyleModel",
      "state": {
       "_model_module": "@jupyter-widgets/controls",
       "_model_module_version": "1.5.0",
       "_model_name": "DescriptionStyleModel",
       "_view_count": null,
       "_view_module": "@jupyter-widgets/base",
       "_view_module_version": "1.2.0",
       "_view_name": "StyleView",
       "description_width": ""
      }
     },
     "713447fa45914964b33b3a6a4d22610d": {
      "model_module": "@jupyter-widgets/controls",
      "model_module_version": "1.5.0",
      "model_name": "FloatProgressModel",
      "state": {
       "_dom_classes": [],
       "_model_module": "@jupyter-widgets/controls",
       "_model_module_version": "1.5.0",
       "_model_name": "FloatProgressModel",
       "_view_count": null,
       "_view_module": "@jupyter-widgets/controls",
       "_view_module_version": "1.5.0",
       "_view_name": "ProgressView",
       "bar_style": "success",
       "description": "",
       "description_tooltip": null,
       "layout": "IPY_MODEL_cec8b201ac1848cfb61716f9dbe41f3f",
       "max": 3.0,
       "min": 0.0,
       "orientation": "horizontal",
       "style": "IPY_MODEL_da425325390c4ad592a40c7701572b94",
       "value": 3.0
      }
     },
     "7193cbe9983d4e8184011bf81a0d0ccf": {
      "model_module": "@jupyter-widgets/controls",
      "model_module_version": "1.5.0",
      "model_name": "DescriptionStyleModel",
      "state": {
       "_model_module": "@jupyter-widgets/controls",
       "_model_module_version": "1.5.0",
       "_model_name": "DescriptionStyleModel",
       "_view_count": null,
       "_view_module": "@jupyter-widgets/base",
       "_view_module_version": "1.2.0",
       "_view_name": "StyleView",
       "description_width": ""
      }
     },
     "72cce230141647f6886847feafbe89c8": {
      "model_module": "@jupyter-widgets/base",
      "model_module_version": "1.2.0",
      "model_name": "LayoutModel",
      "state": {
       "_model_module": "@jupyter-widgets/base",
       "_model_module_version": "1.2.0",
       "_model_name": "LayoutModel",
       "_view_count": null,
       "_view_module": "@jupyter-widgets/base",
       "_view_module_version": "1.2.0",
       "_view_name": "LayoutView",
       "align_content": null,
       "align_items": null,
       "align_self": null,
       "border": null,
       "bottom": null,
       "display": null,
       "flex": null,
       "flex_flow": null,
       "grid_area": null,
       "grid_auto_columns": null,
       "grid_auto_flow": null,
       "grid_auto_rows": null,
       "grid_column": null,
       "grid_gap": null,
       "grid_row": null,
       "grid_template_areas": null,
       "grid_template_columns": null,
       "grid_template_rows": null,
       "height": null,
       "justify_content": null,
       "justify_items": null,
       "left": null,
       "margin": null,
       "max_height": null,
       "max_width": null,
       "min_height": null,
       "min_width": null,
       "object_fit": null,
       "object_position": null,
       "order": null,
       "overflow": null,
       "overflow_x": null,
       "overflow_y": null,
       "padding": null,
       "right": null,
       "top": null,
       "visibility": null,
       "width": null
      }
     },
     "75974a7e19a54724a9e81b5135aad42d": {
      "model_module": "@jupyter-widgets/controls",
      "model_module_version": "1.5.0",
      "model_name": "FloatProgressModel",
      "state": {
       "_dom_classes": [],
       "_model_module": "@jupyter-widgets/controls",
       "_model_module_version": "1.5.0",
       "_model_name": "FloatProgressModel",
       "_view_count": null,
       "_view_module": "@jupyter-widgets/controls",
       "_view_module_version": "1.5.0",
       "_view_name": "ProgressView",
       "bar_style": "success",
       "description": "",
       "description_tooltip": null,
       "layout": "IPY_MODEL_3887e161ed514e4fb5053e4119f1f357",
       "max": 25000.0,
       "min": 0.0,
       "orientation": "horizontal",
       "style": "IPY_MODEL_26e3e399a41d44749a0d4e51c6eabba0",
       "value": 25000.0
      }
     },
     "7a3e39b4867248a29443dfeadcb39ed5": {
      "model_module": "@jupyter-widgets/controls",
      "model_module_version": "1.5.0",
      "model_name": "HTMLModel",
      "state": {
       "_dom_classes": [],
       "_model_module": "@jupyter-widgets/controls",
       "_model_module_version": "1.5.0",
       "_model_name": "HTMLModel",
       "_view_count": null,
       "_view_module": "@jupyter-widgets/controls",
       "_view_module_version": "1.5.0",
       "_view_name": "HTMLView",
       "description": "",
       "description_tooltip": null,
       "layout": "IPY_MODEL_f3547b75f27749b7bfa2d2ec28030c19",
       "placeholder": "​",
       "style": "IPY_MODEL_8e377fcf6f5e42a685f11aae920c9b6b",
       "value": " 3/3 [00:00&lt;00:00, 351.37it/s]"
      }
     },
     "8802f9fecef548d6a1dd28c6e0e02d7c": {
      "model_module": "@jupyter-widgets/base",
      "model_module_version": "1.2.0",
      "model_name": "LayoutModel",
      "state": {
       "_model_module": "@jupyter-widgets/base",
       "_model_module_version": "1.2.0",
       "_model_name": "LayoutModel",
       "_view_count": null,
       "_view_module": "@jupyter-widgets/base",
       "_view_module_version": "1.2.0",
       "_view_name": "LayoutView",
       "align_content": null,
       "align_items": null,
       "align_self": null,
       "border": null,
       "bottom": null,
       "display": null,
       "flex": null,
       "flex_flow": null,
       "grid_area": null,
       "grid_auto_columns": null,
       "grid_auto_flow": null,
       "grid_auto_rows": null,
       "grid_column": null,
       "grid_gap": null,
       "grid_row": null,
       "grid_template_areas": null,
       "grid_template_columns": null,
       "grid_template_rows": null,
       "height": null,
       "justify_content": null,
       "justify_items": null,
       "left": null,
       "margin": null,
       "max_height": null,
       "max_width": null,
       "min_height": null,
       "min_width": null,
       "object_fit": null,
       "object_position": null,
       "order": null,
       "overflow": null,
       "overflow_x": null,
       "overflow_y": null,
       "padding": null,
       "right": null,
       "top": null,
       "visibility": null,
       "width": null
      }
     },
     "8917b2baf6ea48c8a0879cdaa1b52d4f": {
      "model_module": "@jupyter-widgets/controls",
      "model_module_version": "1.5.0",
      "model_name": "HTMLModel",
      "state": {
       "_dom_classes": [],
       "_model_module": "@jupyter-widgets/controls",
       "_model_module_version": "1.5.0",
       "_model_name": "HTMLModel",
       "_view_count": null,
       "_view_module": "@jupyter-widgets/controls",
       "_view_module_version": "1.5.0",
       "_view_name": "HTMLView",
       "description": "",
       "description_tooltip": null,
       "layout": "IPY_MODEL_bdeccb852a52440f944117ce86b7a631",
       "placeholder": "​",
       "style": "IPY_MODEL_9345c700ece140569eff8f2dd8171aa6",
       "value": " 25000/25000 [00:00&lt;00:00, 101251.07 examples/s]"
      }
     },
     "8940196d942f4002ae200382f9235105": {
      "model_module": "@jupyter-widgets/controls",
      "model_module_version": "1.5.0",
      "model_name": "DescriptionStyleModel",
      "state": {
       "_model_module": "@jupyter-widgets/controls",
       "_model_module_version": "1.5.0",
       "_model_name": "DescriptionStyleModel",
       "_view_count": null,
       "_view_module": "@jupyter-widgets/base",
       "_view_module_version": "1.2.0",
       "_view_name": "StyleView",
       "description_width": ""
      }
     },
     "8d326f4bf41142af871649007471efe1": {
      "model_module": "@jupyter-widgets/base",
      "model_module_version": "1.2.0",
      "model_name": "LayoutModel",
      "state": {
       "_model_module": "@jupyter-widgets/base",
       "_model_module_version": "1.2.0",
       "_model_name": "LayoutModel",
       "_view_count": null,
       "_view_module": "@jupyter-widgets/base",
       "_view_module_version": "1.2.0",
       "_view_name": "LayoutView",
       "align_content": null,
       "align_items": null,
       "align_self": null,
       "border": null,
       "bottom": null,
       "display": null,
       "flex": null,
       "flex_flow": null,
       "grid_area": null,
       "grid_auto_columns": null,
       "grid_auto_flow": null,
       "grid_auto_rows": null,
       "grid_column": null,
       "grid_gap": null,
       "grid_row": null,
       "grid_template_areas": null,
       "grid_template_columns": null,
       "grid_template_rows": null,
       "height": null,
       "justify_content": null,
       "justify_items": null,
       "left": null,
       "margin": null,
       "max_height": null,
       "max_width": null,
       "min_height": null,
       "min_width": null,
       "object_fit": null,
       "object_position": null,
       "order": null,
       "overflow": null,
       "overflow_x": null,
       "overflow_y": null,
       "padding": null,
       "right": null,
       "top": null,
       "visibility": null,
       "width": null
      }
     },
     "8e1715e83dfd41508e50ed9e32d3734d": {
      "model_module": "@jupyter-widgets/base",
      "model_module_version": "1.2.0",
      "model_name": "LayoutModel",
      "state": {
       "_model_module": "@jupyter-widgets/base",
       "_model_module_version": "1.2.0",
       "_model_name": "LayoutModel",
       "_view_count": null,
       "_view_module": "@jupyter-widgets/base",
       "_view_module_version": "1.2.0",
       "_view_name": "LayoutView",
       "align_content": null,
       "align_items": null,
       "align_self": null,
       "border": null,
       "bottom": null,
       "display": null,
       "flex": null,
       "flex_flow": null,
       "grid_area": null,
       "grid_auto_columns": null,
       "grid_auto_flow": null,
       "grid_auto_rows": null,
       "grid_column": null,
       "grid_gap": null,
       "grid_row": null,
       "grid_template_areas": null,
       "grid_template_columns": null,
       "grid_template_rows": null,
       "height": null,
       "justify_content": null,
       "justify_items": null,
       "left": null,
       "margin": null,
       "max_height": null,
       "max_width": null,
       "min_height": null,
       "min_width": null,
       "object_fit": null,
       "object_position": null,
       "order": null,
       "overflow": null,
       "overflow_x": null,
       "overflow_y": null,
       "padding": null,
       "right": null,
       "top": null,
       "visibility": null,
       "width": null
      }
     },
     "8e377fcf6f5e42a685f11aae920c9b6b": {
      "model_module": "@jupyter-widgets/controls",
      "model_module_version": "1.5.0",
      "model_name": "DescriptionStyleModel",
      "state": {
       "_model_module": "@jupyter-widgets/controls",
       "_model_module_version": "1.5.0",
       "_model_name": "DescriptionStyleModel",
       "_view_count": null,
       "_view_module": "@jupyter-widgets/base",
       "_view_module_version": "1.2.0",
       "_view_name": "StyleView",
       "description_width": ""
      }
     },
     "8ea36e20413d4863920cc1861ea8ca70": {
      "model_module": "@jupyter-widgets/controls",
      "model_module_version": "1.5.0",
      "model_name": "HTMLModel",
      "state": {
       "_dom_classes": [],
       "_model_module": "@jupyter-widgets/controls",
       "_model_module_version": "1.5.0",
       "_model_name": "HTMLModel",
       "_view_count": null,
       "_view_module": "@jupyter-widgets/controls",
       "_view_module_version": "1.5.0",
       "_view_name": "HTMLView",
       "description": "",
       "description_tooltip": null,
       "layout": "IPY_MODEL_9122196ad88a4aaa84dfb565e48efa3b",
       "placeholder": "​",
       "style": "IPY_MODEL_9ecc1c4edd8b4f5fad4c92ee033001b3",
       "value": "Downloading readme: 100%"
      }
     },
     "905cc47080d04a68895bc02fe59614bd": {
      "model_module": "@jupyter-widgets/controls",
      "model_module_version": "1.5.0",
      "model_name": "ProgressStyleModel",
      "state": {
       "_model_module": "@jupyter-widgets/controls",
       "_model_module_version": "1.5.0",
       "_model_name": "ProgressStyleModel",
       "_view_count": null,
       "_view_module": "@jupyter-widgets/base",
       "_view_module_version": "1.2.0",
       "_view_name": "StyleView",
       "bar_color": null,
       "description_width": ""
      }
     },
     "9122196ad88a4aaa84dfb565e48efa3b": {
      "model_module": "@jupyter-widgets/base",
      "model_module_version": "1.2.0",
      "model_name": "LayoutModel",
      "state": {
       "_model_module": "@jupyter-widgets/base",
       "_model_module_version": "1.2.0",
       "_model_name": "LayoutModel",
       "_view_count": null,
       "_view_module": "@jupyter-widgets/base",
       "_view_module_version": "1.2.0",
       "_view_name": "LayoutView",
       "align_content": null,
       "align_items": null,
       "align_self": null,
       "border": null,
       "bottom": null,
       "display": null,
       "flex": null,
       "flex_flow": null,
       "grid_area": null,
       "grid_auto_columns": null,
       "grid_auto_flow": null,
       "grid_auto_rows": null,
       "grid_column": null,
       "grid_gap": null,
       "grid_row": null,
       "grid_template_areas": null,
       "grid_template_columns": null,
       "grid_template_rows": null,
       "height": null,
       "justify_content": null,
       "justify_items": null,
       "left": null,
       "margin": null,
       "max_height": null,
       "max_width": null,
       "min_height": null,
       "min_width": null,
       "object_fit": null,
       "object_position": null,
       "order": null,
       "overflow": null,
       "overflow_x": null,
       "overflow_y": null,
       "padding": null,
       "right": null,
       "top": null,
       "visibility": null,
       "width": null
      }
     },
     "9345c700ece140569eff8f2dd8171aa6": {
      "model_module": "@jupyter-widgets/controls",
      "model_module_version": "1.5.0",
      "model_name": "DescriptionStyleModel",
      "state": {
       "_model_module": "@jupyter-widgets/controls",
       "_model_module_version": "1.5.0",
       "_model_name": "DescriptionStyleModel",
       "_view_count": null,
       "_view_module": "@jupyter-widgets/base",
       "_view_module_version": "1.2.0",
       "_view_name": "StyleView",
       "description_width": ""
      }
     },
     "9405e4fef8f34503b9daff0cef934e72": {
      "model_module": "@jupyter-widgets/base",
      "model_module_version": "1.2.0",
      "model_name": "LayoutModel",
      "state": {
       "_model_module": "@jupyter-widgets/base",
       "_model_module_version": "1.2.0",
       "_model_name": "LayoutModel",
       "_view_count": null,
       "_view_module": "@jupyter-widgets/base",
       "_view_module_version": "1.2.0",
       "_view_name": "LayoutView",
       "align_content": null,
       "align_items": null,
       "align_self": null,
       "border": null,
       "bottom": null,
       "display": null,
       "flex": null,
       "flex_flow": null,
       "grid_area": null,
       "grid_auto_columns": null,
       "grid_auto_flow": null,
       "grid_auto_rows": null,
       "grid_column": null,
       "grid_gap": null,
       "grid_row": null,
       "grid_template_areas": null,
       "grid_template_columns": null,
       "grid_template_rows": null,
       "height": null,
       "justify_content": null,
       "justify_items": null,
       "left": null,
       "margin": null,
       "max_height": null,
       "max_width": null,
       "min_height": null,
       "min_width": null,
       "object_fit": null,
       "object_position": null,
       "order": null,
       "overflow": null,
       "overflow_x": null,
       "overflow_y": null,
       "padding": null,
       "right": null,
       "top": null,
       "visibility": null,
       "width": null
      }
     },
     "9469ba28d1ac4a02b5ce15a807259c89": {
      "model_module": "@jupyter-widgets/controls",
      "model_module_version": "1.5.0",
      "model_name": "HTMLModel",
      "state": {
       "_dom_classes": [],
       "_model_module": "@jupyter-widgets/controls",
       "_model_module_version": "1.5.0",
       "_model_name": "HTMLModel",
       "_view_count": null,
       "_view_module": "@jupyter-widgets/controls",
       "_view_module_version": "1.5.0",
       "_view_name": "HTMLView",
       "description": "",
       "description_tooltip": null,
       "layout": "IPY_MODEL_72cce230141647f6886847feafbe89c8",
       "placeholder": "​",
       "style": "IPY_MODEL_0ab251d53d994c7baed9906e883b0d64",
       "value": "Generating train split: 100%"
      }
     },
     "96610c69657b452db2287797b42d887d": {
      "model_module": "@jupyter-widgets/controls",
      "model_module_version": "1.5.0",
      "model_name": "DescriptionStyleModel",
      "state": {
       "_model_module": "@jupyter-widgets/controls",
       "_model_module_version": "1.5.0",
       "_model_name": "DescriptionStyleModel",
       "_view_count": null,
       "_view_module": "@jupyter-widgets/base",
       "_view_module_version": "1.2.0",
       "_view_name": "StyleView",
       "description_width": ""
      }
     },
     "977c9e6284074802a6d76691f62b8bfc": {
      "model_module": "@jupyter-widgets/controls",
      "model_module_version": "1.5.0",
      "model_name": "HTMLModel",
      "state": {
       "_dom_classes": [],
       "_model_module": "@jupyter-widgets/controls",
       "_model_module_version": "1.5.0",
       "_model_name": "HTMLModel",
       "_view_count": null,
       "_view_module": "@jupyter-widgets/controls",
       "_view_module_version": "1.5.0",
       "_view_name": "HTMLView",
       "description": "",
       "description_tooltip": null,
       "layout": "IPY_MODEL_0194527db0b74568aa4f46dbb21795c5",
       "placeholder": "​",
       "style": "IPY_MODEL_642d6d580b53416ca4e4c6e80160bdc3",
       "value": " 50000/50000 [00:00&lt;00:00, 126245.09 examples/s]"
      }
     },
     "97821e003e23458a875ad5f7fdb26a17": {
      "model_module": "@jupyter-widgets/base",
      "model_module_version": "1.2.0",
      "model_name": "LayoutModel",
      "state": {
       "_model_module": "@jupyter-widgets/base",
       "_model_module_version": "1.2.0",
       "_model_name": "LayoutModel",
       "_view_count": null,
       "_view_module": "@jupyter-widgets/base",
       "_view_module_version": "1.2.0",
       "_view_name": "LayoutView",
       "align_content": null,
       "align_items": null,
       "align_self": null,
       "border": null,
       "bottom": null,
       "display": null,
       "flex": null,
       "flex_flow": null,
       "grid_area": null,
       "grid_auto_columns": null,
       "grid_auto_flow": null,
       "grid_auto_rows": null,
       "grid_column": null,
       "grid_gap": null,
       "grid_row": null,
       "grid_template_areas": null,
       "grid_template_columns": null,
       "grid_template_rows": null,
       "height": null,
       "justify_content": null,
       "justify_items": null,
       "left": null,
       "margin": null,
       "max_height": null,
       "max_width": null,
       "min_height": null,
       "min_width": null,
       "object_fit": null,
       "object_position": null,
       "order": null,
       "overflow": null,
       "overflow_x": null,
       "overflow_y": null,
       "padding": null,
       "right": null,
       "top": null,
       "visibility": null,
       "width": null
      }
     },
     "9abeb7e61ad244f4b7464e1549c356ac": {
      "model_module": "@jupyter-widgets/base",
      "model_module_version": "1.2.0",
      "model_name": "LayoutModel",
      "state": {
       "_model_module": "@jupyter-widgets/base",
       "_model_module_version": "1.2.0",
       "_model_name": "LayoutModel",
       "_view_count": null,
       "_view_module": "@jupyter-widgets/base",
       "_view_module_version": "1.2.0",
       "_view_name": "LayoutView",
       "align_content": null,
       "align_items": null,
       "align_self": null,
       "border": null,
       "bottom": null,
       "display": null,
       "flex": null,
       "flex_flow": null,
       "grid_area": null,
       "grid_auto_columns": null,
       "grid_auto_flow": null,
       "grid_auto_rows": null,
       "grid_column": null,
       "grid_gap": null,
       "grid_row": null,
       "grid_template_areas": null,
       "grid_template_columns": null,
       "grid_template_rows": null,
       "height": null,
       "justify_content": null,
       "justify_items": null,
       "left": null,
       "margin": null,
       "max_height": null,
       "max_width": null,
       "min_height": null,
       "min_width": null,
       "object_fit": null,
       "object_position": null,
       "order": null,
       "overflow": null,
       "overflow_x": null,
       "overflow_y": null,
       "padding": null,
       "right": null,
       "top": null,
       "visibility": null,
       "width": null
      }
     },
     "9e334a25934e45cab0b2b6c1e9382b76": {
      "model_module": "@jupyter-widgets/controls",
      "model_module_version": "1.5.0",
      "model_name": "HTMLModel",
      "state": {
       "_dom_classes": [],
       "_model_module": "@jupyter-widgets/controls",
       "_model_module_version": "1.5.0",
       "_model_name": "HTMLModel",
       "_view_count": null,
       "_view_module": "@jupyter-widgets/controls",
       "_view_module_version": "1.5.0",
       "_view_name": "HTMLView",
       "description": "",
       "description_tooltip": null,
       "layout": "IPY_MODEL_f3ad1e8a592d4fbf8de5e84fdb9fbe73",
       "placeholder": "​",
       "style": "IPY_MODEL_8940196d942f4002ae200382f9235105",
       "value": " 25000/25000 [00:00&lt;00:00, 113411.02 examples/s]"
      }
     },
     "9ecc1c4edd8b4f5fad4c92ee033001b3": {
      "model_module": "@jupyter-widgets/controls",
      "model_module_version": "1.5.0",
      "model_name": "DescriptionStyleModel",
      "state": {
       "_model_module": "@jupyter-widgets/controls",
       "_model_module_version": "1.5.0",
       "_model_name": "DescriptionStyleModel",
       "_view_count": null,
       "_view_module": "@jupyter-widgets/base",
       "_view_module_version": "1.2.0",
       "_view_name": "StyleView",
       "description_width": ""
      }
     },
     "a4d5612c2a8c4654819f01ffe38ac6a0": {
      "model_module": "@jupyter-widgets/controls",
      "model_module_version": "1.5.0",
      "model_name": "FloatProgressModel",
      "state": {
       "_dom_classes": [],
       "_model_module": "@jupyter-widgets/controls",
       "_model_module_version": "1.5.0",
       "_model_name": "FloatProgressModel",
       "_view_count": null,
       "_view_module": "@jupyter-widgets/controls",
       "_view_module_version": "1.5.0",
       "_view_name": "ProgressView",
       "bar_style": "success",
       "description": "",
       "description_tooltip": null,
       "layout": "IPY_MODEL_8d326f4bf41142af871649007471efe1",
       "max": 50000.0,
       "min": 0.0,
       "orientation": "horizontal",
       "style": "IPY_MODEL_905cc47080d04a68895bc02fe59614bd",
       "value": 50000.0
      }
     },
     "a76f9ca20c224045bdd9bfca6bc7d434": {
      "model_module": "@jupyter-widgets/controls",
      "model_module_version": "1.5.0",
      "model_name": "ProgressStyleModel",
      "state": {
       "_model_module": "@jupyter-widgets/controls",
       "_model_module_version": "1.5.0",
       "_model_name": "ProgressStyleModel",
       "_view_count": null,
       "_view_module": "@jupyter-widgets/base",
       "_view_module_version": "1.2.0",
       "_view_name": "StyleView",
       "bar_color": null,
       "description_width": ""
      }
     },
     "b0a1b71f86664aa0a8951b361319fca3": {
      "model_module": "@jupyter-widgets/base",
      "model_module_version": "1.2.0",
      "model_name": "LayoutModel",
      "state": {
       "_model_module": "@jupyter-widgets/base",
       "_model_module_version": "1.2.0",
       "_model_name": "LayoutModel",
       "_view_count": null,
       "_view_module": "@jupyter-widgets/base",
       "_view_module_version": "1.2.0",
       "_view_name": "LayoutView",
       "align_content": null,
       "align_items": null,
       "align_self": null,
       "border": null,
       "bottom": null,
       "display": null,
       "flex": null,
       "flex_flow": null,
       "grid_area": null,
       "grid_auto_columns": null,
       "grid_auto_flow": null,
       "grid_auto_rows": null,
       "grid_column": null,
       "grid_gap": null,
       "grid_row": null,
       "grid_template_areas": null,
       "grid_template_columns": null,
       "grid_template_rows": null,
       "height": null,
       "justify_content": null,
       "justify_items": null,
       "left": null,
       "margin": null,
       "max_height": null,
       "max_width": null,
       "min_height": null,
       "min_width": null,
       "object_fit": null,
       "object_position": null,
       "order": null,
       "overflow": null,
       "overflow_x": null,
       "overflow_y": null,
       "padding": null,
       "right": null,
       "top": null,
       "visibility": null,
       "width": null
      }
     },
     "b1b5d364c724421dbec0c607d57de533": {
      "model_module": "@jupyter-widgets/controls",
      "model_module_version": "1.5.0",
      "model_name": "HBoxModel",
      "state": {
       "_dom_classes": [],
       "_model_module": "@jupyter-widgets/controls",
       "_model_module_version": "1.5.0",
       "_model_name": "HBoxModel",
       "_view_count": null,
       "_view_module": "@jupyter-widgets/controls",
       "_view_module_version": "1.5.0",
       "_view_name": "HBoxView",
       "box_style": "",
       "children": [
        "IPY_MODEL_6a4eb3c3453445ed8819fd56180dc1f0",
        "IPY_MODEL_a4d5612c2a8c4654819f01ffe38ac6a0",
        "IPY_MODEL_977c9e6284074802a6d76691f62b8bfc"
       ],
       "layout": "IPY_MODEL_14e5567dea914bcb9867460f65945d33"
      }
     },
     "b203892af7654329ba11e8756822c884": {
      "model_module": "@jupyter-widgets/base",
      "model_module_version": "1.2.0",
      "model_name": "LayoutModel",
      "state": {
       "_model_module": "@jupyter-widgets/base",
       "_model_module_version": "1.2.0",
       "_model_name": "LayoutModel",
       "_view_count": null,
       "_view_module": "@jupyter-widgets/base",
       "_view_module_version": "1.2.0",
       "_view_name": "LayoutView",
       "align_content": null,
       "align_items": null,
       "align_self": null,
       "border": null,
       "bottom": null,
       "display": null,
       "flex": null,
       "flex_flow": null,
       "grid_area": null,
       "grid_auto_columns": null,
       "grid_auto_flow": null,
       "grid_auto_rows": null,
       "grid_column": null,
       "grid_gap": null,
       "grid_row": null,
       "grid_template_areas": null,
       "grid_template_columns": null,
       "grid_template_rows": null,
       "height": null,
       "justify_content": null,
       "justify_items": null,
       "left": null,
       "margin": null,
       "max_height": null,
       "max_width": null,
       "min_height": null,
       "min_width": null,
       "object_fit": null,
       "object_position": null,
       "order": null,
       "overflow": null,
       "overflow_x": null,
       "overflow_y": null,
       "padding": null,
       "right": null,
       "top": null,
       "visibility": null,
       "width": null
      }
     },
     "bdeccb852a52440f944117ce86b7a631": {
      "model_module": "@jupyter-widgets/base",
      "model_module_version": "1.2.0",
      "model_name": "LayoutModel",
      "state": {
       "_model_module": "@jupyter-widgets/base",
       "_model_module_version": "1.2.0",
       "_model_name": "LayoutModel",
       "_view_count": null,
       "_view_module": "@jupyter-widgets/base",
       "_view_module_version": "1.2.0",
       "_view_name": "LayoutView",
       "align_content": null,
       "align_items": null,
       "align_self": null,
       "border": null,
       "bottom": null,
       "display": null,
       "flex": null,
       "flex_flow": null,
       "grid_area": null,
       "grid_auto_columns": null,
       "grid_auto_flow": null,
       "grid_auto_rows": null,
       "grid_column": null,
       "grid_gap": null,
       "grid_row": null,
       "grid_template_areas": null,
       "grid_template_columns": null,
       "grid_template_rows": null,
       "height": null,
       "justify_content": null,
       "justify_items": null,
       "left": null,
       "margin": null,
       "max_height": null,
       "max_width": null,
       "min_height": null,
       "min_width": null,
       "object_fit": null,
       "object_position": null,
       "order": null,
       "overflow": null,
       "overflow_x": null,
       "overflow_y": null,
       "padding": null,
       "right": null,
       "top": null,
       "visibility": null,
       "width": null
      }
     },
     "c05f64c2ef504710aa04b9652e835bf6": {
      "model_module": "@jupyter-widgets/base",
      "model_module_version": "1.2.0",
      "model_name": "LayoutModel",
      "state": {
       "_model_module": "@jupyter-widgets/base",
       "_model_module_version": "1.2.0",
       "_model_name": "LayoutModel",
       "_view_count": null,
       "_view_module": "@jupyter-widgets/base",
       "_view_module_version": "1.2.0",
       "_view_name": "LayoutView",
       "align_content": null,
       "align_items": null,
       "align_self": null,
       "border": null,
       "bottom": null,
       "display": null,
       "flex": null,
       "flex_flow": null,
       "grid_area": null,
       "grid_auto_columns": null,
       "grid_auto_flow": null,
       "grid_auto_rows": null,
       "grid_column": null,
       "grid_gap": null,
       "grid_row": null,
       "grid_template_areas": null,
       "grid_template_columns": null,
       "grid_template_rows": null,
       "height": null,
       "justify_content": null,
       "justify_items": null,
       "left": null,
       "margin": null,
       "max_height": null,
       "max_width": null,
       "min_height": null,
       "min_width": null,
       "object_fit": null,
       "object_position": null,
       "order": null,
       "overflow": null,
       "overflow_x": null,
       "overflow_y": null,
       "padding": null,
       "right": null,
       "top": null,
       "visibility": null,
       "width": null
      }
     },
     "cec8b201ac1848cfb61716f9dbe41f3f": {
      "model_module": "@jupyter-widgets/base",
      "model_module_version": "1.2.0",
      "model_name": "LayoutModel",
      "state": {
       "_model_module": "@jupyter-widgets/base",
       "_model_module_version": "1.2.0",
       "_model_name": "LayoutModel",
       "_view_count": null,
       "_view_module": "@jupyter-widgets/base",
       "_view_module_version": "1.2.0",
       "_view_name": "LayoutView",
       "align_content": null,
       "align_items": null,
       "align_self": null,
       "border": null,
       "bottom": null,
       "display": null,
       "flex": null,
       "flex_flow": null,
       "grid_area": null,
       "grid_auto_columns": null,
       "grid_auto_flow": null,
       "grid_auto_rows": null,
       "grid_column": null,
       "grid_gap": null,
       "grid_row": null,
       "grid_template_areas": null,
       "grid_template_columns": null,
       "grid_template_rows": null,
       "height": null,
       "justify_content": null,
       "justify_items": null,
       "left": null,
       "margin": null,
       "max_height": null,
       "max_width": null,
       "min_height": null,
       "min_width": null,
       "object_fit": null,
       "object_position": null,
       "order": null,
       "overflow": null,
       "overflow_x": null,
       "overflow_y": null,
       "padding": null,
       "right": null,
       "top": null,
       "visibility": null,
       "width": null
      }
     },
     "da425325390c4ad592a40c7701572b94": {
      "model_module": "@jupyter-widgets/controls",
      "model_module_version": "1.5.0",
      "model_name": "ProgressStyleModel",
      "state": {
       "_model_module": "@jupyter-widgets/controls",
       "_model_module_version": "1.5.0",
       "_model_name": "ProgressStyleModel",
       "_view_count": null,
       "_view_module": "@jupyter-widgets/base",
       "_view_module_version": "1.2.0",
       "_view_name": "StyleView",
       "bar_color": null,
       "description_width": ""
      }
     },
     "e213d0c60b0a447ca0903b4a8beca0a1": {
      "model_module": "@jupyter-widgets/controls",
      "model_module_version": "1.5.0",
      "model_name": "FloatProgressModel",
      "state": {
       "_dom_classes": [],
       "_model_module": "@jupyter-widgets/controls",
       "_model_module_version": "1.5.0",
       "_model_name": "FloatProgressModel",
       "_view_count": null,
       "_view_module": "@jupyter-widgets/controls",
       "_view_module_version": "1.5.0",
       "_view_name": "ProgressView",
       "bar_style": "success",
       "description": "",
       "description_tooltip": null,
       "layout": "IPY_MODEL_200fb641a5ff43bcaa272cdf2ec4d21a",
       "max": 7809.0,
       "min": 0.0,
       "orientation": "horizontal",
       "style": "IPY_MODEL_a76f9ca20c224045bdd9bfca6bc7d434",
       "value": 7809.0
      }
     },
     "ede8f53ae74b4902b85e6fdca6e63b99": {
      "model_module": "@jupyter-widgets/base",
      "model_module_version": "1.2.0",
      "model_name": "LayoutModel",
      "state": {
       "_model_module": "@jupyter-widgets/base",
       "_model_module_version": "1.2.0",
       "_model_name": "LayoutModel",
       "_view_count": null,
       "_view_module": "@jupyter-widgets/base",
       "_view_module_version": "1.2.0",
       "_view_name": "LayoutView",
       "align_content": null,
       "align_items": null,
       "align_self": null,
       "border": null,
       "bottom": null,
       "display": null,
       "flex": null,
       "flex_flow": null,
       "grid_area": null,
       "grid_auto_columns": null,
       "grid_auto_flow": null,
       "grid_auto_rows": null,
       "grid_column": null,
       "grid_gap": null,
       "grid_row": null,
       "grid_template_areas": null,
       "grid_template_columns": null,
       "grid_template_rows": null,
       "height": null,
       "justify_content": null,
       "justify_items": null,
       "left": null,
       "margin": null,
       "max_height": null,
       "max_width": null,
       "min_height": null,
       "min_width": null,
       "object_fit": null,
       "object_position": null,
       "order": null,
       "overflow": null,
       "overflow_x": null,
       "overflow_y": null,
       "padding": null,
       "right": null,
       "top": null,
       "visibility": null,
       "width": null
      }
     },
     "f3547b75f27749b7bfa2d2ec28030c19": {
      "model_module": "@jupyter-widgets/base",
      "model_module_version": "1.2.0",
      "model_name": "LayoutModel",
      "state": {
       "_model_module": "@jupyter-widgets/base",
       "_model_module_version": "1.2.0",
       "_model_name": "LayoutModel",
       "_view_count": null,
       "_view_module": "@jupyter-widgets/base",
       "_view_module_version": "1.2.0",
       "_view_name": "LayoutView",
       "align_content": null,
       "align_items": null,
       "align_self": null,
       "border": null,
       "bottom": null,
       "display": null,
       "flex": null,
       "flex_flow": null,
       "grid_area": null,
       "grid_auto_columns": null,
       "grid_auto_flow": null,
       "grid_auto_rows": null,
       "grid_column": null,
       "grid_gap": null,
       "grid_row": null,
       "grid_template_areas": null,
       "grid_template_columns": null,
       "grid_template_rows": null,
       "height": null,
       "justify_content": null,
       "justify_items": null,
       "left": null,
       "margin": null,
       "max_height": null,
       "max_width": null,
       "min_height": null,
       "min_width": null,
       "object_fit": null,
       "object_position": null,
       "order": null,
       "overflow": null,
       "overflow_x": null,
       "overflow_y": null,
       "padding": null,
       "right": null,
       "top": null,
       "visibility": null,
       "width": null
      }
     },
     "f3ad1e8a592d4fbf8de5e84fdb9fbe73": {
      "model_module": "@jupyter-widgets/base",
      "model_module_version": "1.2.0",
      "model_name": "LayoutModel",
      "state": {
       "_model_module": "@jupyter-widgets/base",
       "_model_module_version": "1.2.0",
       "_model_name": "LayoutModel",
       "_view_count": null,
       "_view_module": "@jupyter-widgets/base",
       "_view_module_version": "1.2.0",
       "_view_name": "LayoutView",
       "align_content": null,
       "align_items": null,
       "align_self": null,
       "border": null,
       "bottom": null,
       "display": null,
       "flex": null,
       "flex_flow": null,
       "grid_area": null,
       "grid_auto_columns": null,
       "grid_auto_flow": null,
       "grid_auto_rows": null,
       "grid_column": null,
       "grid_gap": null,
       "grid_row": null,
       "grid_template_areas": null,
       "grid_template_columns": null,
       "grid_template_rows": null,
       "height": null,
       "justify_content": null,
       "justify_items": null,
       "left": null,
       "margin": null,
       "max_height": null,
       "max_width": null,
       "min_height": null,
       "min_width": null,
       "object_fit": null,
       "object_position": null,
       "order": null,
       "overflow": null,
       "overflow_x": null,
       "overflow_y": null,
       "padding": null,
       "right": null,
       "top": null,
       "visibility": null,
       "width": null
      }
     },
     "fd5629cb97424e87ac2e753de3851d7b": {
      "model_module": "@jupyter-widgets/controls",
      "model_module_version": "1.5.0",
      "model_name": "HBoxModel",
      "state": {
       "_dom_classes": [],
       "_model_module": "@jupyter-widgets/controls",
       "_model_module_version": "1.5.0",
       "_model_name": "HBoxModel",
       "_view_count": null,
       "_view_module": "@jupyter-widgets/controls",
       "_view_module_version": "1.5.0",
       "_view_name": "HBoxView",
       "box_style": "",
       "children": [
        "IPY_MODEL_9469ba28d1ac4a02b5ce15a807259c89",
        "IPY_MODEL_75974a7e19a54724a9e81b5135aad42d",
        "IPY_MODEL_8917b2baf6ea48c8a0879cdaa1b52d4f"
       ],
       "layout": "IPY_MODEL_8802f9fecef548d6a1dd28c6e0e02d7c"
      }
     }
    },
    "version_major": 2,
    "version_minor": 0
   }
  }
 },
 "nbformat": 4,
 "nbformat_minor": 5
}
