{
 "cells": [
  {
   "cell_type": "code",
   "execution_count": 1,
   "id": "43708172",
   "metadata": {
    "execution": {
     "iopub.execute_input": "2024-05-01T22:26:27.374340Z",
     "iopub.status.busy": "2024-05-01T22:26:27.373364Z",
     "iopub.status.idle": "2024-05-01T22:26:43.463430Z",
     "shell.execute_reply": "2024-05-01T22:26:43.462192Z"
    },
    "papermill": {
     "duration": 16.110941,
     "end_time": "2024-05-01T22:26:43.466194",
     "exception": false,
     "start_time": "2024-05-01T22:26:27.355253",
     "status": "completed"
    },
    "tags": []
   },
   "outputs": [],
   "source": [
    "import os; os.environ[\"CONDA_PREFIX\"] = \"/opt/conda\"\n",
    "!pip install -U -q uv"
   ]
  },
  {
   "cell_type": "code",
   "execution_count": 2,
   "id": "42816e6f",
   "metadata": {
    "execution": {
     "iopub.execute_input": "2024-05-01T22:26:43.499271Z",
     "iopub.status.busy": "2024-05-01T22:26:43.498875Z",
     "iopub.status.idle": "2024-05-01T22:26:47.684939Z",
     "shell.execute_reply": "2024-05-01T22:26:47.683780Z"
    },
    "papermill": {
     "duration": 4.205786,
     "end_time": "2024-05-01T22:26:47.687698",
     "exception": false,
     "start_time": "2024-05-01T22:26:43.481912",
     "status": "completed"
    },
    "tags": []
   },
   "outputs": [
    {
     "name": "stdout",
     "output_type": "stream",
     "text": [
      "\u001b[2K\u001b[2mResolved \u001b[1m46 packages\u001b[0m in 478ms\u001b[0m\r\n",
      "\u001b[2K\u001b[2mDownloaded \u001b[1m15 packages\u001b[0m in 1.39s\u001b[0m\r\n",
      "\u001b[2K\u001b[2mInstalled \u001b[1m15 packages\u001b[0m in 99ms\u001b[0m\r\n",
      " \u001b[31m-\u001b[39m \u001b[1mcontourpy\u001b[0m\u001b[2m==1.2.0\u001b[0m\r\n",
      " \u001b[31m-\u001b[39m \u001b[1mcontourpy\u001b[0m\u001b[2m==1.2.1 (from file:///home/conda/feedstock_root/build_artifacts/contourpy_1712429905637/work)\u001b[0m\r\n",
      " \u001b[32m+\u001b[39m \u001b[1mcontourpy\u001b[0m\u001b[2m==1.2.0\u001b[0m\r\n",
      " \u001b[31m-\u001b[39m \u001b[1mfonttools\u001b[0m\u001b[2m==4.47.0\u001b[0m\r\n",
      " \u001b[31m-\u001b[39m \u001b[1mfonttools\u001b[0m\u001b[2m==4.51.0 (from file:///home/conda/feedstock_root/build_artifacts/fonttools_1712344558731/work)\u001b[0m\r\n",
      " \u001b[32m+\u001b[39m \u001b[1mfonttools\u001b[0m\u001b[2m==4.47.0\u001b[0m\r\n",
      " \u001b[31m-\u001b[39m \u001b[1mfsspec\u001b[0m\u001b[2m==2024.2.0\u001b[0m\r\n",
      " \u001b[31m-\u001b[39m \u001b[1mfsspec\u001b[0m\u001b[2m==2024.3.1 (from file:///home/conda/feedstock_root/build_artifacts/fsspec_1710808267764/work)\u001b[0m\r\n",
      " \u001b[32m+\u001b[39m \u001b[1mfsspec\u001b[0m\u001b[2m==2024.2.0\u001b[0m\r\n",
      " \u001b[31m-\u001b[39m \u001b[1mmarkupsafe\u001b[0m\u001b[2m==2.1.5\u001b[0m\r\n",
      " \u001b[31m-\u001b[39m \u001b[1mmarkupsafe\u001b[0m\u001b[2m==2.1.3 (from file:///home/conda/feedstock_root/build_artifacts/markupsafe_1695367434228/work)\u001b[0m\r\n",
      " \u001b[32m+\u001b[39m \u001b[1mmarkupsafe\u001b[0m\u001b[2m==2.1.5\u001b[0m\r\n",
      " \u001b[31m-\u001b[39m \u001b[1mmatplotlib\u001b[0m\u001b[2m==3.7.5\u001b[0m\r\n",
      " \u001b[31m-\u001b[39m \u001b[1mmatplotlib\u001b[0m\u001b[2m==3.8.4 (from file:///home/conda/feedstock_root/build_artifacts/matplotlib-suite_1712605966339/work)\u001b[0m\r\n",
      " \u001b[32m+\u001b[39m \u001b[1mmatplotlib\u001b[0m\u001b[2m==3.7.5\u001b[0m\r\n",
      " \u001b[32m+\u001b[39m \u001b[1mmodal-python\u001b[0m\u001b[2m==0.4.2.1\u001b[0m\r\n",
      " \u001b[31m-\u001b[39m \u001b[1mpandas\u001b[0m\u001b[2m==2.1.4\u001b[0m\r\n",
      " \u001b[31m-\u001b[39m \u001b[1mpandas\u001b[0m\u001b[2m==2.2.2\u001b[0m\r\n",
      " \u001b[32m+\u001b[39m \u001b[1mpandas\u001b[0m\u001b[2m==2.2.2\u001b[0m\r\n",
      " \u001b[31m-\u001b[39m \u001b[1mpillow\u001b[0m\u001b[2m==9.5.0\u001b[0m\r\n",
      " \u001b[31m-\u001b[39m \u001b[1mpillow\u001b[0m\u001b[2m==10.3.0 (from file:///home/conda/feedstock_root/build_artifacts/pillow_1712154467551/work)\u001b[0m\r\n",
      " \u001b[32m+\u001b[39m \u001b[1mpillow\u001b[0m\u001b[2m==9.5.0\u001b[0m\r\n",
      " \u001b[31m-\u001b[39m \u001b[1mpyparsing\u001b[0m\u001b[2m==3.1.1\u001b[0m\r\n",
      " \u001b[31m-\u001b[39m \u001b[1mpyparsing\u001b[0m\u001b[2m==3.1.2 (from file:///home/conda/feedstock_root/build_artifacts/pyparsing_1709721012883/work)\u001b[0m\r\n",
      " \u001b[32m+\u001b[39m \u001b[1mpyparsing\u001b[0m\u001b[2m==3.1.1\u001b[0m\r\n",
      " \u001b[31m-\u001b[39m \u001b[1mpytz\u001b[0m\u001b[2m==2023.3.post1\u001b[0m\r\n",
      " \u001b[31m-\u001b[39m \u001b[1mpytz\u001b[0m\u001b[2m==2024.1 (from file:///home/conda/feedstock_root/build_artifacts/pytz_1706886791323/work)\u001b[0m\r\n",
      " \u001b[32m+\u001b[39m \u001b[1mpytz\u001b[0m\u001b[2m==2023.3.post1\u001b[0m\r\n",
      " \u001b[31m-\u001b[39m \u001b[1mscipy\u001b[0m\u001b[2m==1.11.4\u001b[0m\r\n",
      " \u001b[31m-\u001b[39m \u001b[1mscipy\u001b[0m\u001b[2m==1.13.0 (from file:///home/conda/feedstock_root/build_artifacts/scipy-split_1712255231550/work/dist/scipy-1.13.0-cp310-cp310-linux_x86_64.whl)\u001b[0m\r\n",
      " \u001b[32m+\u001b[39m \u001b[1mscipy\u001b[0m\u001b[2m==1.11.4\u001b[0m\r\n",
      " \u001b[32m+\u001b[39m \u001b[1msetuptools\u001b[0m\u001b[2m==69.5.1\u001b[0m\r\n",
      " \u001b[32m+\u001b[39m \u001b[1mskorch\u001b[0m\u001b[2m==0.9.0\u001b[0m\r\n",
      " \u001b[32m+\u001b[39m \u001b[1mtorchsummary\u001b[0m\u001b[2m==1.5.1\u001b[0m\r\n",
      " \u001b[31m-\u001b[39m \u001b[1murllib3\u001b[0m\u001b[2m==1.26.18\u001b[0m\r\n",
      " \u001b[31m-\u001b[39m \u001b[1murllib3\u001b[0m\u001b[2m==2.1.0 (from file:///home/conda/feedstock_root/build_artifacts/urllib3_1699933488691/work)\u001b[0m\r\n",
      " \u001b[32m+\u001b[39m \u001b[1murllib3\u001b[0m\u001b[2m==1.26.18\u001b[0m\r\n"
     ]
    }
   ],
   "source": [
    "!uv pip install modAL-python torchvision torchmetrics mlxtend torchsummary scikit-learn-intelex"
   ]
  },
  {
   "cell_type": "markdown",
   "id": "da71d059",
   "metadata": {
    "papermill": {
     "duration": 0.018205,
     "end_time": "2024-05-01T22:26:47.726003",
     "exception": false,
     "start_time": "2024-05-01T22:26:47.707798",
     "status": "completed"
    },
    "tags": []
   },
   "source": [
    "# Imports\n"
   ]
  },
  {
   "cell_type": "code",
   "execution_count": 3,
   "id": "e425ae99",
   "metadata": {
    "execution": {
     "iopub.execute_input": "2024-05-01T22:26:47.766597Z",
     "iopub.status.busy": "2024-05-01T22:26:47.766203Z",
     "iopub.status.idle": "2024-05-01T22:27:14.356755Z",
     "shell.execute_reply": "2024-05-01T22:27:14.355684Z"
    },
    "executionInfo": {
     "elapsed": 5762,
     "status": "ok",
     "timestamp": 1701293423240,
     "user": {
      "displayName": "Youssef Mohammed",
      "userId": "12710576455766724467"
     },
     "user_tz": -120
    },
    "id": "rICU4VwNLxsU",
    "outputId": "19f44fcf-0e7c-4613-9e59-8b395a445c2c",
    "papermill": {
     "duration": 26.614777,
     "end_time": "2024-05-01T22:27:14.359700",
     "exception": false,
     "start_time": "2024-05-01T22:26:47.744923",
     "status": "completed"
    },
    "tags": []
   },
   "outputs": [
    {
     "name": "stderr",
     "output_type": "stream",
     "text": [
      "2024-05-01 22:27:03.799008: E external/local_xla/xla/stream_executor/cuda/cuda_dnn.cc:9261] Unable to register cuDNN factory: Attempting to register factory for plugin cuDNN when one has already been registered\n",
      "2024-05-01 22:27:03.799158: E external/local_xla/xla/stream_executor/cuda/cuda_fft.cc:607] Unable to register cuFFT factory: Attempting to register factory for plugin cuFFT when one has already been registered\n",
      "2024-05-01 22:27:03.934424: E external/local_xla/xla/stream_executor/cuda/cuda_blas.cc:1515] Unable to register cuBLAS factory: Attempting to register factory for plugin cuBLAS when one has already been registered\n"
     ]
    },
    {
     "name": "stdout",
     "output_type": "stream",
     "text": [
      "mlxtend version: 0.23.1\n",
      "torch 2.1.2\n",
      "torchvision 0.16.2\n",
      "CUDA available: True\n",
      "GPU List: 1\n",
      "Current Device: 0\n"
     ]
    },
    {
     "name": "stderr",
     "output_type": "stream",
     "text": [
      "Intel(R) Extension for Scikit-learn* enabled (https://github.com/intel/scikit-learn-intelex)\n"
     ]
    }
   ],
   "source": [
    "import random\n",
    "import matplotlib.pyplot as plt\n",
    "import mlxtend\n",
    "import numpy as np\n",
    "import torch\n",
    "import torchvision\n",
    "from mlxtend.plotting import plot_confusion_matrix\n",
    "from modAL.models import ActiveLearner\n",
    "from modAL.uncertainty import entropy_sampling, margin_sampling, uncertainty_sampling\n",
    "from torchmetrics import ConfusionMatrix, F1Score, Precision, Recall\n",
    "from sklearnex import patch_sklearn\n",
    "import warnings\n",
    "from sklearn.linear_model import LogisticRegression\n",
    "import tensorflow_hub as hub\n",
    "from datasets import load_dataset\n",
    "\n",
    "os.mkdir(\"reports\")\n",
    "patch_sklearn()\n",
    "print(f\"mlxtend version: {mlxtend.__version__}\")\n",
    "print(\"torch\", torch.__version__)\n",
    "print(\"torchvision\", torchvision.__version__)\n",
    "print(\"CUDA available:\", torch.cuda.is_available())\n",
    "print(\"GPU List:\", torch.cuda.device_count())\n",
    "print(\"Current Device:\", torch.cuda.current_device())\n",
    "warnings.filterwarnings(\"ignore\")"
   ]
  },
  {
   "cell_type": "markdown",
   "id": "6ecc7092",
   "metadata": {
    "papermill": {
     "duration": 0.01703,
     "end_time": "2024-05-01T22:27:14.393937",
     "exception": false,
     "start_time": "2024-05-01T22:27:14.376907",
     "status": "completed"
    },
    "tags": []
   },
   "source": [
    "# Active Learning\n"
   ]
  },
  {
   "cell_type": "code",
   "execution_count": 4,
   "id": "c56cc9a5",
   "metadata": {
    "execution": {
     "iopub.execute_input": "2024-05-01T22:27:14.431905Z",
     "iopub.status.busy": "2024-05-01T22:27:14.430882Z",
     "iopub.status.idle": "2024-05-01T22:27:14.450570Z",
     "shell.execute_reply": "2024-05-01T22:27:14.449560Z"
    },
    "papermill": {
     "duration": 0.041499,
     "end_time": "2024-05-01T22:27:14.452899",
     "exception": false,
     "start_time": "2024-05-01T22:27:14.411400",
     "status": "completed"
    },
    "tags": []
   },
   "outputs": [],
   "source": [
    "def active_learning(pool_x, pool_y, initial_x, initial_y, test_x, test_y, method, model, num_classes, class_names):\n",
    "    learner = None\n",
    "    cycles = 100\n",
    "    acc = []\n",
    "    precision_result = []\n",
    "    recall_result = []\n",
    "    f1_result = []\n",
    "    if method == \"uncertainty_sampling\":\n",
    "        learner = ActiveLearner(\n",
    "            estimator=model,\n",
    "            X_training=initial_x,\n",
    "            y_training=initial_y,\n",
    "            query_strategy=uncertainty_sampling,\n",
    "        )\n",
    "    elif method == \"margin_sampling\":\n",
    "        learner = ActiveLearner(\n",
    "            estimator=model,\n",
    "            X_training=initial_x,\n",
    "            y_training=initial_y,\n",
    "            query_strategy=margin_sampling,\n",
    "        )\n",
    "    elif method == \"entropy_sampling\":\n",
    "        learner = ActiveLearner(\n",
    "            estimator=model,\n",
    "            X_training=initial_x,\n",
    "            y_training=initial_y,\n",
    "            query_strategy=entropy_sampling,\n",
    "        )\n",
    "    elif method == \"random_sampling\":\n",
    "\n",
    "        def random_sampling(Learner, pool_x, n_instances):\n",
    "            n_samples = len(pool_x)\n",
    "            #             pool_x = pool_x.reshape(-1, 3, 32, 32)\n",
    "            query_idx = np.random.choice(\n",
    "                range(n_samples), size=n_instances, replace=False\n",
    "            )\n",
    "            X_query = pool_x[query_idx]\n",
    "            return query_idx, X_query\n",
    "\n",
    "        initial_x = initial_x.astype(np.float32)\n",
    "        learner = ActiveLearner(\n",
    "            estimator=model,\n",
    "            X_training=initial_x,\n",
    "            y_training=initial_y,\n",
    "            query_strategy=random_sampling,\n",
    "        )\n",
    "    else:\n",
    "        print(\"Invalid Input\")\n",
    "    print(f\"Starting Active Learning with {method} method\")\n",
    "    for cycle in range(cycles):\n",
    "        print(f\"\\nCycle: {cycle+1}\")\n",
    "        query_idx, query_instance = learner.query(\n",
    "            pool_x, n_instances=1\n",
    "        )  # n_instances=100\n",
    "        learner.teach(X=pool_x[query_idx], y=pool_y[query_idx])\n",
    "        # remove queried instance from pool_x\n",
    "        pool_x = np.delete(pool_x, query_idx, axis=0)\n",
    "        pool_y = np.delete(pool_y, query_idx, axis=0)\n",
    "        model_accuracy = learner.score(\n",
    "            np.concatenate((initial_x, pool_x), axis=0),\n",
    "            np.concatenate((initial_y, pool_y), axis=0),\n",
    "        )\n",
    "        print(f\"Accuracy after query {cycle+1}: {model_accuracy:0.4f}\")\n",
    "        acc.append(model_accuracy)\n",
    "\n",
    "        y_pred = learner.predict(test_x)\n",
    "        # Initialize precision, recall, and F1 score metrics\n",
    "        precision = Precision(task=\"multiclass\", num_classes=num_classes)\n",
    "        recall = Recall(task=\"multiclass\", num_classes=num_classes)\n",
    "        f1 = F1Score(task=\"multiclass\", num_classes=num_classes)\n",
    "        # Update the metrics with true and predicted labels\n",
    "        precision.update(torch.tensor(y_pred), torch.tensor(test_y))\n",
    "        recall.update(torch.tensor(y_pred), torch.tensor(test_y))\n",
    "        f1.update(torch.tensor(y_pred), torch.tensor(test_y))\n",
    "        # Compute the metrics\n",
    "        precision_result.append(precision.compute())\n",
    "        recall_result.append(recall.compute())\n",
    "        f1_result.append(f1.compute())\n",
    "\n",
    "    confusion_matrix = ConfusionMatrix(task=\"multiclass\", num_classes=num_classes)\n",
    "    confusion_matrix.update(torch.tensor(y_pred), torch.tensor(test_y))\n",
    "    confusion_matrix.compute()\n",
    "    fig, ax = plot_confusion_matrix(\n",
    "        conf_mat=confusion_matrix.compute().numpy(),\n",
    "        class_names=class_names,\n",
    "        figsize=(10, 7),\n",
    "        show_absolute=True,\n",
    "        show_normed=True,\n",
    "        colorbar=True,\n",
    "    )\n",
    "    plt.savefig(f\"reports/conf_mat_{method}_after_al.png\")\n",
    "    return acc, precision_result, recall_result, f1_result"
   ]
  },
  {
   "cell_type": "markdown",
   "id": "c2e55e77",
   "metadata": {
    "papermill": {
     "duration": 0.018827,
     "end_time": "2024-05-01T22:27:14.490662",
     "exception": false,
     "start_time": "2024-05-01T22:27:14.471835",
     "status": "completed"
    },
    "tags": []
   },
   "source": [
    "# Data\n"
   ]
  },
  {
   "cell_type": "code",
   "execution_count": 5,
   "id": "7546e16d",
   "metadata": {
    "execution": {
     "iopub.execute_input": "2024-05-01T22:27:14.529504Z",
     "iopub.status.busy": "2024-05-01T22:27:14.528718Z",
     "iopub.status.idle": "2024-05-01T22:27:20.998590Z",
     "shell.execute_reply": "2024-05-01T22:27:20.997550Z"
    },
    "papermill": {
     "duration": 6.492107,
     "end_time": "2024-05-01T22:27:21.000965",
     "exception": false,
     "start_time": "2024-05-01T22:27:14.508858",
     "status": "completed"
    },
    "tags": []
   },
   "outputs": [
    {
     "data": {
      "application/vnd.jupyter.widget-view+json": {
       "model_id": "047be9fe2cbf4a01ba9913e0f861ff94",
       "version_major": 2,
       "version_minor": 0
      },
      "text/plain": [
       "Downloading readme:   0%|          | 0.00/7.81k [00:00<?, ?B/s]"
      ]
     },
     "metadata": {},
     "output_type": "display_data"
    },
    {
     "name": "stderr",
     "output_type": "stream",
     "text": [
      "Downloading data: 100%|██████████| 21.0M/21.0M [00:00<00:00, 23.2MB/s]\n",
      "Downloading data: 100%|██████████| 20.5M/20.5M [00:00<00:00, 27.1MB/s]\n",
      "Downloading data: 100%|██████████| 42.0M/42.0M [00:01<00:00, 36.5MB/s]\n"
     ]
    },
    {
     "data": {
      "application/vnd.jupyter.widget-view+json": {
       "model_id": "45480011093e4997b4d3fc778c68c6be",
       "version_major": 2,
       "version_minor": 0
      },
      "text/plain": [
       "Generating train split:   0%|          | 0/25000 [00:00<?, ? examples/s]"
      ]
     },
     "metadata": {},
     "output_type": "display_data"
    },
    {
     "data": {
      "application/vnd.jupyter.widget-view+json": {
       "model_id": "e4699a6daa844b87a515d9a69782c6c4",
       "version_major": 2,
       "version_minor": 0
      },
      "text/plain": [
       "Generating test split:   0%|          | 0/25000 [00:00<?, ? examples/s]"
      ]
     },
     "metadata": {},
     "output_type": "display_data"
    },
    {
     "data": {
      "application/vnd.jupyter.widget-view+json": {
       "model_id": "a3d984da75c34eca9bf0f7fc679f83b7",
       "version_major": 2,
       "version_minor": 0
      },
      "text/plain": [
       "Generating unsupervised split:   0%|          | 0/50000 [00:00<?, ? examples/s]"
      ]
     },
     "metadata": {},
     "output_type": "display_data"
    },
    {
     "data": {
      "text/plain": [
       "DatasetDict({\n",
       "    train: Dataset({\n",
       "        features: ['text', 'label'],\n",
       "        num_rows: 25000\n",
       "    })\n",
       "    test: Dataset({\n",
       "        features: ['text', 'label'],\n",
       "        num_rows: 25000\n",
       "    })\n",
       "    unsupervised: Dataset({\n",
       "        features: ['text', 'label'],\n",
       "        num_rows: 50000\n",
       "    })\n",
       "})"
      ]
     },
     "execution_count": 5,
     "metadata": {},
     "output_type": "execute_result"
    }
   ],
   "source": [
    "imdb = load_dataset(\"stanfordnlp/imdb\")\n",
    "imdb"
   ]
  },
  {
   "cell_type": "code",
   "execution_count": 6,
   "id": "3e329b54",
   "metadata": {
    "execution": {
     "iopub.execute_input": "2024-05-01T22:27:21.043328Z",
     "iopub.status.busy": "2024-05-01T22:27:21.042981Z",
     "iopub.status.idle": "2024-05-01T22:27:21.269797Z",
     "shell.execute_reply": "2024-05-01T22:27:21.268662Z"
    },
    "papermill": {
     "duration": 0.250563,
     "end_time": "2024-05-01T22:27:21.272417",
     "exception": false,
     "start_time": "2024-05-01T22:27:21.021854",
     "status": "completed"
    },
    "tags": []
   },
   "outputs": [],
   "source": [
    "x_train = imdb[\"train\"][\"text\"]\n",
    "y_train = imdb[\"train\"][\"label\"]\n",
    "x_test = imdb[\"test\"][\"text\"]\n",
    "y_test = imdb[\"test\"][\"label\"]"
   ]
  },
  {
   "cell_type": "code",
   "execution_count": 7,
   "id": "c01c01d8",
   "metadata": {
    "execution": {
     "iopub.execute_input": "2024-05-01T22:27:21.327659Z",
     "iopub.status.busy": "2024-05-01T22:27:21.327128Z",
     "iopub.status.idle": "2024-05-01T22:27:24.320152Z",
     "shell.execute_reply": "2024-05-01T22:27:24.318996Z"
    },
    "papermill": {
     "duration": 3.025647,
     "end_time": "2024-05-01T22:27:24.323562",
     "exception": false,
     "start_time": "2024-05-01T22:27:21.297915",
     "status": "completed"
    },
    "tags": []
   },
   "outputs": [],
   "source": [
    "random_idx = random.sample(range(len(x_train)), 10000)\n",
    "x_train = np.array(x_train)[random_idx]\n",
    "y_train = np.array(y_train)[random_idx]\n",
    "\n",
    "random_idx = random.sample(range(len(x_test)), 10000)\n",
    "x_test = np.array(x_test)[random_idx]\n",
    "y_test = np.array(y_test)[random_idx]"
   ]
  },
  {
   "cell_type": "code",
   "execution_count": 8,
   "id": "d74c5b41",
   "metadata": {
    "execution": {
     "iopub.execute_input": "2024-05-01T22:27:24.372156Z",
     "iopub.status.busy": "2024-05-01T22:27:24.371739Z",
     "iopub.status.idle": "2024-05-01T22:27:24.378744Z",
     "shell.execute_reply": "2024-05-01T22:27:24.377752Z"
    },
    "papermill": {
     "duration": 0.03237,
     "end_time": "2024-05-01T22:27:24.381343",
     "exception": false,
     "start_time": "2024-05-01T22:27:24.348973",
     "status": "completed"
    },
    "tags": []
   },
   "outputs": [
    {
     "data": {
      "text/plain": [
       "((10000,), (10000,), (10000,), (10000,))"
      ]
     },
     "execution_count": 8,
     "metadata": {},
     "output_type": "execute_result"
    }
   ],
   "source": [
    "x_train.shape, y_train.shape, x_test.shape, y_test.shape"
   ]
  },
  {
   "cell_type": "code",
   "execution_count": 9,
   "id": "cc6fb54e",
   "metadata": {
    "execution": {
     "iopub.execute_input": "2024-05-01T22:27:24.434531Z",
     "iopub.status.busy": "2024-05-01T22:27:24.433683Z",
     "iopub.status.idle": "2024-05-01T22:27:41.461920Z",
     "shell.execute_reply": "2024-05-01T22:27:41.460576Z"
    },
    "papermill": {
     "duration": 17.054318,
     "end_time": "2024-05-01T22:27:41.465645",
     "exception": false,
     "start_time": "2024-05-01T22:27:24.411327",
     "status": "completed"
    },
    "tags": []
   },
   "outputs": [],
   "source": [
    "embed = hub.load(\n",
    "    \"/kaggle/input/universal-sentence-encoder/tensorflow2/universal-sentence-encoder/2\"\n",
    ")"
   ]
  },
  {
   "cell_type": "code",
   "execution_count": 10,
   "id": "c176e8f7",
   "metadata": {
    "execution": {
     "iopub.execute_input": "2024-05-01T22:27:41.510958Z",
     "iopub.status.busy": "2024-05-01T22:27:41.510068Z",
     "iopub.status.idle": "2024-05-01T22:28:15.729399Z",
     "shell.execute_reply": "2024-05-01T22:28:15.728467Z"
    },
    "papermill": {
     "duration": 34.245057,
     "end_time": "2024-05-01T22:28:15.732268",
     "exception": false,
     "start_time": "2024-05-01T22:27:41.487211",
     "status": "completed"
    },
    "tags": []
   },
   "outputs": [],
   "source": [
    "x_train_embeddings = embed(x_train)\n",
    "x_test_embeddings = embed(x_test)"
   ]
  },
  {
   "cell_type": "code",
   "execution_count": 11,
   "id": "7e4dc01b",
   "metadata": {
    "execution": {
     "iopub.execute_input": "2024-05-01T22:28:15.777531Z",
     "iopub.status.busy": "2024-05-01T22:28:15.776796Z",
     "iopub.status.idle": "2024-05-01T22:28:15.869652Z",
     "shell.execute_reply": "2024-05-01T22:28:15.868508Z"
    },
    "papermill": {
     "duration": 0.119039,
     "end_time": "2024-05-01T22:28:15.872283",
     "exception": false,
     "start_time": "2024-05-01T22:28:15.753244",
     "status": "completed"
    },
    "tags": []
   },
   "outputs": [],
   "source": [
    "x_train = x_train_embeddings.numpy()\n",
    "x_test = x_test_embeddings.numpy()"
   ]
  },
  {
   "cell_type": "code",
   "execution_count": 12,
   "id": "19c5093e",
   "metadata": {
    "execution": {
     "iopub.execute_input": "2024-05-01T22:28:15.916022Z",
     "iopub.status.busy": "2024-05-01T22:28:15.915260Z",
     "iopub.status.idle": "2024-05-01T22:28:16.034733Z",
     "shell.execute_reply": "2024-05-01T22:28:16.033864Z"
    },
    "papermill": {
     "duration": 0.143421,
     "end_time": "2024-05-01T22:28:16.037215",
     "exception": false,
     "start_time": "2024-05-01T22:28:15.893794",
     "status": "completed"
    },
    "tags": []
   },
   "outputs": [],
   "source": [
    "# Define the percentage of data without labels\n",
    "percentage_without_labels = 0.8\n",
    "\n",
    "# Calculate the number of samples without labels\n",
    "num_samples_without_labels = int(len(x_train) * percentage_without_labels)\n",
    "num_samples_with_labels = len(x_train) - num_samples_without_labels\n",
    "\n",
    "# Create indices for data with labels and without labels\n",
    "indices_without_labels = np.random.choice(\n",
    "    range(len(x_train)), size=num_samples_without_labels, replace=False\n",
    ")\n",
    "indices_with_labels = np.array(\n",
    "    [i for i in range(len(x_train)) if i not in indices_without_labels]\n",
    ")\n",
    "\n",
    "x_initial = x_train[indices_with_labels]\n",
    "y_initial = y_train[indices_with_labels]\n",
    "\n",
    "# generate the pool\n",
    "# remove the initial data from the training dataset\n",
    "x_pool = np.delete(x_train, indices_with_labels, axis=0)\n",
    "y_pool = np.delete(y_train, indices_with_labels, axis=0)"
   ]
  },
  {
   "cell_type": "code",
   "execution_count": 13,
   "id": "eab8f8d0",
   "metadata": {
    "execution": {
     "iopub.execute_input": "2024-05-01T22:28:16.080138Z",
     "iopub.status.busy": "2024-05-01T22:28:16.079768Z",
     "iopub.status.idle": "2024-05-01T22:28:16.086927Z",
     "shell.execute_reply": "2024-05-01T22:28:16.085747Z"
    },
    "papermill": {
     "duration": 0.031376,
     "end_time": "2024-05-01T22:28:16.089214",
     "exception": false,
     "start_time": "2024-05-01T22:28:16.057838",
     "status": "completed"
    },
    "tags": []
   },
   "outputs": [
    {
     "data": {
      "text/plain": [
       "((2000, 512), (2000,), (8000, 512), (8000,))"
      ]
     },
     "execution_count": 13,
     "metadata": {},
     "output_type": "execute_result"
    }
   ],
   "source": [
    "x_initial.shape, y_initial.shape, x_pool.shape, y_pool.shape"
   ]
  },
  {
   "cell_type": "code",
   "execution_count": 14,
   "id": "9bfb58bf",
   "metadata": {
    "execution": {
     "iopub.execute_input": "2024-05-01T22:28:16.134106Z",
     "iopub.status.busy": "2024-05-01T22:28:16.133309Z",
     "iopub.status.idle": "2024-05-01T22:28:16.139871Z",
     "shell.execute_reply": "2024-05-01T22:28:16.138853Z"
    },
    "papermill": {
     "duration": 0.031096,
     "end_time": "2024-05-01T22:28:16.141855",
     "exception": false,
     "start_time": "2024-05-01T22:28:16.110759",
     "status": "completed"
    },
    "tags": []
   },
   "outputs": [
    {
     "data": {
      "text/plain": [
       "(10000, 512)"
      ]
     },
     "execution_count": 14,
     "metadata": {},
     "output_type": "execute_result"
    }
   ],
   "source": [
    "x_train.shape"
   ]
  },
  {
   "cell_type": "code",
   "execution_count": 15,
   "id": "c2739a60",
   "metadata": {
    "execution": {
     "iopub.execute_input": "2024-05-01T22:28:16.187077Z",
     "iopub.status.busy": "2024-05-01T22:28:16.186389Z",
     "iopub.status.idle": "2024-05-01T22:28:16.191096Z",
     "shell.execute_reply": "2024-05-01T22:28:16.190078Z"
    },
    "papermill": {
     "duration": 0.029885,
     "end_time": "2024-05-01T22:28:16.193358",
     "exception": false,
     "start_time": "2024-05-01T22:28:16.163473",
     "status": "completed"
    },
    "tags": []
   },
   "outputs": [],
   "source": [
    "clf = LogisticRegression()"
   ]
  },
  {
   "cell_type": "code",
   "execution_count": 16,
   "id": "f11e433a",
   "metadata": {
    "execution": {
     "iopub.execute_input": "2024-05-01T22:28:16.238972Z",
     "iopub.status.busy": "2024-05-01T22:28:16.238205Z",
     "iopub.status.idle": "2024-05-01T22:28:16.376659Z",
     "shell.execute_reply": "2024-05-01T22:28:16.375241Z"
    },
    "papermill": {
     "duration": 0.166399,
     "end_time": "2024-05-01T22:28:16.381410",
     "exception": false,
     "start_time": "2024-05-01T22:28:16.215011",
     "status": "completed"
    },
    "tags": []
   },
   "outputs": [
    {
     "name": "stderr",
     "output_type": "stream",
     "text": [
      "INFO:sklearnex: sklearn.utils.validation._assert_all_finite: running accelerated version on CPU\n"
     ]
    },
    {
     "data": {
      "text/html": [
       "<style>#sk-container-id-1 {color: black;background-color: white;}#sk-container-id-1 pre{padding: 0;}#sk-container-id-1 div.sk-toggleable {background-color: white;}#sk-container-id-1 label.sk-toggleable__label {cursor: pointer;display: block;width: 100%;margin-bottom: 0;padding: 0.3em;box-sizing: border-box;text-align: center;}#sk-container-id-1 label.sk-toggleable__label-arrow:before {content: \"▸\";float: left;margin-right: 0.25em;color: #696969;}#sk-container-id-1 label.sk-toggleable__label-arrow:hover:before {color: black;}#sk-container-id-1 div.sk-estimator:hover label.sk-toggleable__label-arrow:before {color: black;}#sk-container-id-1 div.sk-toggleable__content {max-height: 0;max-width: 0;overflow: hidden;text-align: left;background-color: #f0f8ff;}#sk-container-id-1 div.sk-toggleable__content pre {margin: 0.2em;color: black;border-radius: 0.25em;background-color: #f0f8ff;}#sk-container-id-1 input.sk-toggleable__control:checked~div.sk-toggleable__content {max-height: 200px;max-width: 100%;overflow: auto;}#sk-container-id-1 input.sk-toggleable__control:checked~label.sk-toggleable__label-arrow:before {content: \"▾\";}#sk-container-id-1 div.sk-estimator input.sk-toggleable__control:checked~label.sk-toggleable__label {background-color: #d4ebff;}#sk-container-id-1 div.sk-label input.sk-toggleable__control:checked~label.sk-toggleable__label {background-color: #d4ebff;}#sk-container-id-1 input.sk-hidden--visually {border: 0;clip: rect(1px 1px 1px 1px);clip: rect(1px, 1px, 1px, 1px);height: 1px;margin: -1px;overflow: hidden;padding: 0;position: absolute;width: 1px;}#sk-container-id-1 div.sk-estimator {font-family: monospace;background-color: #f0f8ff;border: 1px dotted black;border-radius: 0.25em;box-sizing: border-box;margin-bottom: 0.5em;}#sk-container-id-1 div.sk-estimator:hover {background-color: #d4ebff;}#sk-container-id-1 div.sk-parallel-item::after {content: \"\";width: 100%;border-bottom: 1px solid gray;flex-grow: 1;}#sk-container-id-1 div.sk-label:hover label.sk-toggleable__label {background-color: #d4ebff;}#sk-container-id-1 div.sk-serial::before {content: \"\";position: absolute;border-left: 1px solid gray;box-sizing: border-box;top: 0;bottom: 0;left: 50%;z-index: 0;}#sk-container-id-1 div.sk-serial {display: flex;flex-direction: column;align-items: center;background-color: white;padding-right: 0.2em;padding-left: 0.2em;position: relative;}#sk-container-id-1 div.sk-item {position: relative;z-index: 1;}#sk-container-id-1 div.sk-parallel {display: flex;align-items: stretch;justify-content: center;background-color: white;position: relative;}#sk-container-id-1 div.sk-item::before, #sk-container-id-1 div.sk-parallel-item::before {content: \"\";position: absolute;border-left: 1px solid gray;box-sizing: border-box;top: 0;bottom: 0;left: 50%;z-index: -1;}#sk-container-id-1 div.sk-parallel-item {display: flex;flex-direction: column;z-index: 1;position: relative;background-color: white;}#sk-container-id-1 div.sk-parallel-item:first-child::after {align-self: flex-end;width: 50%;}#sk-container-id-1 div.sk-parallel-item:last-child::after {align-self: flex-start;width: 50%;}#sk-container-id-1 div.sk-parallel-item:only-child::after {width: 0;}#sk-container-id-1 div.sk-dashed-wrapped {border: 1px dashed gray;margin: 0 0.4em 0.5em 0.4em;box-sizing: border-box;padding-bottom: 0.4em;background-color: white;}#sk-container-id-1 div.sk-label label {font-family: monospace;font-weight: bold;display: inline-block;line-height: 1.2em;}#sk-container-id-1 div.sk-label-container {text-align: center;}#sk-container-id-1 div.sk-container {/* jupyter's `normalize.less` sets `[hidden] { display: none; }` but bootstrap.min.css set `[hidden] { display: none !important; }` so we also need the `!important` here to be able to override the default hidden behavior on the sphinx rendered scikit-learn.org. See: https://github.com/scikit-learn/scikit-learn/issues/21755 */display: inline-block !important;position: relative;}#sk-container-id-1 div.sk-text-repr-fallback {display: none;}</style><div id=\"sk-container-id-1\" class=\"sk-top-container\"><div class=\"sk-text-repr-fallback\"><pre>LogisticRegression()</pre><b>In a Jupyter environment, please rerun this cell to show the HTML representation or trust the notebook. <br />On GitHub, the HTML representation is unable to render, please try loading this page with nbviewer.org.</b></div><div class=\"sk-container\" hidden><div class=\"sk-item\"><div class=\"sk-estimator sk-toggleable\"><input class=\"sk-toggleable__control sk-hidden--visually\" id=\"sk-estimator-id-1\" type=\"checkbox\" checked><label for=\"sk-estimator-id-1\" class=\"sk-toggleable__label sk-toggleable__label-arrow\">LogisticRegression</label><div class=\"sk-toggleable__content\"><pre>LogisticRegression()</pre></div></div></div></div></div>"
      ],
      "text/plain": [
       "LogisticRegression()"
      ]
     },
     "execution_count": 16,
     "metadata": {},
     "output_type": "execute_result"
    }
   ],
   "source": [
    "clf.fit(x_initial, y_initial)"
   ]
  },
  {
   "cell_type": "code",
   "execution_count": 17,
   "id": "e58a03eb",
   "metadata": {
    "execution": {
     "iopub.execute_input": "2024-05-01T22:28:16.492954Z",
     "iopub.status.busy": "2024-05-01T22:28:16.492294Z",
     "iopub.status.idle": "2024-05-01T22:28:16.530502Z",
     "shell.execute_reply": "2024-05-01T22:28:16.528974Z"
    },
    "papermill": {
     "duration": 0.097637,
     "end_time": "2024-05-01T22:28:16.534276",
     "exception": false,
     "start_time": "2024-05-01T22:28:16.436639",
     "status": "completed"
    },
    "tags": []
   },
   "outputs": [
    {
     "name": "stderr",
     "output_type": "stream",
     "text": [
      "INFO:sklearnex: sklearn.utils.validation._assert_all_finite: running accelerated version on CPU\n"
     ]
    },
    {
     "data": {
      "text/plain": [
       "0.8417"
      ]
     },
     "execution_count": 17,
     "metadata": {},
     "output_type": "execute_result"
    }
   ],
   "source": [
    "clf.score(x_test, y_test)"
   ]
  },
  {
   "cell_type": "code",
   "execution_count": 18,
   "id": "9a983d39",
   "metadata": {
    "execution": {
     "iopub.execute_input": "2024-05-01T22:28:16.636111Z",
     "iopub.status.busy": "2024-05-01T22:28:16.635401Z",
     "iopub.status.idle": "2024-05-01T22:28:33.537920Z",
     "shell.execute_reply": "2024-05-01T22:28:33.536780Z"
    },
    "papermill": {
     "duration": 16.957181,
     "end_time": "2024-05-01T22:28:33.540216",
     "exception": false,
     "start_time": "2024-05-01T22:28:16.583035",
     "status": "completed"
    },
    "tags": []
   },
   "outputs": [
    {
     "name": "stderr",
     "output_type": "stream",
     "text": [
      "INFO:sklearnex: sklearn.utils.validation._assert_all_finite: running accelerated version on CPU\n",
      "INFO:sklearnex: sklearn.utils.validation._assert_all_finite: running accelerated version on CPU\n",
      "INFO:sklearnex: sklearn.utils.validation._assert_all_finite: running accelerated version on CPU\n",
      "INFO:sklearnex: sklearn.utils.validation._assert_all_finite: running accelerated version on CPU\n"
     ]
    },
    {
     "name": "stdout",
     "output_type": "stream",
     "text": [
      "Starting Active Learning with random_sampling method\n",
      "\n",
      "Cycle: 1\n",
      "Accuracy after query 1: 0.8481\n"
     ]
    },
    {
     "name": "stderr",
     "output_type": "stream",
     "text": [
      "INFO:sklearnex: sklearn.utils.validation._assert_all_finite: running accelerated version on CPU\n",
      "INFO:sklearnex: sklearn.utils.validation._assert_all_finite: running accelerated version on CPU\n",
      "INFO:sklearnex: sklearn.utils.validation._assert_all_finite: running accelerated version on CPU\n",
      "INFO:sklearnex: sklearn.utils.validation._assert_all_finite: running accelerated version on CPU\n"
     ]
    },
    {
     "name": "stdout",
     "output_type": "stream",
     "text": [
      "\n",
      "Cycle: 2\n",
      "Accuracy after query 2: 0.8476\n",
      "\n",
      "Cycle: 3\n"
     ]
    },
    {
     "name": "stderr",
     "output_type": "stream",
     "text": [
      "INFO:sklearnex: sklearn.utils.validation._assert_all_finite: running accelerated version on CPU\n",
      "INFO:sklearnex: sklearn.utils.validation._assert_all_finite: running accelerated version on CPU\n",
      "INFO:sklearnex: sklearn.utils.validation._assert_all_finite: running accelerated version on CPU\n",
      "INFO:sklearnex: sklearn.utils.validation._assert_all_finite: running accelerated version on CPU\n",
      "INFO:sklearnex: sklearn.utils.validation._assert_all_finite: running accelerated version on CPU\n"
     ]
    },
    {
     "name": "stdout",
     "output_type": "stream",
     "text": [
      "Accuracy after query 3: 0.8478\n",
      "\n",
      "Cycle: 4\n",
      "Accuracy after query 4: 0.8478\n",
      "\n",
      "Cycle: 5\n"
     ]
    },
    {
     "name": "stderr",
     "output_type": "stream",
     "text": [
      "INFO:sklearnex: sklearn.utils.validation._assert_all_finite: running accelerated version on CPU\n",
      "INFO:sklearnex: sklearn.utils.validation._assert_all_finite: running accelerated version on CPU\n",
      "INFO:sklearnex: sklearn.utils.validation._assert_all_finite: running accelerated version on CPU\n",
      "INFO:sklearnex: sklearn.utils.validation._assert_all_finite: running accelerated version on CPU\n",
      "INFO:sklearnex: sklearn.utils.validation._assert_all_finite: running accelerated version on CPU\n",
      "INFO:sklearnex: sklearn.utils.validation._assert_all_finite: running accelerated version on CPU\n"
     ]
    },
    {
     "name": "stdout",
     "output_type": "stream",
     "text": [
      "Accuracy after query 5: 0.8480\n",
      "\n",
      "Cycle: 6\n",
      "Accuracy after query 6: 0.8480\n",
      "\n",
      "Cycle: 7\n"
     ]
    },
    {
     "name": "stderr",
     "output_type": "stream",
     "text": [
      "INFO:sklearnex: sklearn.utils.validation._assert_all_finite: running accelerated version on CPU\n",
      "INFO:sklearnex: sklearn.utils.validation._assert_all_finite: running accelerated version on CPU\n",
      "INFO:sklearnex: sklearn.utils.validation._assert_all_finite: running accelerated version on CPU\n",
      "INFO:sklearnex: sklearn.utils.validation._assert_all_finite: running accelerated version on CPU\n",
      "INFO:sklearnex: sklearn.utils.validation._assert_all_finite: running accelerated version on CPU\n",
      "INFO:sklearnex: sklearn.utils.validation._assert_all_finite: running accelerated version on CPU\n",
      "INFO:sklearnex: sklearn.utils.validation._assert_all_finite: running accelerated version on CPU\n"
     ]
    },
    {
     "name": "stdout",
     "output_type": "stream",
     "text": [
      "Accuracy after query 7: 0.8477\n",
      "\n",
      "Cycle: 8\n",
      "Accuracy after query 8: 0.8473\n",
      "\n",
      "Cycle: 9\n"
     ]
    },
    {
     "name": "stderr",
     "output_type": "stream",
     "text": [
      "INFO:sklearnex: sklearn.utils.validation._assert_all_finite: running accelerated version on CPU\n",
      "INFO:sklearnex: sklearn.utils.validation._assert_all_finite: running accelerated version on CPU\n",
      "INFO:sklearnex: sklearn.utils.validation._assert_all_finite: running accelerated version on CPU\n",
      "INFO:sklearnex: sklearn.utils.validation._assert_all_finite: running accelerated version on CPU\n",
      "INFO:sklearnex: sklearn.utils.validation._assert_all_finite: running accelerated version on CPU\n"
     ]
    },
    {
     "name": "stdout",
     "output_type": "stream",
     "text": [
      "Accuracy after query 9: 0.8474\n",
      "\n",
      "Cycle: 10\n",
      "Accuracy after query 10: 0.8472\n",
      "\n",
      "Cycle: 11\n"
     ]
    },
    {
     "name": "stderr",
     "output_type": "stream",
     "text": [
      "INFO:sklearnex: sklearn.utils.validation._assert_all_finite: running accelerated version on CPU\n",
      "INFO:sklearnex: sklearn.utils.validation._assert_all_finite: running accelerated version on CPU\n",
      "INFO:sklearnex: sklearn.utils.validation._assert_all_finite: running accelerated version on CPU\n",
      "INFO:sklearnex: sklearn.utils.validation._assert_all_finite: running accelerated version on CPU\n",
      "INFO:sklearnex: sklearn.utils.validation._assert_all_finite: running accelerated version on CPU\n",
      "INFO:sklearnex: sklearn.utils.validation._assert_all_finite: running accelerated version on CPU\n",
      "INFO:sklearnex: sklearn.utils.validation._assert_all_finite: running accelerated version on CPU\n"
     ]
    },
    {
     "name": "stdout",
     "output_type": "stream",
     "text": [
      "Accuracy after query 11: 0.8477\n",
      "\n",
      "Cycle: 12\n",
      "Accuracy after query 12: 0.8474\n",
      "\n",
      "Cycle: 13\n"
     ]
    },
    {
     "name": "stderr",
     "output_type": "stream",
     "text": [
      "INFO:sklearnex: sklearn.utils.validation._assert_all_finite: running accelerated version on CPU\n",
      "INFO:sklearnex: sklearn.utils.validation._assert_all_finite: running accelerated version on CPU\n",
      "INFO:sklearnex: sklearn.utils.validation._assert_all_finite: running accelerated version on CPU\n",
      "INFO:sklearnex: sklearn.utils.validation._assert_all_finite: running accelerated version on CPU\n",
      "INFO:sklearnex: sklearn.utils.validation._assert_all_finite: running accelerated version on CPU\n",
      "INFO:sklearnex: sklearn.utils.validation._assert_all_finite: running accelerated version on CPU\n"
     ]
    },
    {
     "name": "stdout",
     "output_type": "stream",
     "text": [
      "Accuracy after query 13: 0.8474\n",
      "\n",
      "Cycle: 14\n",
      "Accuracy after query 14: 0.8476\n",
      "\n",
      "Cycle: 15\n"
     ]
    },
    {
     "name": "stderr",
     "output_type": "stream",
     "text": [
      "INFO:sklearnex: sklearn.utils.validation._assert_all_finite: running accelerated version on CPU\n",
      "INFO:sklearnex: sklearn.utils.validation._assert_all_finite: running accelerated version on CPU\n",
      "INFO:sklearnex: sklearn.utils.validation._assert_all_finite: running accelerated version on CPU\n",
      "INFO:sklearnex: sklearn.utils.validation._assert_all_finite: running accelerated version on CPU\n",
      "INFO:sklearnex: sklearn.utils.validation._assert_all_finite: running accelerated version on CPU\n",
      "INFO:sklearnex: sklearn.utils.validation._assert_all_finite: running accelerated version on CPU\n"
     ]
    },
    {
     "name": "stdout",
     "output_type": "stream",
     "text": [
      "Accuracy after query 15: 0.8475\n",
      "\n",
      "Cycle: 16\n",
      "Accuracy after query 16: 0.8474\n",
      "\n",
      "Cycle: 17\n"
     ]
    },
    {
     "name": "stderr",
     "output_type": "stream",
     "text": [
      "INFO:sklearnex: sklearn.utils.validation._assert_all_finite: running accelerated version on CPU\n",
      "INFO:sklearnex: sklearn.utils.validation._assert_all_finite: running accelerated version on CPU\n",
      "INFO:sklearnex: sklearn.utils.validation._assert_all_finite: running accelerated version on CPU\n",
      "INFO:sklearnex: sklearn.utils.validation._assert_all_finite: running accelerated version on CPU\n",
      "INFO:sklearnex: sklearn.utils.validation._assert_all_finite: running accelerated version on CPU\n",
      "INFO:sklearnex: sklearn.utils.validation._assert_all_finite: running accelerated version on CPU\n"
     ]
    },
    {
     "name": "stdout",
     "output_type": "stream",
     "text": [
      "Accuracy after query 17: 0.8471\n",
      "\n",
      "Cycle: 18\n",
      "Accuracy after query 18: 0.8471\n",
      "\n",
      "Cycle: 19\n"
     ]
    },
    {
     "name": "stderr",
     "output_type": "stream",
     "text": [
      "INFO:sklearnex: sklearn.utils.validation._assert_all_finite: running accelerated version on CPU\n",
      "INFO:sklearnex: sklearn.utils.validation._assert_all_finite: running accelerated version on CPU\n",
      "INFO:sklearnex: sklearn.utils.validation._assert_all_finite: running accelerated version on CPU\n",
      "INFO:sklearnex: sklearn.utils.validation._assert_all_finite: running accelerated version on CPU\n",
      "INFO:sklearnex: sklearn.utils.validation._assert_all_finite: running accelerated version on CPU\n",
      "INFO:sklearnex: sklearn.utils.validation._assert_all_finite: running accelerated version on CPU\n"
     ]
    },
    {
     "name": "stdout",
     "output_type": "stream",
     "text": [
      "Accuracy after query 19: 0.8469\n",
      "\n",
      "Cycle: 20\n",
      "Accuracy after query 20: 0.8469\n",
      "\n",
      "Cycle: 21\n"
     ]
    },
    {
     "name": "stderr",
     "output_type": "stream",
     "text": [
      "INFO:sklearnex: sklearn.utils.validation._assert_all_finite: running accelerated version on CPU\n",
      "INFO:sklearnex: sklearn.utils.validation._assert_all_finite: running accelerated version on CPU\n",
      "INFO:sklearnex: sklearn.utils.validation._assert_all_finite: running accelerated version on CPU\n",
      "INFO:sklearnex: sklearn.utils.validation._assert_all_finite: running accelerated version on CPU\n",
      "INFO:sklearnex: sklearn.utils.validation._assert_all_finite: running accelerated version on CPU\n",
      "INFO:sklearnex: sklearn.utils.validation._assert_all_finite: running accelerated version on CPU\n"
     ]
    },
    {
     "name": "stdout",
     "output_type": "stream",
     "text": [
      "Accuracy after query 21: 0.8470\n",
      "\n",
      "Cycle: 22\n",
      "Accuracy after query 22: 0.8469\n",
      "\n",
      "Cycle: 23\n"
     ]
    },
    {
     "name": "stderr",
     "output_type": "stream",
     "text": [
      "INFO:sklearnex: sklearn.utils.validation._assert_all_finite: running accelerated version on CPU\n",
      "INFO:sklearnex: sklearn.utils.validation._assert_all_finite: running accelerated version on CPU\n",
      "INFO:sklearnex: sklearn.utils.validation._assert_all_finite: running accelerated version on CPU\n",
      "INFO:sklearnex: sklearn.utils.validation._assert_all_finite: running accelerated version on CPU\n",
      "INFO:sklearnex: sklearn.utils.validation._assert_all_finite: running accelerated version on CPU\n"
     ]
    },
    {
     "name": "stdout",
     "output_type": "stream",
     "text": [
      "Accuracy after query 23: 0.8469\n",
      "\n",
      "Cycle: 24\n",
      "Accuracy after query 24: 0.8467\n",
      "\n",
      "Cycle: 25\n"
     ]
    },
    {
     "name": "stderr",
     "output_type": "stream",
     "text": [
      "INFO:sklearnex: sklearn.utils.validation._assert_all_finite: running accelerated version on CPU\n",
      "INFO:sklearnex: sklearn.utils.validation._assert_all_finite: running accelerated version on CPU\n",
      "INFO:sklearnex: sklearn.utils.validation._assert_all_finite: running accelerated version on CPU\n",
      "INFO:sklearnex: sklearn.utils.validation._assert_all_finite: running accelerated version on CPU\n",
      "INFO:sklearnex: sklearn.utils.validation._assert_all_finite: running accelerated version on CPU\n",
      "INFO:sklearnex: sklearn.utils.validation._assert_all_finite: running accelerated version on CPU\n"
     ]
    },
    {
     "name": "stdout",
     "output_type": "stream",
     "text": [
      "Accuracy after query 25: 0.8471\n",
      "\n",
      "Cycle: 26\n",
      "Accuracy after query 26: 0.8472\n"
     ]
    },
    {
     "name": "stderr",
     "output_type": "stream",
     "text": [
      "INFO:sklearnex: sklearn.utils.validation._assert_all_finite: running accelerated version on CPU\n",
      "INFO:sklearnex: sklearn.utils.validation._assert_all_finite: running accelerated version on CPU\n",
      "INFO:sklearnex: sklearn.utils.validation._assert_all_finite: running accelerated version on CPU\n",
      "INFO:sklearnex: sklearn.utils.validation._assert_all_finite: running accelerated version on CPU\n"
     ]
    },
    {
     "name": "stdout",
     "output_type": "stream",
     "text": [
      "\n",
      "Cycle: 27\n",
      "Accuracy after query 27: 0.8472\n",
      "\n",
      "Cycle: 28\n"
     ]
    },
    {
     "name": "stderr",
     "output_type": "stream",
     "text": [
      "INFO:sklearnex: sklearn.utils.validation._assert_all_finite: running accelerated version on CPU\n",
      "INFO:sklearnex: sklearn.utils.validation._assert_all_finite: running accelerated version on CPU\n",
      "INFO:sklearnex: sklearn.utils.validation._assert_all_finite: running accelerated version on CPU\n",
      "INFO:sklearnex: sklearn.utils.validation._assert_all_finite: running accelerated version on CPU\n"
     ]
    },
    {
     "name": "stdout",
     "output_type": "stream",
     "text": [
      "Accuracy after query 28: 0.8476\n",
      "\n",
      "Cycle: 29\n"
     ]
    },
    {
     "name": "stderr",
     "output_type": "stream",
     "text": [
      "INFO:sklearnex: sklearn.utils.validation._assert_all_finite: running accelerated version on CPU\n",
      "INFO:sklearnex: sklearn.utils.validation._assert_all_finite: running accelerated version on CPU\n",
      "INFO:sklearnex: sklearn.utils.validation._assert_all_finite: running accelerated version on CPU\n"
     ]
    },
    {
     "name": "stdout",
     "output_type": "stream",
     "text": [
      "Accuracy after query 29: 0.8474\n",
      "\n",
      "Cycle: 30\n"
     ]
    },
    {
     "name": "stderr",
     "output_type": "stream",
     "text": [
      "INFO:sklearnex: sklearn.utils.validation._assert_all_finite: running accelerated version on CPU\n",
      "INFO:sklearnex: sklearn.utils.validation._assert_all_finite: running accelerated version on CPU\n",
      "INFO:sklearnex: sklearn.utils.validation._assert_all_finite: running accelerated version on CPU\n",
      "INFO:sklearnex: sklearn.utils.validation._assert_all_finite: running accelerated version on CPU\n"
     ]
    },
    {
     "name": "stdout",
     "output_type": "stream",
     "text": [
      "Accuracy after query 30: 0.8474\n",
      "\n",
      "Cycle: 31\n",
      "Accuracy after query 31: 0.8474\n"
     ]
    },
    {
     "name": "stderr",
     "output_type": "stream",
     "text": [
      "INFO:sklearnex: sklearn.utils.validation._assert_all_finite: running accelerated version on CPU\n",
      "INFO:sklearnex: sklearn.utils.validation._assert_all_finite: running accelerated version on CPU\n",
      "INFO:sklearnex: sklearn.utils.validation._assert_all_finite: running accelerated version on CPU\n",
      "INFO:sklearnex: sklearn.utils.validation._assert_all_finite: running accelerated version on CPU\n"
     ]
    },
    {
     "name": "stdout",
     "output_type": "stream",
     "text": [
      "\n",
      "Cycle: 32\n",
      "Accuracy after query 32: 0.8484\n",
      "\n",
      "Cycle: 33\n"
     ]
    },
    {
     "name": "stderr",
     "output_type": "stream",
     "text": [
      "INFO:sklearnex: sklearn.utils.validation._assert_all_finite: running accelerated version on CPU\n",
      "INFO:sklearnex: sklearn.utils.validation._assert_all_finite: running accelerated version on CPU\n",
      "INFO:sklearnex: sklearn.utils.validation._assert_all_finite: running accelerated version on CPU\n",
      "INFO:sklearnex: sklearn.utils.validation._assert_all_finite: running accelerated version on CPU\n",
      "INFO:sklearnex: sklearn.utils.validation._assert_all_finite: running accelerated version on CPU\n",
      "INFO:sklearnex: sklearn.utils.validation._assert_all_finite: running accelerated version on CPU\n"
     ]
    },
    {
     "name": "stdout",
     "output_type": "stream",
     "text": [
      "Accuracy after query 33: 0.8482\n",
      "\n",
      "Cycle: 34\n",
      "Accuracy after query 34: 0.8481\n",
      "\n",
      "Cycle: 35\n"
     ]
    },
    {
     "name": "stderr",
     "output_type": "stream",
     "text": [
      "INFO:sklearnex: sklearn.utils.validation._assert_all_finite: running accelerated version on CPU\n",
      "INFO:sklearnex: sklearn.utils.validation._assert_all_finite: running accelerated version on CPU\n",
      "INFO:sklearnex: sklearn.utils.validation._assert_all_finite: running accelerated version on CPU\n",
      "INFO:sklearnex: sklearn.utils.validation._assert_all_finite: running accelerated version on CPU\n",
      "INFO:sklearnex: sklearn.utils.validation._assert_all_finite: running accelerated version on CPU\n"
     ]
    },
    {
     "name": "stdout",
     "output_type": "stream",
     "text": [
      "Accuracy after query 35: 0.8482\n",
      "\n",
      "Cycle: 36\n",
      "Accuracy after query 36: 0.8481\n"
     ]
    },
    {
     "name": "stderr",
     "output_type": "stream",
     "text": [
      "INFO:sklearnex: sklearn.utils.validation._assert_all_finite: running accelerated version on CPU\n",
      "INFO:sklearnex: sklearn.utils.validation._assert_all_finite: running accelerated version on CPU\n",
      "INFO:sklearnex: sklearn.utils.validation._assert_all_finite: running accelerated version on CPU\n",
      "INFO:sklearnex: sklearn.utils.validation._assert_all_finite: running accelerated version on CPU\n"
     ]
    },
    {
     "name": "stdout",
     "output_type": "stream",
     "text": [
      "\n",
      "Cycle: 37\n",
      "Accuracy after query 37: 0.8480\n",
      "\n",
      "Cycle: 38\n"
     ]
    },
    {
     "name": "stderr",
     "output_type": "stream",
     "text": [
      "INFO:sklearnex: sklearn.utils.validation._assert_all_finite: running accelerated version on CPU\n",
      "INFO:sklearnex: sklearn.utils.validation._assert_all_finite: running accelerated version on CPU\n",
      "INFO:sklearnex: sklearn.utils.validation._assert_all_finite: running accelerated version on CPU\n",
      "INFO:sklearnex: sklearn.utils.validation._assert_all_finite: running accelerated version on CPU\n",
      "INFO:sklearnex: sklearn.utils.validation._assert_all_finite: running accelerated version on CPU\n"
     ]
    },
    {
     "name": "stdout",
     "output_type": "stream",
     "text": [
      "Accuracy after query 38: 0.8482\n",
      "\n",
      "Cycle: 39\n",
      "Accuracy after query 39: 0.8479\n",
      "\n",
      "Cycle: 40\n"
     ]
    },
    {
     "name": "stderr",
     "output_type": "stream",
     "text": [
      "INFO:sklearnex: sklearn.utils.validation._assert_all_finite: running accelerated version on CPU\n",
      "INFO:sklearnex: sklearn.utils.validation._assert_all_finite: running accelerated version on CPU\n",
      "INFO:sklearnex: sklearn.utils.validation._assert_all_finite: running accelerated version on CPU\n",
      "INFO:sklearnex: sklearn.utils.validation._assert_all_finite: running accelerated version on CPU\n",
      "INFO:sklearnex: sklearn.utils.validation._assert_all_finite: running accelerated version on CPU\n",
      "INFO:sklearnex: sklearn.utils.validation._assert_all_finite: running accelerated version on CPU\n"
     ]
    },
    {
     "name": "stdout",
     "output_type": "stream",
     "text": [
      "Accuracy after query 40: 0.8482\n",
      "\n",
      "Cycle: 41\n",
      "Accuracy after query 41: 0.8477\n"
     ]
    },
    {
     "name": "stderr",
     "output_type": "stream",
     "text": [
      "INFO:sklearnex: sklearn.utils.validation._assert_all_finite: running accelerated version on CPU\n",
      "INFO:sklearnex: sklearn.utils.validation._assert_all_finite: running accelerated version on CPU\n",
      "INFO:sklearnex: sklearn.utils.validation._assert_all_finite: running accelerated version on CPU\n",
      "INFO:sklearnex: sklearn.utils.validation._assert_all_finite: running accelerated version on CPU\n"
     ]
    },
    {
     "name": "stdout",
     "output_type": "stream",
     "text": [
      "\n",
      "Cycle: 42\n",
      "Accuracy after query 42: 0.8480\n",
      "\n",
      "Cycle: 43\n"
     ]
    },
    {
     "name": "stderr",
     "output_type": "stream",
     "text": [
      "INFO:sklearnex: sklearn.utils.validation._assert_all_finite: running accelerated version on CPU\n",
      "INFO:sklearnex: sklearn.utils.validation._assert_all_finite: running accelerated version on CPU\n",
      "INFO:sklearnex: sklearn.utils.validation._assert_all_finite: running accelerated version on CPU\n",
      "INFO:sklearnex: sklearn.utils.validation._assert_all_finite: running accelerated version on CPU\n",
      "INFO:sklearnex: sklearn.utils.validation._assert_all_finite: running accelerated version on CPU\n"
     ]
    },
    {
     "name": "stdout",
     "output_type": "stream",
     "text": [
      "Accuracy after query 43: 0.8483\n",
      "\n",
      "Cycle: 44\n",
      "Accuracy after query 44: 0.8483\n",
      "\n",
      "Cycle: 45\n"
     ]
    },
    {
     "name": "stderr",
     "output_type": "stream",
     "text": [
      "INFO:sklearnex: sklearn.utils.validation._assert_all_finite: running accelerated version on CPU\n",
      "INFO:sklearnex: sklearn.utils.validation._assert_all_finite: running accelerated version on CPU\n",
      "INFO:sklearnex: sklearn.utils.validation._assert_all_finite: running accelerated version on CPU\n",
      "INFO:sklearnex: sklearn.utils.validation._assert_all_finite: running accelerated version on CPU\n",
      "INFO:sklearnex: sklearn.utils.validation._assert_all_finite: running accelerated version on CPU\n",
      "INFO:sklearnex: sklearn.utils.validation._assert_all_finite: running accelerated version on CPU\n",
      "INFO:sklearnex: sklearn.utils.validation._assert_all_finite: running accelerated version on CPU\n"
     ]
    },
    {
     "name": "stdout",
     "output_type": "stream",
     "text": [
      "Accuracy after query 45: 0.8482\n",
      "\n",
      "Cycle: 46\n",
      "Accuracy after query 46: 0.8479\n",
      "\n",
      "Cycle: 47\n"
     ]
    },
    {
     "name": "stderr",
     "output_type": "stream",
     "text": [
      "INFO:sklearnex: sklearn.utils.validation._assert_all_finite: running accelerated version on CPU\n",
      "INFO:sklearnex: sklearn.utils.validation._assert_all_finite: running accelerated version on CPU\n",
      "INFO:sklearnex: sklearn.utils.validation._assert_all_finite: running accelerated version on CPU\n",
      "INFO:sklearnex: sklearn.utils.validation._assert_all_finite: running accelerated version on CPU\n",
      "INFO:sklearnex: sklearn.utils.validation._assert_all_finite: running accelerated version on CPU\n",
      "INFO:sklearnex: sklearn.utils.validation._assert_all_finite: running accelerated version on CPU\n"
     ]
    },
    {
     "name": "stdout",
     "output_type": "stream",
     "text": [
      "Accuracy after query 47: 0.8481\n",
      "\n",
      "Cycle: 48\n",
      "Accuracy after query 48: 0.8482\n",
      "\n",
      "Cycle: 49\n"
     ]
    },
    {
     "name": "stderr",
     "output_type": "stream",
     "text": [
      "INFO:sklearnex: sklearn.utils.validation._assert_all_finite: running accelerated version on CPU\n",
      "INFO:sklearnex: sklearn.utils.validation._assert_all_finite: running accelerated version on CPU\n",
      "INFO:sklearnex: sklearn.utils.validation._assert_all_finite: running accelerated version on CPU\n",
      "INFO:sklearnex: sklearn.utils.validation._assert_all_finite: running accelerated version on CPU\n",
      "INFO:sklearnex: sklearn.utils.validation._assert_all_finite: running accelerated version on CPU\n",
      "INFO:sklearnex: sklearn.utils.validation._assert_all_finite: running accelerated version on CPU\n"
     ]
    },
    {
     "name": "stdout",
     "output_type": "stream",
     "text": [
      "Accuracy after query 49: 0.8479\n",
      "\n",
      "Cycle: 50\n",
      "Accuracy after query 50: 0.8474\n",
      "\n",
      "Cycle: 51\n"
     ]
    },
    {
     "name": "stderr",
     "output_type": "stream",
     "text": [
      "INFO:sklearnex: sklearn.utils.validation._assert_all_finite: running accelerated version on CPU\n",
      "INFO:sklearnex: sklearn.utils.validation._assert_all_finite: running accelerated version on CPU\n",
      "INFO:sklearnex: sklearn.utils.validation._assert_all_finite: running accelerated version on CPU\n",
      "INFO:sklearnex: sklearn.utils.validation._assert_all_finite: running accelerated version on CPU\n",
      "INFO:sklearnex: sklearn.utils.validation._assert_all_finite: running accelerated version on CPU\n",
      "INFO:sklearnex: sklearn.utils.validation._assert_all_finite: running accelerated version on CPU\n"
     ]
    },
    {
     "name": "stdout",
     "output_type": "stream",
     "text": [
      "Accuracy after query 51: 0.8477\n",
      "\n",
      "Cycle: 52\n",
      "Accuracy after query 52: 0.8478\n",
      "\n",
      "Cycle: 53\n"
     ]
    },
    {
     "name": "stderr",
     "output_type": "stream",
     "text": [
      "INFO:sklearnex: sklearn.utils.validation._assert_all_finite: running accelerated version on CPU\n",
      "INFO:sklearnex: sklearn.utils.validation._assert_all_finite: running accelerated version on CPU\n",
      "INFO:sklearnex: sklearn.utils.validation._assert_all_finite: running accelerated version on CPU\n",
      "INFO:sklearnex: sklearn.utils.validation._assert_all_finite: running accelerated version on CPU\n",
      "INFO:sklearnex: sklearn.utils.validation._assert_all_finite: running accelerated version on CPU\n",
      "INFO:sklearnex: sklearn.utils.validation._assert_all_finite: running accelerated version on CPU\n"
     ]
    },
    {
     "name": "stdout",
     "output_type": "stream",
     "text": [
      "Accuracy after query 53: 0.8479\n",
      "\n",
      "Cycle: 54\n",
      "Accuracy after query 54: 0.8478\n",
      "\n",
      "Cycle: 55\n"
     ]
    },
    {
     "name": "stderr",
     "output_type": "stream",
     "text": [
      "INFO:sklearnex: sklearn.utils.validation._assert_all_finite: running accelerated version on CPU\n",
      "INFO:sklearnex: sklearn.utils.validation._assert_all_finite: running accelerated version on CPU\n",
      "INFO:sklearnex: sklearn.utils.validation._assert_all_finite: running accelerated version on CPU\n",
      "INFO:sklearnex: sklearn.utils.validation._assert_all_finite: running accelerated version on CPU\n",
      "INFO:sklearnex: sklearn.utils.validation._assert_all_finite: running accelerated version on CPU\n",
      "INFO:sklearnex: sklearn.utils.validation._assert_all_finite: running accelerated version on CPU\n"
     ]
    },
    {
     "name": "stdout",
     "output_type": "stream",
     "text": [
      "Accuracy after query 55: 0.8475\n",
      "\n",
      "Cycle: 56\n",
      "Accuracy after query 56: 0.8477\n",
      "\n",
      "Cycle: 57\n"
     ]
    },
    {
     "name": "stderr",
     "output_type": "stream",
     "text": [
      "INFO:sklearnex: sklearn.utils.validation._assert_all_finite: running accelerated version on CPU\n",
      "INFO:sklearnex: sklearn.utils.validation._assert_all_finite: running accelerated version on CPU\n",
      "INFO:sklearnex: sklearn.utils.validation._assert_all_finite: running accelerated version on CPU\n",
      "INFO:sklearnex: sklearn.utils.validation._assert_all_finite: running accelerated version on CPU\n",
      "INFO:sklearnex: sklearn.utils.validation._assert_all_finite: running accelerated version on CPU\n",
      "INFO:sklearnex: sklearn.utils.validation._assert_all_finite: running accelerated version on CPU\n"
     ]
    },
    {
     "name": "stdout",
     "output_type": "stream",
     "text": [
      "Accuracy after query 57: 0.8479\n",
      "\n",
      "Cycle: 58\n",
      "Accuracy after query 58: 0.8479\n",
      "\n",
      "Cycle: 59\n"
     ]
    },
    {
     "name": "stderr",
     "output_type": "stream",
     "text": [
      "INFO:sklearnex: sklearn.utils.validation._assert_all_finite: running accelerated version on CPU\n",
      "INFO:sklearnex: sklearn.utils.validation._assert_all_finite: running accelerated version on CPU\n",
      "INFO:sklearnex: sklearn.utils.validation._assert_all_finite: running accelerated version on CPU\n",
      "INFO:sklearnex: sklearn.utils.validation._assert_all_finite: running accelerated version on CPU\n",
      "INFO:sklearnex: sklearn.utils.validation._assert_all_finite: running accelerated version on CPU\n",
      "INFO:sklearnex: sklearn.utils.validation._assert_all_finite: running accelerated version on CPU\n"
     ]
    },
    {
     "name": "stdout",
     "output_type": "stream",
     "text": [
      "Accuracy after query 59: 0.8480\n",
      "\n",
      "Cycle: 60\n",
      "Accuracy after query 60: 0.8480\n",
      "\n",
      "Cycle: 61\n"
     ]
    },
    {
     "name": "stderr",
     "output_type": "stream",
     "text": [
      "INFO:sklearnex: sklearn.utils.validation._assert_all_finite: running accelerated version on CPU\n",
      "INFO:sklearnex: sklearn.utils.validation._assert_all_finite: running accelerated version on CPU\n",
      "INFO:sklearnex: sklearn.utils.validation._assert_all_finite: running accelerated version on CPU\n",
      "INFO:sklearnex: sklearn.utils.validation._assert_all_finite: running accelerated version on CPU\n",
      "INFO:sklearnex: sklearn.utils.validation._assert_all_finite: running accelerated version on CPU\n",
      "INFO:sklearnex: sklearn.utils.validation._assert_all_finite: running accelerated version on CPU\n"
     ]
    },
    {
     "name": "stdout",
     "output_type": "stream",
     "text": [
      "Accuracy after query 61: 0.8475\n",
      "\n",
      "Cycle: 62\n",
      "Accuracy after query 62: 0.8479\n",
      "\n",
      "Cycle: 63\n"
     ]
    },
    {
     "name": "stderr",
     "output_type": "stream",
     "text": [
      "INFO:sklearnex: sklearn.utils.validation._assert_all_finite: running accelerated version on CPU\n",
      "INFO:sklearnex: sklearn.utils.validation._assert_all_finite: running accelerated version on CPU\n",
      "INFO:sklearnex: sklearn.utils.validation._assert_all_finite: running accelerated version on CPU\n",
      "INFO:sklearnex: sklearn.utils.validation._assert_all_finite: running accelerated version on CPU\n",
      "INFO:sklearnex: sklearn.utils.validation._assert_all_finite: running accelerated version on CPU\n",
      "INFO:sklearnex: sklearn.utils.validation._assert_all_finite: running accelerated version on CPU\n"
     ]
    },
    {
     "name": "stdout",
     "output_type": "stream",
     "text": [
      "Accuracy after query 63: 0.8477\n",
      "\n",
      "Cycle: 64\n",
      "Accuracy after query 64: 0.8477\n",
      "\n",
      "Cycle: 65\n"
     ]
    },
    {
     "name": "stderr",
     "output_type": "stream",
     "text": [
      "INFO:sklearnex: sklearn.utils.validation._assert_all_finite: running accelerated version on CPU\n",
      "INFO:sklearnex: sklearn.utils.validation._assert_all_finite: running accelerated version on CPU\n",
      "INFO:sklearnex: sklearn.utils.validation._assert_all_finite: running accelerated version on CPU\n"
     ]
    },
    {
     "name": "stdout",
     "output_type": "stream",
     "text": [
      "Accuracy after query 65: 0.8478\n",
      "\n",
      "Cycle: 66\n"
     ]
    },
    {
     "name": "stderr",
     "output_type": "stream",
     "text": [
      "INFO:sklearnex: sklearn.utils.validation._assert_all_finite: running accelerated version on CPU\n",
      "INFO:sklearnex: sklearn.utils.validation._assert_all_finite: running accelerated version on CPU\n",
      "INFO:sklearnex: sklearn.utils.validation._assert_all_finite: running accelerated version on CPU\n",
      "INFO:sklearnex: sklearn.utils.validation._assert_all_finite: running accelerated version on CPU\n",
      "INFO:sklearnex: sklearn.utils.validation._assert_all_finite: running accelerated version on CPU\n"
     ]
    },
    {
     "name": "stdout",
     "output_type": "stream",
     "text": [
      "Accuracy after query 66: 0.8477\n",
      "\n",
      "Cycle: 67\n",
      "Accuracy after query 67: 0.8478\n"
     ]
    },
    {
     "name": "stderr",
     "output_type": "stream",
     "text": [
      "INFO:sklearnex: sklearn.utils.validation._assert_all_finite: running accelerated version on CPU\n",
      "INFO:sklearnex: sklearn.utils.validation._assert_all_finite: running accelerated version on CPU\n",
      "INFO:sklearnex: sklearn.utils.validation._assert_all_finite: running accelerated version on CPU\n",
      "INFO:sklearnex: sklearn.utils.validation._assert_all_finite: running accelerated version on CPU\n"
     ]
    },
    {
     "name": "stdout",
     "output_type": "stream",
     "text": [
      "\n",
      "Cycle: 68\n",
      "Accuracy after query 68: 0.8480\n",
      "\n",
      "Cycle: 69\n"
     ]
    },
    {
     "name": "stderr",
     "output_type": "stream",
     "text": [
      "INFO:sklearnex: sklearn.utils.validation._assert_all_finite: running accelerated version on CPU\n",
      "INFO:sklearnex: sklearn.utils.validation._assert_all_finite: running accelerated version on CPU\n",
      "INFO:sklearnex: sklearn.utils.validation._assert_all_finite: running accelerated version on CPU\n",
      "INFO:sklearnex: sklearn.utils.validation._assert_all_finite: running accelerated version on CPU\n"
     ]
    },
    {
     "name": "stdout",
     "output_type": "stream",
     "text": [
      "Accuracy after query 69: 0.8477\n",
      "\n",
      "Cycle: 70\n"
     ]
    },
    {
     "name": "stderr",
     "output_type": "stream",
     "text": [
      "INFO:sklearnex: sklearn.utils.validation._assert_all_finite: running accelerated version on CPU\n",
      "INFO:sklearnex: sklearn.utils.validation._assert_all_finite: running accelerated version on CPU\n",
      "INFO:sklearnex: sklearn.utils.validation._assert_all_finite: running accelerated version on CPU\n"
     ]
    },
    {
     "name": "stdout",
     "output_type": "stream",
     "text": [
      "Accuracy after query 70: 0.8476\n",
      "\n",
      "Cycle: 71\n"
     ]
    },
    {
     "name": "stderr",
     "output_type": "stream",
     "text": [
      "INFO:sklearnex: sklearn.utils.validation._assert_all_finite: running accelerated version on CPU\n",
      "INFO:sklearnex: sklearn.utils.validation._assert_all_finite: running accelerated version on CPU\n",
      "INFO:sklearnex: sklearn.utils.validation._assert_all_finite: running accelerated version on CPU\n",
      "INFO:sklearnex: sklearn.utils.validation._assert_all_finite: running accelerated version on CPU\n"
     ]
    },
    {
     "name": "stdout",
     "output_type": "stream",
     "text": [
      "Accuracy after query 71: 0.8472\n",
      "\n",
      "Cycle: 72\n",
      "Accuracy after query 72: 0.8472\n"
     ]
    },
    {
     "name": "stderr",
     "output_type": "stream",
     "text": [
      "INFO:sklearnex: sklearn.utils.validation._assert_all_finite: running accelerated version on CPU\n",
      "INFO:sklearnex: sklearn.utils.validation._assert_all_finite: running accelerated version on CPU\n",
      "INFO:sklearnex: sklearn.utils.validation._assert_all_finite: running accelerated version on CPU\n",
      "INFO:sklearnex: sklearn.utils.validation._assert_all_finite: running accelerated version on CPU\n"
     ]
    },
    {
     "name": "stdout",
     "output_type": "stream",
     "text": [
      "\n",
      "Cycle: 73\n",
      "Accuracy after query 73: 0.8480\n",
      "\n",
      "Cycle: 74\n"
     ]
    },
    {
     "name": "stderr",
     "output_type": "stream",
     "text": [
      "INFO:sklearnex: sklearn.utils.validation._assert_all_finite: running accelerated version on CPU\n",
      "INFO:sklearnex: sklearn.utils.validation._assert_all_finite: running accelerated version on CPU\n",
      "INFO:sklearnex: sklearn.utils.validation._assert_all_finite: running accelerated version on CPU\n"
     ]
    },
    {
     "name": "stdout",
     "output_type": "stream",
     "text": [
      "Accuracy after query 74: 0.8480\n",
      "\n",
      "Cycle: 75\n"
     ]
    },
    {
     "name": "stderr",
     "output_type": "stream",
     "text": [
      "INFO:sklearnex: sklearn.utils.validation._assert_all_finite: running accelerated version on CPU\n",
      "INFO:sklearnex: sklearn.utils.validation._assert_all_finite: running accelerated version on CPU\n",
      "INFO:sklearnex: sklearn.utils.validation._assert_all_finite: running accelerated version on CPU\n",
      "INFO:sklearnex: sklearn.utils.validation._assert_all_finite: running accelerated version on CPU\n"
     ]
    },
    {
     "name": "stdout",
     "output_type": "stream",
     "text": [
      "Accuracy after query 75: 0.8481\n",
      "\n",
      "Cycle: 76\n"
     ]
    },
    {
     "name": "stderr",
     "output_type": "stream",
     "text": [
      "INFO:sklearnex: sklearn.utils.validation._assert_all_finite: running accelerated version on CPU\n",
      "INFO:sklearnex: sklearn.utils.validation._assert_all_finite: running accelerated version on CPU\n",
      "INFO:sklearnex: sklearn.utils.validation._assert_all_finite: running accelerated version on CPU\n",
      "INFO:sklearnex: sklearn.utils.validation._assert_all_finite: running accelerated version on CPU\n"
     ]
    },
    {
     "name": "stdout",
     "output_type": "stream",
     "text": [
      "Accuracy after query 76: 0.8480\n",
      "\n",
      "Cycle: 77\n",
      "Accuracy after query 77: 0.8481\n"
     ]
    },
    {
     "name": "stderr",
     "output_type": "stream",
     "text": [
      "INFO:sklearnex: sklearn.utils.validation._assert_all_finite: running accelerated version on CPU\n",
      "INFO:sklearnex: sklearn.utils.validation._assert_all_finite: running accelerated version on CPU\n",
      "INFO:sklearnex: sklearn.utils.validation._assert_all_finite: running accelerated version on CPU\n",
      "INFO:sklearnex: sklearn.utils.validation._assert_all_finite: running accelerated version on CPU\n"
     ]
    },
    {
     "name": "stdout",
     "output_type": "stream",
     "text": [
      "\n",
      "Cycle: 78\n",
      "Accuracy after query 78: 0.8481\n",
      "\n",
      "Cycle: 79\n"
     ]
    },
    {
     "name": "stderr",
     "output_type": "stream",
     "text": [
      "INFO:sklearnex: sklearn.utils.validation._assert_all_finite: running accelerated version on CPU\n",
      "INFO:sklearnex: sklearn.utils.validation._assert_all_finite: running accelerated version on CPU\n",
      "INFO:sklearnex: sklearn.utils.validation._assert_all_finite: running accelerated version on CPU\n",
      "INFO:sklearnex: sklearn.utils.validation._assert_all_finite: running accelerated version on CPU\n",
      "INFO:sklearnex: sklearn.utils.validation._assert_all_finite: running accelerated version on CPU\n"
     ]
    },
    {
     "name": "stdout",
     "output_type": "stream",
     "text": [
      "Accuracy after query 79: 0.8479\n",
      "\n",
      "Cycle: 80\n",
      "Accuracy after query 80: 0.8474\n"
     ]
    },
    {
     "name": "stderr",
     "output_type": "stream",
     "text": [
      "INFO:sklearnex: sklearn.utils.validation._assert_all_finite: running accelerated version on CPU\n",
      "INFO:sklearnex: sklearn.utils.validation._assert_all_finite: running accelerated version on CPU\n",
      "INFO:sklearnex: sklearn.utils.validation._assert_all_finite: running accelerated version on CPU\n",
      "INFO:sklearnex: sklearn.utils.validation._assert_all_finite: running accelerated version on CPU\n"
     ]
    },
    {
     "name": "stdout",
     "output_type": "stream",
     "text": [
      "\n",
      "Cycle: 81\n",
      "Accuracy after query 81: 0.8477\n",
      "\n",
      "Cycle: 82\n"
     ]
    },
    {
     "name": "stderr",
     "output_type": "stream",
     "text": [
      "INFO:sklearnex: sklearn.utils.validation._assert_all_finite: running accelerated version on CPU\n",
      "INFO:sklearnex: sklearn.utils.validation._assert_all_finite: running accelerated version on CPU\n",
      "INFO:sklearnex: sklearn.utils.validation._assert_all_finite: running accelerated version on CPU\n",
      "INFO:sklearnex: sklearn.utils.validation._assert_all_finite: running accelerated version on CPU\n",
      "INFO:sklearnex: sklearn.utils.validation._assert_all_finite: running accelerated version on CPU\n",
      "INFO:sklearnex: sklearn.utils.validation._assert_all_finite: running accelerated version on CPU\n"
     ]
    },
    {
     "name": "stdout",
     "output_type": "stream",
     "text": [
      "Accuracy after query 82: 0.8477\n",
      "\n",
      "Cycle: 83\n",
      "Accuracy after query 83: 0.8478\n",
      "\n",
      "Cycle: 84\n"
     ]
    },
    {
     "name": "stderr",
     "output_type": "stream",
     "text": [
      "INFO:sklearnex: sklearn.utils.validation._assert_all_finite: running accelerated version on CPU\n",
      "INFO:sklearnex: sklearn.utils.validation._assert_all_finite: running accelerated version on CPU\n",
      "INFO:sklearnex: sklearn.utils.validation._assert_all_finite: running accelerated version on CPU\n",
      "INFO:sklearnex: sklearn.utils.validation._assert_all_finite: running accelerated version on CPU\n",
      "INFO:sklearnex: sklearn.utils.validation._assert_all_finite: running accelerated version on CPU\n",
      "INFO:sklearnex: sklearn.utils.validation._assert_all_finite: running accelerated version on CPU\n"
     ]
    },
    {
     "name": "stdout",
     "output_type": "stream",
     "text": [
      "Accuracy after query 84: 0.8476\n",
      "\n",
      "Cycle: 85\n",
      "Accuracy after query 85: 0.8476\n",
      "\n",
      "Cycle: 86\n"
     ]
    },
    {
     "name": "stderr",
     "output_type": "stream",
     "text": [
      "INFO:sklearnex: sklearn.utils.validation._assert_all_finite: running accelerated version on CPU\n",
      "INFO:sklearnex: sklearn.utils.validation._assert_all_finite: running accelerated version on CPU\n",
      "INFO:sklearnex: sklearn.utils.validation._assert_all_finite: running accelerated version on CPU\n",
      "INFO:sklearnex: sklearn.utils.validation._assert_all_finite: running accelerated version on CPU\n",
      "INFO:sklearnex: sklearn.utils.validation._assert_all_finite: running accelerated version on CPU\n",
      "INFO:sklearnex: sklearn.utils.validation._assert_all_finite: running accelerated version on CPU\n"
     ]
    },
    {
     "name": "stdout",
     "output_type": "stream",
     "text": [
      "Accuracy after query 86: 0.8487\n",
      "\n",
      "Cycle: 87\n",
      "Accuracy after query 87: 0.8485\n",
      "\n",
      "Cycle: 88\n"
     ]
    },
    {
     "name": "stderr",
     "output_type": "stream",
     "text": [
      "INFO:sklearnex: sklearn.utils.validation._assert_all_finite: running accelerated version on CPU\n",
      "INFO:sklearnex: sklearn.utils.validation._assert_all_finite: running accelerated version on CPU\n",
      "INFO:sklearnex: sklearn.utils.validation._assert_all_finite: running accelerated version on CPU\n",
      "INFO:sklearnex: sklearn.utils.validation._assert_all_finite: running accelerated version on CPU\n",
      "INFO:sklearnex: sklearn.utils.validation._assert_all_finite: running accelerated version on CPU\n",
      "INFO:sklearnex: sklearn.utils.validation._assert_all_finite: running accelerated version on CPU\n"
     ]
    },
    {
     "name": "stdout",
     "output_type": "stream",
     "text": [
      "Accuracy after query 88: 0.8483\n",
      "\n",
      "Cycle: 89\n",
      "Accuracy after query 89: 0.8482\n",
      "\n",
      "Cycle: 90\n"
     ]
    },
    {
     "name": "stderr",
     "output_type": "stream",
     "text": [
      "INFO:sklearnex: sklearn.utils.validation._assert_all_finite: running accelerated version on CPU\n",
      "INFO:sklearnex: sklearn.utils.validation._assert_all_finite: running accelerated version on CPU\n",
      "INFO:sklearnex: sklearn.utils.validation._assert_all_finite: running accelerated version on CPU\n",
      "INFO:sklearnex: sklearn.utils.validation._assert_all_finite: running accelerated version on CPU\n"
     ]
    },
    {
     "name": "stdout",
     "output_type": "stream",
     "text": [
      "Accuracy after query 90: 0.8482\n",
      "\n",
      "Cycle: 91\n"
     ]
    },
    {
     "name": "stderr",
     "output_type": "stream",
     "text": [
      "INFO:sklearnex: sklearn.utils.validation._assert_all_finite: running accelerated version on CPU\n",
      "INFO:sklearnex: sklearn.utils.validation._assert_all_finite: running accelerated version on CPU\n",
      "INFO:sklearnex: sklearn.utils.validation._assert_all_finite: running accelerated version on CPU\n",
      "INFO:sklearnex: sklearn.utils.validation._assert_all_finite: running accelerated version on CPU\n",
      "INFO:sklearnex: sklearn.utils.validation._assert_all_finite: running accelerated version on CPU\n"
     ]
    },
    {
     "name": "stdout",
     "output_type": "stream",
     "text": [
      "Accuracy after query 91: 0.8480\n",
      "\n",
      "Cycle: 92\n",
      "Accuracy after query 92: 0.8480\n",
      "\n",
      "Cycle: 93\n"
     ]
    },
    {
     "name": "stderr",
     "output_type": "stream",
     "text": [
      "INFO:sklearnex: sklearn.utils.validation._assert_all_finite: running accelerated version on CPU\n",
      "INFO:sklearnex: sklearn.utils.validation._assert_all_finite: running accelerated version on CPU\n",
      "INFO:sklearnex: sklearn.utils.validation._assert_all_finite: running accelerated version on CPU\n",
      "INFO:sklearnex: sklearn.utils.validation._assert_all_finite: running accelerated version on CPU\n",
      "INFO:sklearnex: sklearn.utils.validation._assert_all_finite: running accelerated version on CPU\n"
     ]
    },
    {
     "name": "stdout",
     "output_type": "stream",
     "text": [
      "Accuracy after query 93: 0.8483\n",
      "\n",
      "Cycle: 94\n",
      "Accuracy after query 94: 0.8480\n",
      "\n",
      "Cycle: 95\n"
     ]
    },
    {
     "name": "stderr",
     "output_type": "stream",
     "text": [
      "INFO:sklearnex: sklearn.utils.validation._assert_all_finite: running accelerated version on CPU\n",
      "INFO:sklearnex: sklearn.utils.validation._assert_all_finite: running accelerated version on CPU\n",
      "INFO:sklearnex: sklearn.utils.validation._assert_all_finite: running accelerated version on CPU\n",
      "INFO:sklearnex: sklearn.utils.validation._assert_all_finite: running accelerated version on CPU\n",
      "INFO:sklearnex: sklearn.utils.validation._assert_all_finite: running accelerated version on CPU\n",
      "INFO:sklearnex: sklearn.utils.validation._assert_all_finite: running accelerated version on CPU\n"
     ]
    },
    {
     "name": "stdout",
     "output_type": "stream",
     "text": [
      "Accuracy after query 95: 0.8479\n",
      "\n",
      "Cycle: 96\n",
      "Accuracy after query 96: 0.8479\n",
      "\n",
      "Cycle: 97\n"
     ]
    },
    {
     "name": "stderr",
     "output_type": "stream",
     "text": [
      "INFO:sklearnex: sklearn.utils.validation._assert_all_finite: running accelerated version on CPU\n",
      "INFO:sklearnex: sklearn.utils.validation._assert_all_finite: running accelerated version on CPU\n",
      "INFO:sklearnex: sklearn.utils.validation._assert_all_finite: running accelerated version on CPU\n",
      "INFO:sklearnex: sklearn.utils.validation._assert_all_finite: running accelerated version on CPU\n",
      "INFO:sklearnex: sklearn.utils.validation._assert_all_finite: running accelerated version on CPU\n",
      "INFO:sklearnex: sklearn.utils.validation._assert_all_finite: running accelerated version on CPU\n",
      "INFO:sklearnex: sklearn.utils.validation._assert_all_finite: running accelerated version on CPU\n"
     ]
    },
    {
     "name": "stdout",
     "output_type": "stream",
     "text": [
      "Accuracy after query 97: 0.8474\n",
      "\n",
      "Cycle: 98\n",
      "Accuracy after query 98: 0.8474\n",
      "\n",
      "Cycle: 99\n"
     ]
    },
    {
     "name": "stderr",
     "output_type": "stream",
     "text": [
      "INFO:sklearnex: sklearn.utils.validation._assert_all_finite: running accelerated version on CPU\n",
      "INFO:sklearnex: sklearn.utils.validation._assert_all_finite: running accelerated version on CPU\n",
      "INFO:sklearnex: sklearn.utils.validation._assert_all_finite: running accelerated version on CPU\n",
      "INFO:sklearnex: sklearn.utils.validation._assert_all_finite: running accelerated version on CPU\n",
      "INFO:sklearnex: sklearn.utils.validation._assert_all_finite: running accelerated version on CPU\n"
     ]
    },
    {
     "name": "stdout",
     "output_type": "stream",
     "text": [
      "Accuracy after query 99: 0.8474\n",
      "\n",
      "Cycle: 100\n",
      "Accuracy after query 100: 0.8473\n"
     ]
    },
    {
     "data": {
      "image/png": "[encoded data removed]",
      "text/plain": [
       "<Figure size 1000x700 with 2 Axes>"
      ]
     },
     "metadata": {},
     "output_type": "display_data"
    }
   ],
   "source": [
    "acc_random_sampling, precision_result_random_sampling, recall_result_random_sampling, f1_result_random_sampling = active_learning(\n",
    "    x_pool,\n",
    "    y_pool,\n",
    "    x_initial,\n",
    "    y_initial,\n",
    "    x_test,\n",
    "    y_test,\n",
    "    \"random_sampling\",\n",
    "    clf,\n",
    "    2,\n",
    "    [\"positive\", \"negative\"],\n",
    ")"
   ]
  },
  {
   "cell_type": "code",
   "execution_count": 19,
   "id": "03091694",
   "metadata": {
    "execution": {
     "iopub.execute_input": "2024-05-01T22:28:33.715672Z",
     "iopub.status.busy": "2024-05-01T22:28:33.715250Z",
     "iopub.status.idle": "2024-05-01T22:28:49.200308Z",
     "shell.execute_reply": "2024-05-01T22:28:49.199224Z"
    },
    "papermill": {
     "duration": 15.60232,
     "end_time": "2024-05-01T22:28:49.203010",
     "exception": false,
     "start_time": "2024-05-01T22:28:33.600690",
     "status": "completed"
    },
    "tags": []
   },
   "outputs": [
    {
     "name": "stderr",
     "output_type": "stream",
     "text": [
      "INFO:sklearnex: sklearn.utils.validation._assert_all_finite: running accelerated version on CPU\n",
      "INFO:sklearnex: sklearn.utils.validation._assert_all_finite: running accelerated version on CPU\n",
      "INFO:sklearnex: sklearn.utils.validation._assert_all_finite: running accelerated version on CPU\n",
      "INFO:sklearnex: sklearn.utils.validation._assert_all_finite: running accelerated version on CPU\n",
      "INFO:sklearnex: sklearn.utils.validation._assert_all_finite: running accelerated version on CPU\n",
      "INFO:sklearnex: sklearn.utils.validation._assert_all_finite: running accelerated version on CPU\n"
     ]
    },
    {
     "name": "stdout",
     "output_type": "stream",
     "text": [
      "Starting Active Learning with uncertainty_sampling method\n",
      "\n",
      "Cycle: 1\n",
      "Accuracy after query 1: 0.8489\n",
      "\n",
      "Cycle: 2\n"
     ]
    },
    {
     "name": "stderr",
     "output_type": "stream",
     "text": [
      "INFO:sklearnex: sklearn.utils.validation._assert_all_finite: running accelerated version on CPU\n",
      "INFO:sklearnex: sklearn.utils.validation._assert_all_finite: running accelerated version on CPU\n",
      "INFO:sklearnex: sklearn.utils.validation._assert_all_finite: running accelerated version on CPU\n",
      "INFO:sklearnex: sklearn.utils.validation._assert_all_finite: running accelerated version on CPU\n",
      "INFO:sklearnex: sklearn.utils.validation._assert_all_finite: running accelerated version on CPU\n",
      "INFO:sklearnex: sklearn.utils.validation._assert_all_finite: running accelerated version on CPU\n",
      "INFO:sklearnex: sklearn.utils.validation._assert_all_finite: running accelerated version on CPU\n"
     ]
    },
    {
     "name": "stdout",
     "output_type": "stream",
     "text": [
      "Accuracy after query 2: 0.8494\n",
      "\n",
      "Cycle: 3\n",
      "Accuracy after query 3: 0.8486\n"
     ]
    },
    {
     "name": "stderr",
     "output_type": "stream",
     "text": [
      "INFO:sklearnex: sklearn.utils.validation._assert_all_finite: running accelerated version on CPU\n",
      "INFO:sklearnex: sklearn.utils.validation._assert_all_finite: running accelerated version on CPU\n",
      "INFO:sklearnex: sklearn.utils.validation._assert_all_finite: running accelerated version on CPU\n",
      "INFO:sklearnex: sklearn.utils.validation._assert_all_finite: running accelerated version on CPU\n"
     ]
    },
    {
     "name": "stdout",
     "output_type": "stream",
     "text": [
      "\n",
      "Cycle: 4\n",
      "Accuracy after query 4: 0.8484\n"
     ]
    },
    {
     "name": "stderr",
     "output_type": "stream",
     "text": [
      "INFO:sklearnex: sklearn.utils.validation._assert_all_finite: running accelerated version on CPU\n",
      "INFO:sklearnex: sklearn.utils.validation._assert_all_finite: running accelerated version on CPU\n",
      "INFO:sklearnex: sklearn.utils.validation._assert_all_finite: running accelerated version on CPU\n",
      "INFO:sklearnex: sklearn.utils.validation._assert_all_finite: running accelerated version on CPU\n",
      "INFO:sklearnex: sklearn.utils.validation._assert_all_finite: running accelerated version on CPU\n",
      "INFO:sklearnex: sklearn.utils.validation._assert_all_finite: running accelerated version on CPU\n"
     ]
    },
    {
     "name": "stdout",
     "output_type": "stream",
     "text": [
      "\n",
      "Cycle: 5\n",
      "Accuracy after query 5: 0.8481\n",
      "\n",
      "Cycle: 6\n"
     ]
    },
    {
     "name": "stderr",
     "output_type": "stream",
     "text": [
      "INFO:sklearnex: sklearn.utils.validation._assert_all_finite: running accelerated version on CPU\n",
      "INFO:sklearnex: sklearn.utils.validation._assert_all_finite: running accelerated version on CPU\n",
      "INFO:sklearnex: sklearn.utils.validation._assert_all_finite: running accelerated version on CPU\n",
      "INFO:sklearnex: sklearn.utils.validation._assert_all_finite: running accelerated version on CPU\n",
      "INFO:sklearnex: sklearn.utils.validation._assert_all_finite: running accelerated version on CPU\n",
      "INFO:sklearnex: sklearn.utils.validation._assert_all_finite: running accelerated version on CPU\n",
      "INFO:sklearnex: sklearn.utils.validation._assert_all_finite: running accelerated version on CPU\n",
      "INFO:sklearnex: sklearn.utils.validation._assert_all_finite: running accelerated version on CPU\n"
     ]
    },
    {
     "name": "stdout",
     "output_type": "stream",
     "text": [
      "Accuracy after query 6: 0.8481\n",
      "\n",
      "Cycle: 7\n",
      "Accuracy after query 7: 0.8485\n",
      "\n",
      "Cycle: 8\n"
     ]
    },
    {
     "name": "stderr",
     "output_type": "stream",
     "text": [
      "INFO:sklearnex: sklearn.utils.validation._assert_all_finite: running accelerated version on CPU\n",
      "INFO:sklearnex: sklearn.utils.validation._assert_all_finite: running accelerated version on CPU\n",
      "INFO:sklearnex: sklearn.utils.validation._assert_all_finite: running accelerated version on CPU\n",
      "INFO:sklearnex: sklearn.utils.validation._assert_all_finite: running accelerated version on CPU\n",
      "INFO:sklearnex: sklearn.utils.validation._assert_all_finite: running accelerated version on CPU\n",
      "INFO:sklearnex: sklearn.utils.validation._assert_all_finite: running accelerated version on CPU\n",
      "INFO:sklearnex: sklearn.utils.validation._assert_all_finite: running accelerated version on CPU\n"
     ]
    },
    {
     "name": "stdout",
     "output_type": "stream",
     "text": [
      "Accuracy after query 8: 0.8478\n",
      "\n",
      "Cycle: 9\n",
      "Accuracy after query 9: 0.8479\n",
      "\n",
      "Cycle: 10\n"
     ]
    },
    {
     "name": "stderr",
     "output_type": "stream",
     "text": [
      "INFO:sklearnex: sklearn.utils.validation._assert_all_finite: running accelerated version on CPU\n",
      "INFO:sklearnex: sklearn.utils.validation._assert_all_finite: running accelerated version on CPU\n",
      "INFO:sklearnex: sklearn.utils.validation._assert_all_finite: running accelerated version on CPU\n",
      "INFO:sklearnex: sklearn.utils.validation._assert_all_finite: running accelerated version on CPU\n",
      "INFO:sklearnex: sklearn.utils.validation._assert_all_finite: running accelerated version on CPU\n",
      "INFO:sklearnex: sklearn.utils.validation._assert_all_finite: running accelerated version on CPU\n",
      "INFO:sklearnex: sklearn.utils.validation._assert_all_finite: running accelerated version on CPU\n",
      "INFO:sklearnex: sklearn.utils.validation._assert_all_finite: running accelerated version on CPU\n"
     ]
    },
    {
     "name": "stdout",
     "output_type": "stream",
     "text": [
      "Accuracy after query 10: 0.8477\n",
      "\n",
      "Cycle: 11\n",
      "Accuracy after query 11: 0.8478\n",
      "\n",
      "Cycle: 12\n"
     ]
    },
    {
     "name": "stderr",
     "output_type": "stream",
     "text": [
      "INFO:sklearnex: sklearn.utils.validation._assert_all_finite: running accelerated version on CPU\n",
      "INFO:sklearnex: sklearn.utils.validation._assert_all_finite: running accelerated version on CPU\n",
      "INFO:sklearnex: sklearn.utils.validation._assert_all_finite: running accelerated version on CPU\n",
      "INFO:sklearnex: sklearn.utils.validation._assert_all_finite: running accelerated version on CPU\n",
      "INFO:sklearnex: sklearn.utils.validation._assert_all_finite: running accelerated version on CPU\n",
      "INFO:sklearnex: sklearn.utils.validation._assert_all_finite: running accelerated version on CPU\n",
      "INFO:sklearnex: sklearn.utils.validation._assert_all_finite: running accelerated version on CPU\n",
      "INFO:sklearnex: sklearn.utils.validation._assert_all_finite: running accelerated version on CPU\n",
      "INFO:sklearnex: sklearn.utils.validation._assert_all_finite: running accelerated version on CPU\n"
     ]
    },
    {
     "name": "stdout",
     "output_type": "stream",
     "text": [
      "Accuracy after query 12: 0.8476\n",
      "\n",
      "Cycle: 13\n",
      "Accuracy after query 13: 0.8478\n",
      "\n",
      "Cycle: 14\n"
     ]
    },
    {
     "name": "stderr",
     "output_type": "stream",
     "text": [
      "INFO:sklearnex: sklearn.utils.validation._assert_all_finite: running accelerated version on CPU\n",
      "INFO:sklearnex: sklearn.utils.validation._assert_all_finite: running accelerated version on CPU\n",
      "INFO:sklearnex: sklearn.utils.validation._assert_all_finite: running accelerated version on CPU\n",
      "INFO:sklearnex: sklearn.utils.validation._assert_all_finite: running accelerated version on CPU\n",
      "INFO:sklearnex: sklearn.utils.validation._assert_all_finite: running accelerated version on CPU\n",
      "INFO:sklearnex: sklearn.utils.validation._assert_all_finite: running accelerated version on CPU\n",
      "INFO:sklearnex: sklearn.utils.validation._assert_all_finite: running accelerated version on CPU\n",
      "INFO:sklearnex: sklearn.utils.validation._assert_all_finite: running accelerated version on CPU\n"
     ]
    },
    {
     "name": "stdout",
     "output_type": "stream",
     "text": [
      "Accuracy after query 14: 0.8479\n",
      "\n",
      "Cycle: 15\n",
      "Accuracy after query 15: 0.8478\n",
      "\n",
      "Cycle: 16\n"
     ]
    },
    {
     "name": "stderr",
     "output_type": "stream",
     "text": [
      "INFO:sklearnex: sklearn.utils.validation._assert_all_finite: running accelerated version on CPU\n",
      "INFO:sklearnex: sklearn.utils.validation._assert_all_finite: running accelerated version on CPU\n",
      "INFO:sklearnex: sklearn.utils.validation._assert_all_finite: running accelerated version on CPU\n",
      "INFO:sklearnex: sklearn.utils.validation._assert_all_finite: running accelerated version on CPU\n",
      "INFO:sklearnex: sklearn.utils.validation._assert_all_finite: running accelerated version on CPU\n",
      "INFO:sklearnex: sklearn.utils.validation._assert_all_finite: running accelerated version on CPU\n",
      "INFO:sklearnex: sklearn.utils.validation._assert_all_finite: running accelerated version on CPU\n",
      "INFO:sklearnex: sklearn.utils.validation._assert_all_finite: running accelerated version on CPU\n"
     ]
    },
    {
     "name": "stdout",
     "output_type": "stream",
     "text": [
      "Accuracy after query 16: 0.8477\n",
      "\n",
      "Cycle: 17\n",
      "Accuracy after query 17: 0.8472\n",
      "\n",
      "Cycle: 18\n"
     ]
    },
    {
     "name": "stderr",
     "output_type": "stream",
     "text": [
      "INFO:sklearnex: sklearn.utils.validation._assert_all_finite: running accelerated version on CPU\n",
      "INFO:sklearnex: sklearn.utils.validation._assert_all_finite: running accelerated version on CPU\n",
      "INFO:sklearnex: sklearn.utils.validation._assert_all_finite: running accelerated version on CPU\n",
      "INFO:sklearnex: sklearn.utils.validation._assert_all_finite: running accelerated version on CPU\n",
      "INFO:sklearnex: sklearn.utils.validation._assert_all_finite: running accelerated version on CPU\n",
      "INFO:sklearnex: sklearn.utils.validation._assert_all_finite: running accelerated version on CPU\n",
      "INFO:sklearnex: sklearn.utils.validation._assert_all_finite: running accelerated version on CPU\n",
      "INFO:sklearnex: sklearn.utils.validation._assert_all_finite: running accelerated version on CPU\n"
     ]
    },
    {
     "name": "stdout",
     "output_type": "stream",
     "text": [
      "Accuracy after query 18: 0.8471\n",
      "\n",
      "Cycle: 19\n",
      "Accuracy after query 19: 0.8477\n",
      "\n",
      "Cycle: 20\n"
     ]
    },
    {
     "name": "stderr",
     "output_type": "stream",
     "text": [
      "INFO:sklearnex: sklearn.utils.validation._assert_all_finite: running accelerated version on CPU\n",
      "INFO:sklearnex: sklearn.utils.validation._assert_all_finite: running accelerated version on CPU\n",
      "INFO:sklearnex: sklearn.utils.validation._assert_all_finite: running accelerated version on CPU\n",
      "INFO:sklearnex: sklearn.utils.validation._assert_all_finite: running accelerated version on CPU\n",
      "INFO:sklearnex: sklearn.utils.validation._assert_all_finite: running accelerated version on CPU\n",
      "INFO:sklearnex: sklearn.utils.validation._assert_all_finite: running accelerated version on CPU\n",
      "INFO:sklearnex: sklearn.utils.validation._assert_all_finite: running accelerated version on CPU\n",
      "INFO:sklearnex: sklearn.utils.validation._assert_all_finite: running accelerated version on CPU\n"
     ]
    },
    {
     "name": "stdout",
     "output_type": "stream",
     "text": [
      "Accuracy after query 20: 0.8480\n",
      "\n",
      "Cycle: 21\n",
      "Accuracy after query 21: 0.8475\n",
      "\n",
      "Cycle: 22\n"
     ]
    },
    {
     "name": "stderr",
     "output_type": "stream",
     "text": [
      "INFO:sklearnex: sklearn.utils.validation._assert_all_finite: running accelerated version on CPU\n",
      "INFO:sklearnex: sklearn.utils.validation._assert_all_finite: running accelerated version on CPU\n",
      "INFO:sklearnex: sklearn.utils.validation._assert_all_finite: running accelerated version on CPU\n",
      "INFO:sklearnex: sklearn.utils.validation._assert_all_finite: running accelerated version on CPU\n",
      "INFO:sklearnex: sklearn.utils.validation._assert_all_finite: running accelerated version on CPU\n",
      "INFO:sklearnex: sklearn.utils.validation._assert_all_finite: running accelerated version on CPU\n",
      "INFO:sklearnex: sklearn.utils.validation._assert_all_finite: running accelerated version on CPU\n",
      "INFO:sklearnex: sklearn.utils.validation._assert_all_finite: running accelerated version on CPU\n"
     ]
    },
    {
     "name": "stdout",
     "output_type": "stream",
     "text": [
      "Accuracy after query 22: 0.8480\n",
      "\n",
      "Cycle: 23\n",
      "Accuracy after query 23: 0.8476\n",
      "\n",
      "Cycle: 24\n"
     ]
    },
    {
     "name": "stderr",
     "output_type": "stream",
     "text": [
      "INFO:sklearnex: sklearn.utils.validation._assert_all_finite: running accelerated version on CPU\n",
      "INFO:sklearnex: sklearn.utils.validation._assert_all_finite: running accelerated version on CPU\n",
      "INFO:sklearnex: sklearn.utils.validation._assert_all_finite: running accelerated version on CPU\n",
      "INFO:sklearnex: sklearn.utils.validation._assert_all_finite: running accelerated version on CPU\n",
      "INFO:sklearnex: sklearn.utils.validation._assert_all_finite: running accelerated version on CPU\n",
      "INFO:sklearnex: sklearn.utils.validation._assert_all_finite: running accelerated version on CPU\n",
      "INFO:sklearnex: sklearn.utils.validation._assert_all_finite: running accelerated version on CPU\n"
     ]
    },
    {
     "name": "stdout",
     "output_type": "stream",
     "text": [
      "Accuracy after query 24: 0.8476\n",
      "\n",
      "Cycle: 25\n",
      "Accuracy after query 25: 0.8477\n",
      "\n",
      "Cycle: 26\n"
     ]
    },
    {
     "name": "stderr",
     "output_type": "stream",
     "text": [
      "INFO:sklearnex: sklearn.utils.validation._assert_all_finite: running accelerated version on CPU\n",
      "INFO:sklearnex: sklearn.utils.validation._assert_all_finite: running accelerated version on CPU\n",
      "INFO:sklearnex: sklearn.utils.validation._assert_all_finite: running accelerated version on CPU\n",
      "INFO:sklearnex: sklearn.utils.validation._assert_all_finite: running accelerated version on CPU\n",
      "INFO:sklearnex: sklearn.utils.validation._assert_all_finite: running accelerated version on CPU\n",
      "INFO:sklearnex: sklearn.utils.validation._assert_all_finite: running accelerated version on CPU\n",
      "INFO:sklearnex: sklearn.utils.validation._assert_all_finite: running accelerated version on CPU\n",
      "INFO:sklearnex: sklearn.utils.validation._assert_all_finite: running accelerated version on CPU\n"
     ]
    },
    {
     "name": "stdout",
     "output_type": "stream",
     "text": [
      "Accuracy after query 26: 0.8471\n",
      "\n",
      "Cycle: 27\n",
      "Accuracy after query 27: 0.8475\n",
      "\n",
      "Cycle: 28\n"
     ]
    },
    {
     "name": "stderr",
     "output_type": "stream",
     "text": [
      "INFO:sklearnex: sklearn.utils.validation._assert_all_finite: running accelerated version on CPU\n",
      "INFO:sklearnex: sklearn.utils.validation._assert_all_finite: running accelerated version on CPU\n",
      "INFO:sklearnex: sklearn.utils.validation._assert_all_finite: running accelerated version on CPU\n",
      "INFO:sklearnex: sklearn.utils.validation._assert_all_finite: running accelerated version on CPU\n",
      "INFO:sklearnex: sklearn.utils.validation._assert_all_finite: running accelerated version on CPU\n",
      "INFO:sklearnex: sklearn.utils.validation._assert_all_finite: running accelerated version on CPU\n",
      "INFO:sklearnex: sklearn.utils.validation._assert_all_finite: running accelerated version on CPU\n",
      "INFO:sklearnex: sklearn.utils.validation._assert_all_finite: running accelerated version on CPU\n",
      "INFO:sklearnex: sklearn.utils.validation._assert_all_finite: running accelerated version on CPU\n"
     ]
    },
    {
     "name": "stdout",
     "output_type": "stream",
     "text": [
      "Accuracy after query 28: 0.8479\n",
      "\n",
      "Cycle: 29\n",
      "Accuracy after query 29: 0.8481\n",
      "\n",
      "Cycle: 30\n"
     ]
    },
    {
     "name": "stderr",
     "output_type": "stream",
     "text": [
      "INFO:sklearnex: sklearn.utils.validation._assert_all_finite: running accelerated version on CPU\n",
      "INFO:sklearnex: sklearn.utils.validation._assert_all_finite: running accelerated version on CPU\n",
      "INFO:sklearnex: sklearn.utils.validation._assert_all_finite: running accelerated version on CPU\n",
      "INFO:sklearnex: sklearn.utils.validation._assert_all_finite: running accelerated version on CPU\n",
      "INFO:sklearnex: sklearn.utils.validation._assert_all_finite: running accelerated version on CPU\n",
      "INFO:sklearnex: sklearn.utils.validation._assert_all_finite: running accelerated version on CPU\n",
      "INFO:sklearnex: sklearn.utils.validation._assert_all_finite: running accelerated version on CPU\n"
     ]
    },
    {
     "name": "stdout",
     "output_type": "stream",
     "text": [
      "Accuracy after query 30: 0.8480\n",
      "\n",
      "Cycle: 31\n",
      "Accuracy after query 31: 0.8485\n",
      "\n",
      "Cycle: 32\n"
     ]
    },
    {
     "name": "stderr",
     "output_type": "stream",
     "text": [
      "INFO:sklearnex: sklearn.utils.validation._assert_all_finite: running accelerated version on CPU\n",
      "INFO:sklearnex: sklearn.utils.validation._assert_all_finite: running accelerated version on CPU\n",
      "INFO:sklearnex: sklearn.utils.validation._assert_all_finite: running accelerated version on CPU\n",
      "INFO:sklearnex: sklearn.utils.validation._assert_all_finite: running accelerated version on CPU\n",
      "INFO:sklearnex: sklearn.utils.validation._assert_all_finite: running accelerated version on CPU\n",
      "INFO:sklearnex: sklearn.utils.validation._assert_all_finite: running accelerated version on CPU\n",
      "INFO:sklearnex: sklearn.utils.validation._assert_all_finite: running accelerated version on CPU\n",
      "INFO:sklearnex: sklearn.utils.validation._assert_all_finite: running accelerated version on CPU\n"
     ]
    },
    {
     "name": "stdout",
     "output_type": "stream",
     "text": [
      "Accuracy after query 32: 0.8484\n",
      "\n",
      "Cycle: 33\n",
      "Accuracy after query 33: 0.8488\n",
      "\n",
      "Cycle: 34\n"
     ]
    },
    {
     "name": "stderr",
     "output_type": "stream",
     "text": [
      "INFO:sklearnex: sklearn.utils.validation._assert_all_finite: running accelerated version on CPU\n",
      "INFO:sklearnex: sklearn.utils.validation._assert_all_finite: running accelerated version on CPU\n",
      "INFO:sklearnex: sklearn.utils.validation._assert_all_finite: running accelerated version on CPU\n",
      "INFO:sklearnex: sklearn.utils.validation._assert_all_finite: running accelerated version on CPU\n",
      "INFO:sklearnex: sklearn.utils.validation._assert_all_finite: running accelerated version on CPU\n",
      "INFO:sklearnex: sklearn.utils.validation._assert_all_finite: running accelerated version on CPU\n",
      "INFO:sklearnex: sklearn.utils.validation._assert_all_finite: running accelerated version on CPU\n",
      "INFO:sklearnex: sklearn.utils.validation._assert_all_finite: running accelerated version on CPU\n"
     ]
    },
    {
     "name": "stdout",
     "output_type": "stream",
     "text": [
      "Accuracy after query 34: 0.8481\n",
      "\n",
      "Cycle: 35\n",
      "Accuracy after query 35: 0.8481\n",
      "\n",
      "Cycle: 36\n"
     ]
    },
    {
     "name": "stderr",
     "output_type": "stream",
     "text": [
      "INFO:sklearnex: sklearn.utils.validation._assert_all_finite: running accelerated version on CPU\n",
      "INFO:sklearnex: sklearn.utils.validation._assert_all_finite: running accelerated version on CPU\n",
      "INFO:sklearnex: sklearn.utils.validation._assert_all_finite: running accelerated version on CPU\n",
      "INFO:sklearnex: sklearn.utils.validation._assert_all_finite: running accelerated version on CPU\n",
      "INFO:sklearnex: sklearn.utils.validation._assert_all_finite: running accelerated version on CPU\n",
      "INFO:sklearnex: sklearn.utils.validation._assert_all_finite: running accelerated version on CPU\n",
      "INFO:sklearnex: sklearn.utils.validation._assert_all_finite: running accelerated version on CPU\n",
      "INFO:sklearnex: sklearn.utils.validation._assert_all_finite: running accelerated version on CPU\n"
     ]
    },
    {
     "name": "stdout",
     "output_type": "stream",
     "text": [
      "Accuracy after query 36: 0.8483\n",
      "\n",
      "Cycle: 37\n",
      "Accuracy after query 37: 0.8478\n",
      "\n",
      "Cycle: 38\n"
     ]
    },
    {
     "name": "stderr",
     "output_type": "stream",
     "text": [
      "INFO:sklearnex: sklearn.utils.validation._assert_all_finite: running accelerated version on CPU\n",
      "INFO:sklearnex: sklearn.utils.validation._assert_all_finite: running accelerated version on CPU\n",
      "INFO:sklearnex: sklearn.utils.validation._assert_all_finite: running accelerated version on CPU\n",
      "INFO:sklearnex: sklearn.utils.validation._assert_all_finite: running accelerated version on CPU\n",
      "INFO:sklearnex: sklearn.utils.validation._assert_all_finite: running accelerated version on CPU\n",
      "INFO:sklearnex: sklearn.utils.validation._assert_all_finite: running accelerated version on CPU\n",
      "INFO:sklearnex: sklearn.utils.validation._assert_all_finite: running accelerated version on CPU\n",
      "INFO:sklearnex: sklearn.utils.validation._assert_all_finite: running accelerated version on CPU\n",
      "INFO:sklearnex: sklearn.utils.validation._assert_all_finite: running accelerated version on CPU\n"
     ]
    },
    {
     "name": "stdout",
     "output_type": "stream",
     "text": [
      "Accuracy after query 38: 0.8480\n",
      "\n",
      "Cycle: 39\n",
      "Accuracy after query 39: 0.8479\n",
      "\n",
      "Cycle: 40\n"
     ]
    },
    {
     "name": "stderr",
     "output_type": "stream",
     "text": [
      "INFO:sklearnex: sklearn.utils.validation._assert_all_finite: running accelerated version on CPU\n",
      "INFO:sklearnex: sklearn.utils.validation._assert_all_finite: running accelerated version on CPU\n",
      "INFO:sklearnex: sklearn.utils.validation._assert_all_finite: running accelerated version on CPU\n",
      "INFO:sklearnex: sklearn.utils.validation._assert_all_finite: running accelerated version on CPU\n",
      "INFO:sklearnex: sklearn.utils.validation._assert_all_finite: running accelerated version on CPU\n",
      "INFO:sklearnex: sklearn.utils.validation._assert_all_finite: running accelerated version on CPU\n",
      "INFO:sklearnex: sklearn.utils.validation._assert_all_finite: running accelerated version on CPU\n",
      "INFO:sklearnex: sklearn.utils.validation._assert_all_finite: running accelerated version on CPU\n"
     ]
    },
    {
     "name": "stdout",
     "output_type": "stream",
     "text": [
      "Accuracy after query 40: 0.8480\n",
      "\n",
      "Cycle: 41\n",
      "Accuracy after query 41: 0.8482\n",
      "\n",
      "Cycle: 42\n"
     ]
    },
    {
     "name": "stderr",
     "output_type": "stream",
     "text": [
      "INFO:sklearnex: sklearn.utils.validation._assert_all_finite: running accelerated version on CPU\n",
      "INFO:sklearnex: sklearn.utils.validation._assert_all_finite: running accelerated version on CPU\n",
      "INFO:sklearnex: sklearn.utils.validation._assert_all_finite: running accelerated version on CPU\n",
      "INFO:sklearnex: sklearn.utils.validation._assert_all_finite: running accelerated version on CPU\n",
      "INFO:sklearnex: sklearn.utils.validation._assert_all_finite: running accelerated version on CPU\n",
      "INFO:sklearnex: sklearn.utils.validation._assert_all_finite: running accelerated version on CPU\n",
      "INFO:sklearnex: sklearn.utils.validation._assert_all_finite: running accelerated version on CPU\n",
      "INFO:sklearnex: sklearn.utils.validation._assert_all_finite: running accelerated version on CPU\n"
     ]
    },
    {
     "name": "stdout",
     "output_type": "stream",
     "text": [
      "Accuracy after query 42: 0.8480\n",
      "\n",
      "Cycle: 43\n",
      "Accuracy after query 43: 0.8477\n",
      "\n",
      "Cycle: 44\n"
     ]
    },
    {
     "name": "stderr",
     "output_type": "stream",
     "text": [
      "INFO:sklearnex: sklearn.utils.validation._assert_all_finite: running accelerated version on CPU\n",
      "INFO:sklearnex: sklearn.utils.validation._assert_all_finite: running accelerated version on CPU\n",
      "INFO:sklearnex: sklearn.utils.validation._assert_all_finite: running accelerated version on CPU\n",
      "INFO:sklearnex: sklearn.utils.validation._assert_all_finite: running accelerated version on CPU\n",
      "INFO:sklearnex: sklearn.utils.validation._assert_all_finite: running accelerated version on CPU\n",
      "INFO:sklearnex: sklearn.utils.validation._assert_all_finite: running accelerated version on CPU\n",
      "INFO:sklearnex: sklearn.utils.validation._assert_all_finite: running accelerated version on CPU\n"
     ]
    },
    {
     "name": "stdout",
     "output_type": "stream",
     "text": [
      "Accuracy after query 44: 0.8478\n",
      "\n",
      "Cycle: 45\n",
      "Accuracy after query 45: 0.8483\n",
      "\n",
      "Cycle: 46\n"
     ]
    },
    {
     "name": "stderr",
     "output_type": "stream",
     "text": [
      "INFO:sklearnex: sklearn.utils.validation._assert_all_finite: running accelerated version on CPU\n",
      "INFO:sklearnex: sklearn.utils.validation._assert_all_finite: running accelerated version on CPU\n",
      "INFO:sklearnex: sklearn.utils.validation._assert_all_finite: running accelerated version on CPU\n",
      "INFO:sklearnex: sklearn.utils.validation._assert_all_finite: running accelerated version on CPU\n",
      "INFO:sklearnex: sklearn.utils.validation._assert_all_finite: running accelerated version on CPU\n",
      "INFO:sklearnex: sklearn.utils.validation._assert_all_finite: running accelerated version on CPU\n",
      "INFO:sklearnex: sklearn.utils.validation._assert_all_finite: running accelerated version on CPU\n",
      "INFO:sklearnex: sklearn.utils.validation._assert_all_finite: running accelerated version on CPU\n"
     ]
    },
    {
     "name": "stdout",
     "output_type": "stream",
     "text": [
      "Accuracy after query 46: 0.8482\n",
      "\n",
      "Cycle: 47\n",
      "Accuracy after query 47: 0.8489\n",
      "\n",
      "Cycle: 48\n"
     ]
    },
    {
     "name": "stderr",
     "output_type": "stream",
     "text": [
      "INFO:sklearnex: sklearn.utils.validation._assert_all_finite: running accelerated version on CPU\n",
      "INFO:sklearnex: sklearn.utils.validation._assert_all_finite: running accelerated version on CPU\n",
      "INFO:sklearnex: sklearn.utils.validation._assert_all_finite: running accelerated version on CPU\n",
      "INFO:sklearnex: sklearn.utils.validation._assert_all_finite: running accelerated version on CPU\n",
      "INFO:sklearnex: sklearn.utils.validation._assert_all_finite: running accelerated version on CPU\n",
      "INFO:sklearnex: sklearn.utils.validation._assert_all_finite: running accelerated version on CPU\n",
      "INFO:sklearnex: sklearn.utils.validation._assert_all_finite: running accelerated version on CPU\n",
      "INFO:sklearnex: sklearn.utils.validation._assert_all_finite: running accelerated version on CPU\n"
     ]
    },
    {
     "name": "stdout",
     "output_type": "stream",
     "text": [
      "Accuracy after query 48: 0.8485\n",
      "\n",
      "Cycle: 49\n",
      "Accuracy after query 49: 0.8490\n",
      "\n",
      "Cycle: 50\n"
     ]
    },
    {
     "name": "stderr",
     "output_type": "stream",
     "text": [
      "INFO:sklearnex: sklearn.utils.validation._assert_all_finite: running accelerated version on CPU\n",
      "INFO:sklearnex: sklearn.utils.validation._assert_all_finite: running accelerated version on CPU\n",
      "INFO:sklearnex: sklearn.utils.validation._assert_all_finite: running accelerated version on CPU\n",
      "INFO:sklearnex: sklearn.utils.validation._assert_all_finite: running accelerated version on CPU\n",
      "INFO:sklearnex: sklearn.utils.validation._assert_all_finite: running accelerated version on CPU\n",
      "INFO:sklearnex: sklearn.utils.validation._assert_all_finite: running accelerated version on CPU\n",
      "INFO:sklearnex: sklearn.utils.validation._assert_all_finite: running accelerated version on CPU\n",
      "INFO:sklearnex: sklearn.utils.validation._assert_all_finite: running accelerated version on CPU\n",
      "INFO:sklearnex: sklearn.utils.validation._assert_all_finite: running accelerated version on CPU\n"
     ]
    },
    {
     "name": "stdout",
     "output_type": "stream",
     "text": [
      "Accuracy after query 50: 0.8488\n",
      "\n",
      "Cycle: 51\n",
      "Accuracy after query 51: 0.8491\n",
      "\n",
      "Cycle: 52\n"
     ]
    },
    {
     "name": "stderr",
     "output_type": "stream",
     "text": [
      "INFO:sklearnex: sklearn.utils.validation._assert_all_finite: running accelerated version on CPU\n",
      "INFO:sklearnex: sklearn.utils.validation._assert_all_finite: running accelerated version on CPU\n",
      "INFO:sklearnex: sklearn.utils.validation._assert_all_finite: running accelerated version on CPU\n",
      "INFO:sklearnex: sklearn.utils.validation._assert_all_finite: running accelerated version on CPU\n",
      "INFO:sklearnex: sklearn.utils.validation._assert_all_finite: running accelerated version on CPU\n",
      "INFO:sklearnex: sklearn.utils.validation._assert_all_finite: running accelerated version on CPU\n",
      "INFO:sklearnex: sklearn.utils.validation._assert_all_finite: running accelerated version on CPU\n"
     ]
    },
    {
     "name": "stdout",
     "output_type": "stream",
     "text": [
      "Accuracy after query 52: 0.8491\n",
      "\n",
      "Cycle: 53\n",
      "Accuracy after query 53: 0.8495\n",
      "\n",
      "Cycle: 54\n"
     ]
    },
    {
     "name": "stderr",
     "output_type": "stream",
     "text": [
      "INFO:sklearnex: sklearn.utils.validation._assert_all_finite: running accelerated version on CPU\n",
      "INFO:sklearnex: sklearn.utils.validation._assert_all_finite: running accelerated version on CPU\n",
      "INFO:sklearnex: sklearn.utils.validation._assert_all_finite: running accelerated version on CPU\n",
      "INFO:sklearnex: sklearn.utils.validation._assert_all_finite: running accelerated version on CPU\n",
      "INFO:sklearnex: sklearn.utils.validation._assert_all_finite: running accelerated version on CPU\n",
      "INFO:sklearnex: sklearn.utils.validation._assert_all_finite: running accelerated version on CPU\n",
      "INFO:sklearnex: sklearn.utils.validation._assert_all_finite: running accelerated version on CPU\n",
      "INFO:sklearnex: sklearn.utils.validation._assert_all_finite: running accelerated version on CPU\n",
      "INFO:sklearnex: sklearn.utils.validation._assert_all_finite: running accelerated version on CPU\n"
     ]
    },
    {
     "name": "stdout",
     "output_type": "stream",
     "text": [
      "Accuracy after query 54: 0.8492\n",
      "\n",
      "Cycle: 55\n",
      "Accuracy after query 55: 0.8494\n",
      "\n",
      "Cycle: 56\n"
     ]
    },
    {
     "name": "stderr",
     "output_type": "stream",
     "text": [
      "INFO:sklearnex: sklearn.utils.validation._assert_all_finite: running accelerated version on CPU\n",
      "INFO:sklearnex: sklearn.utils.validation._assert_all_finite: running accelerated version on CPU\n",
      "INFO:sklearnex: sklearn.utils.validation._assert_all_finite: running accelerated version on CPU\n",
      "INFO:sklearnex: sklearn.utils.validation._assert_all_finite: running accelerated version on CPU\n",
      "INFO:sklearnex: sklearn.utils.validation._assert_all_finite: running accelerated version on CPU\n",
      "INFO:sklearnex: sklearn.utils.validation._assert_all_finite: running accelerated version on CPU\n",
      "INFO:sklearnex: sklearn.utils.validation._assert_all_finite: running accelerated version on CPU\n",
      "INFO:sklearnex: sklearn.utils.validation._assert_all_finite: running accelerated version on CPU\n"
     ]
    },
    {
     "name": "stdout",
     "output_type": "stream",
     "text": [
      "Accuracy after query 56: 0.8498\n",
      "\n",
      "Cycle: 57\n",
      "Accuracy after query 57: 0.8496\n",
      "\n",
      "Cycle: 58\n"
     ]
    },
    {
     "name": "stderr",
     "output_type": "stream",
     "text": [
      "INFO:sklearnex: sklearn.utils.validation._assert_all_finite: running accelerated version on CPU\n",
      "INFO:sklearnex: sklearn.utils.validation._assert_all_finite: running accelerated version on CPU\n",
      "INFO:sklearnex: sklearn.utils.validation._assert_all_finite: running accelerated version on CPU\n",
      "INFO:sklearnex: sklearn.utils.validation._assert_all_finite: running accelerated version on CPU\n",
      "INFO:sklearnex: sklearn.utils.validation._assert_all_finite: running accelerated version on CPU\n",
      "INFO:sklearnex: sklearn.utils.validation._assert_all_finite: running accelerated version on CPU\n",
      "INFO:sklearnex: sklearn.utils.validation._assert_all_finite: running accelerated version on CPU\n"
     ]
    },
    {
     "name": "stdout",
     "output_type": "stream",
     "text": [
      "Accuracy after query 58: 0.8499\n",
      "\n",
      "Cycle: 59\n",
      "Accuracy after query 59: 0.8495\n",
      "\n",
      "Cycle: 60\n"
     ]
    },
    {
     "name": "stderr",
     "output_type": "stream",
     "text": [
      "INFO:sklearnex: sklearn.utils.validation._assert_all_finite: running accelerated version on CPU\n",
      "INFO:sklearnex: sklearn.utils.validation._assert_all_finite: running accelerated version on CPU\n",
      "INFO:sklearnex: sklearn.utils.validation._assert_all_finite: running accelerated version on CPU\n",
      "INFO:sklearnex: sklearn.utils.validation._assert_all_finite: running accelerated version on CPU\n",
      "INFO:sklearnex: sklearn.utils.validation._assert_all_finite: running accelerated version on CPU\n",
      "INFO:sklearnex: sklearn.utils.validation._assert_all_finite: running accelerated version on CPU\n",
      "INFO:sklearnex: sklearn.utils.validation._assert_all_finite: running accelerated version on CPU\n",
      "INFO:sklearnex: sklearn.utils.validation._assert_all_finite: running accelerated version on CPU\n",
      "INFO:sklearnex: sklearn.utils.validation._assert_all_finite: running accelerated version on CPU\n"
     ]
    },
    {
     "name": "stdout",
     "output_type": "stream",
     "text": [
      "Accuracy after query 60: 0.8497\n",
      "\n",
      "Cycle: 61\n",
      "Accuracy after query 61: 0.8497\n",
      "\n",
      "Cycle: 62\n"
     ]
    },
    {
     "name": "stderr",
     "output_type": "stream",
     "text": [
      "INFO:sklearnex: sklearn.utils.validation._assert_all_finite: running accelerated version on CPU\n",
      "INFO:sklearnex: sklearn.utils.validation._assert_all_finite: running accelerated version on CPU\n",
      "INFO:sklearnex: sklearn.utils.validation._assert_all_finite: running accelerated version on CPU\n",
      "INFO:sklearnex: sklearn.utils.validation._assert_all_finite: running accelerated version on CPU\n",
      "INFO:sklearnex: sklearn.utils.validation._assert_all_finite: running accelerated version on CPU\n",
      "INFO:sklearnex: sklearn.utils.validation._assert_all_finite: running accelerated version on CPU\n",
      "INFO:sklearnex: sklearn.utils.validation._assert_all_finite: running accelerated version on CPU\n"
     ]
    },
    {
     "name": "stdout",
     "output_type": "stream",
     "text": [
      "Accuracy after query 62: 0.8496\n",
      "\n",
      "Cycle: 63\n",
      "Accuracy after query 63: 0.8499\n",
      "\n",
      "Cycle: 64\n"
     ]
    },
    {
     "name": "stderr",
     "output_type": "stream",
     "text": [
      "INFO:sklearnex: sklearn.utils.validation._assert_all_finite: running accelerated version on CPU\n",
      "INFO:sklearnex: sklearn.utils.validation._assert_all_finite: running accelerated version on CPU\n",
      "INFO:sklearnex: sklearn.utils.validation._assert_all_finite: running accelerated version on CPU\n",
      "INFO:sklearnex: sklearn.utils.validation._assert_all_finite: running accelerated version on CPU\n",
      "INFO:sklearnex: sklearn.utils.validation._assert_all_finite: running accelerated version on CPU\n",
      "INFO:sklearnex: sklearn.utils.validation._assert_all_finite: running accelerated version on CPU\n",
      "INFO:sklearnex: sklearn.utils.validation._assert_all_finite: running accelerated version on CPU\n",
      "INFO:sklearnex: sklearn.utils.validation._assert_all_finite: running accelerated version on CPU\n"
     ]
    },
    {
     "name": "stdout",
     "output_type": "stream",
     "text": [
      "Accuracy after query 64: 0.8495\n",
      "\n",
      "Cycle: 65\n",
      "Accuracy after query 65: 0.8495\n",
      "\n",
      "Cycle: 66\n"
     ]
    },
    {
     "name": "stderr",
     "output_type": "stream",
     "text": [
      "INFO:sklearnex: sklearn.utils.validation._assert_all_finite: running accelerated version on CPU\n",
      "INFO:sklearnex: sklearn.utils.validation._assert_all_finite: running accelerated version on CPU\n",
      "INFO:sklearnex: sklearn.utils.validation._assert_all_finite: running accelerated version on CPU\n",
      "INFO:sklearnex: sklearn.utils.validation._assert_all_finite: running accelerated version on CPU\n",
      "INFO:sklearnex: sklearn.utils.validation._assert_all_finite: running accelerated version on CPU\n",
      "INFO:sklearnex: sklearn.utils.validation._assert_all_finite: running accelerated version on CPU\n",
      "INFO:sklearnex: sklearn.utils.validation._assert_all_finite: running accelerated version on CPU\n",
      "INFO:sklearnex: sklearn.utils.validation._assert_all_finite: running accelerated version on CPU\n",
      "INFO:sklearnex: sklearn.utils.validation._assert_all_finite: running accelerated version on CPU\n"
     ]
    },
    {
     "name": "stdout",
     "output_type": "stream",
     "text": [
      "Accuracy after query 66: 0.8497\n",
      "\n",
      "Cycle: 67\n",
      "Accuracy after query 67: 0.8497\n",
      "\n",
      "Cycle: 68\n"
     ]
    },
    {
     "name": "stderr",
     "output_type": "stream",
     "text": [
      "INFO:sklearnex: sklearn.utils.validation._assert_all_finite: running accelerated version on CPU\n",
      "INFO:sklearnex: sklearn.utils.validation._assert_all_finite: running accelerated version on CPU\n",
      "INFO:sklearnex: sklearn.utils.validation._assert_all_finite: running accelerated version on CPU\n",
      "INFO:sklearnex: sklearn.utils.validation._assert_all_finite: running accelerated version on CPU\n",
      "INFO:sklearnex: sklearn.utils.validation._assert_all_finite: running accelerated version on CPU\n",
      "INFO:sklearnex: sklearn.utils.validation._assert_all_finite: running accelerated version on CPU\n",
      "INFO:sklearnex: sklearn.utils.validation._assert_all_finite: running accelerated version on CPU\n",
      "INFO:sklearnex: sklearn.utils.validation._assert_all_finite: running accelerated version on CPU\n"
     ]
    },
    {
     "name": "stdout",
     "output_type": "stream",
     "text": [
      "Accuracy after query 68: 0.8497\n",
      "\n",
      "Cycle: 69\n",
      "Accuracy after query 69: 0.8496\n",
      "\n",
      "Cycle: 70\n"
     ]
    },
    {
     "name": "stderr",
     "output_type": "stream",
     "text": [
      "INFO:sklearnex: sklearn.utils.validation._assert_all_finite: running accelerated version on CPU\n",
      "INFO:sklearnex: sklearn.utils.validation._assert_all_finite: running accelerated version on CPU\n",
      "INFO:sklearnex: sklearn.utils.validation._assert_all_finite: running accelerated version on CPU\n",
      "INFO:sklearnex: sklearn.utils.validation._assert_all_finite: running accelerated version on CPU\n",
      "INFO:sklearnex: sklearn.utils.validation._assert_all_finite: running accelerated version on CPU\n",
      "INFO:sklearnex: sklearn.utils.validation._assert_all_finite: running accelerated version on CPU\n",
      "INFO:sklearnex: sklearn.utils.validation._assert_all_finite: running accelerated version on CPU\n"
     ]
    },
    {
     "name": "stdout",
     "output_type": "stream",
     "text": [
      "Accuracy after query 70: 0.8496\n",
      "\n",
      "Cycle: 71\n",
      "Accuracy after query 71: 0.8496\n",
      "\n",
      "Cycle: 72\n"
     ]
    },
    {
     "name": "stderr",
     "output_type": "stream",
     "text": [
      "INFO:sklearnex: sklearn.utils.validation._assert_all_finite: running accelerated version on CPU\n",
      "INFO:sklearnex: sklearn.utils.validation._assert_all_finite: running accelerated version on CPU\n",
      "INFO:sklearnex: sklearn.utils.validation._assert_all_finite: running accelerated version on CPU\n",
      "INFO:sklearnex: sklearn.utils.validation._assert_all_finite: running accelerated version on CPU\n",
      "INFO:sklearnex: sklearn.utils.validation._assert_all_finite: running accelerated version on CPU\n",
      "INFO:sklearnex: sklearn.utils.validation._assert_all_finite: running accelerated version on CPU\n",
      "INFO:sklearnex: sklearn.utils.validation._assert_all_finite: running accelerated version on CPU\n",
      "INFO:sklearnex: sklearn.utils.validation._assert_all_finite: running accelerated version on CPU\n",
      "INFO:sklearnex: sklearn.utils.validation._assert_all_finite: running accelerated version on CPU\n"
     ]
    },
    {
     "name": "stdout",
     "output_type": "stream",
     "text": [
      "Accuracy after query 72: 0.8492\n",
      "\n",
      "Cycle: 73\n",
      "Accuracy after query 73: 0.8486\n",
      "\n",
      "Cycle: 74\n"
     ]
    },
    {
     "name": "stderr",
     "output_type": "stream",
     "text": [
      "INFO:sklearnex: sklearn.utils.validation._assert_all_finite: running accelerated version on CPU\n",
      "INFO:sklearnex: sklearn.utils.validation._assert_all_finite: running accelerated version on CPU\n",
      "INFO:sklearnex: sklearn.utils.validation._assert_all_finite: running accelerated version on CPU\n",
      "INFO:sklearnex: sklearn.utils.validation._assert_all_finite: running accelerated version on CPU\n",
      "INFO:sklearnex: sklearn.utils.validation._assert_all_finite: running accelerated version on CPU\n",
      "INFO:sklearnex: sklearn.utils.validation._assert_all_finite: running accelerated version on CPU\n",
      "INFO:sklearnex: sklearn.utils.validation._assert_all_finite: running accelerated version on CPU\n"
     ]
    },
    {
     "name": "stdout",
     "output_type": "stream",
     "text": [
      "Accuracy after query 74: 0.8490\n",
      "\n",
      "Cycle: 75\n",
      "Accuracy after query 75: 0.8494\n",
      "\n",
      "Cycle: 76\n"
     ]
    },
    {
     "name": "stderr",
     "output_type": "stream",
     "text": [
      "INFO:sklearnex: sklearn.utils.validation._assert_all_finite: running accelerated version on CPU\n",
      "INFO:sklearnex: sklearn.utils.validation._assert_all_finite: running accelerated version on CPU\n",
      "INFO:sklearnex: sklearn.utils.validation._assert_all_finite: running accelerated version on CPU\n",
      "INFO:sklearnex: sklearn.utils.validation._assert_all_finite: running accelerated version on CPU\n",
      "INFO:sklearnex: sklearn.utils.validation._assert_all_finite: running accelerated version on CPU\n",
      "INFO:sklearnex: sklearn.utils.validation._assert_all_finite: running accelerated version on CPU\n",
      "INFO:sklearnex: sklearn.utils.validation._assert_all_finite: running accelerated version on CPU\n",
      "INFO:sklearnex: sklearn.utils.validation._assert_all_finite: running accelerated version on CPU\n"
     ]
    },
    {
     "name": "stdout",
     "output_type": "stream",
     "text": [
      "Accuracy after query 76: 0.8494\n",
      "\n",
      "Cycle: 77\n",
      "Accuracy after query 77: 0.8499\n",
      "\n",
      "Cycle: 78\n"
     ]
    },
    {
     "name": "stderr",
     "output_type": "stream",
     "text": [
      "INFO:sklearnex: sklearn.utils.validation._assert_all_finite: running accelerated version on CPU\n",
      "INFO:sklearnex: sklearn.utils.validation._assert_all_finite: running accelerated version on CPU\n",
      "INFO:sklearnex: sklearn.utils.validation._assert_all_finite: running accelerated version on CPU\n",
      "INFO:sklearnex: sklearn.utils.validation._assert_all_finite: running accelerated version on CPU\n",
      "INFO:sklearnex: sklearn.utils.validation._assert_all_finite: running accelerated version on CPU\n",
      "INFO:sklearnex: sklearn.utils.validation._assert_all_finite: running accelerated version on CPU\n",
      "INFO:sklearnex: sklearn.utils.validation._assert_all_finite: running accelerated version on CPU\n",
      "INFO:sklearnex: sklearn.utils.validation._assert_all_finite: running accelerated version on CPU\n",
      "INFO:sklearnex: sklearn.utils.validation._assert_all_finite: running accelerated version on CPU\n"
     ]
    },
    {
     "name": "stdout",
     "output_type": "stream",
     "text": [
      "Accuracy after query 78: 0.8496\n",
      "\n",
      "Cycle: 79\n",
      "Accuracy after query 79: 0.8496\n",
      "\n",
      "Cycle: 80\n"
     ]
    },
    {
     "name": "stderr",
     "output_type": "stream",
     "text": [
      "INFO:sklearnex: sklearn.utils.validation._assert_all_finite: running accelerated version on CPU\n",
      "INFO:sklearnex: sklearn.utils.validation._assert_all_finite: running accelerated version on CPU\n",
      "INFO:sklearnex: sklearn.utils.validation._assert_all_finite: running accelerated version on CPU\n",
      "INFO:sklearnex: sklearn.utils.validation._assert_all_finite: running accelerated version on CPU\n",
      "INFO:sklearnex: sklearn.utils.validation._assert_all_finite: running accelerated version on CPU\n",
      "INFO:sklearnex: sklearn.utils.validation._assert_all_finite: running accelerated version on CPU\n",
      "INFO:sklearnex: sklearn.utils.validation._assert_all_finite: running accelerated version on CPU\n",
      "INFO:sklearnex: sklearn.utils.validation._assert_all_finite: running accelerated version on CPU\n"
     ]
    },
    {
     "name": "stdout",
     "output_type": "stream",
     "text": [
      "Accuracy after query 80: 0.8496\n",
      "\n",
      "Cycle: 81\n",
      "Accuracy after query 81: 0.8497\n",
      "\n",
      "Cycle: 82\n"
     ]
    },
    {
     "name": "stderr",
     "output_type": "stream",
     "text": [
      "INFO:sklearnex: sklearn.utils.validation._assert_all_finite: running accelerated version on CPU\n",
      "INFO:sklearnex: sklearn.utils.validation._assert_all_finite: running accelerated version on CPU\n",
      "INFO:sklearnex: sklearn.utils.validation._assert_all_finite: running accelerated version on CPU\n",
      "INFO:sklearnex: sklearn.utils.validation._assert_all_finite: running accelerated version on CPU\n",
      "INFO:sklearnex: sklearn.utils.validation._assert_all_finite: running accelerated version on CPU\n",
      "INFO:sklearnex: sklearn.utils.validation._assert_all_finite: running accelerated version on CPU\n",
      "INFO:sklearnex: sklearn.utils.validation._assert_all_finite: running accelerated version on CPU\n"
     ]
    },
    {
     "name": "stdout",
     "output_type": "stream",
     "text": [
      "Accuracy after query 82: 0.8498\n",
      "\n",
      "Cycle: 83\n",
      "Accuracy after query 83: 0.8499\n",
      "\n",
      "Cycle: 84\n"
     ]
    },
    {
     "name": "stderr",
     "output_type": "stream",
     "text": [
      "INFO:sklearnex: sklearn.utils.validation._assert_all_finite: running accelerated version on CPU\n",
      "INFO:sklearnex: sklearn.utils.validation._assert_all_finite: running accelerated version on CPU\n",
      "INFO:sklearnex: sklearn.utils.validation._assert_all_finite: running accelerated version on CPU\n",
      "INFO:sklearnex: sklearn.utils.validation._assert_all_finite: running accelerated version on CPU\n",
      "INFO:sklearnex: sklearn.utils.validation._assert_all_finite: running accelerated version on CPU\n",
      "INFO:sklearnex: sklearn.utils.validation._assert_all_finite: running accelerated version on CPU\n",
      "INFO:sklearnex: sklearn.utils.validation._assert_all_finite: running accelerated version on CPU\n",
      "INFO:sklearnex: sklearn.utils.validation._assert_all_finite: running accelerated version on CPU\n",
      "INFO:sklearnex: sklearn.utils.validation._assert_all_finite: running accelerated version on CPU\n"
     ]
    },
    {
     "name": "stdout",
     "output_type": "stream",
     "text": [
      "Accuracy after query 84: 0.8501\n",
      "\n",
      "Cycle: 85\n",
      "Accuracy after query 85: 0.8501\n",
      "\n",
      "Cycle: 86\n"
     ]
    },
    {
     "name": "stderr",
     "output_type": "stream",
     "text": [
      "INFO:sklearnex: sklearn.utils.validation._assert_all_finite: running accelerated version on CPU\n",
      "INFO:sklearnex: sklearn.utils.validation._assert_all_finite: running accelerated version on CPU\n",
      "INFO:sklearnex: sklearn.utils.validation._assert_all_finite: running accelerated version on CPU\n",
      "INFO:sklearnex: sklearn.utils.validation._assert_all_finite: running accelerated version on CPU\n",
      "INFO:sklearnex: sklearn.utils.validation._assert_all_finite: running accelerated version on CPU\n",
      "INFO:sklearnex: sklearn.utils.validation._assert_all_finite: running accelerated version on CPU\n",
      "INFO:sklearnex: sklearn.utils.validation._assert_all_finite: running accelerated version on CPU\n"
     ]
    },
    {
     "name": "stdout",
     "output_type": "stream",
     "text": [
      "Accuracy after query 86: 0.8508\n",
      "\n",
      "Cycle: 87\n",
      "Accuracy after query 87: 0.8507\n",
      "\n",
      "Cycle: 88\n"
     ]
    },
    {
     "name": "stderr",
     "output_type": "stream",
     "text": [
      "INFO:sklearnex: sklearn.utils.validation._assert_all_finite: running accelerated version on CPU\n",
      "INFO:sklearnex: sklearn.utils.validation._assert_all_finite: running accelerated version on CPU\n",
      "INFO:sklearnex: sklearn.utils.validation._assert_all_finite: running accelerated version on CPU\n",
      "INFO:sklearnex: sklearn.utils.validation._assert_all_finite: running accelerated version on CPU\n",
      "INFO:sklearnex: sklearn.utils.validation._assert_all_finite: running accelerated version on CPU\n",
      "INFO:sklearnex: sklearn.utils.validation._assert_all_finite: running accelerated version on CPU\n",
      "INFO:sklearnex: sklearn.utils.validation._assert_all_finite: running accelerated version on CPU\n",
      "INFO:sklearnex: sklearn.utils.validation._assert_all_finite: running accelerated version on CPU\n",
      "INFO:sklearnex: sklearn.utils.validation._assert_all_finite: running accelerated version on CPU\n"
     ]
    },
    {
     "name": "stdout",
     "output_type": "stream",
     "text": [
      "Accuracy after query 88: 0.8508\n",
      "\n",
      "Cycle: 89\n",
      "Accuracy after query 89: 0.8505\n",
      "\n",
      "Cycle: 90\n"
     ]
    },
    {
     "name": "stderr",
     "output_type": "stream",
     "text": [
      "INFO:sklearnex: sklearn.utils.validation._assert_all_finite: running accelerated version on CPU\n",
      "INFO:sklearnex: sklearn.utils.validation._assert_all_finite: running accelerated version on CPU\n",
      "INFO:sklearnex: sklearn.utils.validation._assert_all_finite: running accelerated version on CPU\n",
      "INFO:sklearnex: sklearn.utils.validation._assert_all_finite: running accelerated version on CPU\n",
      "INFO:sklearnex: sklearn.utils.validation._assert_all_finite: running accelerated version on CPU\n",
      "INFO:sklearnex: sklearn.utils.validation._assert_all_finite: running accelerated version on CPU\n",
      "INFO:sklearnex: sklearn.utils.validation._assert_all_finite: running accelerated version on CPU\n"
     ]
    },
    {
     "name": "stdout",
     "output_type": "stream",
     "text": [
      "Accuracy after query 90: 0.8509\n",
      "\n",
      "Cycle: 91\n",
      "Accuracy after query 91: 0.8507\n",
      "\n",
      "Cycle: 92\n"
     ]
    },
    {
     "name": "stderr",
     "output_type": "stream",
     "text": [
      "INFO:sklearnex: sklearn.utils.validation._assert_all_finite: running accelerated version on CPU\n",
      "INFO:sklearnex: sklearn.utils.validation._assert_all_finite: running accelerated version on CPU\n",
      "INFO:sklearnex: sklearn.utils.validation._assert_all_finite: running accelerated version on CPU\n",
      "INFO:sklearnex: sklearn.utils.validation._assert_all_finite: running accelerated version on CPU\n",
      "INFO:sklearnex: sklearn.utils.validation._assert_all_finite: running accelerated version on CPU\n",
      "INFO:sklearnex: sklearn.utils.validation._assert_all_finite: running accelerated version on CPU\n",
      "INFO:sklearnex: sklearn.utils.validation._assert_all_finite: running accelerated version on CPU\n",
      "INFO:sklearnex: sklearn.utils.validation._assert_all_finite: running accelerated version on CPU\n",
      "INFO:sklearnex: sklearn.utils.validation._assert_all_finite: running accelerated version on CPU\n"
     ]
    },
    {
     "name": "stdout",
     "output_type": "stream",
     "text": [
      "Accuracy after query 92: 0.8506\n",
      "\n",
      "Cycle: 93\n",
      "Accuracy after query 93: 0.8504\n",
      "\n",
      "Cycle: 94\n"
     ]
    },
    {
     "name": "stderr",
     "output_type": "stream",
     "text": [
      "INFO:sklearnex: sklearn.utils.validation._assert_all_finite: running accelerated version on CPU\n",
      "INFO:sklearnex: sklearn.utils.validation._assert_all_finite: running accelerated version on CPU\n",
      "INFO:sklearnex: sklearn.utils.validation._assert_all_finite: running accelerated version on CPU\n",
      "INFO:sklearnex: sklearn.utils.validation._assert_all_finite: running accelerated version on CPU\n",
      "INFO:sklearnex: sklearn.utils.validation._assert_all_finite: running accelerated version on CPU\n",
      "INFO:sklearnex: sklearn.utils.validation._assert_all_finite: running accelerated version on CPU\n",
      "INFO:sklearnex: sklearn.utils.validation._assert_all_finite: running accelerated version on CPU\n",
      "INFO:sklearnex: sklearn.utils.validation._assert_all_finite: running accelerated version on CPU\n"
     ]
    },
    {
     "name": "stdout",
     "output_type": "stream",
     "text": [
      "Accuracy after query 94: 0.8503\n",
      "\n",
      "Cycle: 95\n",
      "Accuracy after query 95: 0.8504\n",
      "\n",
      "Cycle: 96\n"
     ]
    },
    {
     "name": "stderr",
     "output_type": "stream",
     "text": [
      "INFO:sklearnex: sklearn.utils.validation._assert_all_finite: running accelerated version on CPU\n",
      "INFO:sklearnex: sklearn.utils.validation._assert_all_finite: running accelerated version on CPU\n",
      "INFO:sklearnex: sklearn.utils.validation._assert_all_finite: running accelerated version on CPU\n",
      "INFO:sklearnex: sklearn.utils.validation._assert_all_finite: running accelerated version on CPU\n",
      "INFO:sklearnex: sklearn.utils.validation._assert_all_finite: running accelerated version on CPU\n",
      "INFO:sklearnex: sklearn.utils.validation._assert_all_finite: running accelerated version on CPU\n",
      "INFO:sklearnex: sklearn.utils.validation._assert_all_finite: running accelerated version on CPU\n",
      "INFO:sklearnex: sklearn.utils.validation._assert_all_finite: running accelerated version on CPU\n"
     ]
    },
    {
     "name": "stdout",
     "output_type": "stream",
     "text": [
      "Accuracy after query 96: 0.8505\n",
      "\n",
      "Cycle: 97\n",
      "Accuracy after query 97: 0.8498\n",
      "\n",
      "Cycle: 98\n"
     ]
    },
    {
     "name": "stderr",
     "output_type": "stream",
     "text": [
      "INFO:sklearnex: sklearn.utils.validation._assert_all_finite: running accelerated version on CPU\n",
      "INFO:sklearnex: sklearn.utils.validation._assert_all_finite: running accelerated version on CPU\n",
      "INFO:sklearnex: sklearn.utils.validation._assert_all_finite: running accelerated version on CPU\n",
      "INFO:sklearnex: sklearn.utils.validation._assert_all_finite: running accelerated version on CPU\n",
      "INFO:sklearnex: sklearn.utils.validation._assert_all_finite: running accelerated version on CPU\n",
      "INFO:sklearnex: sklearn.utils.validation._assert_all_finite: running accelerated version on CPU\n",
      "INFO:sklearnex: sklearn.utils.validation._assert_all_finite: running accelerated version on CPU\n",
      "INFO:sklearnex: sklearn.utils.validation._assert_all_finite: running accelerated version on CPU\n"
     ]
    },
    {
     "name": "stdout",
     "output_type": "stream",
     "text": [
      "Accuracy after query 98: 0.8501\n",
      "\n",
      "Cycle: 99\n",
      "Accuracy after query 99: 0.8500\n",
      "\n",
      "Cycle: 100\n"
     ]
    },
    {
     "name": "stderr",
     "output_type": "stream",
     "text": [
      "INFO:sklearnex: sklearn.utils.validation._assert_all_finite: running accelerated version on CPU\n",
      "INFO:sklearnex: sklearn.utils.validation._assert_all_finite: running accelerated version on CPU\n"
     ]
    },
    {
     "name": "stdout",
     "output_type": "stream",
     "text": [
      "Accuracy after query 100: 0.8501\n"
     ]
    },
    {
     "data": {
      "image/png": "[encoded data removed]",
      "text/plain": [
       "<Figure size 1000x700 with 2 Axes>"
      ]
     },
     "metadata": {},
     "output_type": "display_data"
    }
   ],
   "source": [
    "acc_uncertainty_sampling, precision_result_uncertainty_sampling, recall_result_uncertainty_sampling, f1_result_uncertainty_sampling = active_learning(\n",
    "    x_pool,\n",
    "    y_pool,\n",
    "    x_initial,\n",
    "    y_initial,\n",
    "    x_test,\n",
    "    y_test,\n",
    "    \"uncertainty_sampling\",\n",
    "    clf,\n",
    "    2,\n",
    "    [\"positive\", \"negative\"],\n",
    ")"
   ]
  },
  {
   "cell_type": "code",
   "execution_count": 20,
   "id": "e020bc43",
   "metadata": {
    "execution": {
     "iopub.execute_input": "2024-05-01T22:28:49.402377Z",
     "iopub.status.busy": "2024-05-01T22:28:49.401365Z",
     "iopub.status.idle": "2024-05-01T22:29:06.763093Z",
     "shell.execute_reply": "2024-05-01T22:29:06.761916Z"
    },
    "papermill": {
     "duration": 17.46534,
     "end_time": "2024-05-01T22:29:06.765539",
     "exception": false,
     "start_time": "2024-05-01T22:28:49.300199",
     "status": "completed"
    },
    "tags": []
   },
   "outputs": [
    {
     "name": "stderr",
     "output_type": "stream",
     "text": [
      "INFO:sklearnex: sklearn.utils.validation._assert_all_finite: running accelerated version on CPU\n",
      "INFO:sklearnex: sklearn.utils.validation._assert_all_finite: running accelerated version on CPU\n",
      "INFO:sklearnex: sklearn.utils.validation._assert_all_finite: running accelerated version on CPU\n",
      "INFO:sklearnex: sklearn.utils.validation._assert_all_finite: running accelerated version on CPU\n",
      "INFO:sklearnex: sklearn.utils.validation._assert_all_finite: running accelerated version on CPU\n",
      "INFO:sklearnex: sklearn.utils.validation._assert_all_finite: running accelerated version on CPU\n"
     ]
    },
    {
     "name": "stdout",
     "output_type": "stream",
     "text": [
      "Starting Active Learning with margin_sampling method\n",
      "\n",
      "Cycle: 1\n",
      "Accuracy after query 1: 0.8513\n",
      "\n",
      "Cycle: 2\n"
     ]
    },
    {
     "name": "stderr",
     "output_type": "stream",
     "text": [
      "INFO:sklearnex: sklearn.utils.validation._assert_all_finite: running accelerated version on CPU\n",
      "INFO:sklearnex: sklearn.utils.validation._assert_all_finite: running accelerated version on CPU\n",
      "INFO:sklearnex: sklearn.utils.validation._assert_all_finite: running accelerated version on CPU\n",
      "INFO:sklearnex: sklearn.utils.validation._assert_all_finite: running accelerated version on CPU\n",
      "INFO:sklearnex: sklearn.utils.validation._assert_all_finite: running accelerated version on CPU\n",
      "INFO:sklearnex: sklearn.utils.validation._assert_all_finite: running accelerated version on CPU\n",
      "INFO:sklearnex: sklearn.utils.validation._assert_all_finite: running accelerated version on CPU\n",
      "INFO:sklearnex: sklearn.utils.validation._assert_all_finite: running accelerated version on CPU\n"
     ]
    },
    {
     "name": "stdout",
     "output_type": "stream",
     "text": [
      "Accuracy after query 2: 0.8518\n",
      "\n",
      "Cycle: 3\n",
      "Accuracy after query 3: 0.8510\n",
      "\n",
      "Cycle: 4\n"
     ]
    },
    {
     "name": "stderr",
     "output_type": "stream",
     "text": [
      "INFO:sklearnex: sklearn.utils.validation._assert_all_finite: running accelerated version on CPU\n",
      "INFO:sklearnex: sklearn.utils.validation._assert_all_finite: running accelerated version on CPU\n",
      "INFO:sklearnex: sklearn.utils.validation._assert_all_finite: running accelerated version on CPU\n",
      "INFO:sklearnex: sklearn.utils.validation._assert_all_finite: running accelerated version on CPU\n",
      "INFO:sklearnex: sklearn.utils.validation._assert_all_finite: running accelerated version on CPU\n",
      "INFO:sklearnex: sklearn.utils.validation._assert_all_finite: running accelerated version on CPU\n",
      "INFO:sklearnex: sklearn.utils.validation._assert_all_finite: running accelerated version on CPU\n",
      "INFO:sklearnex: sklearn.utils.validation._assert_all_finite: running accelerated version on CPU\n"
     ]
    },
    {
     "name": "stdout",
     "output_type": "stream",
     "text": [
      "Accuracy after query 4: 0.8510\n",
      "\n",
      "Cycle: 5\n",
      "Accuracy after query 5: 0.8517\n",
      "\n",
      "Cycle: 6\n"
     ]
    },
    {
     "name": "stderr",
     "output_type": "stream",
     "text": [
      "INFO:sklearnex: sklearn.utils.validation._assert_all_finite: running accelerated version on CPU\n",
      "INFO:sklearnex: sklearn.utils.validation._assert_all_finite: running accelerated version on CPU\n",
      "INFO:sklearnex: sklearn.utils.validation._assert_all_finite: running accelerated version on CPU\n",
      "INFO:sklearnex: sklearn.utils.validation._assert_all_finite: running accelerated version on CPU\n",
      "INFO:sklearnex: sklearn.utils.validation._assert_all_finite: running accelerated version on CPU\n",
      "INFO:sklearnex: sklearn.utils.validation._assert_all_finite: running accelerated version on CPU\n",
      "INFO:sklearnex: sklearn.utils.validation._assert_all_finite: running accelerated version on CPU\n"
     ]
    },
    {
     "name": "stdout",
     "output_type": "stream",
     "text": [
      "Accuracy after query 6: 0.8513\n",
      "\n",
      "Cycle: 7\n",
      "Accuracy after query 7: 0.8520\n"
     ]
    },
    {
     "name": "stderr",
     "output_type": "stream",
     "text": [
      "INFO:sklearnex: sklearn.utils.validation._assert_all_finite: running accelerated version on CPU\n",
      "INFO:sklearnex: sklearn.utils.validation._assert_all_finite: running accelerated version on CPU\n",
      "INFO:sklearnex: sklearn.utils.validation._assert_all_finite: running accelerated version on CPU\n",
      "INFO:sklearnex: sklearn.utils.validation._assert_all_finite: running accelerated version on CPU\n",
      "INFO:sklearnex: sklearn.utils.validation._assert_all_finite: running accelerated version on CPU\n"
     ]
    },
    {
     "name": "stdout",
     "output_type": "stream",
     "text": [
      "\n",
      "Cycle: 8\n",
      "Accuracy after query 8: 0.8516\n",
      "\n",
      "Cycle: 9\n"
     ]
    },
    {
     "name": "stderr",
     "output_type": "stream",
     "text": [
      "INFO:sklearnex: sklearn.utils.validation._assert_all_finite: running accelerated version on CPU\n",
      "INFO:sklearnex: sklearn.utils.validation._assert_all_finite: running accelerated version on CPU\n",
      "INFO:sklearnex: sklearn.utils.validation._assert_all_finite: running accelerated version on CPU\n",
      "INFO:sklearnex: sklearn.utils.validation._assert_all_finite: running accelerated version on CPU\n",
      "INFO:sklearnex: sklearn.utils.validation._assert_all_finite: running accelerated version on CPU\n",
      "INFO:sklearnex: sklearn.utils.validation._assert_all_finite: running accelerated version on CPU\n",
      "INFO:sklearnex: sklearn.utils.validation._assert_all_finite: running accelerated version on CPU\n"
     ]
    },
    {
     "name": "stdout",
     "output_type": "stream",
     "text": [
      "Accuracy after query 9: 0.8511\n",
      "\n",
      "Cycle: 10\n",
      "Accuracy after query 10: 0.8513\n"
     ]
    },
    {
     "name": "stderr",
     "output_type": "stream",
     "text": [
      "INFO:sklearnex: sklearn.utils.validation._assert_all_finite: running accelerated version on CPU\n",
      "INFO:sklearnex: sklearn.utils.validation._assert_all_finite: running accelerated version on CPU\n",
      "INFO:sklearnex: sklearn.utils.validation._assert_all_finite: running accelerated version on CPU\n",
      "INFO:sklearnex: sklearn.utils.validation._assert_all_finite: running accelerated version on CPU\n",
      "INFO:sklearnex: sklearn.utils.validation._assert_all_finite: running accelerated version on CPU\n",
      "INFO:sklearnex: sklearn.utils.validation._assert_all_finite: running accelerated version on CPU\n"
     ]
    },
    {
     "name": "stdout",
     "output_type": "stream",
     "text": [
      "\n",
      "Cycle: 11\n",
      "Accuracy after query 11: 0.8513\n",
      "\n",
      "Cycle: 12\n"
     ]
    },
    {
     "name": "stderr",
     "output_type": "stream",
     "text": [
      "INFO:sklearnex: sklearn.utils.validation._assert_all_finite: running accelerated version on CPU\n",
      "INFO:sklearnex: sklearn.utils.validation._assert_all_finite: running accelerated version on CPU\n",
      "INFO:sklearnex: sklearn.utils.validation._assert_all_finite: running accelerated version on CPU\n",
      "INFO:sklearnex: sklearn.utils.validation._assert_all_finite: running accelerated version on CPU\n",
      "INFO:sklearnex: sklearn.utils.validation._assert_all_finite: running accelerated version on CPU\n",
      "INFO:sklearnex: sklearn.utils.validation._assert_all_finite: running accelerated version on CPU\n"
     ]
    },
    {
     "name": "stdout",
     "output_type": "stream",
     "text": [
      "Accuracy after query 12: 0.8514\n",
      "\n",
      "Cycle: 13\n",
      "Accuracy after query 13: 0.8508\n"
     ]
    },
    {
     "name": "stderr",
     "output_type": "stream",
     "text": [
      "INFO:sklearnex: sklearn.utils.validation._assert_all_finite: running accelerated version on CPU\n",
      "INFO:sklearnex: sklearn.utils.validation._assert_all_finite: running accelerated version on CPU\n",
      "INFO:sklearnex: sklearn.utils.validation._assert_all_finite: running accelerated version on CPU\n",
      "INFO:sklearnex: sklearn.utils.validation._assert_all_finite: running accelerated version on CPU\n",
      "INFO:sklearnex: sklearn.utils.validation._assert_all_finite: running accelerated version on CPU\n"
     ]
    },
    {
     "name": "stdout",
     "output_type": "stream",
     "text": [
      "\n",
      "Cycle: 14\n",
      "Accuracy after query 14: 0.8505\n",
      "\n",
      "Cycle: 15\n"
     ]
    },
    {
     "name": "stderr",
     "output_type": "stream",
     "text": [
      "INFO:sklearnex: sklearn.utils.validation._assert_all_finite: running accelerated version on CPU\n",
      "INFO:sklearnex: sklearn.utils.validation._assert_all_finite: running accelerated version on CPU\n",
      "INFO:sklearnex: sklearn.utils.validation._assert_all_finite: running accelerated version on CPU\n",
      "INFO:sklearnex: sklearn.utils.validation._assert_all_finite: running accelerated version on CPU\n",
      "INFO:sklearnex: sklearn.utils.validation._assert_all_finite: running accelerated version on CPU\n",
      "INFO:sklearnex: sklearn.utils.validation._assert_all_finite: running accelerated version on CPU\n",
      "INFO:sklearnex: sklearn.utils.validation._assert_all_finite: running accelerated version on CPU\n",
      "INFO:sklearnex: sklearn.utils.validation._assert_all_finite: running accelerated version on CPU\n"
     ]
    },
    {
     "name": "stdout",
     "output_type": "stream",
     "text": [
      "Accuracy after query 15: 0.8506\n",
      "\n",
      "Cycle: 16\n",
      "Accuracy after query 16: 0.8505\n",
      "\n",
      "Cycle: 17\n"
     ]
    },
    {
     "name": "stderr",
     "output_type": "stream",
     "text": [
      "INFO:sklearnex: sklearn.utils.validation._assert_all_finite: running accelerated version on CPU\n",
      "INFO:sklearnex: sklearn.utils.validation._assert_all_finite: running accelerated version on CPU\n",
      "INFO:sklearnex: sklearn.utils.validation._assert_all_finite: running accelerated version on CPU\n",
      "INFO:sklearnex: sklearn.utils.validation._assert_all_finite: running accelerated version on CPU\n",
      "INFO:sklearnex: sklearn.utils.validation._assert_all_finite: running accelerated version on CPU\n",
      "INFO:sklearnex: sklearn.utils.validation._assert_all_finite: running accelerated version on CPU\n",
      "INFO:sklearnex: sklearn.utils.validation._assert_all_finite: running accelerated version on CPU\n"
     ]
    },
    {
     "name": "stdout",
     "output_type": "stream",
     "text": [
      "Accuracy after query 17: 0.8509\n",
      "\n",
      "Cycle: 18\n",
      "Accuracy after query 18: 0.8508\n"
     ]
    },
    {
     "name": "stderr",
     "output_type": "stream",
     "text": [
      "INFO:sklearnex: sklearn.utils.validation._assert_all_finite: running accelerated version on CPU\n",
      "INFO:sklearnex: sklearn.utils.validation._assert_all_finite: running accelerated version on CPU\n",
      "INFO:sklearnex: sklearn.utils.validation._assert_all_finite: running accelerated version on CPU\n",
      "INFO:sklearnex: sklearn.utils.validation._assert_all_finite: running accelerated version on CPU\n",
      "INFO:sklearnex: sklearn.utils.validation._assert_all_finite: running accelerated version on CPU\n",
      "INFO:sklearnex: sklearn.utils.validation._assert_all_finite: running accelerated version on CPU\n"
     ]
    },
    {
     "name": "stdout",
     "output_type": "stream",
     "text": [
      "\n",
      "Cycle: 19\n",
      "Accuracy after query 19: 0.8511\n",
      "\n",
      "Cycle: 20\n"
     ]
    },
    {
     "name": "stderr",
     "output_type": "stream",
     "text": [
      "INFO:sklearnex: sklearn.utils.validation._assert_all_finite: running accelerated version on CPU\n",
      "INFO:sklearnex: sklearn.utils.validation._assert_all_finite: running accelerated version on CPU\n",
      "INFO:sklearnex: sklearn.utils.validation._assert_all_finite: running accelerated version on CPU\n",
      "INFO:sklearnex: sklearn.utils.validation._assert_all_finite: running accelerated version on CPU\n",
      "INFO:sklearnex: sklearn.utils.validation._assert_all_finite: running accelerated version on CPU\n",
      "INFO:sklearnex: sklearn.utils.validation._assert_all_finite: running accelerated version on CPU\n",
      "INFO:sklearnex: sklearn.utils.validation._assert_all_finite: running accelerated version on CPU\n"
     ]
    },
    {
     "name": "stdout",
     "output_type": "stream",
     "text": [
      "Accuracy after query 20: 0.8508\n",
      "\n",
      "Cycle: 21\n",
      "Accuracy after query 21: 0.8511\n",
      "\n",
      "Cycle: 22\n"
     ]
    },
    {
     "name": "stderr",
     "output_type": "stream",
     "text": [
      "INFO:sklearnex: sklearn.utils.validation._assert_all_finite: running accelerated version on CPU\n",
      "INFO:sklearnex: sklearn.utils.validation._assert_all_finite: running accelerated version on CPU\n",
      "INFO:sklearnex: sklearn.utils.validation._assert_all_finite: running accelerated version on CPU\n",
      "INFO:sklearnex: sklearn.utils.validation._assert_all_finite: running accelerated version on CPU\n",
      "INFO:sklearnex: sklearn.utils.validation._assert_all_finite: running accelerated version on CPU\n",
      "INFO:sklearnex: sklearn.utils.validation._assert_all_finite: running accelerated version on CPU\n",
      "INFO:sklearnex: sklearn.utils.validation._assert_all_finite: running accelerated version on CPU\n",
      "INFO:sklearnex: sklearn.utils.validation._assert_all_finite: running accelerated version on CPU\n"
     ]
    },
    {
     "name": "stdout",
     "output_type": "stream",
     "text": [
      "Accuracy after query 22: 0.8511\n",
      "\n",
      "Cycle: 23\n",
      "Accuracy after query 23: 0.8504\n",
      "\n",
      "Cycle: 24\n"
     ]
    },
    {
     "name": "stderr",
     "output_type": "stream",
     "text": [
      "INFO:sklearnex: sklearn.utils.validation._assert_all_finite: running accelerated version on CPU\n",
      "INFO:sklearnex: sklearn.utils.validation._assert_all_finite: running accelerated version on CPU\n",
      "INFO:sklearnex: sklearn.utils.validation._assert_all_finite: running accelerated version on CPU\n",
      "INFO:sklearnex: sklearn.utils.validation._assert_all_finite: running accelerated version on CPU\n",
      "INFO:sklearnex: sklearn.utils.validation._assert_all_finite: running accelerated version on CPU\n",
      "INFO:sklearnex: sklearn.utils.validation._assert_all_finite: running accelerated version on CPU\n",
      "INFO:sklearnex: sklearn.utils.validation._assert_all_finite: running accelerated version on CPU\n",
      "INFO:sklearnex: sklearn.utils.validation._assert_all_finite: running accelerated version on CPU\n"
     ]
    },
    {
     "name": "stdout",
     "output_type": "stream",
     "text": [
      "Accuracy after query 24: 0.8505\n",
      "\n",
      "Cycle: 25\n",
      "Accuracy after query 25: 0.8508\n",
      "\n",
      "Cycle: 26\n"
     ]
    },
    {
     "name": "stderr",
     "output_type": "stream",
     "text": [
      "INFO:sklearnex: sklearn.utils.validation._assert_all_finite: running accelerated version on CPU\n",
      "INFO:sklearnex: sklearn.utils.validation._assert_all_finite: running accelerated version on CPU\n",
      "INFO:sklearnex: sklearn.utils.validation._assert_all_finite: running accelerated version on CPU\n",
      "INFO:sklearnex: sklearn.utils.validation._assert_all_finite: running accelerated version on CPU\n",
      "INFO:sklearnex: sklearn.utils.validation._assert_all_finite: running accelerated version on CPU\n",
      "INFO:sklearnex: sklearn.utils.validation._assert_all_finite: running accelerated version on CPU\n",
      "INFO:sklearnex: sklearn.utils.validation._assert_all_finite: running accelerated version on CPU\n",
      "INFO:sklearnex: sklearn.utils.validation._assert_all_finite: running accelerated version on CPU\n"
     ]
    },
    {
     "name": "stdout",
     "output_type": "stream",
     "text": [
      "Accuracy after query 26: 0.8510\n",
      "\n",
      "Cycle: 27\n",
      "Accuracy after query 27: 0.8508\n",
      "\n",
      "Cycle: 28\n"
     ]
    },
    {
     "name": "stderr",
     "output_type": "stream",
     "text": [
      "INFO:sklearnex: sklearn.utils.validation._assert_all_finite: running accelerated version on CPU\n",
      "INFO:sklearnex: sklearn.utils.validation._assert_all_finite: running accelerated version on CPU\n",
      "INFO:sklearnex: sklearn.utils.validation._assert_all_finite: running accelerated version on CPU\n",
      "INFO:sklearnex: sklearn.utils.validation._assert_all_finite: running accelerated version on CPU\n",
      "INFO:sklearnex: sklearn.utils.validation._assert_all_finite: running accelerated version on CPU\n",
      "INFO:sklearnex: sklearn.utils.validation._assert_all_finite: running accelerated version on CPU\n",
      "INFO:sklearnex: sklearn.utils.validation._assert_all_finite: running accelerated version on CPU\n",
      "INFO:sklearnex: sklearn.utils.validation._assert_all_finite: running accelerated version on CPU\n"
     ]
    },
    {
     "name": "stdout",
     "output_type": "stream",
     "text": [
      "Accuracy after query 28: 0.8506\n",
      "\n",
      "Cycle: 29\n",
      "Accuracy after query 29: 0.8509\n",
      "\n",
      "Cycle: 30\n"
     ]
    },
    {
     "name": "stderr",
     "output_type": "stream",
     "text": [
      "INFO:sklearnex: sklearn.utils.validation._assert_all_finite: running accelerated version on CPU\n",
      "INFO:sklearnex: sklearn.utils.validation._assert_all_finite: running accelerated version on CPU\n",
      "INFO:sklearnex: sklearn.utils.validation._assert_all_finite: running accelerated version on CPU\n",
      "INFO:sklearnex: sklearn.utils.validation._assert_all_finite: running accelerated version on CPU\n",
      "INFO:sklearnex: sklearn.utils.validation._assert_all_finite: running accelerated version on CPU\n",
      "INFO:sklearnex: sklearn.utils.validation._assert_all_finite: running accelerated version on CPU\n",
      "INFO:sklearnex: sklearn.utils.validation._assert_all_finite: running accelerated version on CPU\n",
      "INFO:sklearnex: sklearn.utils.validation._assert_all_finite: running accelerated version on CPU\n"
     ]
    },
    {
     "name": "stdout",
     "output_type": "stream",
     "text": [
      "Accuracy after query 30: 0.8513\n",
      "\n",
      "Cycle: 31\n",
      "Accuracy after query 31: 0.8514\n",
      "\n",
      "Cycle: 32\n"
     ]
    },
    {
     "name": "stderr",
     "output_type": "stream",
     "text": [
      "INFO:sklearnex: sklearn.utils.validation._assert_all_finite: running accelerated version on CPU\n",
      "INFO:sklearnex: sklearn.utils.validation._assert_all_finite: running accelerated version on CPU\n",
      "INFO:sklearnex: sklearn.utils.validation._assert_all_finite: running accelerated version on CPU\n",
      "INFO:sklearnex: sklearn.utils.validation._assert_all_finite: running accelerated version on CPU\n",
      "INFO:sklearnex: sklearn.utils.validation._assert_all_finite: running accelerated version on CPU\n",
      "INFO:sklearnex: sklearn.utils.validation._assert_all_finite: running accelerated version on CPU\n",
      "INFO:sklearnex: sklearn.utils.validation._assert_all_finite: running accelerated version on CPU\n",
      "INFO:sklearnex: sklearn.utils.validation._assert_all_finite: running accelerated version on CPU\n"
     ]
    },
    {
     "name": "stdout",
     "output_type": "stream",
     "text": [
      "Accuracy after query 32: 0.8508\n",
      "\n",
      "Cycle: 33\n",
      "Accuracy after query 33: 0.8508\n",
      "\n",
      "Cycle: 34\n"
     ]
    },
    {
     "name": "stderr",
     "output_type": "stream",
     "text": [
      "INFO:sklearnex: sklearn.utils.validation._assert_all_finite: running accelerated version on CPU\n",
      "INFO:sklearnex: sklearn.utils.validation._assert_all_finite: running accelerated version on CPU\n",
      "INFO:sklearnex: sklearn.utils.validation._assert_all_finite: running accelerated version on CPU\n",
      "INFO:sklearnex: sklearn.utils.validation._assert_all_finite: running accelerated version on CPU\n",
      "INFO:sklearnex: sklearn.utils.validation._assert_all_finite: running accelerated version on CPU\n",
      "INFO:sklearnex: sklearn.utils.validation._assert_all_finite: running accelerated version on CPU\n",
      "INFO:sklearnex: sklearn.utils.validation._assert_all_finite: running accelerated version on CPU\n",
      "INFO:sklearnex: sklearn.utils.validation._assert_all_finite: running accelerated version on CPU\n"
     ]
    },
    {
     "name": "stdout",
     "output_type": "stream",
     "text": [
      "Accuracy after query 34: 0.8518\n",
      "\n",
      "Cycle: 35\n",
      "Accuracy after query 35: 0.8518\n",
      "\n",
      "Cycle: 36\n"
     ]
    },
    {
     "name": "stderr",
     "output_type": "stream",
     "text": [
      "INFO:sklearnex: sklearn.utils.validation._assert_all_finite: running accelerated version on CPU\n",
      "INFO:sklearnex: sklearn.utils.validation._assert_all_finite: running accelerated version on CPU\n",
      "INFO:sklearnex: sklearn.utils.validation._assert_all_finite: running accelerated version on CPU\n",
      "INFO:sklearnex: sklearn.utils.validation._assert_all_finite: running accelerated version on CPU\n",
      "INFO:sklearnex: sklearn.utils.validation._assert_all_finite: running accelerated version on CPU\n",
      "INFO:sklearnex: sklearn.utils.validation._assert_all_finite: running accelerated version on CPU\n",
      "INFO:sklearnex: sklearn.utils.validation._assert_all_finite: running accelerated version on CPU\n",
      "INFO:sklearnex: sklearn.utils.validation._assert_all_finite: running accelerated version on CPU\n"
     ]
    },
    {
     "name": "stdout",
     "output_type": "stream",
     "text": [
      "Accuracy after query 36: 0.8514\n",
      "\n",
      "Cycle: 37\n",
      "Accuracy after query 37: 0.8512\n",
      "\n",
      "Cycle: 38\n"
     ]
    },
    {
     "name": "stderr",
     "output_type": "stream",
     "text": [
      "INFO:sklearnex: sklearn.utils.validation._assert_all_finite: running accelerated version on CPU\n",
      "INFO:sklearnex: sklearn.utils.validation._assert_all_finite: running accelerated version on CPU\n",
      "INFO:sklearnex: sklearn.utils.validation._assert_all_finite: running accelerated version on CPU\n",
      "INFO:sklearnex: sklearn.utils.validation._assert_all_finite: running accelerated version on CPU\n",
      "INFO:sklearnex: sklearn.utils.validation._assert_all_finite: running accelerated version on CPU\n",
      "INFO:sklearnex: sklearn.utils.validation._assert_all_finite: running accelerated version on CPU\n",
      "INFO:sklearnex: sklearn.utils.validation._assert_all_finite: running accelerated version on CPU\n",
      "INFO:sklearnex: sklearn.utils.validation._assert_all_finite: running accelerated version on CPU\n"
     ]
    },
    {
     "name": "stdout",
     "output_type": "stream",
     "text": [
      "Accuracy after query 38: 0.8515\n",
      "\n",
      "Cycle: 39\n",
      "Accuracy after query 39: 0.8519\n",
      "\n",
      "Cycle: 40\n"
     ]
    },
    {
     "name": "stderr",
     "output_type": "stream",
     "text": [
      "INFO:sklearnex: sklearn.utils.validation._assert_all_finite: running accelerated version on CPU\n",
      "INFO:sklearnex: sklearn.utils.validation._assert_all_finite: running accelerated version on CPU\n",
      "INFO:sklearnex: sklearn.utils.validation._assert_all_finite: running accelerated version on CPU\n",
      "INFO:sklearnex: sklearn.utils.validation._assert_all_finite: running accelerated version on CPU\n",
      "INFO:sklearnex: sklearn.utils.validation._assert_all_finite: running accelerated version on CPU\n",
      "INFO:sklearnex: sklearn.utils.validation._assert_all_finite: running accelerated version on CPU\n",
      "INFO:sklearnex: sklearn.utils.validation._assert_all_finite: running accelerated version on CPU\n",
      "INFO:sklearnex: sklearn.utils.validation._assert_all_finite: running accelerated version on CPU\n"
     ]
    },
    {
     "name": "stdout",
     "output_type": "stream",
     "text": [
      "Accuracy after query 40: 0.8519\n",
      "\n",
      "Cycle: 41\n",
      "Accuracy after query 41: 0.8521\n",
      "\n",
      "Cycle: 42\n"
     ]
    },
    {
     "name": "stderr",
     "output_type": "stream",
     "text": [
      "INFO:sklearnex: sklearn.utils.validation._assert_all_finite: running accelerated version on CPU\n",
      "INFO:sklearnex: sklearn.utils.validation._assert_all_finite: running accelerated version on CPU\n",
      "INFO:sklearnex: sklearn.utils.validation._assert_all_finite: running accelerated version on CPU\n",
      "INFO:sklearnex: sklearn.utils.validation._assert_all_finite: running accelerated version on CPU\n",
      "INFO:sklearnex: sklearn.utils.validation._assert_all_finite: running accelerated version on CPU\n",
      "INFO:sklearnex: sklearn.utils.validation._assert_all_finite: running accelerated version on CPU\n",
      "INFO:sklearnex: sklearn.utils.validation._assert_all_finite: running accelerated version on CPU\n",
      "INFO:sklearnex: sklearn.utils.validation._assert_all_finite: running accelerated version on CPU\n"
     ]
    },
    {
     "name": "stdout",
     "output_type": "stream",
     "text": [
      "Accuracy after query 42: 0.8516\n",
      "\n",
      "Cycle: 43\n",
      "Accuracy after query 43: 0.8517\n",
      "\n",
      "Cycle: 44\n"
     ]
    },
    {
     "name": "stderr",
     "output_type": "stream",
     "text": [
      "INFO:sklearnex: sklearn.utils.validation._assert_all_finite: running accelerated version on CPU\n",
      "INFO:sklearnex: sklearn.utils.validation._assert_all_finite: running accelerated version on CPU\n",
      "INFO:sklearnex: sklearn.utils.validation._assert_all_finite: running accelerated version on CPU\n",
      "INFO:sklearnex: sklearn.utils.validation._assert_all_finite: running accelerated version on CPU\n",
      "INFO:sklearnex: sklearn.utils.validation._assert_all_finite: running accelerated version on CPU\n",
      "INFO:sklearnex: sklearn.utils.validation._assert_all_finite: running accelerated version on CPU\n",
      "INFO:sklearnex: sklearn.utils.validation._assert_all_finite: running accelerated version on CPU\n",
      "INFO:sklearnex: sklearn.utils.validation._assert_all_finite: running accelerated version on CPU\n"
     ]
    },
    {
     "name": "stdout",
     "output_type": "stream",
     "text": [
      "Accuracy after query 44: 0.8510\n",
      "\n",
      "Cycle: 45\n",
      "Accuracy after query 45: 0.8514\n",
      "\n",
      "Cycle: 46\n"
     ]
    },
    {
     "name": "stderr",
     "output_type": "stream",
     "text": [
      "INFO:sklearnex: sklearn.utils.validation._assert_all_finite: running accelerated version on CPU\n",
      "INFO:sklearnex: sklearn.utils.validation._assert_all_finite: running accelerated version on CPU\n",
      "INFO:sklearnex: sklearn.utils.validation._assert_all_finite: running accelerated version on CPU\n",
      "INFO:sklearnex: sklearn.utils.validation._assert_all_finite: running accelerated version on CPU\n",
      "INFO:sklearnex: sklearn.utils.validation._assert_all_finite: running accelerated version on CPU\n",
      "INFO:sklearnex: sklearn.utils.validation._assert_all_finite: running accelerated version on CPU\n",
      "INFO:sklearnex: sklearn.utils.validation._assert_all_finite: running accelerated version on CPU\n",
      "INFO:sklearnex: sklearn.utils.validation._assert_all_finite: running accelerated version on CPU\n"
     ]
    },
    {
     "name": "stdout",
     "output_type": "stream",
     "text": [
      "Accuracy after query 46: 0.8516\n",
      "\n",
      "Cycle: 47\n",
      "Accuracy after query 47: 0.8516\n",
      "\n",
      "Cycle: 48\n"
     ]
    },
    {
     "name": "stderr",
     "output_type": "stream",
     "text": [
      "INFO:sklearnex: sklearn.utils.validation._assert_all_finite: running accelerated version on CPU\n",
      "INFO:sklearnex: sklearn.utils.validation._assert_all_finite: running accelerated version on CPU\n",
      "INFO:sklearnex: sklearn.utils.validation._assert_all_finite: running accelerated version on CPU\n",
      "INFO:sklearnex: sklearn.utils.validation._assert_all_finite: running accelerated version on CPU\n",
      "INFO:sklearnex: sklearn.utils.validation._assert_all_finite: running accelerated version on CPU\n",
      "INFO:sklearnex: sklearn.utils.validation._assert_all_finite: running accelerated version on CPU\n",
      "INFO:sklearnex: sklearn.utils.validation._assert_all_finite: running accelerated version on CPU\n",
      "INFO:sklearnex: sklearn.utils.validation._assert_all_finite: running accelerated version on CPU\n",
      "INFO:sklearnex: sklearn.utils.validation._assert_all_finite: running accelerated version on CPU\n"
     ]
    },
    {
     "name": "stdout",
     "output_type": "stream",
     "text": [
      "Accuracy after query 48: 0.8506\n",
      "\n",
      "Cycle: 49\n",
      "Accuracy after query 49: 0.8506\n",
      "\n",
      "Cycle: 50\n"
     ]
    },
    {
     "name": "stderr",
     "output_type": "stream",
     "text": [
      "INFO:sklearnex: sklearn.utils.validation._assert_all_finite: running accelerated version on CPU\n",
      "INFO:sklearnex: sklearn.utils.validation._assert_all_finite: running accelerated version on CPU\n",
      "INFO:sklearnex: sklearn.utils.validation._assert_all_finite: running accelerated version on CPU\n",
      "INFO:sklearnex: sklearn.utils.validation._assert_all_finite: running accelerated version on CPU\n",
      "INFO:sklearnex: sklearn.utils.validation._assert_all_finite: running accelerated version on CPU\n",
      "INFO:sklearnex: sklearn.utils.validation._assert_all_finite: running accelerated version on CPU\n"
     ]
    },
    {
     "name": "stdout",
     "output_type": "stream",
     "text": [
      "Accuracy after query 50: 0.8506\n",
      "\n",
      "Cycle: 51\n",
      "Accuracy after query 51: 0.8512\n"
     ]
    },
    {
     "name": "stderr",
     "output_type": "stream",
     "text": [
      "INFO:sklearnex: sklearn.utils.validation._assert_all_finite: running accelerated version on CPU\n",
      "INFO:sklearnex: sklearn.utils.validation._assert_all_finite: running accelerated version on CPU\n",
      "INFO:sklearnex: sklearn.utils.validation._assert_all_finite: running accelerated version on CPU\n",
      "INFO:sklearnex: sklearn.utils.validation._assert_all_finite: running accelerated version on CPU\n",
      "INFO:sklearnex: sklearn.utils.validation._assert_all_finite: running accelerated version on CPU\n",
      "INFO:sklearnex: sklearn.utils.validation._assert_all_finite: running accelerated version on CPU\n"
     ]
    },
    {
     "name": "stdout",
     "output_type": "stream",
     "text": [
      "\n",
      "Cycle: 52\n",
      "Accuracy after query 52: 0.8510\n",
      "\n",
      "Cycle: 53\n"
     ]
    },
    {
     "name": "stderr",
     "output_type": "stream",
     "text": [
      "INFO:sklearnex: sklearn.utils.validation._assert_all_finite: running accelerated version on CPU\n",
      "INFO:sklearnex: sklearn.utils.validation._assert_all_finite: running accelerated version on CPU\n",
      "INFO:sklearnex: sklearn.utils.validation._assert_all_finite: running accelerated version on CPU\n",
      "INFO:sklearnex: sklearn.utils.validation._assert_all_finite: running accelerated version on CPU\n",
      "INFO:sklearnex: sklearn.utils.validation._assert_all_finite: running accelerated version on CPU\n",
      "INFO:sklearnex: sklearn.utils.validation._assert_all_finite: running accelerated version on CPU\n",
      "INFO:sklearnex: sklearn.utils.validation._assert_all_finite: running accelerated version on CPU\n"
     ]
    },
    {
     "name": "stdout",
     "output_type": "stream",
     "text": [
      "Accuracy after query 53: 0.8510\n",
      "\n",
      "Cycle: 54\n",
      "Accuracy after query 54: 0.8509\n",
      "\n",
      "Cycle: 55\n"
     ]
    },
    {
     "name": "stderr",
     "output_type": "stream",
     "text": [
      "INFO:sklearnex: sklearn.utils.validation._assert_all_finite: running accelerated version on CPU\n",
      "INFO:sklearnex: sklearn.utils.validation._assert_all_finite: running accelerated version on CPU\n",
      "INFO:sklearnex: sklearn.utils.validation._assert_all_finite: running accelerated version on CPU\n",
      "INFO:sklearnex: sklearn.utils.validation._assert_all_finite: running accelerated version on CPU\n",
      "INFO:sklearnex: sklearn.utils.validation._assert_all_finite: running accelerated version on CPU\n",
      "INFO:sklearnex: sklearn.utils.validation._assert_all_finite: running accelerated version on CPU\n",
      "INFO:sklearnex: sklearn.utils.validation._assert_all_finite: running accelerated version on CPU\n",
      "INFO:sklearnex: sklearn.utils.validation._assert_all_finite: running accelerated version on CPU\n"
     ]
    },
    {
     "name": "stdout",
     "output_type": "stream",
     "text": [
      "Accuracy after query 55: 0.8510\n",
      "\n",
      "Cycle: 56\n",
      "Accuracy after query 56: 0.8510\n",
      "\n",
      "Cycle: 57\n"
     ]
    },
    {
     "name": "stderr",
     "output_type": "stream",
     "text": [
      "INFO:sklearnex: sklearn.utils.validation._assert_all_finite: running accelerated version on CPU\n",
      "INFO:sklearnex: sklearn.utils.validation._assert_all_finite: running accelerated version on CPU\n",
      "INFO:sklearnex: sklearn.utils.validation._assert_all_finite: running accelerated version on CPU\n",
      "INFO:sklearnex: sklearn.utils.validation._assert_all_finite: running accelerated version on CPU\n",
      "INFO:sklearnex: sklearn.utils.validation._assert_all_finite: running accelerated version on CPU\n",
      "INFO:sklearnex: sklearn.utils.validation._assert_all_finite: running accelerated version on CPU\n",
      "INFO:sklearnex: sklearn.utils.validation._assert_all_finite: running accelerated version on CPU\n",
      "INFO:sklearnex: sklearn.utils.validation._assert_all_finite: running accelerated version on CPU\n"
     ]
    },
    {
     "name": "stdout",
     "output_type": "stream",
     "text": [
      "Accuracy after query 57: 0.8513\n",
      "\n",
      "Cycle: 58\n",
      "Accuracy after query 58: 0.8520\n",
      "\n",
      "Cycle: 59\n"
     ]
    },
    {
     "name": "stderr",
     "output_type": "stream",
     "text": [
      "INFO:sklearnex: sklearn.utils.validation._assert_all_finite: running accelerated version on CPU\n",
      "INFO:sklearnex: sklearn.utils.validation._assert_all_finite: running accelerated version on CPU\n",
      "INFO:sklearnex: sklearn.utils.validation._assert_all_finite: running accelerated version on CPU\n",
      "INFO:sklearnex: sklearn.utils.validation._assert_all_finite: running accelerated version on CPU\n",
      "INFO:sklearnex: sklearn.utils.validation._assert_all_finite: running accelerated version on CPU\n",
      "INFO:sklearnex: sklearn.utils.validation._assert_all_finite: running accelerated version on CPU\n",
      "INFO:sklearnex: sklearn.utils.validation._assert_all_finite: running accelerated version on CPU\n",
      "INFO:sklearnex: sklearn.utils.validation._assert_all_finite: running accelerated version on CPU\n"
     ]
    },
    {
     "name": "stdout",
     "output_type": "stream",
     "text": [
      "Accuracy after query 59: 0.8514\n",
      "\n",
      "Cycle: 60\n",
      "Accuracy after query 60: 0.8518\n",
      "\n",
      "Cycle: 61\n"
     ]
    },
    {
     "name": "stderr",
     "output_type": "stream",
     "text": [
      "INFO:sklearnex: sklearn.utils.validation._assert_all_finite: running accelerated version on CPU\n",
      "INFO:sklearnex: sklearn.utils.validation._assert_all_finite: running accelerated version on CPU\n",
      "INFO:sklearnex: sklearn.utils.validation._assert_all_finite: running accelerated version on CPU\n",
      "INFO:sklearnex: sklearn.utils.validation._assert_all_finite: running accelerated version on CPU\n",
      "INFO:sklearnex: sklearn.utils.validation._assert_all_finite: running accelerated version on CPU\n",
      "INFO:sklearnex: sklearn.utils.validation._assert_all_finite: running accelerated version on CPU\n",
      "INFO:sklearnex: sklearn.utils.validation._assert_all_finite: running accelerated version on CPU\n"
     ]
    },
    {
     "name": "stdout",
     "output_type": "stream",
     "text": [
      "Accuracy after query 61: 0.8519\n",
      "\n",
      "Cycle: 62\n",
      "Accuracy after query 62: 0.8519\n"
     ]
    },
    {
     "name": "stderr",
     "output_type": "stream",
     "text": [
      "INFO:sklearnex: sklearn.utils.validation._assert_all_finite: running accelerated version on CPU\n",
      "INFO:sklearnex: sklearn.utils.validation._assert_all_finite: running accelerated version on CPU\n",
      "INFO:sklearnex: sklearn.utils.validation._assert_all_finite: running accelerated version on CPU\n",
      "INFO:sklearnex: sklearn.utils.validation._assert_all_finite: running accelerated version on CPU\n"
     ]
    },
    {
     "name": "stdout",
     "output_type": "stream",
     "text": [
      "\n",
      "Cycle: 63\n",
      "Accuracy after query 63: 0.8516\n"
     ]
    },
    {
     "name": "stderr",
     "output_type": "stream",
     "text": [
      "INFO:sklearnex: sklearn.utils.validation._assert_all_finite: running accelerated version on CPU\n",
      "INFO:sklearnex: sklearn.utils.validation._assert_all_finite: running accelerated version on CPU\n",
      "INFO:sklearnex: sklearn.utils.validation._assert_all_finite: running accelerated version on CPU\n",
      "INFO:sklearnex: sklearn.utils.validation._assert_all_finite: running accelerated version on CPU\n"
     ]
    },
    {
     "name": "stdout",
     "output_type": "stream",
     "text": [
      "\n",
      "Cycle: 64\n",
      "Accuracy after query 64: 0.8520\n"
     ]
    },
    {
     "name": "stderr",
     "output_type": "stream",
     "text": [
      "INFO:sklearnex: sklearn.utils.validation._assert_all_finite: running accelerated version on CPU\n",
      "INFO:sklearnex: sklearn.utils.validation._assert_all_finite: running accelerated version on CPU\n",
      "INFO:sklearnex: sklearn.utils.validation._assert_all_finite: running accelerated version on CPU\n",
      "INFO:sklearnex: sklearn.utils.validation._assert_all_finite: running accelerated version on CPU\n"
     ]
    },
    {
     "name": "stdout",
     "output_type": "stream",
     "text": [
      "\n",
      "Cycle: 65\n",
      "Accuracy after query 65: 0.8520\n"
     ]
    },
    {
     "name": "stderr",
     "output_type": "stream",
     "text": [
      "INFO:sklearnex: sklearn.utils.validation._assert_all_finite: running accelerated version on CPU\n",
      "INFO:sklearnex: sklearn.utils.validation._assert_all_finite: running accelerated version on CPU\n",
      "INFO:sklearnex: sklearn.utils.validation._assert_all_finite: running accelerated version on CPU\n",
      "INFO:sklearnex: sklearn.utils.validation._assert_all_finite: running accelerated version on CPU\n"
     ]
    },
    {
     "name": "stdout",
     "output_type": "stream",
     "text": [
      "\n",
      "Cycle: 66\n",
      "Accuracy after query 66: 0.8523\n"
     ]
    },
    {
     "name": "stderr",
     "output_type": "stream",
     "text": [
      "INFO:sklearnex: sklearn.utils.validation._assert_all_finite: running accelerated version on CPU\n",
      "INFO:sklearnex: sklearn.utils.validation._assert_all_finite: running accelerated version on CPU\n",
      "INFO:sklearnex: sklearn.utils.validation._assert_all_finite: running accelerated version on CPU\n",
      "INFO:sklearnex: sklearn.utils.validation._assert_all_finite: running accelerated version on CPU\n",
      "INFO:sklearnex: sklearn.utils.validation._assert_all_finite: running accelerated version on CPU\n",
      "INFO:sklearnex: sklearn.utils.validation._assert_all_finite: running accelerated version on CPU\n"
     ]
    },
    {
     "name": "stdout",
     "output_type": "stream",
     "text": [
      "\n",
      "Cycle: 67\n",
      "Accuracy after query 67: 0.8523\n",
      "\n",
      "Cycle: 68\n"
     ]
    },
    {
     "name": "stderr",
     "output_type": "stream",
     "text": [
      "INFO:sklearnex: sklearn.utils.validation._assert_all_finite: running accelerated version on CPU\n",
      "INFO:sklearnex: sklearn.utils.validation._assert_all_finite: running accelerated version on CPU\n",
      "INFO:sklearnex: sklearn.utils.validation._assert_all_finite: running accelerated version on CPU\n",
      "INFO:sklearnex: sklearn.utils.validation._assert_all_finite: running accelerated version on CPU\n",
      "INFO:sklearnex: sklearn.utils.validation._assert_all_finite: running accelerated version on CPU\n"
     ]
    },
    {
     "name": "stdout",
     "output_type": "stream",
     "text": [
      "Accuracy after query 68: 0.8521\n",
      "\n",
      "Cycle: 69\n"
     ]
    },
    {
     "name": "stderr",
     "output_type": "stream",
     "text": [
      "INFO:sklearnex: sklearn.utils.validation._assert_all_finite: running accelerated version on CPU\n",
      "INFO:sklearnex: sklearn.utils.validation._assert_all_finite: running accelerated version on CPU\n",
      "INFO:sklearnex: sklearn.utils.validation._assert_all_finite: running accelerated version on CPU\n",
      "INFO:sklearnex: sklearn.utils.validation._assert_all_finite: running accelerated version on CPU\n"
     ]
    },
    {
     "name": "stdout",
     "output_type": "stream",
     "text": [
      "Accuracy after query 69: 0.8524\n",
      "\n",
      "Cycle: 70\n"
     ]
    },
    {
     "name": "stderr",
     "output_type": "stream",
     "text": [
      "INFO:sklearnex: sklearn.utils.validation._assert_all_finite: running accelerated version on CPU\n",
      "INFO:sklearnex: sklearn.utils.validation._assert_all_finite: running accelerated version on CPU\n",
      "INFO:sklearnex: sklearn.utils.validation._assert_all_finite: running accelerated version on CPU\n",
      "INFO:sklearnex: sklearn.utils.validation._assert_all_finite: running accelerated version on CPU\n"
     ]
    },
    {
     "name": "stdout",
     "output_type": "stream",
     "text": [
      "Accuracy after query 70: 0.8531\n",
      "\n",
      "Cycle: 71\n"
     ]
    },
    {
     "name": "stderr",
     "output_type": "stream",
     "text": [
      "INFO:sklearnex: sklearn.utils.validation._assert_all_finite: running accelerated version on CPU\n",
      "INFO:sklearnex: sklearn.utils.validation._assert_all_finite: running accelerated version on CPU\n",
      "INFO:sklearnex: sklearn.utils.validation._assert_all_finite: running accelerated version on CPU\n"
     ]
    },
    {
     "name": "stdout",
     "output_type": "stream",
     "text": [
      "Accuracy after query 71: 0.8529\n",
      "\n",
      "Cycle: 72\n"
     ]
    },
    {
     "name": "stderr",
     "output_type": "stream",
     "text": [
      "INFO:sklearnex: sklearn.utils.validation._assert_all_finite: running accelerated version on CPU\n",
      "INFO:sklearnex: sklearn.utils.validation._assert_all_finite: running accelerated version on CPU\n",
      "INFO:sklearnex: sklearn.utils.validation._assert_all_finite: running accelerated version on CPU\n",
      "INFO:sklearnex: sklearn.utils.validation._assert_all_finite: running accelerated version on CPU\n",
      "INFO:sklearnex: sklearn.utils.validation._assert_all_finite: running accelerated version on CPU\n"
     ]
    },
    {
     "name": "stdout",
     "output_type": "stream",
     "text": [
      "Accuracy after query 72: 0.8530\n",
      "\n",
      "Cycle: 73\n"
     ]
    },
    {
     "name": "stderr",
     "output_type": "stream",
     "text": [
      "INFO:sklearnex: sklearn.utils.validation._assert_all_finite: running accelerated version on CPU\n",
      "INFO:sklearnex: sklearn.utils.validation._assert_all_finite: running accelerated version on CPU\n",
      "INFO:sklearnex: sklearn.utils.validation._assert_all_finite: running accelerated version on CPU\n",
      "INFO:sklearnex: sklearn.utils.validation._assert_all_finite: running accelerated version on CPU\n",
      "INFO:sklearnex: sklearn.utils.validation._assert_all_finite: running accelerated version on CPU\n"
     ]
    },
    {
     "name": "stdout",
     "output_type": "stream",
     "text": [
      "Accuracy after query 73: 0.8527\n",
      "\n",
      "Cycle: 74\n",
      "Accuracy after query 74: 0.8528\n"
     ]
    },
    {
     "name": "stderr",
     "output_type": "stream",
     "text": [
      "INFO:sklearnex: sklearn.utils.validation._assert_all_finite: running accelerated version on CPU\n",
      "INFO:sklearnex: sklearn.utils.validation._assert_all_finite: running accelerated version on CPU\n",
      "INFO:sklearnex: sklearn.utils.validation._assert_all_finite: running accelerated version on CPU\n",
      "INFO:sklearnex: sklearn.utils.validation._assert_all_finite: running accelerated version on CPU\n",
      "INFO:sklearnex: sklearn.utils.validation._assert_all_finite: running accelerated version on CPU\n"
     ]
    },
    {
     "name": "stdout",
     "output_type": "stream",
     "text": [
      "\n",
      "Cycle: 75\n",
      "Accuracy after query 75: 0.8525\n",
      "\n",
      "Cycle: 76\n"
     ]
    },
    {
     "name": "stderr",
     "output_type": "stream",
     "text": [
      "INFO:sklearnex: sklearn.utils.validation._assert_all_finite: running accelerated version on CPU\n",
      "INFO:sklearnex: sklearn.utils.validation._assert_all_finite: running accelerated version on CPU\n",
      "INFO:sklearnex: sklearn.utils.validation._assert_all_finite: running accelerated version on CPU\n",
      "INFO:sklearnex: sklearn.utils.validation._assert_all_finite: running accelerated version on CPU\n",
      "INFO:sklearnex: sklearn.utils.validation._assert_all_finite: running accelerated version on CPU\n",
      "INFO:sklearnex: sklearn.utils.validation._assert_all_finite: running accelerated version on CPU\n",
      "INFO:sklearnex: sklearn.utils.validation._assert_all_finite: running accelerated version on CPU\n"
     ]
    },
    {
     "name": "stdout",
     "output_type": "stream",
     "text": [
      "Accuracy after query 76: 0.8525\n",
      "\n",
      "Cycle: 77\n",
      "Accuracy after query 77: 0.8526\n"
     ]
    },
    {
     "name": "stderr",
     "output_type": "stream",
     "text": [
      "INFO:sklearnex: sklearn.utils.validation._assert_all_finite: running accelerated version on CPU\n",
      "INFO:sklearnex: sklearn.utils.validation._assert_all_finite: running accelerated version on CPU\n",
      "INFO:sklearnex: sklearn.utils.validation._assert_all_finite: running accelerated version on CPU\n",
      "INFO:sklearnex: sklearn.utils.validation._assert_all_finite: running accelerated version on CPU\n",
      "INFO:sklearnex: sklearn.utils.validation._assert_all_finite: running accelerated version on CPU\n"
     ]
    },
    {
     "name": "stdout",
     "output_type": "stream",
     "text": [
      "\n",
      "Cycle: 78\n",
      "Accuracy after query 78: 0.8523\n",
      "\n",
      "Cycle: 79\n"
     ]
    },
    {
     "name": "stderr",
     "output_type": "stream",
     "text": [
      "INFO:sklearnex: sklearn.utils.validation._assert_all_finite: running accelerated version on CPU\n",
      "INFO:sklearnex: sklearn.utils.validation._assert_all_finite: running accelerated version on CPU\n",
      "INFO:sklearnex: sklearn.utils.validation._assert_all_finite: running accelerated version on CPU\n",
      "INFO:sklearnex: sklearn.utils.validation._assert_all_finite: running accelerated version on CPU\n",
      "INFO:sklearnex: sklearn.utils.validation._assert_all_finite: running accelerated version on CPU\n",
      "INFO:sklearnex: sklearn.utils.validation._assert_all_finite: running accelerated version on CPU\n",
      "INFO:sklearnex: sklearn.utils.validation._assert_all_finite: running accelerated version on CPU\n",
      "INFO:sklearnex: sklearn.utils.validation._assert_all_finite: running accelerated version on CPU\n"
     ]
    },
    {
     "name": "stdout",
     "output_type": "stream",
     "text": [
      "Accuracy after query 79: 0.8525\n",
      "\n",
      "Cycle: 80\n",
      "Accuracy after query 80: 0.8525\n",
      "\n",
      "Cycle: 81\n"
     ]
    },
    {
     "name": "stderr",
     "output_type": "stream",
     "text": [
      "INFO:sklearnex: sklearn.utils.validation._assert_all_finite: running accelerated version on CPU\n",
      "INFO:sklearnex: sklearn.utils.validation._assert_all_finite: running accelerated version on CPU\n",
      "INFO:sklearnex: sklearn.utils.validation._assert_all_finite: running accelerated version on CPU\n",
      "INFO:sklearnex: sklearn.utils.validation._assert_all_finite: running accelerated version on CPU\n",
      "INFO:sklearnex: sklearn.utils.validation._assert_all_finite: running accelerated version on CPU\n",
      "INFO:sklearnex: sklearn.utils.validation._assert_all_finite: running accelerated version on CPU\n",
      "INFO:sklearnex: sklearn.utils.validation._assert_all_finite: running accelerated version on CPU\n",
      "INFO:sklearnex: sklearn.utils.validation._assert_all_finite: running accelerated version on CPU\n"
     ]
    },
    {
     "name": "stdout",
     "output_type": "stream",
     "text": [
      "Accuracy after query 81: 0.8523\n",
      "\n",
      "Cycle: 82\n",
      "Accuracy after query 82: 0.8521\n",
      "\n",
      "Cycle: 83\n"
     ]
    },
    {
     "name": "stderr",
     "output_type": "stream",
     "text": [
      "INFO:sklearnex: sklearn.utils.validation._assert_all_finite: running accelerated version on CPU\n",
      "INFO:sklearnex: sklearn.utils.validation._assert_all_finite: running accelerated version on CPU\n",
      "INFO:sklearnex: sklearn.utils.validation._assert_all_finite: running accelerated version on CPU\n",
      "INFO:sklearnex: sklearn.utils.validation._assert_all_finite: running accelerated version on CPU\n",
      "INFO:sklearnex: sklearn.utils.validation._assert_all_finite: running accelerated version on CPU\n",
      "INFO:sklearnex: sklearn.utils.validation._assert_all_finite: running accelerated version on CPU\n",
      "INFO:sklearnex: sklearn.utils.validation._assert_all_finite: running accelerated version on CPU\n",
      "INFO:sklearnex: sklearn.utils.validation._assert_all_finite: running accelerated version on CPU\n"
     ]
    },
    {
     "name": "stdout",
     "output_type": "stream",
     "text": [
      "Accuracy after query 83: 0.8519\n",
      "\n",
      "Cycle: 84\n",
      "Accuracy after query 84: 0.8523\n",
      "\n",
      "Cycle: 85\n"
     ]
    },
    {
     "name": "stderr",
     "output_type": "stream",
     "text": [
      "INFO:sklearnex: sklearn.utils.validation._assert_all_finite: running accelerated version on CPU\n",
      "INFO:sklearnex: sklearn.utils.validation._assert_all_finite: running accelerated version on CPU\n",
      "INFO:sklearnex: sklearn.utils.validation._assert_all_finite: running accelerated version on CPU\n",
      "INFO:sklearnex: sklearn.utils.validation._assert_all_finite: running accelerated version on CPU\n",
      "INFO:sklearnex: sklearn.utils.validation._assert_all_finite: running accelerated version on CPU\n",
      "INFO:sklearnex: sklearn.utils.validation._assert_all_finite: running accelerated version on CPU\n",
      "INFO:sklearnex: sklearn.utils.validation._assert_all_finite: running accelerated version on CPU\n",
      "INFO:sklearnex: sklearn.utils.validation._assert_all_finite: running accelerated version on CPU\n"
     ]
    },
    {
     "name": "stdout",
     "output_type": "stream",
     "text": [
      "Accuracy after query 85: 0.8526\n",
      "\n",
      "Cycle: 86\n",
      "Accuracy after query 86: 0.8528\n",
      "\n",
      "Cycle: 87\n"
     ]
    },
    {
     "name": "stderr",
     "output_type": "stream",
     "text": [
      "INFO:sklearnex: sklearn.utils.validation._assert_all_finite: running accelerated version on CPU\n",
      "INFO:sklearnex: sklearn.utils.validation._assert_all_finite: running accelerated version on CPU\n",
      "INFO:sklearnex: sklearn.utils.validation._assert_all_finite: running accelerated version on CPU\n",
      "INFO:sklearnex: sklearn.utils.validation._assert_all_finite: running accelerated version on CPU\n",
      "INFO:sklearnex: sklearn.utils.validation._assert_all_finite: running accelerated version on CPU\n",
      "INFO:sklearnex: sklearn.utils.validation._assert_all_finite: running accelerated version on CPU\n",
      "INFO:sklearnex: sklearn.utils.validation._assert_all_finite: running accelerated version on CPU\n",
      "INFO:sklearnex: sklearn.utils.validation._assert_all_finite: running accelerated version on CPU\n"
     ]
    },
    {
     "name": "stdout",
     "output_type": "stream",
     "text": [
      "Accuracy after query 87: 0.8524\n",
      "\n",
      "Cycle: 88\n",
      "Accuracy after query 88: 0.8522\n",
      "\n",
      "Cycle: 89\n"
     ]
    },
    {
     "name": "stderr",
     "output_type": "stream",
     "text": [
      "INFO:sklearnex: sklearn.utils.validation._assert_all_finite: running accelerated version on CPU\n",
      "INFO:sklearnex: sklearn.utils.validation._assert_all_finite: running accelerated version on CPU\n",
      "INFO:sklearnex: sklearn.utils.validation._assert_all_finite: running accelerated version on CPU\n",
      "INFO:sklearnex: sklearn.utils.validation._assert_all_finite: running accelerated version on CPU\n",
      "INFO:sklearnex: sklearn.utils.validation._assert_all_finite: running accelerated version on CPU\n",
      "INFO:sklearnex: sklearn.utils.validation._assert_all_finite: running accelerated version on CPU\n",
      "INFO:sklearnex: sklearn.utils.validation._assert_all_finite: running accelerated version on CPU\n",
      "INFO:sklearnex: sklearn.utils.validation._assert_all_finite: running accelerated version on CPU\n"
     ]
    },
    {
     "name": "stdout",
     "output_type": "stream",
     "text": [
      "Accuracy after query 89: 0.8522\n",
      "\n",
      "Cycle: 90\n",
      "Accuracy after query 90: 0.8525\n",
      "\n",
      "Cycle: 91\n"
     ]
    },
    {
     "name": "stderr",
     "output_type": "stream",
     "text": [
      "INFO:sklearnex: sklearn.utils.validation._assert_all_finite: running accelerated version on CPU\n",
      "INFO:sklearnex: sklearn.utils.validation._assert_all_finite: running accelerated version on CPU\n",
      "INFO:sklearnex: sklearn.utils.validation._assert_all_finite: running accelerated version on CPU\n",
      "INFO:sklearnex: sklearn.utils.validation._assert_all_finite: running accelerated version on CPU\n",
      "INFO:sklearnex: sklearn.utils.validation._assert_all_finite: running accelerated version on CPU\n",
      "INFO:sklearnex: sklearn.utils.validation._assert_all_finite: running accelerated version on CPU\n",
      "INFO:sklearnex: sklearn.utils.validation._assert_all_finite: running accelerated version on CPU\n",
      "INFO:sklearnex: sklearn.utils.validation._assert_all_finite: running accelerated version on CPU\n"
     ]
    },
    {
     "name": "stdout",
     "output_type": "stream",
     "text": [
      "Accuracy after query 91: 0.8523\n",
      "\n",
      "Cycle: 92\n",
      "Accuracy after query 92: 0.8525\n",
      "\n",
      "Cycle: 93\n"
     ]
    },
    {
     "name": "stderr",
     "output_type": "stream",
     "text": [
      "INFO:sklearnex: sklearn.utils.validation._assert_all_finite: running accelerated version on CPU\n",
      "INFO:sklearnex: sklearn.utils.validation._assert_all_finite: running accelerated version on CPU\n",
      "INFO:sklearnex: sklearn.utils.validation._assert_all_finite: running accelerated version on CPU\n",
      "INFO:sklearnex: sklearn.utils.validation._assert_all_finite: running accelerated version on CPU\n",
      "INFO:sklearnex: sklearn.utils.validation._assert_all_finite: running accelerated version on CPU\n",
      "INFO:sklearnex: sklearn.utils.validation._assert_all_finite: running accelerated version on CPU\n",
      "INFO:sklearnex: sklearn.utils.validation._assert_all_finite: running accelerated version on CPU\n",
      "INFO:sklearnex: sklearn.utils.validation._assert_all_finite: running accelerated version on CPU\n"
     ]
    },
    {
     "name": "stdout",
     "output_type": "stream",
     "text": [
      "Accuracy after query 93: 0.8529\n",
      "\n",
      "Cycle: 94\n",
      "Accuracy after query 94: 0.8530\n",
      "\n",
      "Cycle: 95\n"
     ]
    },
    {
     "name": "stderr",
     "output_type": "stream",
     "text": [
      "INFO:sklearnex: sklearn.utils.validation._assert_all_finite: running accelerated version on CPU\n",
      "INFO:sklearnex: sklearn.utils.validation._assert_all_finite: running accelerated version on CPU\n",
      "INFO:sklearnex: sklearn.utils.validation._assert_all_finite: running accelerated version on CPU\n",
      "INFO:sklearnex: sklearn.utils.validation._assert_all_finite: running accelerated version on CPU\n",
      "INFO:sklearnex: sklearn.utils.validation._assert_all_finite: running accelerated version on CPU\n",
      "INFO:sklearnex: sklearn.utils.validation._assert_all_finite: running accelerated version on CPU\n",
      "INFO:sklearnex: sklearn.utils.validation._assert_all_finite: running accelerated version on CPU\n",
      "INFO:sklearnex: sklearn.utils.validation._assert_all_finite: running accelerated version on CPU\n"
     ]
    },
    {
     "name": "stdout",
     "output_type": "stream",
     "text": [
      "Accuracy after query 95: 0.8535\n",
      "\n",
      "Cycle: 96\n",
      "Accuracy after query 96: 0.8536\n",
      "\n",
      "Cycle: 97\n"
     ]
    },
    {
     "name": "stderr",
     "output_type": "stream",
     "text": [
      "INFO:sklearnex: sklearn.utils.validation._assert_all_finite: running accelerated version on CPU\n",
      "INFO:sklearnex: sklearn.utils.validation._assert_all_finite: running accelerated version on CPU\n",
      "INFO:sklearnex: sklearn.utils.validation._assert_all_finite: running accelerated version on CPU\n",
      "INFO:sklearnex: sklearn.utils.validation._assert_all_finite: running accelerated version on CPU\n",
      "INFO:sklearnex: sklearn.utils.validation._assert_all_finite: running accelerated version on CPU\n",
      "INFO:sklearnex: sklearn.utils.validation._assert_all_finite: running accelerated version on CPU\n",
      "INFO:sklearnex: sklearn.utils.validation._assert_all_finite: running accelerated version on CPU\n",
      "INFO:sklearnex: sklearn.utils.validation._assert_all_finite: running accelerated version on CPU\n"
     ]
    },
    {
     "name": "stdout",
     "output_type": "stream",
     "text": [
      "Accuracy after query 97: 0.8532\n",
      "\n",
      "Cycle: 98\n",
      "Accuracy after query 98: 0.8536\n",
      "\n",
      "Cycle: 99\n"
     ]
    },
    {
     "name": "stderr",
     "output_type": "stream",
     "text": [
      "INFO:sklearnex: sklearn.utils.validation._assert_all_finite: running accelerated version on CPU\n",
      "INFO:sklearnex: sklearn.utils.validation._assert_all_finite: running accelerated version on CPU\n",
      "INFO:sklearnex: sklearn.utils.validation._assert_all_finite: running accelerated version on CPU\n",
      "INFO:sklearnex: sklearn.utils.validation._assert_all_finite: running accelerated version on CPU\n",
      "INFO:sklearnex: sklearn.utils.validation._assert_all_finite: running accelerated version on CPU\n",
      "INFO:sklearnex: sklearn.utils.validation._assert_all_finite: running accelerated version on CPU\n",
      "INFO:sklearnex: sklearn.utils.validation._assert_all_finite: running accelerated version on CPU\n"
     ]
    },
    {
     "name": "stdout",
     "output_type": "stream",
     "text": [
      "Accuracy after query 99: 0.8534\n",
      "\n",
      "Cycle: 100\n",
      "Accuracy after query 100: 0.8533\n"
     ]
    },
    {
     "data": {
      "image/png": "[encoded data removed]",
      "text/plain": [
       "<Figure size 1000x700 with 2 Axes>"
      ]
     },
     "metadata": {},
     "output_type": "display_data"
    }
   ],
   "source": [
    "acc_margin_sampling, precision_result_margin_sampling, recall_result_margin_sampling, f1_result_margin_sampling = active_learning(\n",
    "    x_train,\n",
    "    y_train,\n",
    "    x_initial,\n",
    "    y_initial,\n",
    "    x_test,\n",
    "    y_test,\n",
    "    \"margin_sampling\",\n",
    "    clf,\n",
    "    2,\n",
    "    [\"positive\", \"negative\"],\n",
    ")"
   ]
  },
  {
   "cell_type": "code",
   "execution_count": 21,
   "id": "8aff3263",
   "metadata": {
    "execution": {
     "iopub.execute_input": "2024-05-01T22:29:07.043892Z",
     "iopub.status.busy": "2024-05-01T22:29:07.043446Z",
     "iopub.status.idle": "2024-05-01T22:29:23.584969Z",
     "shell.execute_reply": "2024-05-01T22:29:23.583861Z"
    },
    "papermill": {
     "duration": 16.682616,
     "end_time": "2024-05-01T22:29:23.587462",
     "exception": false,
     "start_time": "2024-05-01T22:29:06.904846",
     "status": "completed"
    },
    "tags": []
   },
   "outputs": [
    {
     "name": "stderr",
     "output_type": "stream",
     "text": [
      "INFO:sklearnex: sklearn.utils.validation._assert_all_finite: running accelerated version on CPU\n",
      "INFO:sklearnex: sklearn.utils.validation._assert_all_finite: running accelerated version on CPU\n",
      "INFO:sklearnex: sklearn.utils.validation._assert_all_finite: running accelerated version on CPU\n",
      "INFO:sklearnex: sklearn.utils.validation._assert_all_finite: running accelerated version on CPU\n",
      "INFO:sklearnex: sklearn.utils.validation._assert_all_finite: running accelerated version on CPU\n",
      "INFO:sklearnex: sklearn.utils.validation._assert_all_finite: running accelerated version on CPU\n"
     ]
    },
    {
     "name": "stdout",
     "output_type": "stream",
     "text": [
      "Starting Active Learning with entropy_sampling method\n",
      "\n",
      "Cycle: 1\n",
      "Accuracy after query 1: 0.8513\n",
      "\n",
      "Cycle: 2\n"
     ]
    },
    {
     "name": "stderr",
     "output_type": "stream",
     "text": [
      "INFO:sklearnex: sklearn.utils.validation._assert_all_finite: running accelerated version on CPU\n",
      "INFO:sklearnex: sklearn.utils.validation._assert_all_finite: running accelerated version on CPU\n",
      "INFO:sklearnex: sklearn.utils.validation._assert_all_finite: running accelerated version on CPU\n",
      "INFO:sklearnex: sklearn.utils.validation._assert_all_finite: running accelerated version on CPU\n",
      "INFO:sklearnex: sklearn.utils.validation._assert_all_finite: running accelerated version on CPU\n",
      "INFO:sklearnex: sklearn.utils.validation._assert_all_finite: running accelerated version on CPU\n",
      "INFO:sklearnex: sklearn.utils.validation._assert_all_finite: running accelerated version on CPU\n",
      "INFO:sklearnex: sklearn.utils.validation._assert_all_finite: running accelerated version on CPU\n"
     ]
    },
    {
     "name": "stdout",
     "output_type": "stream",
     "text": [
      "Accuracy after query 2: 0.8518\n",
      "\n",
      "Cycle: 3\n",
      "Accuracy after query 3: 0.8510\n",
      "\n",
      "Cycle: 4\n"
     ]
    },
    {
     "name": "stderr",
     "output_type": "stream",
     "text": [
      "INFO:sklearnex: sklearn.utils.validation._assert_all_finite: running accelerated version on CPU\n",
      "INFO:sklearnex: sklearn.utils.validation._assert_all_finite: running accelerated version on CPU\n",
      "INFO:sklearnex: sklearn.utils.validation._assert_all_finite: running accelerated version on CPU\n",
      "INFO:sklearnex: sklearn.utils.validation._assert_all_finite: running accelerated version on CPU\n",
      "INFO:sklearnex: sklearn.utils.validation._assert_all_finite: running accelerated version on CPU\n",
      "INFO:sklearnex: sklearn.utils.validation._assert_all_finite: running accelerated version on CPU\n",
      "INFO:sklearnex: sklearn.utils.validation._assert_all_finite: running accelerated version on CPU\n",
      "INFO:sklearnex: sklearn.utils.validation._assert_all_finite: running accelerated version on CPU\n"
     ]
    },
    {
     "name": "stdout",
     "output_type": "stream",
     "text": [
      "Accuracy after query 4: 0.8510\n",
      "\n",
      "Cycle: 5\n",
      "Accuracy after query 5: 0.8517\n",
      "\n",
      "Cycle: 6\n"
     ]
    },
    {
     "name": "stderr",
     "output_type": "stream",
     "text": [
      "INFO:sklearnex: sklearn.utils.validation._assert_all_finite: running accelerated version on CPU\n",
      "INFO:sklearnex: sklearn.utils.validation._assert_all_finite: running accelerated version on CPU\n",
      "INFO:sklearnex: sklearn.utils.validation._assert_all_finite: running accelerated version on CPU\n",
      "INFO:sklearnex: sklearn.utils.validation._assert_all_finite: running accelerated version on CPU\n",
      "INFO:sklearnex: sklearn.utils.validation._assert_all_finite: running accelerated version on CPU\n",
      "INFO:sklearnex: sklearn.utils.validation._assert_all_finite: running accelerated version on CPU\n",
      "INFO:sklearnex: sklearn.utils.validation._assert_all_finite: running accelerated version on CPU\n",
      "INFO:sklearnex: sklearn.utils.validation._assert_all_finite: running accelerated version on CPU\n"
     ]
    },
    {
     "name": "stdout",
     "output_type": "stream",
     "text": [
      "Accuracy after query 6: 0.8513\n",
      "\n",
      "Cycle: 7\n",
      "Accuracy after query 7: 0.8520\n",
      "\n",
      "Cycle: 8\n"
     ]
    },
    {
     "name": "stderr",
     "output_type": "stream",
     "text": [
      "INFO:sklearnex: sklearn.utils.validation._assert_all_finite: running accelerated version on CPU\n",
      "INFO:sklearnex: sklearn.utils.validation._assert_all_finite: running accelerated version on CPU\n",
      "INFO:sklearnex: sklearn.utils.validation._assert_all_finite: running accelerated version on CPU\n",
      "INFO:sklearnex: sklearn.utils.validation._assert_all_finite: running accelerated version on CPU\n",
      "INFO:sklearnex: sklearn.utils.validation._assert_all_finite: running accelerated version on CPU\n",
      "INFO:sklearnex: sklearn.utils.validation._assert_all_finite: running accelerated version on CPU\n",
      "INFO:sklearnex: sklearn.utils.validation._assert_all_finite: running accelerated version on CPU\n",
      "INFO:sklearnex: sklearn.utils.validation._assert_all_finite: running accelerated version on CPU\n"
     ]
    },
    {
     "name": "stdout",
     "output_type": "stream",
     "text": [
      "Accuracy after query 8: 0.8516\n",
      "\n",
      "Cycle: 9\n",
      "Accuracy after query 9: 0.8511\n",
      "\n",
      "Cycle: 10\n"
     ]
    },
    {
     "name": "stderr",
     "output_type": "stream",
     "text": [
      "INFO:sklearnex: sklearn.utils.validation._assert_all_finite: running accelerated version on CPU\n",
      "INFO:sklearnex: sklearn.utils.validation._assert_all_finite: running accelerated version on CPU\n",
      "INFO:sklearnex: sklearn.utils.validation._assert_all_finite: running accelerated version on CPU\n",
      "INFO:sklearnex: sklearn.utils.validation._assert_all_finite: running accelerated version on CPU\n",
      "INFO:sklearnex: sklearn.utils.validation._assert_all_finite: running accelerated version on CPU\n",
      "INFO:sklearnex: sklearn.utils.validation._assert_all_finite: running accelerated version on CPU\n",
      "INFO:sklearnex: sklearn.utils.validation._assert_all_finite: running accelerated version on CPU\n",
      "INFO:sklearnex: sklearn.utils.validation._assert_all_finite: running accelerated version on CPU\n"
     ]
    },
    {
     "name": "stdout",
     "output_type": "stream",
     "text": [
      "Accuracy after query 10: 0.8513\n",
      "\n",
      "Cycle: 11\n",
      "Accuracy after query 11: 0.8513\n",
      "\n",
      "Cycle: 12\n"
     ]
    },
    {
     "name": "stderr",
     "output_type": "stream",
     "text": [
      "INFO:sklearnex: sklearn.utils.validation._assert_all_finite: running accelerated version on CPU\n",
      "INFO:sklearnex: sklearn.utils.validation._assert_all_finite: running accelerated version on CPU\n",
      "INFO:sklearnex: sklearn.utils.validation._assert_all_finite: running accelerated version on CPU\n",
      "INFO:sklearnex: sklearn.utils.validation._assert_all_finite: running accelerated version on CPU\n",
      "INFO:sklearnex: sklearn.utils.validation._assert_all_finite: running accelerated version on CPU\n",
      "INFO:sklearnex: sklearn.utils.validation._assert_all_finite: running accelerated version on CPU\n",
      "INFO:sklearnex: sklearn.utils.validation._assert_all_finite: running accelerated version on CPU\n",
      "INFO:sklearnex: sklearn.utils.validation._assert_all_finite: running accelerated version on CPU\n"
     ]
    },
    {
     "name": "stdout",
     "output_type": "stream",
     "text": [
      "Accuracy after query 12: 0.8514\n",
      "\n",
      "Cycle: 13\n",
      "Accuracy after query 13: 0.8508\n",
      "\n",
      "Cycle: 14\n"
     ]
    },
    {
     "name": "stderr",
     "output_type": "stream",
     "text": [
      "INFO:sklearnex: sklearn.utils.validation._assert_all_finite: running accelerated version on CPU\n",
      "INFO:sklearnex: sklearn.utils.validation._assert_all_finite: running accelerated version on CPU\n",
      "INFO:sklearnex: sklearn.utils.validation._assert_all_finite: running accelerated version on CPU\n",
      "INFO:sklearnex: sklearn.utils.validation._assert_all_finite: running accelerated version on CPU\n",
      "INFO:sklearnex: sklearn.utils.validation._assert_all_finite: running accelerated version on CPU\n",
      "INFO:sklearnex: sklearn.utils.validation._assert_all_finite: running accelerated version on CPU\n",
      "INFO:sklearnex: sklearn.utils.validation._assert_all_finite: running accelerated version on CPU\n"
     ]
    },
    {
     "name": "stdout",
     "output_type": "stream",
     "text": [
      "Accuracy after query 14: 0.8505\n",
      "\n",
      "Cycle: 15\n",
      "Accuracy after query 15: 0.8506\n"
     ]
    },
    {
     "name": "stderr",
     "output_type": "stream",
     "text": [
      "INFO:sklearnex: sklearn.utils.validation._assert_all_finite: running accelerated version on CPU\n",
      "INFO:sklearnex: sklearn.utils.validation._assert_all_finite: running accelerated version on CPU\n",
      "INFO:sklearnex: sklearn.utils.validation._assert_all_finite: running accelerated version on CPU\n",
      "INFO:sklearnex: sklearn.utils.validation._assert_all_finite: running accelerated version on CPU\n",
      "INFO:sklearnex: sklearn.utils.validation._assert_all_finite: running accelerated version on CPU\n",
      "INFO:sklearnex: sklearn.utils.validation._assert_all_finite: running accelerated version on CPU\n"
     ]
    },
    {
     "name": "stdout",
     "output_type": "stream",
     "text": [
      "\n",
      "Cycle: 16\n",
      "Accuracy after query 16: 0.8505\n",
      "\n",
      "Cycle: 17\n"
     ]
    },
    {
     "name": "stderr",
     "output_type": "stream",
     "text": [
      "INFO:sklearnex: sklearn.utils.validation._assert_all_finite: running accelerated version on CPU\n",
      "INFO:sklearnex: sklearn.utils.validation._assert_all_finite: running accelerated version on CPU\n",
      "INFO:sklearnex: sklearn.utils.validation._assert_all_finite: running accelerated version on CPU\n",
      "INFO:sklearnex: sklearn.utils.validation._assert_all_finite: running accelerated version on CPU\n",
      "INFO:sklearnex: sklearn.utils.validation._assert_all_finite: running accelerated version on CPU\n",
      "INFO:sklearnex: sklearn.utils.validation._assert_all_finite: running accelerated version on CPU\n",
      "INFO:sklearnex: sklearn.utils.validation._assert_all_finite: running accelerated version on CPU\n"
     ]
    },
    {
     "name": "stdout",
     "output_type": "stream",
     "text": [
      "Accuracy after query 17: 0.8509\n",
      "\n",
      "Cycle: 18\n",
      "Accuracy after query 18: 0.8508\n",
      "\n",
      "Cycle: 19\n"
     ]
    },
    {
     "name": "stderr",
     "output_type": "stream",
     "text": [
      "INFO:sklearnex: sklearn.utils.validation._assert_all_finite: running accelerated version on CPU\n",
      "INFO:sklearnex: sklearn.utils.validation._assert_all_finite: running accelerated version on CPU\n",
      "INFO:sklearnex: sklearn.utils.validation._assert_all_finite: running accelerated version on CPU\n",
      "INFO:sklearnex: sklearn.utils.validation._assert_all_finite: running accelerated version on CPU\n",
      "INFO:sklearnex: sklearn.utils.validation._assert_all_finite: running accelerated version on CPU\n",
      "INFO:sklearnex: sklearn.utils.validation._assert_all_finite: running accelerated version on CPU\n",
      "INFO:sklearnex: sklearn.utils.validation._assert_all_finite: running accelerated version on CPU\n",
      "INFO:sklearnex: sklearn.utils.validation._assert_all_finite: running accelerated version on CPU\n"
     ]
    },
    {
     "name": "stdout",
     "output_type": "stream",
     "text": [
      "Accuracy after query 19: 0.8511\n",
      "\n",
      "Cycle: 20\n",
      "Accuracy after query 20: 0.8508\n",
      "\n",
      "Cycle: 21\n"
     ]
    },
    {
     "name": "stderr",
     "output_type": "stream",
     "text": [
      "INFO:sklearnex: sklearn.utils.validation._assert_all_finite: running accelerated version on CPU\n",
      "INFO:sklearnex: sklearn.utils.validation._assert_all_finite: running accelerated version on CPU\n",
      "INFO:sklearnex: sklearn.utils.validation._assert_all_finite: running accelerated version on CPU\n",
      "INFO:sklearnex: sklearn.utils.validation._assert_all_finite: running accelerated version on CPU\n",
      "INFO:sklearnex: sklearn.utils.validation._assert_all_finite: running accelerated version on CPU\n",
      "INFO:sklearnex: sklearn.utils.validation._assert_all_finite: running accelerated version on CPU\n",
      "INFO:sklearnex: sklearn.utils.validation._assert_all_finite: running accelerated version on CPU\n",
      "INFO:sklearnex: sklearn.utils.validation._assert_all_finite: running accelerated version on CPU\n"
     ]
    },
    {
     "name": "stdout",
     "output_type": "stream",
     "text": [
      "Accuracy after query 21: 0.8511\n",
      "\n",
      "Cycle: 22\n",
      "Accuracy after query 22: 0.8511\n",
      "\n",
      "Cycle: 23\n"
     ]
    },
    {
     "name": "stderr",
     "output_type": "stream",
     "text": [
      "INFO:sklearnex: sklearn.utils.validation._assert_all_finite: running accelerated version on CPU\n",
      "INFO:sklearnex: sklearn.utils.validation._assert_all_finite: running accelerated version on CPU\n",
      "INFO:sklearnex: sklearn.utils.validation._assert_all_finite: running accelerated version on CPU\n",
      "INFO:sklearnex: sklearn.utils.validation._assert_all_finite: running accelerated version on CPU\n",
      "INFO:sklearnex: sklearn.utils.validation._assert_all_finite: running accelerated version on CPU\n",
      "INFO:sklearnex: sklearn.utils.validation._assert_all_finite: running accelerated version on CPU\n",
      "INFO:sklearnex: sklearn.utils.validation._assert_all_finite: running accelerated version on CPU\n",
      "INFO:sklearnex: sklearn.utils.validation._assert_all_finite: running accelerated version on CPU\n"
     ]
    },
    {
     "name": "stdout",
     "output_type": "stream",
     "text": [
      "Accuracy after query 23: 0.8504\n",
      "\n",
      "Cycle: 24\n",
      "Accuracy after query 24: 0.8505\n",
      "\n",
      "Cycle: 25\n"
     ]
    },
    {
     "name": "stderr",
     "output_type": "stream",
     "text": [
      "INFO:sklearnex: sklearn.utils.validation._assert_all_finite: running accelerated version on CPU\n",
      "INFO:sklearnex: sklearn.utils.validation._assert_all_finite: running accelerated version on CPU\n",
      "INFO:sklearnex: sklearn.utils.validation._assert_all_finite: running accelerated version on CPU\n",
      "INFO:sklearnex: sklearn.utils.validation._assert_all_finite: running accelerated version on CPU\n",
      "INFO:sklearnex: sklearn.utils.validation._assert_all_finite: running accelerated version on CPU\n",
      "INFO:sklearnex: sklearn.utils.validation._assert_all_finite: running accelerated version on CPU\n",
      "INFO:sklearnex: sklearn.utils.validation._assert_all_finite: running accelerated version on CPU\n",
      "INFO:sklearnex: sklearn.utils.validation._assert_all_finite: running accelerated version on CPU\n"
     ]
    },
    {
     "name": "stdout",
     "output_type": "stream",
     "text": [
      "Accuracy after query 25: 0.8508\n",
      "\n",
      "Cycle: 26\n",
      "Accuracy after query 26: 0.8510\n",
      "\n",
      "Cycle: 27\n"
     ]
    },
    {
     "name": "stderr",
     "output_type": "stream",
     "text": [
      "INFO:sklearnex: sklearn.utils.validation._assert_all_finite: running accelerated version on CPU\n",
      "INFO:sklearnex: sklearn.utils.validation._assert_all_finite: running accelerated version on CPU\n",
      "INFO:sklearnex: sklearn.utils.validation._assert_all_finite: running accelerated version on CPU\n",
      "INFO:sklearnex: sklearn.utils.validation._assert_all_finite: running accelerated version on CPU\n",
      "INFO:sklearnex: sklearn.utils.validation._assert_all_finite: running accelerated version on CPU\n",
      "INFO:sklearnex: sklearn.utils.validation._assert_all_finite: running accelerated version on CPU\n",
      "INFO:sklearnex: sklearn.utils.validation._assert_all_finite: running accelerated version on CPU\n",
      "INFO:sklearnex: sklearn.utils.validation._assert_all_finite: running accelerated version on CPU\n"
     ]
    },
    {
     "name": "stdout",
     "output_type": "stream",
     "text": [
      "Accuracy after query 27: 0.8508\n",
      "\n",
      "Cycle: 28\n",
      "Accuracy after query 28: 0.8506\n",
      "\n",
      "Cycle: 29\n"
     ]
    },
    {
     "name": "stderr",
     "output_type": "stream",
     "text": [
      "INFO:sklearnex: sklearn.utils.validation._assert_all_finite: running accelerated version on CPU\n",
      "INFO:sklearnex: sklearn.utils.validation._assert_all_finite: running accelerated version on CPU\n",
      "INFO:sklearnex: sklearn.utils.validation._assert_all_finite: running accelerated version on CPU\n",
      "INFO:sklearnex: sklearn.utils.validation._assert_all_finite: running accelerated version on CPU\n",
      "INFO:sklearnex: sklearn.utils.validation._assert_all_finite: running accelerated version on CPU\n",
      "INFO:sklearnex: sklearn.utils.validation._assert_all_finite: running accelerated version on CPU\n",
      "INFO:sklearnex: sklearn.utils.validation._assert_all_finite: running accelerated version on CPU\n",
      "INFO:sklearnex: sklearn.utils.validation._assert_all_finite: running accelerated version on CPU\n"
     ]
    },
    {
     "name": "stdout",
     "output_type": "stream",
     "text": [
      "Accuracy after query 29: 0.8509\n",
      "\n",
      "Cycle: 30\n",
      "Accuracy after query 30: 0.8513\n",
      "\n",
      "Cycle: 31\n"
     ]
    },
    {
     "name": "stderr",
     "output_type": "stream",
     "text": [
      "INFO:sklearnex: sklearn.utils.validation._assert_all_finite: running accelerated version on CPU\n",
      "INFO:sklearnex: sklearn.utils.validation._assert_all_finite: running accelerated version on CPU\n",
      "INFO:sklearnex: sklearn.utils.validation._assert_all_finite: running accelerated version on CPU\n",
      "INFO:sklearnex: sklearn.utils.validation._assert_all_finite: running accelerated version on CPU\n",
      "INFO:sklearnex: sklearn.utils.validation._assert_all_finite: running accelerated version on CPU\n",
      "INFO:sklearnex: sklearn.utils.validation._assert_all_finite: running accelerated version on CPU\n",
      "INFO:sklearnex: sklearn.utils.validation._assert_all_finite: running accelerated version on CPU\n",
      "INFO:sklearnex: sklearn.utils.validation._assert_all_finite: running accelerated version on CPU\n"
     ]
    },
    {
     "name": "stdout",
     "output_type": "stream",
     "text": [
      "Accuracy after query 31: 0.8514\n",
      "\n",
      "Cycle: 32\n",
      "Accuracy after query 32: 0.8508\n",
      "\n",
      "Cycle: 33\n"
     ]
    },
    {
     "name": "stderr",
     "output_type": "stream",
     "text": [
      "INFO:sklearnex: sklearn.utils.validation._assert_all_finite: running accelerated version on CPU\n",
      "INFO:sklearnex: sklearn.utils.validation._assert_all_finite: running accelerated version on CPU\n",
      "INFO:sklearnex: sklearn.utils.validation._assert_all_finite: running accelerated version on CPU\n",
      "INFO:sklearnex: sklearn.utils.validation._assert_all_finite: running accelerated version on CPU\n",
      "INFO:sklearnex: sklearn.utils.validation._assert_all_finite: running accelerated version on CPU\n",
      "INFO:sklearnex: sklearn.utils.validation._assert_all_finite: running accelerated version on CPU\n",
      "INFO:sklearnex: sklearn.utils.validation._assert_all_finite: running accelerated version on CPU\n",
      "INFO:sklearnex: sklearn.utils.validation._assert_all_finite: running accelerated version on CPU\n"
     ]
    },
    {
     "name": "stdout",
     "output_type": "stream",
     "text": [
      "Accuracy after query 33: 0.8508\n",
      "\n",
      "Cycle: 34\n",
      "Accuracy after query 34: 0.8518\n",
      "\n",
      "Cycle: 35\n"
     ]
    },
    {
     "name": "stderr",
     "output_type": "stream",
     "text": [
      "INFO:sklearnex: sklearn.utils.validation._assert_all_finite: running accelerated version on CPU\n",
      "INFO:sklearnex: sklearn.utils.validation._assert_all_finite: running accelerated version on CPU\n",
      "INFO:sklearnex: sklearn.utils.validation._assert_all_finite: running accelerated version on CPU\n",
      "INFO:sklearnex: sklearn.utils.validation._assert_all_finite: running accelerated version on CPU\n",
      "INFO:sklearnex: sklearn.utils.validation._assert_all_finite: running accelerated version on CPU\n",
      "INFO:sklearnex: sklearn.utils.validation._assert_all_finite: running accelerated version on CPU\n",
      "INFO:sklearnex: sklearn.utils.validation._assert_all_finite: running accelerated version on CPU\n",
      "INFO:sklearnex: sklearn.utils.validation._assert_all_finite: running accelerated version on CPU\n"
     ]
    },
    {
     "name": "stdout",
     "output_type": "stream",
     "text": [
      "Accuracy after query 35: 0.8518\n",
      "\n",
      "Cycle: 36\n",
      "Accuracy after query 36: 0.8514\n",
      "\n",
      "Cycle: 37\n"
     ]
    },
    {
     "name": "stderr",
     "output_type": "stream",
     "text": [
      "INFO:sklearnex: sklearn.utils.validation._assert_all_finite: running accelerated version on CPU\n",
      "INFO:sklearnex: sklearn.utils.validation._assert_all_finite: running accelerated version on CPU\n",
      "INFO:sklearnex: sklearn.utils.validation._assert_all_finite: running accelerated version on CPU\n",
      "INFO:sklearnex: sklearn.utils.validation._assert_all_finite: running accelerated version on CPU\n",
      "INFO:sklearnex: sklearn.utils.validation._assert_all_finite: running accelerated version on CPU\n",
      "INFO:sklearnex: sklearn.utils.validation._assert_all_finite: running accelerated version on CPU\n",
      "INFO:sklearnex: sklearn.utils.validation._assert_all_finite: running accelerated version on CPU\n",
      "INFO:sklearnex: sklearn.utils.validation._assert_all_finite: running accelerated version on CPU\n"
     ]
    },
    {
     "name": "stdout",
     "output_type": "stream",
     "text": [
      "Accuracy after query 37: 0.8512\n",
      "\n",
      "Cycle: 38\n",
      "Accuracy after query 38: 0.8515\n",
      "\n",
      "Cycle: 39\n"
     ]
    },
    {
     "name": "stderr",
     "output_type": "stream",
     "text": [
      "INFO:sklearnex: sklearn.utils.validation._assert_all_finite: running accelerated version on CPU\n",
      "INFO:sklearnex: sklearn.utils.validation._assert_all_finite: running accelerated version on CPU\n",
      "INFO:sklearnex: sklearn.utils.validation._assert_all_finite: running accelerated version on CPU\n",
      "INFO:sklearnex: sklearn.utils.validation._assert_all_finite: running accelerated version on CPU\n",
      "INFO:sklearnex: sklearn.utils.validation._assert_all_finite: running accelerated version on CPU\n",
      "INFO:sklearnex: sklearn.utils.validation._assert_all_finite: running accelerated version on CPU\n",
      "INFO:sklearnex: sklearn.utils.validation._assert_all_finite: running accelerated version on CPU\n",
      "INFO:sklearnex: sklearn.utils.validation._assert_all_finite: running accelerated version on CPU\n"
     ]
    },
    {
     "name": "stdout",
     "output_type": "stream",
     "text": [
      "Accuracy after query 39: 0.8519\n",
      "\n",
      "Cycle: 40\n",
      "Accuracy after query 40: 0.8519\n",
      "\n",
      "Cycle: 41\n"
     ]
    },
    {
     "name": "stderr",
     "output_type": "stream",
     "text": [
      "INFO:sklearnex: sklearn.utils.validation._assert_all_finite: running accelerated version on CPU\n",
      "INFO:sklearnex: sklearn.utils.validation._assert_all_finite: running accelerated version on CPU\n",
      "INFO:sklearnex: sklearn.utils.validation._assert_all_finite: running accelerated version on CPU\n",
      "INFO:sklearnex: sklearn.utils.validation._assert_all_finite: running accelerated version on CPU\n",
      "INFO:sklearnex: sklearn.utils.validation._assert_all_finite: running accelerated version on CPU\n",
      "INFO:sklearnex: sklearn.utils.validation._assert_all_finite: running accelerated version on CPU\n",
      "INFO:sklearnex: sklearn.utils.validation._assert_all_finite: running accelerated version on CPU\n",
      "INFO:sklearnex: sklearn.utils.validation._assert_all_finite: running accelerated version on CPU\n"
     ]
    },
    {
     "name": "stdout",
     "output_type": "stream",
     "text": [
      "Accuracy after query 41: 0.8521\n",
      "\n",
      "Cycle: 42\n",
      "Accuracy after query 42: 0.8516\n",
      "\n",
      "Cycle: 43\n"
     ]
    },
    {
     "name": "stderr",
     "output_type": "stream",
     "text": [
      "INFO:sklearnex: sklearn.utils.validation._assert_all_finite: running accelerated version on CPU\n",
      "INFO:sklearnex: sklearn.utils.validation._assert_all_finite: running accelerated version on CPU\n",
      "INFO:sklearnex: sklearn.utils.validation._assert_all_finite: running accelerated version on CPU\n",
      "INFO:sklearnex: sklearn.utils.validation._assert_all_finite: running accelerated version on CPU\n",
      "INFO:sklearnex: sklearn.utils.validation._assert_all_finite: running accelerated version on CPU\n",
      "INFO:sklearnex: sklearn.utils.validation._assert_all_finite: running accelerated version on CPU\n",
      "INFO:sklearnex: sklearn.utils.validation._assert_all_finite: running accelerated version on CPU\n",
      "INFO:sklearnex: sklearn.utils.validation._assert_all_finite: running accelerated version on CPU\n"
     ]
    },
    {
     "name": "stdout",
     "output_type": "stream",
     "text": [
      "Accuracy after query 43: 0.8517\n",
      "\n",
      "Cycle: 44\n",
      "Accuracy after query 44: 0.8510\n",
      "\n",
      "Cycle: 45\n"
     ]
    },
    {
     "name": "stderr",
     "output_type": "stream",
     "text": [
      "INFO:sklearnex: sklearn.utils.validation._assert_all_finite: running accelerated version on CPU\n",
      "INFO:sklearnex: sklearn.utils.validation._assert_all_finite: running accelerated version on CPU\n",
      "INFO:sklearnex: sklearn.utils.validation._assert_all_finite: running accelerated version on CPU\n",
      "INFO:sklearnex: sklearn.utils.validation._assert_all_finite: running accelerated version on CPU\n",
      "INFO:sklearnex: sklearn.utils.validation._assert_all_finite: running accelerated version on CPU\n",
      "INFO:sklearnex: sklearn.utils.validation._assert_all_finite: running accelerated version on CPU\n",
      "INFO:sklearnex: sklearn.utils.validation._assert_all_finite: running accelerated version on CPU\n",
      "INFO:sklearnex: sklearn.utils.validation._assert_all_finite: running accelerated version on CPU\n"
     ]
    },
    {
     "name": "stdout",
     "output_type": "stream",
     "text": [
      "Accuracy after query 45: 0.8514\n",
      "\n",
      "Cycle: 46\n",
      "Accuracy after query 46: 0.8516\n",
      "\n",
      "Cycle: 47\n"
     ]
    },
    {
     "name": "stderr",
     "output_type": "stream",
     "text": [
      "INFO:sklearnex: sklearn.utils.validation._assert_all_finite: running accelerated version on CPU\n",
      "INFO:sklearnex: sklearn.utils.validation._assert_all_finite: running accelerated version on CPU\n",
      "INFO:sklearnex: sklearn.utils.validation._assert_all_finite: running accelerated version on CPU\n",
      "INFO:sklearnex: sklearn.utils.validation._assert_all_finite: running accelerated version on CPU\n",
      "INFO:sklearnex: sklearn.utils.validation._assert_all_finite: running accelerated version on CPU\n",
      "INFO:sklearnex: sklearn.utils.validation._assert_all_finite: running accelerated version on CPU\n",
      "INFO:sklearnex: sklearn.utils.validation._assert_all_finite: running accelerated version on CPU\n",
      "INFO:sklearnex: sklearn.utils.validation._assert_all_finite: running accelerated version on CPU\n"
     ]
    },
    {
     "name": "stdout",
     "output_type": "stream",
     "text": [
      "Accuracy after query 47: 0.8516\n",
      "\n",
      "Cycle: 48\n",
      "Accuracy after query 48: 0.8506\n",
      "\n",
      "Cycle: 49\n"
     ]
    },
    {
     "name": "stderr",
     "output_type": "stream",
     "text": [
      "INFO:sklearnex: sklearn.utils.validation._assert_all_finite: running accelerated version on CPU\n",
      "INFO:sklearnex: sklearn.utils.validation._assert_all_finite: running accelerated version on CPU\n",
      "INFO:sklearnex: sklearn.utils.validation._assert_all_finite: running accelerated version on CPU\n",
      "INFO:sklearnex: sklearn.utils.validation._assert_all_finite: running accelerated version on CPU\n",
      "INFO:sklearnex: sklearn.utils.validation._assert_all_finite: running accelerated version on CPU\n",
      "INFO:sklearnex: sklearn.utils.validation._assert_all_finite: running accelerated version on CPU\n",
      "INFO:sklearnex: sklearn.utils.validation._assert_all_finite: running accelerated version on CPU\n",
      "INFO:sklearnex: sklearn.utils.validation._assert_all_finite: running accelerated version on CPU\n"
     ]
    },
    {
     "name": "stdout",
     "output_type": "stream",
     "text": [
      "Accuracy after query 49: 0.8506\n",
      "\n",
      "Cycle: 50\n",
      "Accuracy after query 50: 0.8506\n",
      "\n",
      "Cycle: 51\n"
     ]
    },
    {
     "name": "stderr",
     "output_type": "stream",
     "text": [
      "INFO:sklearnex: sklearn.utils.validation._assert_all_finite: running accelerated version on CPU\n",
      "INFO:sklearnex: sklearn.utils.validation._assert_all_finite: running accelerated version on CPU\n",
      "INFO:sklearnex: sklearn.utils.validation._assert_all_finite: running accelerated version on CPU\n",
      "INFO:sklearnex: sklearn.utils.validation._assert_all_finite: running accelerated version on CPU\n",
      "INFO:sklearnex: sklearn.utils.validation._assert_all_finite: running accelerated version on CPU\n",
      "INFO:sklearnex: sklearn.utils.validation._assert_all_finite: running accelerated version on CPU\n",
      "INFO:sklearnex: sklearn.utils.validation._assert_all_finite: running accelerated version on CPU\n",
      "INFO:sklearnex: sklearn.utils.validation._assert_all_finite: running accelerated version on CPU\n"
     ]
    },
    {
     "name": "stdout",
     "output_type": "stream",
     "text": [
      "Accuracy after query 51: 0.8512\n",
      "\n",
      "Cycle: 52\n",
      "Accuracy after query 52: 0.8510\n",
      "\n",
      "Cycle: 53\n"
     ]
    },
    {
     "name": "stderr",
     "output_type": "stream",
     "text": [
      "INFO:sklearnex: sklearn.utils.validation._assert_all_finite: running accelerated version on CPU\n",
      "INFO:sklearnex: sklearn.utils.validation._assert_all_finite: running accelerated version on CPU\n",
      "INFO:sklearnex: sklearn.utils.validation._assert_all_finite: running accelerated version on CPU\n",
      "INFO:sklearnex: sklearn.utils.validation._assert_all_finite: running accelerated version on CPU\n",
      "INFO:sklearnex: sklearn.utils.validation._assert_all_finite: running accelerated version on CPU\n",
      "INFO:sklearnex: sklearn.utils.validation._assert_all_finite: running accelerated version on CPU\n",
      "INFO:sklearnex: sklearn.utils.validation._assert_all_finite: running accelerated version on CPU\n",
      "INFO:sklearnex: sklearn.utils.validation._assert_all_finite: running accelerated version on CPU\n"
     ]
    },
    {
     "name": "stdout",
     "output_type": "stream",
     "text": [
      "Accuracy after query 53: 0.8510\n",
      "\n",
      "Cycle: 54\n",
      "Accuracy after query 54: 0.8509\n",
      "\n",
      "Cycle: 55\n"
     ]
    },
    {
     "name": "stderr",
     "output_type": "stream",
     "text": [
      "INFO:sklearnex: sklearn.utils.validation._assert_all_finite: running accelerated version on CPU\n",
      "INFO:sklearnex: sklearn.utils.validation._assert_all_finite: running accelerated version on CPU\n",
      "INFO:sklearnex: sklearn.utils.validation._assert_all_finite: running accelerated version on CPU\n",
      "INFO:sklearnex: sklearn.utils.validation._assert_all_finite: running accelerated version on CPU\n",
      "INFO:sklearnex: sklearn.utils.validation._assert_all_finite: running accelerated version on CPU\n",
      "INFO:sklearnex: sklearn.utils.validation._assert_all_finite: running accelerated version on CPU\n",
      "INFO:sklearnex: sklearn.utils.validation._assert_all_finite: running accelerated version on CPU\n",
      "INFO:sklearnex: sklearn.utils.validation._assert_all_finite: running accelerated version on CPU\n"
     ]
    },
    {
     "name": "stdout",
     "output_type": "stream",
     "text": [
      "Accuracy after query 55: 0.8510\n",
      "\n",
      "Cycle: 56\n",
      "Accuracy after query 56: 0.8510\n",
      "\n",
      "Cycle: 57\n"
     ]
    },
    {
     "name": "stderr",
     "output_type": "stream",
     "text": [
      "INFO:sklearnex: sklearn.utils.validation._assert_all_finite: running accelerated version on CPU\n",
      "INFO:sklearnex: sklearn.utils.validation._assert_all_finite: running accelerated version on CPU\n",
      "INFO:sklearnex: sklearn.utils.validation._assert_all_finite: running accelerated version on CPU\n",
      "INFO:sklearnex: sklearn.utils.validation._assert_all_finite: running accelerated version on CPU\n",
      "INFO:sklearnex: sklearn.utils.validation._assert_all_finite: running accelerated version on CPU\n",
      "INFO:sklearnex: sklearn.utils.validation._assert_all_finite: running accelerated version on CPU\n",
      "INFO:sklearnex: sklearn.utils.validation._assert_all_finite: running accelerated version on CPU\n",
      "INFO:sklearnex: sklearn.utils.validation._assert_all_finite: running accelerated version on CPU\n"
     ]
    },
    {
     "name": "stdout",
     "output_type": "stream",
     "text": [
      "Accuracy after query 57: 0.8513\n",
      "\n",
      "Cycle: 58\n",
      "Accuracy after query 58: 0.8520\n",
      "\n",
      "Cycle: 59\n"
     ]
    },
    {
     "name": "stderr",
     "output_type": "stream",
     "text": [
      "INFO:sklearnex: sklearn.utils.validation._assert_all_finite: running accelerated version on CPU\n",
      "INFO:sklearnex: sklearn.utils.validation._assert_all_finite: running accelerated version on CPU\n",
      "INFO:sklearnex: sklearn.utils.validation._assert_all_finite: running accelerated version on CPU\n",
      "INFO:sklearnex: sklearn.utils.validation._assert_all_finite: running accelerated version on CPU\n",
      "INFO:sklearnex: sklearn.utils.validation._assert_all_finite: running accelerated version on CPU\n",
      "INFO:sklearnex: sklearn.utils.validation._assert_all_finite: running accelerated version on CPU\n",
      "INFO:sklearnex: sklearn.utils.validation._assert_all_finite: running accelerated version on CPU\n",
      "INFO:sklearnex: sklearn.utils.validation._assert_all_finite: running accelerated version on CPU\n"
     ]
    },
    {
     "name": "stdout",
     "output_type": "stream",
     "text": [
      "Accuracy after query 59: 0.8514\n",
      "\n",
      "Cycle: 60\n",
      "Accuracy after query 60: 0.8518\n",
      "\n",
      "Cycle: 61\n"
     ]
    },
    {
     "name": "stderr",
     "output_type": "stream",
     "text": [
      "INFO:sklearnex: sklearn.utils.validation._assert_all_finite: running accelerated version on CPU\n",
      "INFO:sklearnex: sklearn.utils.validation._assert_all_finite: running accelerated version on CPU\n",
      "INFO:sklearnex: sklearn.utils.validation._assert_all_finite: running accelerated version on CPU\n",
      "INFO:sklearnex: sklearn.utils.validation._assert_all_finite: running accelerated version on CPU\n",
      "INFO:sklearnex: sklearn.utils.validation._assert_all_finite: running accelerated version on CPU\n",
      "INFO:sklearnex: sklearn.utils.validation._assert_all_finite: running accelerated version on CPU\n",
      "INFO:sklearnex: sklearn.utils.validation._assert_all_finite: running accelerated version on CPU\n",
      "INFO:sklearnex: sklearn.utils.validation._assert_all_finite: running accelerated version on CPU\n"
     ]
    },
    {
     "name": "stdout",
     "output_type": "stream",
     "text": [
      "Accuracy after query 61: 0.8519\n",
      "\n",
      "Cycle: 62\n",
      "Accuracy after query 62: 0.8519\n",
      "\n",
      "Cycle: 63\n"
     ]
    },
    {
     "name": "stderr",
     "output_type": "stream",
     "text": [
      "INFO:sklearnex: sklearn.utils.validation._assert_all_finite: running accelerated version on CPU\n",
      "INFO:sklearnex: sklearn.utils.validation._assert_all_finite: running accelerated version on CPU\n",
      "INFO:sklearnex: sklearn.utils.validation._assert_all_finite: running accelerated version on CPU\n",
      "INFO:sklearnex: sklearn.utils.validation._assert_all_finite: running accelerated version on CPU\n",
      "INFO:sklearnex: sklearn.utils.validation._assert_all_finite: running accelerated version on CPU\n",
      "INFO:sklearnex: sklearn.utils.validation._assert_all_finite: running accelerated version on CPU\n",
      "INFO:sklearnex: sklearn.utils.validation._assert_all_finite: running accelerated version on CPU\n",
      "INFO:sklearnex: sklearn.utils.validation._assert_all_finite: running accelerated version on CPU\n"
     ]
    },
    {
     "name": "stdout",
     "output_type": "stream",
     "text": [
      "Accuracy after query 63: 0.8516\n",
      "\n",
      "Cycle: 64\n",
      "Accuracy after query 64: 0.8520\n",
      "\n",
      "Cycle: 65\n"
     ]
    },
    {
     "name": "stderr",
     "output_type": "stream",
     "text": [
      "INFO:sklearnex: sklearn.utils.validation._assert_all_finite: running accelerated version on CPU\n",
      "INFO:sklearnex: sklearn.utils.validation._assert_all_finite: running accelerated version on CPU\n",
      "INFO:sklearnex: sklearn.utils.validation._assert_all_finite: running accelerated version on CPU\n",
      "INFO:sklearnex: sklearn.utils.validation._assert_all_finite: running accelerated version on CPU\n",
      "INFO:sklearnex: sklearn.utils.validation._assert_all_finite: running accelerated version on CPU\n",
      "INFO:sklearnex: sklearn.utils.validation._assert_all_finite: running accelerated version on CPU\n",
      "INFO:sklearnex: sklearn.utils.validation._assert_all_finite: running accelerated version on CPU\n",
      "INFO:sklearnex: sklearn.utils.validation._assert_all_finite: running accelerated version on CPU\n"
     ]
    },
    {
     "name": "stdout",
     "output_type": "stream",
     "text": [
      "Accuracy after query 65: 0.8520\n",
      "\n",
      "Cycle: 66\n",
      "Accuracy after query 66: 0.8523\n",
      "\n",
      "Cycle: 67\n"
     ]
    },
    {
     "name": "stderr",
     "output_type": "stream",
     "text": [
      "INFO:sklearnex: sklearn.utils.validation._assert_all_finite: running accelerated version on CPU\n",
      "INFO:sklearnex: sklearn.utils.validation._assert_all_finite: running accelerated version on CPU\n",
      "INFO:sklearnex: sklearn.utils.validation._assert_all_finite: running accelerated version on CPU\n",
      "INFO:sklearnex: sklearn.utils.validation._assert_all_finite: running accelerated version on CPU\n",
      "INFO:sklearnex: sklearn.utils.validation._assert_all_finite: running accelerated version on CPU\n",
      "INFO:sklearnex: sklearn.utils.validation._assert_all_finite: running accelerated version on CPU\n",
      "INFO:sklearnex: sklearn.utils.validation._assert_all_finite: running accelerated version on CPU\n",
      "INFO:sklearnex: sklearn.utils.validation._assert_all_finite: running accelerated version on CPU\n"
     ]
    },
    {
     "name": "stdout",
     "output_type": "stream",
     "text": [
      "Accuracy after query 67: 0.8523\n",
      "\n",
      "Cycle: 68\n",
      "Accuracy after query 68: 0.8521\n",
      "\n",
      "Cycle: 69\n"
     ]
    },
    {
     "name": "stderr",
     "output_type": "stream",
     "text": [
      "INFO:sklearnex: sklearn.utils.validation._assert_all_finite: running accelerated version on CPU\n",
      "INFO:sklearnex: sklearn.utils.validation._assert_all_finite: running accelerated version on CPU\n",
      "INFO:sklearnex: sklearn.utils.validation._assert_all_finite: running accelerated version on CPU\n",
      "INFO:sklearnex: sklearn.utils.validation._assert_all_finite: running accelerated version on CPU\n",
      "INFO:sklearnex: sklearn.utils.validation._assert_all_finite: running accelerated version on CPU\n",
      "INFO:sklearnex: sklearn.utils.validation._assert_all_finite: running accelerated version on CPU\n",
      "INFO:sklearnex: sklearn.utils.validation._assert_all_finite: running accelerated version on CPU\n",
      "INFO:sklearnex: sklearn.utils.validation._assert_all_finite: running accelerated version on CPU\n"
     ]
    },
    {
     "name": "stdout",
     "output_type": "stream",
     "text": [
      "Accuracy after query 69: 0.8524\n",
      "\n",
      "Cycle: 70\n",
      "Accuracy after query 70: 0.8531\n",
      "\n",
      "Cycle: 71\n"
     ]
    },
    {
     "name": "stderr",
     "output_type": "stream",
     "text": [
      "INFO:sklearnex: sklearn.utils.validation._assert_all_finite: running accelerated version on CPU\n",
      "INFO:sklearnex: sklearn.utils.validation._assert_all_finite: running accelerated version on CPU\n",
      "INFO:sklearnex: sklearn.utils.validation._assert_all_finite: running accelerated version on CPU\n",
      "INFO:sklearnex: sklearn.utils.validation._assert_all_finite: running accelerated version on CPU\n",
      "INFO:sklearnex: sklearn.utils.validation._assert_all_finite: running accelerated version on CPU\n",
      "INFO:sklearnex: sklearn.utils.validation._assert_all_finite: running accelerated version on CPU\n",
      "INFO:sklearnex: sklearn.utils.validation._assert_all_finite: running accelerated version on CPU\n",
      "INFO:sklearnex: sklearn.utils.validation._assert_all_finite: running accelerated version on CPU\n"
     ]
    },
    {
     "name": "stdout",
     "output_type": "stream",
     "text": [
      "Accuracy after query 71: 0.8529\n",
      "\n",
      "Cycle: 72\n",
      "Accuracy after query 72: 0.8530\n",
      "\n",
      "Cycle: 73\n"
     ]
    },
    {
     "name": "stderr",
     "output_type": "stream",
     "text": [
      "INFO:sklearnex: sklearn.utils.validation._assert_all_finite: running accelerated version on CPU\n",
      "INFO:sklearnex: sklearn.utils.validation._assert_all_finite: running accelerated version on CPU\n",
      "INFO:sklearnex: sklearn.utils.validation._assert_all_finite: running accelerated version on CPU\n",
      "INFO:sklearnex: sklearn.utils.validation._assert_all_finite: running accelerated version on CPU\n",
      "INFO:sklearnex: sklearn.utils.validation._assert_all_finite: running accelerated version on CPU\n",
      "INFO:sklearnex: sklearn.utils.validation._assert_all_finite: running accelerated version on CPU\n",
      "INFO:sklearnex: sklearn.utils.validation._assert_all_finite: running accelerated version on CPU\n",
      "INFO:sklearnex: sklearn.utils.validation._assert_all_finite: running accelerated version on CPU\n"
     ]
    },
    {
     "name": "stdout",
     "output_type": "stream",
     "text": [
      "Accuracy after query 73: 0.8527\n",
      "\n",
      "Cycle: 74\n",
      "Accuracy after query 74: 0.8528\n",
      "\n",
      "Cycle: 75\n"
     ]
    },
    {
     "name": "stderr",
     "output_type": "stream",
     "text": [
      "INFO:sklearnex: sklearn.utils.validation._assert_all_finite: running accelerated version on CPU\n",
      "INFO:sklearnex: sklearn.utils.validation._assert_all_finite: running accelerated version on CPU\n",
      "INFO:sklearnex: sklearn.utils.validation._assert_all_finite: running accelerated version on CPU\n",
      "INFO:sklearnex: sklearn.utils.validation._assert_all_finite: running accelerated version on CPU\n",
      "INFO:sklearnex: sklearn.utils.validation._assert_all_finite: running accelerated version on CPU\n",
      "INFO:sklearnex: sklearn.utils.validation._assert_all_finite: running accelerated version on CPU\n",
      "INFO:sklearnex: sklearn.utils.validation._assert_all_finite: running accelerated version on CPU\n",
      "INFO:sklearnex: sklearn.utils.validation._assert_all_finite: running accelerated version on CPU\n"
     ]
    },
    {
     "name": "stdout",
     "output_type": "stream",
     "text": [
      "Accuracy after query 75: 0.8525\n",
      "\n",
      "Cycle: 76\n",
      "Accuracy after query 76: 0.8525\n",
      "\n",
      "Cycle: 77\n"
     ]
    },
    {
     "name": "stderr",
     "output_type": "stream",
     "text": [
      "INFO:sklearnex: sklearn.utils.validation._assert_all_finite: running accelerated version on CPU\n",
      "INFO:sklearnex: sklearn.utils.validation._assert_all_finite: running accelerated version on CPU\n",
      "INFO:sklearnex: sklearn.utils.validation._assert_all_finite: running accelerated version on CPU\n",
      "INFO:sklearnex: sklearn.utils.validation._assert_all_finite: running accelerated version on CPU\n",
      "INFO:sklearnex: sklearn.utils.validation._assert_all_finite: running accelerated version on CPU\n",
      "INFO:sklearnex: sklearn.utils.validation._assert_all_finite: running accelerated version on CPU\n",
      "INFO:sklearnex: sklearn.utils.validation._assert_all_finite: running accelerated version on CPU\n",
      "INFO:sklearnex: sklearn.utils.validation._assert_all_finite: running accelerated version on CPU\n"
     ]
    },
    {
     "name": "stdout",
     "output_type": "stream",
     "text": [
      "Accuracy after query 77: 0.8526\n",
      "\n",
      "Cycle: 78\n",
      "Accuracy after query 78: 0.8523\n",
      "\n",
      "Cycle: 79\n"
     ]
    },
    {
     "name": "stderr",
     "output_type": "stream",
     "text": [
      "INFO:sklearnex: sklearn.utils.validation._assert_all_finite: running accelerated version on CPU\n",
      "INFO:sklearnex: sklearn.utils.validation._assert_all_finite: running accelerated version on CPU\n",
      "INFO:sklearnex: sklearn.utils.validation._assert_all_finite: running accelerated version on CPU\n",
      "INFO:sklearnex: sklearn.utils.validation._assert_all_finite: running accelerated version on CPU\n",
      "INFO:sklearnex: sklearn.utils.validation._assert_all_finite: running accelerated version on CPU\n",
      "INFO:sklearnex: sklearn.utils.validation._assert_all_finite: running accelerated version on CPU\n",
      "INFO:sklearnex: sklearn.utils.validation._assert_all_finite: running accelerated version on CPU\n",
      "INFO:sklearnex: sklearn.utils.validation._assert_all_finite: running accelerated version on CPU\n"
     ]
    },
    {
     "name": "stdout",
     "output_type": "stream",
     "text": [
      "Accuracy after query 79: 0.8525\n",
      "\n",
      "Cycle: 80\n",
      "Accuracy after query 80: 0.8525\n",
      "\n",
      "Cycle: 81\n"
     ]
    },
    {
     "name": "stderr",
     "output_type": "stream",
     "text": [
      "INFO:sklearnex: sklearn.utils.validation._assert_all_finite: running accelerated version on CPU\n",
      "INFO:sklearnex: sklearn.utils.validation._assert_all_finite: running accelerated version on CPU\n",
      "INFO:sklearnex: sklearn.utils.validation._assert_all_finite: running accelerated version on CPU\n",
      "INFO:sklearnex: sklearn.utils.validation._assert_all_finite: running accelerated version on CPU\n",
      "INFO:sklearnex: sklearn.utils.validation._assert_all_finite: running accelerated version on CPU\n",
      "INFO:sklearnex: sklearn.utils.validation._assert_all_finite: running accelerated version on CPU\n",
      "INFO:sklearnex: sklearn.utils.validation._assert_all_finite: running accelerated version on CPU\n",
      "INFO:sklearnex: sklearn.utils.validation._assert_all_finite: running accelerated version on CPU\n"
     ]
    },
    {
     "name": "stdout",
     "output_type": "stream",
     "text": [
      "Accuracy after query 81: 0.8523\n",
      "\n",
      "Cycle: 82\n",
      "Accuracy after query 82: 0.8521\n",
      "\n",
      "Cycle: 83\n"
     ]
    },
    {
     "name": "stderr",
     "output_type": "stream",
     "text": [
      "INFO:sklearnex: sklearn.utils.validation._assert_all_finite: running accelerated version on CPU\n",
      "INFO:sklearnex: sklearn.utils.validation._assert_all_finite: running accelerated version on CPU\n",
      "INFO:sklearnex: sklearn.utils.validation._assert_all_finite: running accelerated version on CPU\n",
      "INFO:sklearnex: sklearn.utils.validation._assert_all_finite: running accelerated version on CPU\n",
      "INFO:sklearnex: sklearn.utils.validation._assert_all_finite: running accelerated version on CPU\n",
      "INFO:sklearnex: sklearn.utils.validation._assert_all_finite: running accelerated version on CPU\n",
      "INFO:sklearnex: sklearn.utils.validation._assert_all_finite: running accelerated version on CPU\n",
      "INFO:sklearnex: sklearn.utils.validation._assert_all_finite: running accelerated version on CPU\n"
     ]
    },
    {
     "name": "stdout",
     "output_type": "stream",
     "text": [
      "Accuracy after query 83: 0.8519\n",
      "\n",
      "Cycle: 84\n",
      "Accuracy after query 84: 0.8523\n",
      "\n",
      "Cycle: 85\n"
     ]
    },
    {
     "name": "stderr",
     "output_type": "stream",
     "text": [
      "INFO:sklearnex: sklearn.utils.validation._assert_all_finite: running accelerated version on CPU\n",
      "INFO:sklearnex: sklearn.utils.validation._assert_all_finite: running accelerated version on CPU\n",
      "INFO:sklearnex: sklearn.utils.validation._assert_all_finite: running accelerated version on CPU\n",
      "INFO:sklearnex: sklearn.utils.validation._assert_all_finite: running accelerated version on CPU\n",
      "INFO:sklearnex: sklearn.utils.validation._assert_all_finite: running accelerated version on CPU\n",
      "INFO:sklearnex: sklearn.utils.validation._assert_all_finite: running accelerated version on CPU\n",
      "INFO:sklearnex: sklearn.utils.validation._assert_all_finite: running accelerated version on CPU\n",
      "INFO:sklearnex: sklearn.utils.validation._assert_all_finite: running accelerated version on CPU\n"
     ]
    },
    {
     "name": "stdout",
     "output_type": "stream",
     "text": [
      "Accuracy after query 85: 0.8526\n",
      "\n",
      "Cycle: 86\n",
      "Accuracy after query 86: 0.8528\n",
      "\n",
      "Cycle: 87\n"
     ]
    },
    {
     "name": "stderr",
     "output_type": "stream",
     "text": [
      "INFO:sklearnex: sklearn.utils.validation._assert_all_finite: running accelerated version on CPU\n",
      "INFO:sklearnex: sklearn.utils.validation._assert_all_finite: running accelerated version on CPU\n",
      "INFO:sklearnex: sklearn.utils.validation._assert_all_finite: running accelerated version on CPU\n",
      "INFO:sklearnex: sklearn.utils.validation._assert_all_finite: running accelerated version on CPU\n",
      "INFO:sklearnex: sklearn.utils.validation._assert_all_finite: running accelerated version on CPU\n",
      "INFO:sklearnex: sklearn.utils.validation._assert_all_finite: running accelerated version on CPU\n",
      "INFO:sklearnex: sklearn.utils.validation._assert_all_finite: running accelerated version on CPU\n",
      "INFO:sklearnex: sklearn.utils.validation._assert_all_finite: running accelerated version on CPU\n"
     ]
    },
    {
     "name": "stdout",
     "output_type": "stream",
     "text": [
      "Accuracy after query 87: 0.8524\n",
      "\n",
      "Cycle: 88\n",
      "Accuracy after query 88: 0.8522\n",
      "\n",
      "Cycle: 89\n"
     ]
    },
    {
     "name": "stderr",
     "output_type": "stream",
     "text": [
      "INFO:sklearnex: sklearn.utils.validation._assert_all_finite: running accelerated version on CPU\n",
      "INFO:sklearnex: sklearn.utils.validation._assert_all_finite: running accelerated version on CPU\n",
      "INFO:sklearnex: sklearn.utils.validation._assert_all_finite: running accelerated version on CPU\n",
      "INFO:sklearnex: sklearn.utils.validation._assert_all_finite: running accelerated version on CPU\n",
      "INFO:sklearnex: sklearn.utils.validation._assert_all_finite: running accelerated version on CPU\n",
      "INFO:sklearnex: sklearn.utils.validation._assert_all_finite: running accelerated version on CPU\n"
     ]
    },
    {
     "name": "stdout",
     "output_type": "stream",
     "text": [
      "Accuracy after query 89: 0.8522\n",
      "\n",
      "Cycle: 90\n"
     ]
    },
    {
     "name": "stderr",
     "output_type": "stream",
     "text": [
      "INFO:sklearnex: sklearn.utils.validation._assert_all_finite: running accelerated version on CPU\n",
      "INFO:sklearnex: sklearn.utils.validation._assert_all_finite: running accelerated version on CPU\n",
      "INFO:sklearnex: sklearn.utils.validation._assert_all_finite: running accelerated version on CPU\n"
     ]
    },
    {
     "name": "stdout",
     "output_type": "stream",
     "text": [
      "Accuracy after query 90: 0.8525\n",
      "\n",
      "Cycle: 91\n"
     ]
    },
    {
     "name": "stderr",
     "output_type": "stream",
     "text": [
      "INFO:sklearnex: sklearn.utils.validation._assert_all_finite: running accelerated version on CPU\n",
      "INFO:sklearnex: sklearn.utils.validation._assert_all_finite: running accelerated version on CPU\n",
      "INFO:sklearnex: sklearn.utils.validation._assert_all_finite: running accelerated version on CPU\n",
      "INFO:sklearnex: sklearn.utils.validation._assert_all_finite: running accelerated version on CPU\n",
      "INFO:sklearnex: sklearn.utils.validation._assert_all_finite: running accelerated version on CPU\n",
      "INFO:sklearnex: sklearn.utils.validation._assert_all_finite: running accelerated version on CPU\n"
     ]
    },
    {
     "name": "stdout",
     "output_type": "stream",
     "text": [
      "Accuracy after query 91: 0.8523\n",
      "\n",
      "Cycle: 92\n",
      "Accuracy after query 92: 0.8525\n"
     ]
    },
    {
     "name": "stderr",
     "output_type": "stream",
     "text": [
      "INFO:sklearnex: sklearn.utils.validation._assert_all_finite: running accelerated version on CPU\n",
      "INFO:sklearnex: sklearn.utils.validation._assert_all_finite: running accelerated version on CPU\n",
      "INFO:sklearnex: sklearn.utils.validation._assert_all_finite: running accelerated version on CPU\n",
      "INFO:sklearnex: sklearn.utils.validation._assert_all_finite: running accelerated version on CPU\n",
      "INFO:sklearnex: sklearn.utils.validation._assert_all_finite: running accelerated version on CPU\n",
      "INFO:sklearnex: sklearn.utils.validation._assert_all_finite: running accelerated version on CPU\n"
     ]
    },
    {
     "name": "stdout",
     "output_type": "stream",
     "text": [
      "\n",
      "Cycle: 93\n",
      "Accuracy after query 93: 0.8529\n",
      "\n",
      "Cycle: 94\n"
     ]
    },
    {
     "name": "stderr",
     "output_type": "stream",
     "text": [
      "INFO:sklearnex: sklearn.utils.validation._assert_all_finite: running accelerated version on CPU\n",
      "INFO:sklearnex: sklearn.utils.validation._assert_all_finite: running accelerated version on CPU\n",
      "INFO:sklearnex: sklearn.utils.validation._assert_all_finite: running accelerated version on CPU\n",
      "INFO:sklearnex: sklearn.utils.validation._assert_all_finite: running accelerated version on CPU\n",
      "INFO:sklearnex: sklearn.utils.validation._assert_all_finite: running accelerated version on CPU\n",
      "INFO:sklearnex: sklearn.utils.validation._assert_all_finite: running accelerated version on CPU\n"
     ]
    },
    {
     "name": "stdout",
     "output_type": "stream",
     "text": [
      "Accuracy after query 94: 0.8530\n",
      "\n",
      "Cycle: 95\n",
      "Accuracy after query 95: 0.8535\n",
      "\n",
      "Cycle: 96\n"
     ]
    },
    {
     "name": "stderr",
     "output_type": "stream",
     "text": [
      "INFO:sklearnex: sklearn.utils.validation._assert_all_finite: running accelerated version on CPU\n",
      "INFO:sklearnex: sklearn.utils.validation._assert_all_finite: running accelerated version on CPU\n",
      "INFO:sklearnex: sklearn.utils.validation._assert_all_finite: running accelerated version on CPU\n",
      "INFO:sklearnex: sklearn.utils.validation._assert_all_finite: running accelerated version on CPU\n",
      "INFO:sklearnex: sklearn.utils.validation._assert_all_finite: running accelerated version on CPU\n",
      "INFO:sklearnex: sklearn.utils.validation._assert_all_finite: running accelerated version on CPU\n",
      "INFO:sklearnex: sklearn.utils.validation._assert_all_finite: running accelerated version on CPU\n",
      "INFO:sklearnex: sklearn.utils.validation._assert_all_finite: running accelerated version on CPU\n"
     ]
    },
    {
     "name": "stdout",
     "output_type": "stream",
     "text": [
      "Accuracy after query 96: 0.8536\n",
      "\n",
      "Cycle: 97\n",
      "Accuracy after query 97: 0.8532\n",
      "\n",
      "Cycle: 98\n"
     ]
    },
    {
     "name": "stderr",
     "output_type": "stream",
     "text": [
      "INFO:sklearnex: sklearn.utils.validation._assert_all_finite: running accelerated version on CPU\n",
      "INFO:sklearnex: sklearn.utils.validation._assert_all_finite: running accelerated version on CPU\n",
      "INFO:sklearnex: sklearn.utils.validation._assert_all_finite: running accelerated version on CPU\n",
      "INFO:sklearnex: sklearn.utils.validation._assert_all_finite: running accelerated version on CPU\n",
      "INFO:sklearnex: sklearn.utils.validation._assert_all_finite: running accelerated version on CPU\n",
      "INFO:sklearnex: sklearn.utils.validation._assert_all_finite: running accelerated version on CPU\n",
      "INFO:sklearnex: sklearn.utils.validation._assert_all_finite: running accelerated version on CPU\n",
      "INFO:sklearnex: sklearn.utils.validation._assert_all_finite: running accelerated version on CPU\n"
     ]
    },
    {
     "name": "stdout",
     "output_type": "stream",
     "text": [
      "Accuracy after query 98: 0.8536\n",
      "\n",
      "Cycle: 99\n",
      "Accuracy after query 99: 0.8534\n"
     ]
    },
    {
     "name": "stderr",
     "output_type": "stream",
     "text": [
      "INFO:sklearnex: sklearn.utils.validation._assert_all_finite: running accelerated version on CPU\n",
      "INFO:sklearnex: sklearn.utils.validation._assert_all_finite: running accelerated version on CPU\n",
      "INFO:sklearnex: sklearn.utils.validation._assert_all_finite: running accelerated version on CPU\n",
      "INFO:sklearnex: sklearn.utils.validation._assert_all_finite: running accelerated version on CPU\n"
     ]
    },
    {
     "name": "stdout",
     "output_type": "stream",
     "text": [
      "\n",
      "Cycle: 100\n",
      "Accuracy after query 100: 0.8533\n"
     ]
    },
    {
     "data": {
      "image/png": "[encoded data removed]",
      "text/plain": [
       "<Figure size 1000x700 with 2 Axes>"
      ]
     },
     "metadata": {},
     "output_type": "display_data"
    }
   ],
   "source": [
    "acc_entropy_sampling, precision_result_entropy_sampling, recall_result_entropy_sampling, f1_result_entropy_sampling = active_learning(\n",
    "    x_train,\n",
    "    y_train,\n",
    "    x_initial,\n",
    "    y_initial,\n",
    "    x_test,\n",
    "    y_test,\n",
    "    \"entropy_sampling\",\n",
    "    clf,\n",
    "    2,\n",
    "    [\"positive\", \"negative\"],\n",
    ")"
   ]
  },
  {
   "cell_type": "markdown",
   "id": "ef1c0d15",
   "metadata": {
    "papermill": {
     "duration": 0.176353,
     "end_time": "2024-05-01T22:29:23.944431",
     "exception": false,
     "start_time": "2024-05-01T22:29:23.768078",
     "status": "completed"
    },
    "tags": []
   },
   "source": [
    "# Plot All Metrics\n"
   ]
  },
  {
   "cell_type": "markdown",
   "id": "99379a57",
   "metadata": {
    "papermill": {
     "duration": 0.175668,
     "end_time": "2024-05-01T22:29:24.295498",
     "exception": false,
     "start_time": "2024-05-01T22:29:24.119830",
     "status": "completed"
    },
    "tags": []
   },
   "source": [
    "# Accuracy\n"
   ]
  },
  {
   "cell_type": "code",
   "execution_count": 22,
   "id": "9f814355",
   "metadata": {
    "execution": {
     "iopub.execute_input": "2024-05-01T22:29:24.656038Z",
     "iopub.status.busy": "2024-05-01T22:29:24.655120Z",
     "iopub.status.idle": "2024-05-01T22:29:25.077609Z",
     "shell.execute_reply": "2024-05-01T22:29:25.076461Z"
    },
    "papermill": {
     "duration": 0.60694,
     "end_time": "2024-05-01T22:29:25.079967",
     "exception": false,
     "start_time": "2024-05-01T22:29:24.473027",
     "status": "completed"
    },
    "tags": []
   },
   "outputs": [
    {
     "data": {
      "image/png": "[encoded data removed]",
      "text/plain": [
       "<Figure size 640x480 with 1 Axes>"
      ]
     },
     "metadata": {},
     "output_type": "display_data"
    },
    {
     "name": "stdout",
     "output_type": "stream",
     "text": [
      "acc_random_sampling: 0.8472727272727273\n",
      "acc_uncertainty_sampling: 0.8501010101010101\n",
      "acc_margin_sampling: 0.8532773109243698\n",
      "acc_entropy_sampling: 0.8532773109243698\n"
     ]
    },
    {
     "data": {
      "text/plain": [
       "<Figure size 640x480 with 0 Axes>"
      ]
     },
     "metadata": {},
     "output_type": "display_data"
    }
   ],
   "source": [
    "# Create a figure and axes\n",
    "fig, ax = plt.subplots()\n",
    "# Plot the data\n",
    "plt.plot(acc_random_sampling, label=\"acc_random_sampling\")\n",
    "plt.plot(acc_uncertainty_sampling, label=\"acc_uncertainty_sampling\")\n",
    "plt.plot(acc_margin_sampling, label=\"acc_margin_sampling\")\n",
    "plt.plot(acc_entropy_sampling, label=\"acc_entropy_sampling\")\n",
    "\n",
    "# Add labels and title\n",
    "plt.xlabel(\"Epochs\")\n",
    "plt.ylabel(\"Value\")\n",
    "plt.title(\"Accuracy\")\n",
    "# Display the plot\n",
    "plt.legend()\n",
    "plt.show()\n",
    "plt.savefig(\"reports/acc_nlp_model_after_al.png\")\n",
    "\n",
    "print(f\"acc_random_sampling: {acc_random_sampling[-1]}\")\n",
    "print(f\"acc_uncertainty_sampling: {acc_uncertainty_sampling[-1]}\")\n",
    "print(f\"acc_margin_sampling: {acc_margin_sampling[-1]}\")\n",
    "print(f\"acc_entropy_sampling: {acc_entropy_sampling[-1]}\")"
   ]
  },
  {
   "cell_type": "markdown",
   "id": "eaacadb5",
   "metadata": {
    "papermill": {
     "duration": 0.178187,
     "end_time": "2024-05-01T22:29:25.437201",
     "exception": false,
     "start_time": "2024-05-01T22:29:25.259014",
     "status": "completed"
    },
    "tags": []
   },
   "source": [
    "# Precision\n"
   ]
  },
  {
   "cell_type": "code",
   "execution_count": 23,
   "id": "2652c243",
   "metadata": {
    "execution": {
     "iopub.execute_input": "2024-05-01T22:29:25.810853Z",
     "iopub.status.busy": "2024-05-01T22:29:25.810393Z",
     "iopub.status.idle": "2024-05-01T22:29:26.225764Z",
     "shell.execute_reply": "2024-05-01T22:29:26.224597Z"
    },
    "papermill": {
     "duration": 0.605525,
     "end_time": "2024-05-01T22:29:26.228103",
     "exception": false,
     "start_time": "2024-05-01T22:29:25.622578",
     "status": "completed"
    },
    "tags": []
   },
   "outputs": [
    {
     "data": {
      "image/png": "[encoded data removed]",
      "text/plain": [
       "<Figure size 640x480 with 1 Axes>"
      ]
     },
     "metadata": {},
     "output_type": "display_data"
    },
    {
     "name": "stdout",
     "output_type": "stream",
     "text": [
      "precision_result_random_sampling: 0.8416000008583069\n",
      "precision_result_uncertainty_sampling: 0.8425999879837036\n",
      "precision_result_margin_sampling: 0.8468000292778015\n",
      "precision_result_entropy_sampling: 0.8468000292778015\n"
     ]
    },
    {
     "data": {
      "text/plain": [
       "<Figure size 640x480 with 0 Axes>"
      ]
     },
     "metadata": {},
     "output_type": "display_data"
    }
   ],
   "source": [
    "# Create a figure and axes\n",
    "fig, ax = plt.subplots()\n",
    "# Plot the data\n",
    "plt.plot(precision_result_random_sampling, label=\"precision_result_random_sampling\")\n",
    "plt.plot(\n",
    "    precision_result_uncertainty_sampling, label=\"precision_result_uncertainty_sampling\"\n",
    ")\n",
    "plt.plot(precision_result_margin_sampling, label=\"precision_result_margin_sampling\")\n",
    "plt.plot(precision_result_entropy_sampling, label=\"precision_result_entropy_sampling\")\n",
    "\n",
    "# Add labels and title\n",
    "plt.xlabel(\"Epochs\")\n",
    "plt.ylabel(\"Value\")\n",
    "plt.title(\"Precision\")\n",
    "# Display the plot\n",
    "plt.legend()\n",
    "plt.show()\n",
    "plt.savefig(\"reports/prec_nlp_model_after_al.png\")\n",
    "\n",
    "print(f\"precision_result_random_sampling: {precision_result_random_sampling[-1]}\")\n",
    "print(\n",
    "    f\"precision_result_uncertainty_sampling: {precision_result_uncertainty_sampling[-1]}\"\n",
    ")\n",
    "print(f\"precision_result_margin_sampling: {precision_result_margin_sampling[-1]}\")\n",
    "print(f\"precision_result_entropy_sampling: {precision_result_entropy_sampling[-1]}\")"
   ]
  },
  {
   "cell_type": "markdown",
   "id": "05fa8a6b",
   "metadata": {
    "papermill": {
     "duration": 0.182472,
     "end_time": "2024-05-01T22:29:26.590272",
     "exception": false,
     "start_time": "2024-05-01T22:29:26.407800",
     "status": "completed"
    },
    "tags": []
   },
   "source": [
    "# Recall\n"
   ]
  },
  {
   "cell_type": "code",
   "execution_count": 24,
   "id": "1b8ae8fb",
   "metadata": {
    "execution": {
     "iopub.execute_input": "2024-05-01T22:29:26.959826Z",
     "iopub.status.busy": "2024-05-01T22:29:26.958980Z",
     "iopub.status.idle": "2024-05-01T22:29:27.378775Z",
     "shell.execute_reply": "2024-05-01T22:29:27.377667Z"
    },
    "papermill": {
     "duration": 0.60526,
     "end_time": "2024-05-01T22:29:27.381247",
     "exception": false,
     "start_time": "2024-05-01T22:29:26.775987",
     "status": "completed"
    },
    "tags": []
   },
   "outputs": [
    {
     "data": {
      "image/png": "[encoded data removed]",
      "text/plain": [
       "<Figure size 640x480 with 1 Axes>"
      ]
     },
     "metadata": {},
     "output_type": "display_data"
    },
    {
     "name": "stdout",
     "output_type": "stream",
     "text": [
      "recall_result_random_sampling: 0.8416000008583069\n",
      "recall_result_uncertainty_sampling: 0.8425999879837036\n",
      "recall_result_margin_sampling: 0.8468000292778015\n",
      "recall_result_entropy_sampling: 0.8468000292778015\n"
     ]
    },
    {
     "data": {
      "text/plain": [
       "<Figure size 640x480 with 0 Axes>"
      ]
     },
     "metadata": {},
     "output_type": "display_data"
    }
   ],
   "source": [
    "# Create a figure and axes\n",
    "fig, ax = plt.subplots()\n",
    "# Plot the data\n",
    "plt.plot(recall_result_random_sampling, label=\"recall_result_random_sampling\")\n",
    "plt.plot(recall_result_uncertainty_sampling, label=\"recall_result_uncertainty_sampling\")\n",
    "plt.plot(recall_result_margin_sampling, label=\"recall_result_margin_sampling\")\n",
    "plt.plot(recall_result_entropy_sampling, label=\"recall_result_entropy_sampling\")\n",
    "\n",
    "# Add labels and title\n",
    "plt.xlabel(\"Epochs\")\n",
    "plt.ylabel(\"Value\")\n",
    "plt.title(\"Recall\")\n",
    "# Display the plot\n",
    "plt.legend()\n",
    "plt.show()\n",
    "plt.savefig(\"reports/recall_nlp_model_after_al.png\")\n",
    "\n",
    "print(f\"recall_result_random_sampling: {recall_result_random_sampling[-1]}\")\n",
    "print(f\"recall_result_uncertainty_sampling: {recall_result_uncertainty_sampling[-1]}\")\n",
    "print(f\"recall_result_margin_sampling: {recall_result_margin_sampling[-1]}\")\n",
    "print(f\"recall_result_entropy_sampling: {recall_result_entropy_sampling[-1]}\")"
   ]
  },
  {
   "cell_type": "markdown",
   "id": "a5b3edce",
   "metadata": {
    "papermill": {
     "duration": 0.180527,
     "end_time": "2024-05-01T22:29:27.753339",
     "exception": false,
     "start_time": "2024-05-01T22:29:27.572812",
     "status": "completed"
    },
    "tags": []
   },
   "source": [
    "# F1 Score\n"
   ]
  },
  {
   "cell_type": "code",
   "execution_count": 25,
   "id": "1114cbfa",
   "metadata": {
    "execution": {
     "iopub.execute_input": "2024-05-01T22:29:28.111667Z",
     "iopub.status.busy": "2024-05-01T22:29:28.110759Z",
     "iopub.status.idle": "2024-05-01T22:29:28.517136Z",
     "shell.execute_reply": "2024-05-01T22:29:28.515843Z"
    },
    "papermill": {
     "duration": 0.587192,
     "end_time": "2024-05-01T22:29:28.519396",
     "exception": false,
     "start_time": "2024-05-01T22:29:27.932204",
     "status": "completed"
    },
    "tags": []
   },
   "outputs": [
    {
     "data": {
      "image/png": "[encoded data removed]",
      "text/plain": [
       "<Figure size 640x480 with 1 Axes>"
      ]
     },
     "metadata": {},
     "output_type": "display_data"
    },
    {
     "name": "stdout",
     "output_type": "stream",
     "text": [
      "f1_result_random_sampling: 0.8416000008583069\n",
      "f1_result_uncertainty_sampling: 0.8425999879837036\n",
      "f1_result_margin_sampling: 0.8468000292778015\n",
      "f1_result_entropy_sampling: 0.8468000292778015\n"
     ]
    },
    {
     "data": {
      "text/plain": [
       "<Figure size 640x480 with 0 Axes>"
      ]
     },
     "metadata": {},
     "output_type": "display_data"
    }
   ],
   "source": [
    "# Create a figure and axes\n",
    "fig, ax = plt.subplots()\n",
    "# Plot the data\n",
    "plt.plot(f1_result_random_sampling, label=\"f1_result_random_sampling\")\n",
    "plt.plot(f1_result_uncertainty_sampling, label=\"f1_result_uncertainty_sampling\")\n",
    "plt.plot(f1_result_margin_sampling, label=\"f1_result_margin_sampling\")\n",
    "plt.plot(f1_result_entropy_sampling, label=\"f1_result_entropy_sampling\")\n",
    "\n",
    "# Add labels and title\n",
    "plt.xlabel(\"Epochs\")\n",
    "plt.ylabel(\"Value\")\n",
    "plt.title(\"F1 Score\")\n",
    "# Display the plot\n",
    "plt.legend()\n",
    "plt.show()\n",
    "plt.savefig(\"reports/f1_nlp_model_after_al.png\")\n",
    "\n",
    "print(f\"f1_result_random_sampling: {f1_result_random_sampling[-1]}\")\n",
    "print(f\"f1_result_uncertainty_sampling: {f1_result_uncertainty_sampling[-1]}\")\n",
    "print(f\"f1_result_margin_sampling: {f1_result_margin_sampling[-1]}\")\n",
    "print(f\"f1_result_entropy_sampling: {f1_result_entropy_sampling[-1]}\")"
   ]
  }
 ],
 "metadata": {
  "accelerator": "GPU",
  "colab": {
   "authorship_tag": "ABX9TyPZUoBKYB6m1PUJGEleE4jQ",
   "gpuType": "T4",
   "provenance": []
  },
  "kaggle": {
   "accelerator": "gpu",
   "dataSources": [
    {
     "isSourceIdPinned": true,
     "modelInstanceId": 1265,
     "sourceId": 1497,
     "sourceType": "modelInstanceVersion"
    }
   ],
   "dockerImageVersionId": 30699,
   "isGpuEnabled": true,
   "isInternetEnabled": true,
   "language": "python",
   "sourceType": "notebook"
  },
  "kernelspec": {
   "display_name": "Python 3",
   "language": "python",
   "name": "python3"
  },
  "language_info": {
   "codemirror_mode": {
    "name": "ipython",
    "version": 3
   },
   "file_extension": ".py",
   "mimetype": "text/x-python",
   "name": "python",
   "nbconvert_exporter": "python",
   "pygments_lexer": "ipython3",
   "version": "3.10.13"
  },
  "papermill": {
   "default_parameters": {},
   "duration": 188.581089,
   "end_time": "2024-05-01T22:29:32.793263",
   "environment_variables": {},
   "exception": null,
   "input_path": "__notebook__.ipynb",
   "output_path": "__notebook__.ipynb",
   "parameters": {},
   "start_time": "2024-05-01T22:26:24.212174",
   "version": "2.5.0"
  },
  "widgets": {
   "application/vnd.jupyter.widget-state+json": {
    "state": {
     "047be9fe2cbf4a01ba9913e0f861ff94": {
      "model_module": "@jupyter-widgets/controls",
      "model_module_version": "1.5.0",
      "model_name": "HBoxModel",
      "state": {
       "_dom_classes": [],
       "_model_module": "@jupyter-widgets/controls",
       "_model_module_version": "1.5.0",
       "_model_name": "HBoxModel",
       "_view_count": null,
       "_view_module": "@jupyter-widgets/controls",
       "_view_module_version": "1.5.0",
       "_view_name": "HBoxView",
       "box_style": "",
       "children": [
        "IPY_MODEL_2d4b85afd6a847d587323884f450d443",
        "IPY_MODEL_6df796cc66174df585f283e3ff2e76fa",
        "IPY_MODEL_34125ca5ae854018a799a32dd48e9e41"
       ],
       "layout": "IPY_MODEL_b432902b65b941cf91363e1902e56093"
      }
     },
     "0510c12dfd0145f99d0d5b3c161e708b": {
      "model_module": "@jupyter-widgets/controls",
      "model_module_version": "1.5.0",
      "model_name": "DescriptionStyleModel",
      "state": {
       "_model_module": "@jupyter-widgets/controls",
       "_model_module_version": "1.5.0",
       "_model_name": "DescriptionStyleModel",
       "_view_count": null,
       "_view_module": "@jupyter-widgets/base",
       "_view_module_version": "1.2.0",
       "_view_name": "StyleView",
       "description_width": ""
      }
     },
     "0992223f96394e0f8e5f25ae5abc65f5": {
      "model_module": "@jupyter-widgets/controls",
      "model_module_version": "1.5.0",
      "model_name": "DescriptionStyleModel",
      "state": {
       "_model_module": "@jupyter-widgets/controls",
       "_model_module_version": "1.5.0",
       "_model_name": "DescriptionStyleModel",
       "_view_count": null,
       "_view_module": "@jupyter-widgets/base",
       "_view_module_version": "1.2.0",
       "_view_name": "StyleView",
       "description_width": ""
      }
     },
     "0afc35ff32ac42f080cb5206c420f011": {
      "model_module": "@jupyter-widgets/controls",
      "model_module_version": "1.5.0",
      "model_name": "ProgressStyleModel",
      "state": {
       "_model_module": "@jupyter-widgets/controls",
       "_model_module_version": "1.5.0",
       "_model_name": "ProgressStyleModel",
       "_view_count": null,
       "_view_module": "@jupyter-widgets/base",
       "_view_module_version": "1.2.0",
       "_view_name": "StyleView",
       "bar_color": null,
       "description_width": ""
      }
     },
     "0f1a021e9315498ea0797293e31304a8": {
      "model_module": "@jupyter-widgets/controls",
      "model_module_version": "1.5.0",
      "model_name": "HTMLModel",
      "state": {
       "_dom_classes": [],
       "_model_module": "@jupyter-widgets/controls",
       "_model_module_version": "1.5.0",
       "_model_name": "HTMLModel",
       "_view_count": null,
       "_view_module": "@jupyter-widgets/controls",
       "_view_module_version": "1.5.0",
       "_view_name": "HTMLView",
       "description": "",
       "description_tooltip": null,
       "layout": "IPY_MODEL_a5e962db66e2425ab5f28bf3cfe855f1",
       "placeholder": "​",
       "style": "IPY_MODEL_8176153b2bc943a292ef112b047117dd",
       "value": " 25000/25000 [00:00&lt;00:00, 79984.44 examples/s]"
      }
     },
     "14b13d07837b4f3ca5fd6e7f0f96a96d": {
      "model_module": "@jupyter-widgets/base",
      "model_module_version": "1.2.0",
      "model_name": "LayoutModel",
      "state": {
       "_model_module": "@jupyter-widgets/base",
       "_model_module_version": "1.2.0",
       "_model_name": "LayoutModel",
       "_view_count": null,
       "_view_module": "@jupyter-widgets/base",
       "_view_module_version": "1.2.0",
       "_view_name": "LayoutView",
       "align_content": null,
       "align_items": null,
       "align_self": null,
       "border": null,
       "bottom": null,
       "display": null,
       "flex": null,
       "flex_flow": null,
       "grid_area": null,
       "grid_auto_columns": null,
       "grid_auto_flow": null,
       "grid_auto_rows": null,
       "grid_column": null,
       "grid_gap": null,
       "grid_row": null,
       "grid_template_areas": null,
       "grid_template_columns": null,
       "grid_template_rows": null,
       "height": null,
       "justify_content": null,
       "justify_items": null,
       "left": null,
       "margin": null,
       "max_height": null,
       "max_width": null,
       "min_height": null,
       "min_width": null,
       "object_fit": null,
       "object_position": null,
       "order": null,
       "overflow": null,
       "overflow_x": null,
       "overflow_y": null,
       "padding": null,
       "right": null,
       "top": null,
       "visibility": null,
       "width": null
      }
     },
     "15b6a5b77aa3411395ef3706263f2ae9": {
      "model_module": "@jupyter-widgets/controls",
      "model_module_version": "1.5.0",
      "model_name": "HBoxModel",
      "state": {
       "_dom_classes": [],
       "_model_module": "@jupyter-widgets/controls",
       "_model_module_version": "1.5.0",
       "_model_name": "HBoxModel",
       "_view_count": null,
       "_view_module": "@jupyter-widgets/controls",
       "_view_module_version": "1.5.0",
       "_view_name": "HBoxView",
       "box_style": "",
       "children": [
        "IPY_MODEL_5a00416308fd42368ce3abce1a1cb959",
        "IPY_MODEL_1b278bda34d74e68b208d42a89345b1b",
        "IPY_MODEL_465649427fbf4e7fbcc150c4c9425028"
       ],
       "layout": "IPY_MODEL_5b76746a1a244760ba07e865a361172e"
      }
     },
     "1ae126c9b00d44a4a786f4441b8c7ca3": {
      "model_module": "@jupyter-widgets/base",
      "model_module_version": "1.2.0",
      "model_name": "LayoutModel",
      "state": {
       "_model_module": "@jupyter-widgets/base",
       "_model_module_version": "1.2.0",
       "_model_name": "LayoutModel",
       "_view_count": null,
       "_view_module": "@jupyter-widgets/base",
       "_view_module_version": "1.2.0",
       "_view_name": "LayoutView",
       "align_content": null,
       "align_items": null,
       "align_self": null,
       "border": null,
       "bottom": null,
       "display": null,
       "flex": null,
       "flex_flow": null,
       "grid_area": null,
       "grid_auto_columns": null,
       "grid_auto_flow": null,
       "grid_auto_rows": null,
       "grid_column": null,
       "grid_gap": null,
       "grid_row": null,
       "grid_template_areas": null,
       "grid_template_columns": null,
       "grid_template_rows": null,
       "height": null,
       "justify_content": null,
       "justify_items": null,
       "left": null,
       "margin": null,
       "max_height": null,
       "max_width": null,
       "min_height": null,
       "min_width": null,
       "object_fit": null,
       "object_position": null,
       "order": null,
       "overflow": null,
       "overflow_x": null,
       "overflow_y": null,
       "padding": null,
       "right": null,
       "top": null,
       "visibility": null,
       "width": null
      }
     },
     "1b278bda34d74e68b208d42a89345b1b": {
      "model_module": "@jupyter-widgets/controls",
      "model_module_version": "1.5.0",
      "model_name": "FloatProgressModel",
      "state": {
       "_dom_classes": [],
       "_model_module": "@jupyter-widgets/controls",
       "_model_module_version": "1.5.0",
       "_model_name": "FloatProgressModel",
       "_view_count": null,
       "_view_module": "@jupyter-widgets/controls",
       "_view_module_version": "1.5.0",
       "_view_name": "ProgressView",
       "bar_style": "success",
       "description": "",
       "description_tooltip": null,
       "layout": "IPY_MODEL_a6371282ec9b433ab027664339c3dc0c",
       "max": 3.0,
       "min": 0.0,
       "orientation": "horizontal",
       "style": "IPY_MODEL_97a5031ce0f4450cb132cccf40ed3725",
       "value": 3.0
      }
     },
     "222c58b1129c43cda3baeb9035382d8e": {
      "model_module": "@jupyter-widgets/base",
      "model_module_version": "1.2.0",
      "model_name": "LayoutModel",
      "state": {
       "_model_module": "@jupyter-widgets/base",
       "_model_module_version": "1.2.0",
       "_model_name": "LayoutModel",
       "_view_count": null,
       "_view_module": "@jupyter-widgets/base",
       "_view_module_version": "1.2.0",
       "_view_name": "LayoutView",
       "align_content": null,
       "align_items": null,
       "align_self": null,
       "border": null,
       "bottom": null,
       "display": null,
       "flex": null,
       "flex_flow": null,
       "grid_area": null,
       "grid_auto_columns": null,
       "grid_auto_flow": null,
       "grid_auto_rows": null,
       "grid_column": null,
       "grid_gap": null,
       "grid_row": null,
       "grid_template_areas": null,
       "grid_template_columns": null,
       "grid_template_rows": null,
       "height": null,
       "justify_content": null,
       "justify_items": null,
       "left": null,
       "margin": null,
       "max_height": null,
       "max_width": null,
       "min_height": null,
       "min_width": null,
       "object_fit": null,
       "object_position": null,
       "order": null,
       "overflow": null,
       "overflow_x": null,
       "overflow_y": null,
       "padding": null,
       "right": null,
       "top": null,
       "visibility": null,
       "width": null
      }
     },
     "2c7e0e90dd3e4954a542728b45982f52": {
      "model_module": "@jupyter-widgets/controls",
      "model_module_version": "1.5.0",
      "model_name": "DescriptionStyleModel",
      "state": {
       "_model_module": "@jupyter-widgets/controls",
       "_model_module_version": "1.5.0",
       "_model_name": "DescriptionStyleModel",
       "_view_count": null,
       "_view_module": "@jupyter-widgets/base",
       "_view_module_version": "1.2.0",
       "_view_name": "StyleView",
       "description_width": ""
      }
     },
     "2d4b85afd6a847d587323884f450d443": {
      "model_module": "@jupyter-widgets/controls",
      "model_module_version": "1.5.0",
      "model_name": "HTMLModel",
      "state": {
       "_dom_classes": [],
       "_model_module": "@jupyter-widgets/controls",
       "_model_module_version": "1.5.0",
       "_model_name": "HTMLModel",
       "_view_count": null,
       "_view_module": "@jupyter-widgets/controls",
       "_view_module_version": "1.5.0",
       "_view_name": "HTMLView",
       "description": "",
       "description_tooltip": null,
       "layout": "IPY_MODEL_14b13d07837b4f3ca5fd6e7f0f96a96d",
       "placeholder": "​",
       "style": "IPY_MODEL_b366eb1b4bf74822ad33c42093a7b7a3",
       "value": "Downloading readme: 100%"
      }
     },
     "2fb1a3cafb814f248c25b1c20fb5fe3c": {
      "model_module": "@jupyter-widgets/controls",
      "model_module_version": "1.5.0",
      "model_name": "HTMLModel",
      "state": {
       "_dom_classes": [],
       "_model_module": "@jupyter-widgets/controls",
       "_model_module_version": "1.5.0",
       "_model_name": "HTMLModel",
       "_view_count": null,
       "_view_module": "@jupyter-widgets/controls",
       "_view_module_version": "1.5.0",
       "_view_name": "HTMLView",
       "description": "",
       "description_tooltip": null,
       "layout": "IPY_MODEL_b7a7f6d6eda543f6a12ead26c6563c87",
       "placeholder": "​",
       "style": "IPY_MODEL_2c7e0e90dd3e4954a542728b45982f52",
       "value": "Generating test split: 100%"
      }
     },
     "34125ca5ae854018a799a32dd48e9e41": {
      "model_module": "@jupyter-widgets/controls",
      "model_module_version": "1.5.0",
      "model_name": "HTMLModel",
      "state": {
       "_dom_classes": [],
       "_model_module": "@jupyter-widgets/controls",
       "_model_module_version": "1.5.0",
       "_model_name": "HTMLModel",
       "_view_count": null,
       "_view_module": "@jupyter-widgets/controls",
       "_view_module_version": "1.5.0",
       "_view_name": "HTMLView",
       "description": "",
       "description_tooltip": null,
       "layout": "IPY_MODEL_1ae126c9b00d44a4a786f4441b8c7ca3",
       "placeholder": "​",
       "style": "IPY_MODEL_0992223f96394e0f8e5f25ae5abc65f5",
       "value": " 7.81k/7.81k [00:00&lt;00:00, 541kB/s]"
      }
     },
     "377d1edee0c741fd817587d818f1a1be": {
      "model_module": "@jupyter-widgets/controls",
      "model_module_version": "1.5.0",
      "model_name": "FloatProgressModel",
      "state": {
       "_dom_classes": [],
       "_model_module": "@jupyter-widgets/controls",
       "_model_module_version": "1.5.0",
       "_model_name": "FloatProgressModel",
       "_view_count": null,
       "_view_module": "@jupyter-widgets/controls",
       "_view_module_version": "1.5.0",
       "_view_name": "ProgressView",
       "bar_style": "success",
       "description": "",
       "description_tooltip": null,
       "layout": "IPY_MODEL_94307fc3f65845bda83d14ab3da12d64",
       "max": 50000.0,
       "min": 0.0,
       "orientation": "horizontal",
       "style": "IPY_MODEL_926c50b5d3ec4089af6d4fdcc1b74b7c",
       "value": 50000.0
      }
     },
     "3c4c49371b9f4009ba0ce7c7e654a368": {
      "model_module": "@jupyter-widgets/controls",
      "model_module_version": "1.5.0",
      "model_name": "FloatProgressModel",
      "state": {
       "_dom_classes": [],
       "_model_module": "@jupyter-widgets/controls",
       "_model_module_version": "1.5.0",
       "_model_name": "FloatProgressModel",
       "_view_count": null,
       "_view_module": "@jupyter-widgets/controls",
       "_view_module_version": "1.5.0",
       "_view_name": "ProgressView",
       "bar_style": "success",
       "description": "",
       "description_tooltip": null,
       "layout": "IPY_MODEL_e3097bf76f734aba9308df90006fc6f6",
       "max": 25000.0,
       "min": 0.0,
       "orientation": "horizontal",
       "style": "IPY_MODEL_6243201f16994d0ba6e609ff58250b75",
       "value": 25000.0
      }
     },
     "3eca242ec2334a7589ee65f85508355c": {
      "model_module": "@jupyter-widgets/controls",
      "model_module_version": "1.5.0",
      "model_name": "ProgressStyleModel",
      "state": {
       "_model_module": "@jupyter-widgets/controls",
       "_model_module_version": "1.5.0",
       "_model_name": "ProgressStyleModel",
       "_view_count": null,
       "_view_module": "@jupyter-widgets/base",
       "_view_module_version": "1.2.0",
       "_view_name": "StyleView",
       "bar_color": null,
       "description_width": ""
      }
     },
     "45480011093e4997b4d3fc778c68c6be": {
      "model_module": "@jupyter-widgets/controls",
      "model_module_version": "1.5.0",
      "model_name": "HBoxModel",
      "state": {
       "_dom_classes": [],
       "_model_module": "@jupyter-widgets/controls",
       "_model_module_version": "1.5.0",
       "_model_name": "HBoxModel",
       "_view_count": null,
       "_view_module": "@jupyter-widgets/controls",
       "_view_module_version": "1.5.0",
       "_view_name": "HBoxView",
       "box_style": "",
       "children": [
        "IPY_MODEL_e015993c64264f878c583959d6102ac1",
        "IPY_MODEL_6aaacbc182ce488aa1bcc73db10cb99e",
        "IPY_MODEL_0f1a021e9315498ea0797293e31304a8"
       ],
       "layout": "IPY_MODEL_bfe7aa5a68804623b036296bb9b38050"
      }
     },
     "465649427fbf4e7fbcc150c4c9425028": {
      "model_module": "@jupyter-widgets/controls",
      "model_module_version": "1.5.0",
      "model_name": "HTMLModel",
      "state": {
       "_dom_classes": [],
       "_model_module": "@jupyter-widgets/controls",
       "_model_module_version": "1.5.0",
       "_model_name": "HTMLModel",
       "_view_count": null,
       "_view_module": "@jupyter-widgets/controls",
       "_view_module_version": "1.5.0",
       "_view_name": "HTMLView",
       "description": "",
       "description_tooltip": null,
       "layout": "IPY_MODEL_a04cdb5adaaf4452909dcd6ad906b29c",
       "placeholder": "​",
       "style": "IPY_MODEL_79f9c2b6d85f4a73b42019f82cf6b060",
       "value": " 3/3 [00:00&lt;00:00, 288.50it/s]"
      }
     },
     "4b970dbf93104355b34d68faf2c68004": {
      "model_module": "@jupyter-widgets/base",
      "model_module_version": "1.2.0",
      "model_name": "LayoutModel",
      "state": {
       "_model_module": "@jupyter-widgets/base",
       "_model_module_version": "1.2.0",
       "_model_name": "LayoutModel",
       "_view_count": null,
       "_view_module": "@jupyter-widgets/base",
       "_view_module_version": "1.2.0",
       "_view_name": "LayoutView",
       "align_content": null,
       "align_items": null,
       "align_self": null,
       "border": null,
       "bottom": null,
       "display": null,
       "flex": null,
       "flex_flow": null,
       "grid_area": null,
       "grid_auto_columns": null,
       "grid_auto_flow": null,
       "grid_auto_rows": null,
       "grid_column": null,
       "grid_gap": null,
       "grid_row": null,
       "grid_template_areas": null,
       "grid_template_columns": null,
       "grid_template_rows": null,
       "height": null,
       "justify_content": null,
       "justify_items": null,
       "left": null,
       "margin": null,
       "max_height": null,
       "max_width": null,
       "min_height": null,
       "min_width": null,
       "object_fit": null,
       "object_position": null,
       "order": null,
       "overflow": null,
       "overflow_x": null,
       "overflow_y": null,
       "padding": null,
       "right": null,
       "top": null,
       "visibility": null,
       "width": null
      }
     },
     "53713327e2a94fa19b44a85f8edcce23": {
      "model_module": "@jupyter-widgets/controls",
      "model_module_version": "1.5.0",
      "model_name": "DescriptionStyleModel",
      "state": {
       "_model_module": "@jupyter-widgets/controls",
       "_model_module_version": "1.5.0",
       "_model_name": "DescriptionStyleModel",
       "_view_count": null,
       "_view_module": "@jupyter-widgets/base",
       "_view_module_version": "1.2.0",
       "_view_name": "StyleView",
       "description_width": ""
      }
     },
     "5633365ae65f412ca25381ec198c722e": {
      "model_module": "@jupyter-widgets/controls",
      "model_module_version": "1.5.0",
      "model_name": "DescriptionStyleModel",
      "state": {
       "_model_module": "@jupyter-widgets/controls",
       "_model_module_version": "1.5.0",
       "_model_name": "DescriptionStyleModel",
       "_view_count": null,
       "_view_module": "@jupyter-widgets/base",
       "_view_module_version": "1.2.0",
       "_view_name": "StyleView",
       "description_width": ""
      }
     },
     "5a00416308fd42368ce3abce1a1cb959": {
      "model_module": "@jupyter-widgets/controls",
      "model_module_version": "1.5.0",
      "model_name": "HTMLModel",
      "state": {
       "_dom_classes": [],
       "_model_module": "@jupyter-widgets/controls",
       "_model_module_version": "1.5.0",
       "_model_name": "HTMLModel",
       "_view_count": null,
       "_view_module": "@jupyter-widgets/controls",
       "_view_module_version": "1.5.0",
       "_view_name": "HTMLView",
       "description": "",
       "description_tooltip": null,
       "layout": "IPY_MODEL_99151ba3d9ca4202977fed2e4f87bef2",
       "placeholder": "​",
       "style": "IPY_MODEL_79c3fae6d9a547faa1a77094ee7ac49a",
       "value": "Computing checksums: 100%"
      }
     },
     "5b76746a1a244760ba07e865a361172e": {
      "model_module": "@jupyter-widgets/base",
      "model_module_version": "1.2.0",
      "model_name": "LayoutModel",
      "state": {
       "_model_module": "@jupyter-widgets/base",
       "_model_module_version": "1.2.0",
       "_model_name": "LayoutModel",
       "_view_count": null,
       "_view_module": "@jupyter-widgets/base",
       "_view_module_version": "1.2.0",
       "_view_name": "LayoutView",
       "align_content": null,
       "align_items": null,
       "align_self": null,
       "border": null,
       "bottom": null,
       "display": null,
       "flex": null,
       "flex_flow": null,
       "grid_area": null,
       "grid_auto_columns": null,
       "grid_auto_flow": null,
       "grid_auto_rows": null,
       "grid_column": null,
       "grid_gap": null,
       "grid_row": null,
       "grid_template_areas": null,
       "grid_template_columns": null,
       "grid_template_rows": null,
       "height": null,
       "justify_content": null,
       "justify_items": null,
       "left": null,
       "margin": null,
       "max_height": null,
       "max_width": null,
       "min_height": null,
       "min_width": null,
       "object_fit": null,
       "object_position": null,
       "order": null,
       "overflow": null,
       "overflow_x": null,
       "overflow_y": null,
       "padding": null,
       "right": null,
       "top": null,
       "visibility": null,
       "width": null
      }
     },
     "5f5737be6a7b4367bdfeddd840cc3213": {
      "model_module": "@jupyter-widgets/base",
      "model_module_version": "1.2.0",
      "model_name": "LayoutModel",
      "state": {
       "_model_module": "@jupyter-widgets/base",
       "_model_module_version": "1.2.0",
       "_model_name": "LayoutModel",
       "_view_count": null,
       "_view_module": "@jupyter-widgets/base",
       "_view_module_version": "1.2.0",
       "_view_name": "LayoutView",
       "align_content": null,
       "align_items": null,
       "align_self": null,
       "border": null,
       "bottom": null,
       "display": null,
       "flex": null,
       "flex_flow": null,
       "grid_area": null,
       "grid_auto_columns": null,
       "grid_auto_flow": null,
       "grid_auto_rows": null,
       "grid_column": null,
       "grid_gap": null,
       "grid_row": null,
       "grid_template_areas": null,
       "grid_template_columns": null,
       "grid_template_rows": null,
       "height": null,
       "justify_content": null,
       "justify_items": null,
       "left": null,
       "margin": null,
       "max_height": null,
       "max_width": null,
       "min_height": null,
       "min_width": null,
       "object_fit": null,
       "object_position": null,
       "order": null,
       "overflow": null,
       "overflow_x": null,
       "overflow_y": null,
       "padding": null,
       "right": null,
       "top": null,
       "visibility": null,
       "width": null
      }
     },
     "6243201f16994d0ba6e609ff58250b75": {
      "model_module": "@jupyter-widgets/controls",
      "model_module_version": "1.5.0",
      "model_name": "ProgressStyleModel",
      "state": {
       "_model_module": "@jupyter-widgets/controls",
       "_model_module_version": "1.5.0",
       "_model_name": "ProgressStyleModel",
       "_view_count": null,
       "_view_module": "@jupyter-widgets/base",
       "_view_module_version": "1.2.0",
       "_view_name": "StyleView",
       "bar_color": null,
       "description_width": ""
      }
     },
     "67083683b6fe4291a73754939283286a": {
      "model_module": "@jupyter-widgets/base",
      "model_module_version": "1.2.0",
      "model_name": "LayoutModel",
      "state": {
       "_model_module": "@jupyter-widgets/base",
       "_model_module_version": "1.2.0",
       "_model_name": "LayoutModel",
       "_view_count": null,
       "_view_module": "@jupyter-widgets/base",
       "_view_module_version": "1.2.0",
       "_view_name": "LayoutView",
       "align_content": null,
       "align_items": null,
       "align_self": null,
       "border": null,
       "bottom": null,
       "display": null,
       "flex": null,
       "flex_flow": null,
       "grid_area": null,
       "grid_auto_columns": null,
       "grid_auto_flow": null,
       "grid_auto_rows": null,
       "grid_column": null,
       "grid_gap": null,
       "grid_row": null,
       "grid_template_areas": null,
       "grid_template_columns": null,
       "grid_template_rows": null,
       "height": null,
       "justify_content": null,
       "justify_items": null,
       "left": null,
       "margin": null,
       "max_height": null,
       "max_width": null,
       "min_height": null,
       "min_width": null,
       "object_fit": null,
       "object_position": null,
       "order": null,
       "overflow": null,
       "overflow_x": null,
       "overflow_y": null,
       "padding": null,
       "right": null,
       "top": null,
       "visibility": null,
       "width": null
      }
     },
     "68fb1cba9a1c4257bb3f17cee7931654": {
      "model_module": "@jupyter-widgets/controls",
      "model_module_version": "1.5.0",
      "model_name": "HTMLModel",
      "state": {
       "_dom_classes": [],
       "_model_module": "@jupyter-widgets/controls",
       "_model_module_version": "1.5.0",
       "_model_name": "HTMLModel",
       "_view_count": null,
       "_view_module": "@jupyter-widgets/controls",
       "_view_module_version": "1.5.0",
       "_view_name": "HTMLView",
       "description": "",
       "description_tooltip": null,
       "layout": "IPY_MODEL_a8d6d2cc3f294778850ed0f4574040df",
       "placeholder": "​",
       "style": "IPY_MODEL_fb24189398d146eb96f0b1bb791e8e01",
       "value": " 25000/25000 [00:00&lt;00:00, 142142.38 examples/s]"
      }
     },
     "6aaacbc182ce488aa1bcc73db10cb99e": {
      "model_module": "@jupyter-widgets/controls",
      "model_module_version": "1.5.0",
      "model_name": "FloatProgressModel",
      "state": {
       "_dom_classes": [],
       "_model_module": "@jupyter-widgets/controls",
       "_model_module_version": "1.5.0",
       "_model_name": "FloatProgressModel",
       "_view_count": null,
       "_view_module": "@jupyter-widgets/controls",
       "_view_module_version": "1.5.0",
       "_view_name": "ProgressView",
       "bar_style": "success",
       "description": "",
       "description_tooltip": null,
       "layout": "IPY_MODEL_67083683b6fe4291a73754939283286a",
       "max": 25000.0,
       "min": 0.0,
       "orientation": "horizontal",
       "style": "IPY_MODEL_3eca242ec2334a7589ee65f85508355c",
       "value": 25000.0
      }
     },
     "6d0d229fd70b434ebaf75c9654be267e": {
      "model_module": "@jupyter-widgets/base",
      "model_module_version": "1.2.0",
      "model_name": "LayoutModel",
      "state": {
       "_model_module": "@jupyter-widgets/base",
       "_model_module_version": "1.2.0",
       "_model_name": "LayoutModel",
       "_view_count": null,
       "_view_module": "@jupyter-widgets/base",
       "_view_module_version": "1.2.0",
       "_view_name": "LayoutView",
       "align_content": null,
       "align_items": null,
       "align_self": null,
       "border": null,
       "bottom": null,
       "display": null,
       "flex": null,
       "flex_flow": null,
       "grid_area": null,
       "grid_auto_columns": null,
       "grid_auto_flow": null,
       "grid_auto_rows": null,
       "grid_column": null,
       "grid_gap": null,
       "grid_row": null,
       "grid_template_areas": null,
       "grid_template_columns": null,
       "grid_template_rows": null,
       "height": null,
       "justify_content": null,
       "justify_items": null,
       "left": null,
       "margin": null,
       "max_height": null,
       "max_width": null,
       "min_height": null,
       "min_width": null,
       "object_fit": null,
       "object_position": null,
       "order": null,
       "overflow": null,
       "overflow_x": null,
       "overflow_y": null,
       "padding": null,
       "right": null,
       "top": null,
       "visibility": null,
       "width": null
      }
     },
     "6df796cc66174df585f283e3ff2e76fa": {
      "model_module": "@jupyter-widgets/controls",
      "model_module_version": "1.5.0",
      "model_name": "FloatProgressModel",
      "state": {
       "_dom_classes": [],
       "_model_module": "@jupyter-widgets/controls",
       "_model_module_version": "1.5.0",
       "_model_name": "FloatProgressModel",
       "_view_count": null,
       "_view_module": "@jupyter-widgets/controls",
       "_view_module_version": "1.5.0",
       "_view_name": "ProgressView",
       "bar_style": "success",
       "description": "",
       "description_tooltip": null,
       "layout": "IPY_MODEL_4b970dbf93104355b34d68faf2c68004",
       "max": 7809.0,
       "min": 0.0,
       "orientation": "horizontal",
       "style": "IPY_MODEL_0afc35ff32ac42f080cb5206c420f011",
       "value": 7809.0
      }
     },
     "79c3fae6d9a547faa1a77094ee7ac49a": {
      "model_module": "@jupyter-widgets/controls",
      "model_module_version": "1.5.0",
      "model_name": "DescriptionStyleModel",
      "state": {
       "_model_module": "@jupyter-widgets/controls",
       "_model_module_version": "1.5.0",
       "_model_name": "DescriptionStyleModel",
       "_view_count": null,
       "_view_module": "@jupyter-widgets/base",
       "_view_module_version": "1.2.0",
       "_view_name": "StyleView",
       "description_width": ""
      }
     },
     "79f9c2b6d85f4a73b42019f82cf6b060": {
      "model_module": "@jupyter-widgets/controls",
      "model_module_version": "1.5.0",
      "model_name": "DescriptionStyleModel",
      "state": {
       "_model_module": "@jupyter-widgets/controls",
       "_model_module_version": "1.5.0",
       "_model_name": "DescriptionStyleModel",
       "_view_count": null,
       "_view_module": "@jupyter-widgets/base",
       "_view_module_version": "1.2.0",
       "_view_name": "StyleView",
       "description_width": ""
      }
     },
     "8176153b2bc943a292ef112b047117dd": {
      "model_module": "@jupyter-widgets/controls",
      "model_module_version": "1.5.0",
      "model_name": "DescriptionStyleModel",
      "state": {
       "_model_module": "@jupyter-widgets/controls",
       "_model_module_version": "1.5.0",
       "_model_name": "DescriptionStyleModel",
       "_view_count": null,
       "_view_module": "@jupyter-widgets/base",
       "_view_module_version": "1.2.0",
       "_view_name": "StyleView",
       "description_width": ""
      }
     },
     "926c50b5d3ec4089af6d4fdcc1b74b7c": {
      "model_module": "@jupyter-widgets/controls",
      "model_module_version": "1.5.0",
      "model_name": "ProgressStyleModel",
      "state": {
       "_model_module": "@jupyter-widgets/controls",
       "_model_module_version": "1.5.0",
       "_model_name": "ProgressStyleModel",
       "_view_count": null,
       "_view_module": "@jupyter-widgets/base",
       "_view_module_version": "1.2.0",
       "_view_name": "StyleView",
       "bar_color": null,
       "description_width": ""
      }
     },
     "94307fc3f65845bda83d14ab3da12d64": {
      "model_module": "@jupyter-widgets/base",
      "model_module_version": "1.2.0",
      "model_name": "LayoutModel",
      "state": {
       "_model_module": "@jupyter-widgets/base",
       "_model_module_version": "1.2.0",
       "_model_name": "LayoutModel",
       "_view_count": null,
       "_view_module": "@jupyter-widgets/base",
       "_view_module_version": "1.2.0",
       "_view_name": "LayoutView",
       "align_content": null,
       "align_items": null,
       "align_self": null,
       "border": null,
       "bottom": null,
       "display": null,
       "flex": null,
       "flex_flow": null,
       "grid_area": null,
       "grid_auto_columns": null,
       "grid_auto_flow": null,
       "grid_auto_rows": null,
       "grid_column": null,
       "grid_gap": null,
       "grid_row": null,
       "grid_template_areas": null,
       "grid_template_columns": null,
       "grid_template_rows": null,
       "height": null,
       "justify_content": null,
       "justify_items": null,
       "left": null,
       "margin": null,
       "max_height": null,
       "max_width": null,
       "min_height": null,
       "min_width": null,
       "object_fit": null,
       "object_position": null,
       "order": null,
       "overflow": null,
       "overflow_x": null,
       "overflow_y": null,
       "padding": null,
       "right": null,
       "top": null,
       "visibility": null,
       "width": null
      }
     },
     "97a5031ce0f4450cb132cccf40ed3725": {
      "model_module": "@jupyter-widgets/controls",
      "model_module_version": "1.5.0",
      "model_name": "ProgressStyleModel",
      "state": {
       "_model_module": "@jupyter-widgets/controls",
       "_model_module_version": "1.5.0",
       "_model_name": "ProgressStyleModel",
       "_view_count": null,
       "_view_module": "@jupyter-widgets/base",
       "_view_module_version": "1.2.0",
       "_view_name": "StyleView",
       "bar_color": null,
       "description_width": ""
      }
     },
     "99151ba3d9ca4202977fed2e4f87bef2": {
      "model_module": "@jupyter-widgets/base",
      "model_module_version": "1.2.0",
      "model_name": "LayoutModel",
      "state": {
       "_model_module": "@jupyter-widgets/base",
       "_model_module_version": "1.2.0",
       "_model_name": "LayoutModel",
       "_view_count": null,
       "_view_module": "@jupyter-widgets/base",
       "_view_module_version": "1.2.0",
       "_view_name": "LayoutView",
       "align_content": null,
       "align_items": null,
       "align_self": null,
       "border": null,
       "bottom": null,
       "display": null,
       "flex": null,
       "flex_flow": null,
       "grid_area": null,
       "grid_auto_columns": null,
       "grid_auto_flow": null,
       "grid_auto_rows": null,
       "grid_column": null,
       "grid_gap": null,
       "grid_row": null,
       "grid_template_areas": null,
       "grid_template_columns": null,
       "grid_template_rows": null,
       "height": null,
       "justify_content": null,
       "justify_items": null,
       "left": null,
       "margin": null,
       "max_height": null,
       "max_width": null,
       "min_height": null,
       "min_width": null,
       "object_fit": null,
       "object_position": null,
       "order": null,
       "overflow": null,
       "overflow_x": null,
       "overflow_y": null,
       "padding": null,
       "right": null,
       "top": null,
       "visibility": null,
       "width": null
      }
     },
     "a04cdb5adaaf4452909dcd6ad906b29c": {
      "model_module": "@jupyter-widgets/base",
      "model_module_version": "1.2.0",
      "model_name": "LayoutModel",
      "state": {
       "_model_module": "@jupyter-widgets/base",
       "_model_module_version": "1.2.0",
       "_model_name": "LayoutModel",
       "_view_count": null,
       "_view_module": "@jupyter-widgets/base",
       "_view_module_version": "1.2.0",
       "_view_name": "LayoutView",
       "align_content": null,
       "align_items": null,
       "align_self": null,
       "border": null,
       "bottom": null,
       "display": null,
       "flex": null,
       "flex_flow": null,
       "grid_area": null,
       "grid_auto_columns": null,
       "grid_auto_flow": null,
       "grid_auto_rows": null,
       "grid_column": null,
       "grid_gap": null,
       "grid_row": null,
       "grid_template_areas": null,
       "grid_template_columns": null,
       "grid_template_rows": null,
       "height": null,
       "justify_content": null,
       "justify_items": null,
       "left": null,
       "margin": null,
       "max_height": null,
       "max_width": null,
       "min_height": null,
       "min_width": null,
       "object_fit": null,
       "object_position": null,
       "order": null,
       "overflow": null,
       "overflow_x": null,
       "overflow_y": null,
       "padding": null,
       "right": null,
       "top": null,
       "visibility": null,
       "width": null
      }
     },
     "a3d984da75c34eca9bf0f7fc679f83b7": {
      "model_module": "@jupyter-widgets/controls",
      "model_module_version": "1.5.0",
      "model_name": "HBoxModel",
      "state": {
       "_dom_classes": [],
       "_model_module": "@jupyter-widgets/controls",
       "_model_module_version": "1.5.0",
       "_model_name": "HBoxModel",
       "_view_count": null,
       "_view_module": "@jupyter-widgets/controls",
       "_view_module_version": "1.5.0",
       "_view_name": "HBoxView",
       "box_style": "",
       "children": [
        "IPY_MODEL_accb4745251c4adf8c9e56c8b6e476b5",
        "IPY_MODEL_377d1edee0c741fd817587d818f1a1be",
        "IPY_MODEL_d6beed0bcb984cc292732cb49e818a42"
       ],
       "layout": "IPY_MODEL_6d0d229fd70b434ebaf75c9654be267e"
      }
     },
     "a5e962db66e2425ab5f28bf3cfe855f1": {
      "model_module": "@jupyter-widgets/base",
      "model_module_version": "1.2.0",
      "model_name": "LayoutModel",
      "state": {
       "_model_module": "@jupyter-widgets/base",
       "_model_module_version": "1.2.0",
       "_model_name": "LayoutModel",
       "_view_count": null,
       "_view_module": "@jupyter-widgets/base",
       "_view_module_version": "1.2.0",
       "_view_name": "LayoutView",
       "align_content": null,
       "align_items": null,
       "align_self": null,
       "border": null,
       "bottom": null,
       "display": null,
       "flex": null,
       "flex_flow": null,
       "grid_area": null,
       "grid_auto_columns": null,
       "grid_auto_flow": null,
       "grid_auto_rows": null,
       "grid_column": null,
       "grid_gap": null,
       "grid_row": null,
       "grid_template_areas": null,
       "grid_template_columns": null,
       "grid_template_rows": null,
       "height": null,
       "justify_content": null,
       "justify_items": null,
       "left": null,
       "margin": null,
       "max_height": null,
       "max_width": null,
       "min_height": null,
       "min_width": null,
       "object_fit": null,
       "object_position": null,
       "order": null,
       "overflow": null,
       "overflow_x": null,
       "overflow_y": null,
       "padding": null,
       "right": null,
       "top": null,
       "visibility": null,
       "width": null
      }
     },
     "a6371282ec9b433ab027664339c3dc0c": {
      "model_module": "@jupyter-widgets/base",
      "model_module_version": "1.2.0",
      "model_name": "LayoutModel",
      "state": {
       "_model_module": "@jupyter-widgets/base",
       "_model_module_version": "1.2.0",
       "_model_name": "LayoutModel",
       "_view_count": null,
       "_view_module": "@jupyter-widgets/base",
       "_view_module_version": "1.2.0",
       "_view_name": "LayoutView",
       "align_content": null,
       "align_items": null,
       "align_self": null,
       "border": null,
       "bottom": null,
       "display": null,
       "flex": null,
       "flex_flow": null,
       "grid_area": null,
       "grid_auto_columns": null,
       "grid_auto_flow": null,
       "grid_auto_rows": null,
       "grid_column": null,
       "grid_gap": null,
       "grid_row": null,
       "grid_template_areas": null,
       "grid_template_columns": null,
       "grid_template_rows": null,
       "height": null,
       "justify_content": null,
       "justify_items": null,
       "left": null,
       "margin": null,
       "max_height": null,
       "max_width": null,
       "min_height": null,
       "min_width": null,
       "object_fit": null,
       "object_position": null,
       "order": null,
       "overflow": null,
       "overflow_x": null,
       "overflow_y": null,
       "padding": null,
       "right": null,
       "top": null,
       "visibility": null,
       "width": null
      }
     },
     "a8d6d2cc3f294778850ed0f4574040df": {
      "model_module": "@jupyter-widgets/base",
      "model_module_version": "1.2.0",
      "model_name": "LayoutModel",
      "state": {
       "_model_module": "@jupyter-widgets/base",
       "_model_module_version": "1.2.0",
       "_model_name": "LayoutModel",
       "_view_count": null,
       "_view_module": "@jupyter-widgets/base",
       "_view_module_version": "1.2.0",
       "_view_name": "LayoutView",
       "align_content": null,
       "align_items": null,
       "align_self": null,
       "border": null,
       "bottom": null,
       "display": null,
       "flex": null,
       "flex_flow": null,
       "grid_area": null,
       "grid_auto_columns": null,
       "grid_auto_flow": null,
       "grid_auto_rows": null,
       "grid_column": null,
       "grid_gap": null,
       "grid_row": null,
       "grid_template_areas": null,
       "grid_template_columns": null,
       "grid_template_rows": null,
       "height": null,
       "justify_content": null,
       "justify_items": null,
       "left": null,
       "margin": null,
       "max_height": null,
       "max_width": null,
       "min_height": null,
       "min_width": null,
       "object_fit": null,
       "object_position": null,
       "order": null,
       "overflow": null,
       "overflow_x": null,
       "overflow_y": null,
       "padding": null,
       "right": null,
       "top": null,
       "visibility": null,
       "width": null
      }
     },
     "accb4745251c4adf8c9e56c8b6e476b5": {
      "model_module": "@jupyter-widgets/controls",
      "model_module_version": "1.5.0",
      "model_name": "HTMLModel",
      "state": {
       "_dom_classes": [],
       "_model_module": "@jupyter-widgets/controls",
       "_model_module_version": "1.5.0",
       "_model_name": "HTMLModel",
       "_view_count": null,
       "_view_module": "@jupyter-widgets/controls",
       "_view_module_version": "1.5.0",
       "_view_name": "HTMLView",
       "description": "",
       "description_tooltip": null,
       "layout": "IPY_MODEL_dd1e86eddb9342a1a6f0c3e6f3bd1184",
       "placeholder": "​",
       "style": "IPY_MODEL_0510c12dfd0145f99d0d5b3c161e708b",
       "value": "Generating unsupervised split: 100%"
      }
     },
     "b366eb1b4bf74822ad33c42093a7b7a3": {
      "model_module": "@jupyter-widgets/controls",
      "model_module_version": "1.5.0",
      "model_name": "DescriptionStyleModel",
      "state": {
       "_model_module": "@jupyter-widgets/controls",
       "_model_module_version": "1.5.0",
       "_model_name": "DescriptionStyleModel",
       "_view_count": null,
       "_view_module": "@jupyter-widgets/base",
       "_view_module_version": "1.2.0",
       "_view_name": "StyleView",
       "description_width": ""
      }
     },
     "b432902b65b941cf91363e1902e56093": {
      "model_module": "@jupyter-widgets/base",
      "model_module_version": "1.2.0",
      "model_name": "LayoutModel",
      "state": {
       "_model_module": "@jupyter-widgets/base",
       "_model_module_version": "1.2.0",
       "_model_name": "LayoutModel",
       "_view_count": null,
       "_view_module": "@jupyter-widgets/base",
       "_view_module_version": "1.2.0",
       "_view_name": "LayoutView",
       "align_content": null,
       "align_items": null,
       "align_self": null,
       "border": null,
       "bottom": null,
       "display": null,
       "flex": null,
       "flex_flow": null,
       "grid_area": null,
       "grid_auto_columns": null,
       "grid_auto_flow": null,
       "grid_auto_rows": null,
       "grid_column": null,
       "grid_gap": null,
       "grid_row": null,
       "grid_template_areas": null,
       "grid_template_columns": null,
       "grid_template_rows": null,
       "height": null,
       "justify_content": null,
       "justify_items": null,
       "left": null,
       "margin": null,
       "max_height": null,
       "max_width": null,
       "min_height": null,
       "min_width": null,
       "object_fit": null,
       "object_position": null,
       "order": null,
       "overflow": null,
       "overflow_x": null,
       "overflow_y": null,
       "padding": null,
       "right": null,
       "top": null,
       "visibility": null,
       "width": null
      }
     },
     "b7a7f6d6eda543f6a12ead26c6563c87": {
      "model_module": "@jupyter-widgets/base",
      "model_module_version": "1.2.0",
      "model_name": "LayoutModel",
      "state": {
       "_model_module": "@jupyter-widgets/base",
       "_model_module_version": "1.2.0",
       "_model_name": "LayoutModel",
       "_view_count": null,
       "_view_module": "@jupyter-widgets/base",
       "_view_module_version": "1.2.0",
       "_view_name": "LayoutView",
       "align_content": null,
       "align_items": null,
       "align_self": null,
       "border": null,
       "bottom": null,
       "display": null,
       "flex": null,
       "flex_flow": null,
       "grid_area": null,
       "grid_auto_columns": null,
       "grid_auto_flow": null,
       "grid_auto_rows": null,
       "grid_column": null,
       "grid_gap": null,
       "grid_row": null,
       "grid_template_areas": null,
       "grid_template_columns": null,
       "grid_template_rows": null,
       "height": null,
       "justify_content": null,
       "justify_items": null,
       "left": null,
       "margin": null,
       "max_height": null,
       "max_width": null,
       "min_height": null,
       "min_width": null,
       "object_fit": null,
       "object_position": null,
       "order": null,
       "overflow": null,
       "overflow_x": null,
       "overflow_y": null,
       "padding": null,
       "right": null,
       "top": null,
       "visibility": null,
       "width": null
      }
     },
     "bfe7aa5a68804623b036296bb9b38050": {
      "model_module": "@jupyter-widgets/base",
      "model_module_version": "1.2.0",
      "model_name": "LayoutModel",
      "state": {
       "_model_module": "@jupyter-widgets/base",
       "_model_module_version": "1.2.0",
       "_model_name": "LayoutModel",
       "_view_count": null,
       "_view_module": "@jupyter-widgets/base",
       "_view_module_version": "1.2.0",
       "_view_name": "LayoutView",
       "align_content": null,
       "align_items": null,
       "align_self": null,
       "border": null,
       "bottom": null,
       "display": null,
       "flex": null,
       "flex_flow": null,
       "grid_area": null,
       "grid_auto_columns": null,
       "grid_auto_flow": null,
       "grid_auto_rows": null,
       "grid_column": null,
       "grid_gap": null,
       "grid_row": null,
       "grid_template_areas": null,
       "grid_template_columns": null,
       "grid_template_rows": null,
       "height": null,
       "justify_content": null,
       "justify_items": null,
       "left": null,
       "margin": null,
       "max_height": null,
       "max_width": null,
       "min_height": null,
       "min_width": null,
       "object_fit": null,
       "object_position": null,
       "order": null,
       "overflow": null,
       "overflow_x": null,
       "overflow_y": null,
       "padding": null,
       "right": null,
       "top": null,
       "visibility": null,
       "width": null
      }
     },
     "d6beed0bcb984cc292732cb49e818a42": {
      "model_module": "@jupyter-widgets/controls",
      "model_module_version": "1.5.0",
      "model_name": "HTMLModel",
      "state": {
       "_dom_classes": [],
       "_model_module": "@jupyter-widgets/controls",
       "_model_module_version": "1.5.0",
       "_model_name": "HTMLModel",
       "_view_count": null,
       "_view_module": "@jupyter-widgets/controls",
       "_view_module_version": "1.5.0",
       "_view_name": "HTMLView",
       "description": "",
       "description_tooltip": null,
       "layout": "IPY_MODEL_222c58b1129c43cda3baeb9035382d8e",
       "placeholder": "​",
       "style": "IPY_MODEL_5633365ae65f412ca25381ec198c722e",
       "value": " 50000/50000 [00:00&lt;00:00, 159745.01 examples/s]"
      }
     },
     "dd1e86eddb9342a1a6f0c3e6f3bd1184": {
      "model_module": "@jupyter-widgets/base",
      "model_module_version": "1.2.0",
      "model_name": "LayoutModel",
      "state": {
       "_model_module": "@jupyter-widgets/base",
       "_model_module_version": "1.2.0",
       "_model_name": "LayoutModel",
       "_view_count": null,
       "_view_module": "@jupyter-widgets/base",
       "_view_module_version": "1.2.0",
       "_view_name": "LayoutView",
       "align_content": null,
       "align_items": null,
       "align_self": null,
       "border": null,
       "bottom": null,
       "display": null,
       "flex": null,
       "flex_flow": null,
       "grid_area": null,
       "grid_auto_columns": null,
       "grid_auto_flow": null,
       "grid_auto_rows": null,
       "grid_column": null,
       "grid_gap": null,
       "grid_row": null,
       "grid_template_areas": null,
       "grid_template_columns": null,
       "grid_template_rows": null,
       "height": null,
       "justify_content": null,
       "justify_items": null,
       "left": null,
       "margin": null,
       "max_height": null,
       "max_width": null,
       "min_height": null,
       "min_width": null,
       "object_fit": null,
       "object_position": null,
       "order": null,
       "overflow": null,
       "overflow_x": null,
       "overflow_y": null,
       "padding": null,
       "right": null,
       "top": null,
       "visibility": null,
       "width": null
      }
     },
     "e015993c64264f878c583959d6102ac1": {
      "model_module": "@jupyter-widgets/controls",
      "model_module_version": "1.5.0",
      "model_name": "HTMLModel",
      "state": {
       "_dom_classes": [],
       "_model_module": "@jupyter-widgets/controls",
       "_model_module_version": "1.5.0",
       "_model_name": "HTMLModel",
       "_view_count": null,
       "_view_module": "@jupyter-widgets/controls",
       "_view_module_version": "1.5.0",
       "_view_name": "HTMLView",
       "description": "",
       "description_tooltip": null,
       "layout": "IPY_MODEL_f1d05399f6e0422cb75892982cfadc65",
       "placeholder": "​",
       "style": "IPY_MODEL_53713327e2a94fa19b44a85f8edcce23",
       "value": "Generating train split: 100%"
      }
     },
     "e3097bf76f734aba9308df90006fc6f6": {
      "model_module": "@jupyter-widgets/base",
      "model_module_version": "1.2.0",
      "model_name": "LayoutModel",
      "state": {
       "_model_module": "@jupyter-widgets/base",
       "_model_module_version": "1.2.0",
       "_model_name": "LayoutModel",
       "_view_count": null,
       "_view_module": "@jupyter-widgets/base",
       "_view_module_version": "1.2.0",
       "_view_name": "LayoutView",
       "align_content": null,
       "align_items": null,
       "align_self": null,
       "border": null,
       "bottom": null,
       "display": null,
       "flex": null,
       "flex_flow": null,
       "grid_area": null,
       "grid_auto_columns": null,
       "grid_auto_flow": null,
       "grid_auto_rows": null,
       "grid_column": null,
       "grid_gap": null,
       "grid_row": null,
       "grid_template_areas": null,
       "grid_template_columns": null,
       "grid_template_rows": null,
       "height": null,
       "justify_content": null,
       "justify_items": null,
       "left": null,
       "margin": null,
       "max_height": null,
       "max_width": null,
       "min_height": null,
       "min_width": null,
       "object_fit": null,
       "object_position": null,
       "order": null,
       "overflow": null,
       "overflow_x": null,
       "overflow_y": null,
       "padding": null,
       "right": null,
       "top": null,
       "visibility": null,
       "width": null
      }
     },
     "e4699a6daa844b87a515d9a69782c6c4": {
      "model_module": "@jupyter-widgets/controls",
      "model_module_version": "1.5.0",
      "model_name": "HBoxModel",
      "state": {
       "_dom_classes": [],
       "_model_module": "@jupyter-widgets/controls",
       "_model_module_version": "1.5.0",
       "_model_name": "HBoxModel",
       "_view_count": null,
       "_view_module": "@jupyter-widgets/controls",
       "_view_module_version": "1.5.0",
       "_view_name": "HBoxView",
       "box_style": "",
       "children": [
        "IPY_MODEL_2fb1a3cafb814f248c25b1c20fb5fe3c",
        "IPY_MODEL_3c4c49371b9f4009ba0ce7c7e654a368",
        "IPY_MODEL_68fb1cba9a1c4257bb3f17cee7931654"
       ],
       "layout": "IPY_MODEL_5f5737be6a7b4367bdfeddd840cc3213"
      }
     },
     "f1d05399f6e0422cb75892982cfadc65": {
      "model_module": "@jupyter-widgets/base",
      "model_module_version": "1.2.0",
      "model_name": "LayoutModel",
      "state": {
       "_model_module": "@jupyter-widgets/base",
       "_model_module_version": "1.2.0",
       "_model_name": "LayoutModel",
       "_view_count": null,
       "_view_module": "@jupyter-widgets/base",
       "_view_module_version": "1.2.0",
       "_view_name": "LayoutView",
       "align_content": null,
       "align_items": null,
       "align_self": null,
       "border": null,
       "bottom": null,
       "display": null,
       "flex": null,
       "flex_flow": null,
       "grid_area": null,
       "grid_auto_columns": null,
       "grid_auto_flow": null,
       "grid_auto_rows": null,
       "grid_column": null,
       "grid_gap": null,
       "grid_row": null,
       "grid_template_areas": null,
       "grid_template_columns": null,
       "grid_template_rows": null,
       "height": null,
       "justify_content": null,
       "justify_items": null,
       "left": null,
       "margin": null,
       "max_height": null,
       "max_width": null,
       "min_height": null,
       "min_width": null,
       "object_fit": null,
       "object_position": null,
       "order": null,
       "overflow": null,
       "overflow_x": null,
       "overflow_y": null,
       "padding": null,
       "right": null,
       "top": null,
       "visibility": null,
       "width": null
      }
     },
     "fb24189398d146eb96f0b1bb791e8e01": {
      "model_module": "@jupyter-widgets/controls",
      "model_module_version": "1.5.0",
      "model_name": "DescriptionStyleModel",
      "state": {
       "_model_module": "@jupyter-widgets/controls",
       "_model_module_version": "1.5.0",
       "_model_name": "DescriptionStyleModel",
       "_view_count": null,
       "_view_module": "@jupyter-widgets/base",
       "_view_module_version": "1.2.0",
       "_view_name": "StyleView",
       "description_width": ""
      }
     }
    },
    "version_major": 2,
    "version_minor": 0
   }
  }
 },
 "nbformat": 4,
 "nbformat_minor": 5
}
